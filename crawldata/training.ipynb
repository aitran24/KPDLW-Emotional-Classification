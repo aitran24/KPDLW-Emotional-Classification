{
 "cells": [
  {
   "cell_type": "markdown",
   "metadata": {},
   "source": [
    "# CELL 1"
   ]
  },
  {
   "cell_type": "code",
   "execution_count": 1,
   "metadata": {},
   "outputs": [
    {
     "name": "stdout",
     "output_type": "stream",
     "text": [
      "Defaulting to user installation because normal site-packages is not writeable\n",
      "Looking in indexes: https://pypi.org/simple, https://pypi.ngc.nvidia.com\n",
      "Requirement already satisfied: ipywidgets in /home/aitran/.local/lib/python3.10/site-packages (8.1.6)\n",
      "Requirement already satisfied: jupyter in /home/aitran/.local/lib/python3.10/site-packages (1.1.1)\n",
      "Requirement already satisfied: traitlets>=4.3.1 in /home/aitran/.local/lib/python3.10/site-packages (from ipywidgets) (5.14.3)\n",
      "Requirement already satisfied: ipython>=6.1.0 in /home/aitran/.local/lib/python3.10/site-packages (from ipywidgets) (8.32.0)\n",
      "Requirement already satisfied: jupyterlab_widgets~=3.0.14 in /home/aitran/.local/lib/python3.10/site-packages (from ipywidgets) (3.0.14)\n",
      "Requirement already satisfied: comm>=0.1.3 in /home/aitran/.local/lib/python3.10/site-packages (from ipywidgets) (0.2.2)\n",
      "Requirement already satisfied: widgetsnbextension~=4.0.14 in /home/aitran/.local/lib/python3.10/site-packages (from ipywidgets) (4.0.14)\n",
      "Requirement already satisfied: notebook in /home/aitran/.local/lib/python3.10/site-packages (from jupyter) (7.4.0)\n",
      "Requirement already satisfied: jupyter-console in /home/aitran/.local/lib/python3.10/site-packages (from jupyter) (6.6.3)\n",
      "Requirement already satisfied: nbconvert in /home/aitran/.local/lib/python3.10/site-packages (from jupyter) (7.16.6)\n",
      "Requirement already satisfied: jupyterlab in /home/aitran/.local/lib/python3.10/site-packages (from jupyter) (4.4.0)\n",
      "Requirement already satisfied: ipykernel in /home/aitran/.local/lib/python3.10/site-packages (from jupyter) (6.29.5)\n",
      "Requirement already satisfied: pexpect>4.3 in /usr/lib/python3/dist-packages (from ipython>=6.1.0->ipywidgets) (4.8.0)\n",
      "Requirement already satisfied: stack_data in /home/aitran/.local/lib/python3.10/site-packages (from ipython>=6.1.0->ipywidgets) (0.6.3)\n",
      "Requirement already satisfied: jedi>=0.16 in /home/aitran/.local/lib/python3.10/site-packages (from ipython>=6.1.0->ipywidgets) (0.19.2)\n",
      "Requirement already satisfied: exceptiongroup in /home/aitran/.local/lib/python3.10/site-packages (from ipython>=6.1.0->ipywidgets) (1.2.2)\n",
      "Requirement already satisfied: matplotlib-inline in /home/aitran/.local/lib/python3.10/site-packages (from ipython>=6.1.0->ipywidgets) (0.1.7)\n",
      "Requirement already satisfied: prompt_toolkit<3.1.0,>=3.0.41 in /home/aitran/.local/lib/python3.10/site-packages (from ipython>=6.1.0->ipywidgets) (3.0.50)\n",
      "Requirement already satisfied: typing_extensions>=4.6 in /home/aitran/.local/lib/python3.10/site-packages (from ipython>=6.1.0->ipywidgets) (4.13.2)\n",
      "Requirement already satisfied: pygments>=2.4.0 in /home/aitran/.local/lib/python3.10/site-packages (from ipython>=6.1.0->ipywidgets) (2.19.1)\n",
      "Requirement already satisfied: decorator in /home/aitran/.local/lib/python3.10/site-packages (from ipython>=6.1.0->ipywidgets) (5.1.1)\n",
      "Requirement already satisfied: nest-asyncio in /home/aitran/.local/lib/python3.10/site-packages (from ipykernel->jupyter) (1.6.0)\n",
      "Requirement already satisfied: jupyter-core!=5.0.*,>=4.12 in /home/aitran/.local/lib/python3.10/site-packages (from ipykernel->jupyter) (5.7.2)\n",
      "Requirement already satisfied: jupyter-client>=6.1.12 in /home/aitran/.local/lib/python3.10/site-packages (from ipykernel->jupyter) (8.6.3)\n",
      "Requirement already satisfied: psutil in /home/aitran/.local/lib/python3.10/site-packages (from ipykernel->jupyter) (7.0.0)\n",
      "Requirement already satisfied: pyzmq>=24 in /home/aitran/.local/lib/python3.10/site-packages (from ipykernel->jupyter) (26.2.1)\n",
      "Requirement already satisfied: tornado>=6.1 in /home/aitran/.local/lib/python3.10/site-packages (from ipykernel->jupyter) (6.4.2)\n",
      "Requirement already satisfied: packaging in /home/aitran/.local/lib/python3.10/site-packages (from ipykernel->jupyter) (24.2)\n",
      "Requirement already satisfied: debugpy>=1.6.5 in /home/aitran/.local/lib/python3.10/site-packages (from ipykernel->jupyter) (1.8.12)\n",
      "Requirement already satisfied: jupyter-lsp>=2.0.0 in /home/aitran/.local/lib/python3.10/site-packages (from jupyterlab->jupyter) (2.2.5)\n",
      "Requirement already satisfied: async-lru>=1.0.0 in /home/aitran/.local/lib/python3.10/site-packages (from jupyterlab->jupyter) (2.0.5)\n",
      "Requirement already satisfied: jupyter-server<3,>=2.4.0 in /home/aitran/.local/lib/python3.10/site-packages (from jupyterlab->jupyter) (2.15.0)\n",
      "Requirement already satisfied: notebook-shim>=0.2 in /home/aitran/.local/lib/python3.10/site-packages (from jupyterlab->jupyter) (0.2.4)\n",
      "Requirement already satisfied: httpx>=0.25.0 in /home/aitran/.local/lib/python3.10/site-packages (from jupyterlab->jupyter) (0.28.1)\n",
      "Requirement already satisfied: tomli>=1.2.2 in /home/aitran/.local/lib/python3.10/site-packages (from jupyterlab->jupyter) (2.2.1)\n",
      "Requirement already satisfied: jupyterlab-server<3,>=2.27.1 in /home/aitran/.local/lib/python3.10/site-packages (from jupyterlab->jupyter) (2.27.3)\n",
      "Requirement already satisfied: setuptools>=41.1.0 in /usr/lib/python3/dist-packages (from jupyterlab->jupyter) (59.6.0)\n",
      "Requirement already satisfied: jinja2>=3.0.3 in /home/aitran/.local/lib/python3.10/site-packages (from jupyterlab->jupyter) (3.1.6)\n",
      "Requirement already satisfied: nbformat>=5.7 in /home/aitran/.local/lib/python3.10/site-packages (from nbconvert->jupyter) (5.10.4)\n",
      "Requirement already satisfied: bleach[css]!=5.0.0 in /home/aitran/.local/lib/python3.10/site-packages (from nbconvert->jupyter) (6.2.0)\n",
      "Requirement already satisfied: nbclient>=0.5.0 in /home/aitran/.local/lib/python3.10/site-packages (from nbconvert->jupyter) (0.10.2)\n",
      "Requirement already satisfied: beautifulsoup4 in /home/aitran/.local/lib/python3.10/site-packages (from nbconvert->jupyter) (4.13.4)\n",
      "Requirement already satisfied: pandocfilters>=1.4.1 in /home/aitran/.local/lib/python3.10/site-packages (from nbconvert->jupyter) (1.5.1)\n",
      "Requirement already satisfied: defusedxml in /home/aitran/.local/lib/python3.10/site-packages (from nbconvert->jupyter) (0.7.1)\n",
      "Requirement already satisfied: mistune<4,>=2.0.3 in /home/aitran/.local/lib/python3.10/site-packages (from nbconvert->jupyter) (3.1.3)\n",
      "Requirement already satisfied: markupsafe>=2.0 in /home/aitran/.local/lib/python3.10/site-packages (from nbconvert->jupyter) (3.0.2)\n",
      "Requirement already satisfied: jupyterlab-pygments in /home/aitran/.local/lib/python3.10/site-packages (from nbconvert->jupyter) (0.3.0)\n",
      "Requirement already satisfied: webencodings in /home/aitran/.local/lib/python3.10/site-packages (from bleach[css]!=5.0.0->nbconvert->jupyter) (0.5.1)\n",
      "Requirement already satisfied: tinycss2<1.5,>=1.1.0 in /home/aitran/.local/lib/python3.10/site-packages (from bleach[css]!=5.0.0->nbconvert->jupyter) (1.4.0)\n",
      "Requirement already satisfied: idna in /usr/lib/python3/dist-packages (from httpx>=0.25.0->jupyterlab->jupyter) (3.3)\n",
      "Requirement already satisfied: httpcore==1.* in /home/aitran/.local/lib/python3.10/site-packages (from httpx>=0.25.0->jupyterlab->jupyter) (1.0.8)\n",
      "Requirement already satisfied: anyio in /home/aitran/.local/lib/python3.10/site-packages (from httpx>=0.25.0->jupyterlab->jupyter) (4.9.0)\n",
      "Requirement already satisfied: certifi in /usr/lib/python3/dist-packages (from httpx>=0.25.0->jupyterlab->jupyter) (2020.6.20)\n",
      "Requirement already satisfied: h11<0.15,>=0.13 in /home/aitran/.local/lib/python3.10/site-packages (from httpcore==1.*->httpx>=0.25.0->jupyterlab->jupyter) (0.14.0)\n",
      "Requirement already satisfied: parso<0.9.0,>=0.8.4 in /home/aitran/.local/lib/python3.10/site-packages (from jedi>=0.16->ipython>=6.1.0->ipywidgets) (0.8.4)\n",
      "Requirement already satisfied: python-dateutil>=2.8.2 in /home/aitran/.local/lib/python3.10/site-packages (from jupyter-client>=6.1.12->ipykernel->jupyter) (2.9.0.post0)\n",
      "Requirement already satisfied: platformdirs>=2.5 in /home/aitran/.local/lib/python3.10/site-packages (from jupyter-core!=5.0.*,>=4.12->ipykernel->jupyter) (4.3.6)\n",
      "Requirement already satisfied: send2trash>=1.8.2 in /home/aitran/.local/lib/python3.10/site-packages (from jupyter-server<3,>=2.4.0->jupyterlab->jupyter) (1.8.3)\n",
      "Requirement already satisfied: jupyter-events>=0.11.0 in /home/aitran/.local/lib/python3.10/site-packages (from jupyter-server<3,>=2.4.0->jupyterlab->jupyter) (0.12.0)\n",
      "Requirement already satisfied: prometheus-client>=0.9 in /home/aitran/.local/lib/python3.10/site-packages (from jupyter-server<3,>=2.4.0->jupyterlab->jupyter) (0.21.1)\n",
      "Requirement already satisfied: websocket-client>=1.7 in /home/aitran/.local/lib/python3.10/site-packages (from jupyter-server<3,>=2.4.0->jupyterlab->jupyter) (1.8.0)\n",
      "Requirement already satisfied: terminado>=0.8.3 in /home/aitran/.local/lib/python3.10/site-packages (from jupyter-server<3,>=2.4.0->jupyterlab->jupyter) (0.18.1)\n",
      "Requirement already satisfied: jupyter-server-terminals>=0.4.4 in /home/aitran/.local/lib/python3.10/site-packages (from jupyter-server<3,>=2.4.0->jupyterlab->jupyter) (0.5.3)\n",
      "Requirement already satisfied: argon2-cffi>=21.1 in /home/aitran/.local/lib/python3.10/site-packages (from jupyter-server<3,>=2.4.0->jupyterlab->jupyter) (23.1.0)\n",
      "Requirement already satisfied: overrides>=5.0 in /home/aitran/.local/lib/python3.10/site-packages (from jupyter-server<3,>=2.4.0->jupyterlab->jupyter) (7.7.0)\n",
      "Requirement already satisfied: json5>=0.9.0 in /home/aitran/.local/lib/python3.10/site-packages (from jupyterlab-server<3,>=2.27.1->jupyterlab->jupyter) (0.12.0)\n",
      "Requirement already satisfied: babel>=2.10 in /home/aitran/.local/lib/python3.10/site-packages (from jupyterlab-server<3,>=2.27.1->jupyterlab->jupyter) (2.17.0)\n",
      "Requirement already satisfied: jsonschema>=4.18.0 in /home/aitran/.local/lib/python3.10/site-packages (from jupyterlab-server<3,>=2.27.1->jupyterlab->jupyter) (4.23.0)\n",
      "Requirement already satisfied: requests>=2.31 in /home/aitran/.local/lib/python3.10/site-packages (from jupyterlab-server<3,>=2.27.1->jupyterlab->jupyter) (2.32.3)\n",
      "Requirement already satisfied: fastjsonschema>=2.15 in /home/aitran/.local/lib/python3.10/site-packages (from nbformat>=5.7->nbconvert->jupyter) (2.21.1)\n",
      "Requirement already satisfied: wcwidth in /home/aitran/.local/lib/python3.10/site-packages (from prompt_toolkit<3.1.0,>=3.0.41->ipython>=6.1.0->ipywidgets) (0.2.13)\n",
      "Requirement already satisfied: soupsieve>1.2 in /home/aitran/.local/lib/python3.10/site-packages (from beautifulsoup4->nbconvert->jupyter) (2.6)\n",
      "Requirement already satisfied: pure-eval in /home/aitran/.local/lib/python3.10/site-packages (from stack_data->ipython>=6.1.0->ipywidgets) (0.2.3)\n",
      "Requirement already satisfied: asttokens>=2.1.0 in /home/aitran/.local/lib/python3.10/site-packages (from stack_data->ipython>=6.1.0->ipywidgets) (3.0.0)\n",
      "Requirement already satisfied: executing>=1.2.0 in /home/aitran/.local/lib/python3.10/site-packages (from stack_data->ipython>=6.1.0->ipywidgets) (2.2.0)\n",
      "Requirement already satisfied: sniffio>=1.1 in /home/aitran/.local/lib/python3.10/site-packages (from anyio->httpx>=0.25.0->jupyterlab->jupyter) (1.3.1)\n",
      "Requirement already satisfied: argon2-cffi-bindings in /home/aitran/.local/lib/python3.10/site-packages (from argon2-cffi>=21.1->jupyter-server<3,>=2.4.0->jupyterlab->jupyter) (21.2.0)\n",
      "Requirement already satisfied: jsonschema-specifications>=2023.03.6 in /home/aitran/.local/lib/python3.10/site-packages (from jsonschema>=4.18.0->jupyterlab-server<3,>=2.27.1->jupyterlab->jupyter) (2024.10.1)\n",
      "Requirement already satisfied: attrs>=22.2.0 in /home/aitran/.local/lib/python3.10/site-packages (from jsonschema>=4.18.0->jupyterlab-server<3,>=2.27.1->jupyterlab->jupyter) (25.3.0)\n",
      "Requirement already satisfied: rpds-py>=0.7.1 in /home/aitran/.local/lib/python3.10/site-packages (from jsonschema>=4.18.0->jupyterlab-server<3,>=2.27.1->jupyterlab->jupyter) (0.24.0)\n",
      "Requirement already satisfied: referencing>=0.28.4 in /home/aitran/.local/lib/python3.10/site-packages (from jsonschema>=4.18.0->jupyterlab-server<3,>=2.27.1->jupyterlab->jupyter) (0.36.2)\n",
      "Requirement already satisfied: rfc3986-validator>=0.1.1 in /home/aitran/.local/lib/python3.10/site-packages (from jupyter-events>=0.11.0->jupyter-server<3,>=2.4.0->jupyterlab->jupyter) (0.1.1)\n",
      "Requirement already satisfied: python-json-logger>=2.0.4 in /home/aitran/.local/lib/python3.10/site-packages (from jupyter-events>=0.11.0->jupyter-server<3,>=2.4.0->jupyterlab->jupyter) (3.3.0)\n",
      "Requirement already satisfied: rfc3339-validator in /home/aitran/.local/lib/python3.10/site-packages (from jupyter-events>=0.11.0->jupyter-server<3,>=2.4.0->jupyterlab->jupyter) (0.1.4)\n",
      "Requirement already satisfied: pyyaml>=5.3 in /usr/lib/python3/dist-packages (from jupyter-events>=0.11.0->jupyter-server<3,>=2.4.0->jupyterlab->jupyter) (5.4.1)\n",
      "Requirement already satisfied: six>=1.5 in /usr/lib/python3/dist-packages (from python-dateutil>=2.8.2->jupyter-client>=6.1.12->ipykernel->jupyter) (1.16.0)\n",
      "Requirement already satisfied: urllib3<3,>=1.21.1 in /home/aitran/.local/lib/python3.10/site-packages (from requests>=2.31->jupyterlab-server<3,>=2.27.1->jupyterlab->jupyter) (2.3.0)\n",
      "Requirement already satisfied: charset-normalizer<4,>=2 in /home/aitran/.local/lib/python3.10/site-packages (from requests>=2.31->jupyterlab-server<3,>=2.27.1->jupyterlab->jupyter) (3.4.1)\n",
      "Requirement already satisfied: ptyprocess in /usr/lib/python3/dist-packages (from terminado>=0.8.3->jupyter-server<3,>=2.4.0->jupyterlab->jupyter) (0.7.0)\n",
      "Requirement already satisfied: fqdn in /home/aitran/.local/lib/python3.10/site-packages (from jsonschema>=4.18.0->jupyterlab-server<3,>=2.27.1->jupyterlab->jupyter) (1.5.1)\n",
      "Requirement already satisfied: jsonpointer>1.13 in /home/aitran/.local/lib/python3.10/site-packages (from jsonschema>=4.18.0->jupyterlab-server<3,>=2.27.1->jupyterlab->jupyter) (3.0.0)\n",
      "Requirement already satisfied: uri-template in /home/aitran/.local/lib/python3.10/site-packages (from jsonschema>=4.18.0->jupyterlab-server<3,>=2.27.1->jupyterlab->jupyter) (1.3.0)\n",
      "Requirement already satisfied: isoduration in /home/aitran/.local/lib/python3.10/site-packages (from jsonschema>=4.18.0->jupyterlab-server<3,>=2.27.1->jupyterlab->jupyter) (20.11.0)\n",
      "Requirement already satisfied: webcolors>=24.6.0 in /home/aitran/.local/lib/python3.10/site-packages (from jsonschema>=4.18.0->jupyterlab-server<3,>=2.27.1->jupyterlab->jupyter) (24.11.1)\n",
      "Requirement already satisfied: cffi>=1.0.1 in /home/aitran/.local/lib/python3.10/site-packages (from argon2-cffi-bindings->argon2-cffi>=21.1->jupyter-server<3,>=2.4.0->jupyterlab->jupyter) (1.17.1)\n",
      "Requirement already satisfied: pycparser in /home/aitran/.local/lib/python3.10/site-packages (from cffi>=1.0.1->argon2-cffi-bindings->argon2-cffi>=21.1->jupyter-server<3,>=2.4.0->jupyterlab->jupyter) (2.22)\n",
      "Requirement already satisfied: arrow>=0.15.0 in /home/aitran/.local/lib/python3.10/site-packages (from isoduration->jsonschema>=4.18.0->jupyterlab-server<3,>=2.27.1->jupyterlab->jupyter) (1.3.0)\n",
      "Requirement already satisfied: types-python-dateutil>=2.8.10 in /home/aitran/.local/lib/python3.10/site-packages (from arrow>=0.15.0->isoduration->jsonschema>=4.18.0->jupyterlab-server<3,>=2.27.1->jupyterlab->jupyter) (2.9.0.20241206)\n"
     ]
    }
   ],
   "source": [
    "!pip install --upgrade ipywidgets jupyter"
   ]
  },
  {
   "cell_type": "code",
   "execution_count": 2,
   "metadata": {},
   "outputs": [
    {
     "name": "stdout",
     "output_type": "stream",
     "text": [
      "Using device: cuda:0\n",
      "Number of classes: 3\n",
      "Class names: ['Tiêu cực', 'Trung bình', 'Tích cực']\n"
     ]
    }
   ],
   "source": [
    "# Không cần openpyxl vì là file CSV\n",
    "# !pip install openpyxl -q\n",
    "# For Vietnamese word_segment\n",
    "!pip install pyvi -q\n",
    "# Transformers library from Hugging Face\n",
    "!pip install transformers[torch] -q # Cài đặt kèm PyTorch\n",
    "# Cài đặt scikit-learn để dùng StratifiedKFold và metrics\n",
    "!pip install scikit-learn -q\n",
    "# Cài đặt seaborn và matplotlib để vẽ biểu đồ\n",
    "!pip install seaborn matplotlib -q\n",
    "# Cài đặt gensim để dùng simple_preprocess\n",
    "!pip install gensim -q\n",
    "\n",
    "\n",
    "import os\n",
    "import torch\n",
    "import numpy as np\n",
    "import pandas as pd\n",
    "import seaborn as sns\n",
    "import matplotlib.pyplot as plt\n",
    "from tqdm import tqdm\n",
    "from pyvi import ViTokenizer\n",
    "from gensim.utils import simple_preprocess\n",
    "from sklearn.model_selection import StratifiedKFold\n",
    "from sklearn.metrics import classification_report, confusion_matrix, accuracy_score, f1_score\n",
    "\n",
    "import torch.nn as nn\n",
    "from torch.optim import AdamW\n",
    "from torch.utils.data import Dataset, DataLoader\n",
    "\n",
    "from transformers import get_linear_schedule_with_warmup, AutoTokenizer, AutoModel, logging\n",
    "\n",
    "import warnings\n",
    "warnings.filterwarnings(\"ignore\")\n",
    "\n",
    "logging.set_verbosity_error() # Chỉ hiển thị lỗi từ thư viện transformers\n",
    "\n",
    "# --- Constants ---\n",
    "SEED = 42\n",
    "N_SPLITS = 5\n",
    "EPOCHS = 4\n",
    "LEARNING_RATE = 2e-5\n",
    "MAX_LEN = 180 # Xem xét lại sau khi chạy Cell 4\n",
    "BATCH_SIZE = 16\n",
    "\n",
    "# --- File and Column Names ---\n",
    "CSV_FILE_PATH = 'reviews_AT.csv'\n",
    "COMMENT_COLUMN = 'Comment'\n",
    "LABEL_COLUMN = 'Label' # Cột chứa nhãn số (0, 1, 2 - GIẢ ĐỊNH)\n",
    "# -----------------------------------------------------------\n",
    "\n",
    "# --- Reproducibility ---\n",
    "def seed_everything(seed_value):\n",
    "    np.random.seed(seed_value)\n",
    "    torch.manual_seed(seed_value)\n",
    "    if torch.cuda.is_available():\n",
    "        torch.cuda.manual_seed(seed_value)\n",
    "        torch.cuda.manual_seed_all(seed_value)\n",
    "        torch.backends.cudnn.deterministic = True\n",
    "        torch.backends.cudnn.benchmark = False\n",
    "\n",
    "seed_everything(SEED)\n",
    "device = torch.device('cuda:0' if torch.cuda.is_available() else 'cpu')\n",
    "print(f\"Using device: {device}\")\n",
    "\n",
    "# --- Định nghĩa số lớp và tên lớp ---\n",
    "# *** SỬA ĐỔI CHO 3 LỚP ***\n",
    "N_CLASSES = 3\n",
    "# GIẢ ĐỊNH: 0 = Tiêu cực, 1 = Trung bình, 2 = Tích cực. Kiểm tra lại file CSV!\n",
    "CLASS_NAMES = ['Tiêu cực', 'Trung bình', 'Tích cực']\n",
    "print(f\"Number of classes: {N_CLASSES}\")\n",
    "print(f\"Class names: {CLASS_NAMES}\")"
   ]
  },
  {
   "cell_type": "markdown",
   "metadata": {},
   "source": [
    "# CELL 2 "
   ]
  },
  {
   "cell_type": "code",
   "execution_count": 3,
   "metadata": {},
   "outputs": [
    {
     "name": "stdout",
     "output_type": "stream",
     "text": [
      "Successfully read CSV file: reviews_AT.csv\n",
      "Original number of samples: 2561\n",
      "Number of samples after cleaning: 2561\n",
      "\n",
      "Label distribution:\n",
      "Label\n",
      "0     574\n",
      "1     434\n",
      "2    1553\n",
      "Name: count, dtype: int64\n",
      "\n",
      "Sample data with kfold column:\n",
      "                                               Sentence  Label  kfold\n",
      "2157                             Bình gọn đẹp, xài khoẻ      2      4\n",
      "1738  sản phẩm dùng tốt, mua cho người thân sử dụng,...      2      3\n",
      "1173  tạm ổn sủ dụng nhu cầu gia đình ép vẫn hơi bã ...      2      0\n",
      "478       quá tuyệt sẽ giới thiệu cho bạn bè người thân      2      0\n",
      "1356  máy ép ra cặn quá nhiều, không xứng với giá ti...      0      3\n",
      "\n",
      "Data Info:\n",
      "<class 'pandas.core.frame.DataFrame'>\n",
      "RangeIndex: 2561 entries, 0 to 2560\n",
      "Data columns (total 3 columns):\n",
      " #   Column    Non-Null Count  Dtype \n",
      "---  ------    --------------  ----- \n",
      " 0   Sentence  2561 non-null   object\n",
      " 1   Label     2561 non-null   int64 \n",
      " 2   kfold     2561 non-null   int64 \n",
      "dtypes: int64(2), object(1)\n",
      "memory usage: 60.1+ KB\n"
     ]
    },
    {
     "data": {
      "image/png": "[encoded data removed]",
      "text/plain": [
       "<Figure size 800x500 with 1 Axes>"
      ]
     },
     "metadata": {},
     "output_type": "display_data"
    }
   ],
   "source": [
    "def load_and_prepare_data(path, comment_col, label_col):\n",
    "    try:\n",
    "        df = pd.read_csv(path)\n",
    "        print(f\"Successfully read CSV file: {path}\")\n",
    "        print(f\"Original number of samples: {len(df)}\")\n",
    "\n",
    "        if comment_col not in df.columns or label_col not in df.columns:\n",
    "             raise ValueError(f\"Missing required columns: '{comment_col}' or '{label_col}'\")\n",
    "\n",
    "        # Chọn cột, đổi tên, xử lý NaN và kiểu dữ liệu\n",
    "        df = df[[comment_col, label_col]].copy()\n",
    "        df.columns = ['Sentence', 'Label'] # Đổi tên cột nhãn thành 'Label'\n",
    "        df.dropna(subset=['Sentence', 'Label'], inplace=True)\n",
    "        df['Sentence'] = df['Sentence'].astype(str)\n",
    "        df['Label'] = df['Label'].astype(int) # Nhãn đã là số (0, 1, 2)\n",
    "\n",
    "        # *** BỎ BƯỚC MAPPING NHÃN ***\n",
    "\n",
    "        # Chỉ giữ lại các nhãn hợp lệ (0, 1, 2)\n",
    "        valid_labels = list(range(N_CLASSES)) # Tạo danh sách [0, 1, 2]\n",
    "        original_count = len(df)\n",
    "        df = df[df['Label'].isin(valid_labels)]\n",
    "        removed_count = original_count - len(df)\n",
    "        if removed_count > 0:\n",
    "            print(f\"Warning: Removed {removed_count} samples with invalid labels (not in {valid_labels}).\")\n",
    "\n",
    "\n",
    "        # Bỏ comment rỗng\n",
    "        df = df[df['Sentence'].str.strip().str.len() > 0]\n",
    "\n",
    "        print(f\"Number of samples after cleaning: {len(df)}\")\n",
    "        if len(df) == 0:\n",
    "             print(\"Error: No valid data remaining after cleaning.\")\n",
    "             return None\n",
    "\n",
    "\n",
    "        print(\"\\nLabel distribution:\")\n",
    "        print(df['Label'].value_counts().sort_index()) # Sắp xếp theo index (0, 1, 2)\n",
    "\n",
    "\n",
    "        return df.reset_index(drop=True)\n",
    "\n",
    "    except FileNotFoundError:\n",
    "        print(f\"Error: File not found at '{path}'\")\n",
    "        return None\n",
    "    except ValueError as ve:\n",
    "        print(f\"Error: {ve}\")\n",
    "        return None\n",
    "    except Exception as e:\n",
    "        print(f\"An unexpected error occurred during data loading: {e}\")\n",
    "        return None\n",
    "\n",
    "\n",
    "# Load dữ liệu từ file CSV của bạn\n",
    "all_df = load_and_prepare_data(CSV_FILE_PATH, COMMENT_COLUMN, LABEL_COLUMN)\n",
    "\n",
    "\n",
    "if all_df is not None:\n",
    "    # --- Tạo cột K-Fold ---\n",
    "    skf = StratifiedKFold(n_splits=N_SPLITS, shuffle=True, random_state=SEED)\n",
    "    # Sử dụng cột 'Label' (0, 1, 2) để stratify\n",
    "    for fold, (_, val_idx) in enumerate(skf.split(X=all_df, y=all_df['Label'])):\n",
    "        all_df.loc[val_idx, \"kfold\"] = fold\n",
    "    all_df['kfold'] = all_df['kfold'].astype(int)\n",
    "\n",
    "\n",
    "    print(\"\\nSample data with kfold column:\")\n",
    "    print(all_df.sample(5))\n",
    "\n",
    "\n",
    "    print(\"\\nData Info:\")\n",
    "    all_df.info()\n",
    "\n",
    "\n",
    "    # Vẽ biểu đồ phân bố nhãn\n",
    "    plt.figure(figsize=(8, 5))\n",
    "    sns.countplot(x='Label', data=all_df, order=sorted(all_df['Label'].unique()))\n",
    "    plt.title('Label Distribution')\n",
    "    # Gán tên lớp cho trục x\n",
    "    plt.xticks(ticks=range(N_CLASSES), labels=CLASS_NAMES)\n",
    "    plt.show()\n",
    "else:\n",
    "    print(\"\\nCould not load data. Please check the file path and column names.\")"
   ]
  },
  {
   "cell_type": "markdown",
   "metadata": {},
   "source": [
    "# CELL 3"
   ]
  },
  {
   "cell_type": "code",
   "execution_count": 4,
   "metadata": {},
   "outputs": [
    {
     "name": "stdout",
     "output_type": "stream",
     "text": [
      "PhoBERT tokenizer loaded successfully.\n",
      "SentimentDataset class defined (using original 0, 1, 2 labels).\n"
     ]
    }
   ],
   "source": [
    "# Load tokenizer PhoBERT\n",
    "try:\n",
    "    tokenizer = AutoTokenizer.from_pretrained(\"vinai/phobert-base\", use_fast=False)\n",
    "    print(\"PhoBERT tokenizer loaded successfully.\")\n",
    "except Exception as e:\n",
    "    print(f\"Error loading tokenizer: {e}\")\n",
    "    # exit()\n",
    "\n",
    "class SentimentDataset(Dataset):\n",
    "    def __init__(self, df, tokenizer, max_len=MAX_LEN):\n",
    "        self.df = df\n",
    "        self.max_len = max_len\n",
    "        self.tokenizer = tokenizer\n",
    "\n",
    "    def __len__(self):\n",
    "        return len(self.df)\n",
    "\n",
    "    def __getitem__(self, index):\n",
    "        row = self.df.iloc[index]\n",
    "        try:\n",
    "            text = row['Sentence']\n",
    "            # *** LẤY NHÃN GỐC (0, 1, 2) TỪ CỘT 'Label' ***\n",
    "            label = row['Label']\n",
    "\n",
    "            # Tiền xử lý văn bản\n",
    "            processed_text = ' '.join(simple_preprocess(text))\n",
    "            tokenized_text = ViTokenizer.tokenize(processed_text)\n",
    "\n",
    "        except Exception as e:\n",
    "            print(f\"Error processing data at index {index}: {e}\")\n",
    "            return None\n",
    "\n",
    "        # Encode văn bản\n",
    "        try:\n",
    "            encoding = self.tokenizer.encode_plus(\n",
    "                tokenized_text,\n",
    "                truncation=True,\n",
    "                add_special_tokens=True,\n",
    "                max_length=self.max_len,\n",
    "                padding='max_length',\n",
    "                return_attention_mask=True,\n",
    "                return_token_type_ids=False,\n",
    "                return_tensors='pt',\n",
    "            )\n",
    "        except Exception as e:\n",
    "             print(f\"Error encoding text at index {index}: '{tokenized_text[:50]}...'. Error: {e}\")\n",
    "             return None\n",
    "\n",
    "        return {\n",
    "            'text': tokenized_text,\n",
    "            'input_ids': encoding['input_ids'].flatten(),\n",
    "            'attention_masks': encoding['attention_mask'].flatten(),\n",
    "            'targets': torch.tensor(label, dtype=torch.long), # Nhãn gốc đã là số (0, 1, 2)\n",
    "        }\n",
    "\n",
    "# Hàm collate_fn (giữ nguyên)\n",
    "def collate_fn(batch):\n",
    "    batch = [item for item in batch if item is not None]\n",
    "    if not batch:\n",
    "        return None\n",
    "    elem = batch[0]\n",
    "    keys = elem.keys()\n",
    "    collated_batch = {}\n",
    "    for key in keys:\n",
    "        if key == 'text':\n",
    "            collated_batch[key] = [d[key] for d in batch]\n",
    "        else:\n",
    "            collated_batch[key] = torch.stack([d[key] for d in batch])\n",
    "    return collated_batch\n",
    "\n",
    "print(\"SentimentDataset class defined (using original 0, 1, 2 labels).\")"
   ]
  },
  {
   "cell_type": "markdown",
   "metadata": {},
   "source": [
    "# Cell 4: Check Max Length "
   ]
  },
  {
   "cell_type": "code",
   "execution_count": 5,
   "metadata": {},
   "outputs": [
    {
     "name": "stdout",
     "output_type": "stream",
     "text": [
      "Analyzing token lengths for the dataset...\n"
     ]
    },
    {
     "data": {
      "image/png": "[encoded data removed]",
      "text/plain": [
       "<Figure size 1000x600 with 1 Axes>"
      ]
     },
     "metadata": {},
     "output_type": "display_data"
    },
    {
     "name": "stdout",
     "output_type": "stream",
     "text": [
      "Suggested MAX_LEN: Consider a value around 46 (95th) or 91 (99th).\n",
      "Current MAX_LEN is set to: 180\n"
     ]
    }
   ],
   "source": [
    "if all_df is not None:\n",
    "    print(\"Analyzing token lengths for the dataset...\")\n",
    "    all_sentences = all_df['Sentence'].tolist()\n",
    "    processed_sentences = [' '.join(simple_preprocess(text)) for text in all_sentences]\n",
    "    tokenized_vi_sentences = [ViTokenizer.tokenize(text) for text in processed_sentences]\n",
    "    encoded_texts = [tokenizer.encode(text, add_special_tokens=True) for text in tokenized_vi_sentences]\n",
    "    token_lens = [len(text) for text in encoded_texts]\n",
    "\n",
    "    plt.figure(figsize=(10, 6))\n",
    "    sns.histplot(token_lens, bins=50, kde=True)\n",
    "    percentile_95 = np.percentile(token_lens, 95)\n",
    "    percentile_99 = np.percentile(token_lens, 99)\n",
    "    plt.xlim([0, max(token_lens) + 10])\n",
    "    plt.xlabel('Token Count per Sentence')\n",
    "    plt.ylabel('Frequency')\n",
    "    plt.title('Distribution of Token Counts per Sentence')\n",
    "    plt.axvline(MAX_LEN, color='red', linestyle='dashed', linewidth=1, label=f'Chosen MAX_LEN={MAX_LEN}')\n",
    "    plt.axvline(percentile_95, color='orange', linestyle='dashed', linewidth=1, label=f'95th Percentile={percentile_95:.0f}')\n",
    "    plt.axvline(percentile_99, color='green', linestyle='dashed', linewidth=1, label=f'99th Percentile={percentile_99:.0f}')\n",
    "    plt.legend()\n",
    "    plt.show()\n",
    "\n",
    "    print(f\"Suggested MAX_LEN: Consider a value around {percentile_95:.0f} (95th) or {percentile_99:.0f} (99th).\")\n",
    "    print(f\"Current MAX_LEN is set to: {MAX_LEN}\")\n",
    "else:\n",
    "    print(\"Cannot analyze token lengths because data loading failed.\")"
   ]
  },
  {
   "cell_type": "code",
   "execution_count": 6,
   "metadata": {},
   "outputs": [
    {
     "name": "stdout",
     "output_type": "stream",
     "text": [
      "SentimentClassifier class defined.\n"
     ]
    }
   ],
   "source": [
    "# Cell 5: Model\n",
    "class SentimentClassifier(nn.Module):\n",
    "    def __init__(self, n_classes=N_CLASSES): # Sử dụng N_CLASSES=3 từ config\n",
    "        super(SentimentClassifier, self).__init__()\n",
    "        print(f\"Initializing SentimentClassifier for {n_classes} classes...\")\n",
    "        try:\n",
    "            self.bert = AutoModel.from_pretrained(\"vinai/phobert-base\")\n",
    "            print(\"Pre-trained PhoBERT base model loaded.\")\n",
    "        except Exception as e:\n",
    "            print(f\"Error loading PhoBERT model: {e}\")\n",
    "            raise\n",
    "\n",
    "        self.drop = nn.Dropout(p=0.3)\n",
    "        self.fc = nn.Linear(self.bert.config.hidden_size, n_classes)\n",
    "        nn.init.normal_(self.fc.weight, std=0.02)\n",
    "        nn.init.normal_(self.fc.bias, 0)\n",
    "        print(f\"Classifier head initialized.\")\n",
    "\n",
    "    def forward(self, input_ids, attention_mask):\n",
    "        outputs = self.bert(\n",
    "            input_ids=input_ids,\n",
    "            attention_mask=attention_mask,\n",
    "            return_dict=True\n",
    "        )\n",
    "        pooler_output = outputs.pooler_output\n",
    "        x = self.drop(pooler_output)\n",
    "        x = self.fc(x)\n",
    "        return x\n",
    "\n",
    "print(\"SentimentClassifier class defined.\")"
   ]
  },
  {
   "cell_type": "markdown",
   "metadata": {},
   "source": [
    "# CELL 6"
   ]
  },
  {
   "cell_type": "code",
   "execution_count": 7,
   "metadata": {},
   "outputs": [
    {
     "name": "stdout",
     "output_type": "stream",
     "text": [
      "Training and Evaluation functions defined (using basic tqdm).\n"
     ]
    }
   ],
   "source": [
    "# # Import tqdm nếu chưa import\n",
    "# from tqdm.notebook import tqdm\n",
    "\n",
    "# def train_epoch(model, criterion, optimizer, scheduler, train_loader, epoch, n_epochs, device):\n",
    "#     model.train()\n",
    "#     losses = []\n",
    "#     correct_predictions = 0\n",
    "#     total_samples = 0\n",
    "#     progress_bar = tqdm(train_loader, desc=f'Epoch {epoch+1}/{n_epochs} [Train]', leave=False)\n",
    "\n",
    "#     for data in progress_bar:\n",
    "#         if data is None: continue\n",
    "#         input_ids = data['input_ids'].to(device)\n",
    "#         attention_mask = data['attention_masks'].to(device)\n",
    "#         targets = data['targets'].to(device)\n",
    "\n",
    "#         optimizer.zero_grad()\n",
    "#         outputs = model(input_ids=input_ids, attention_mask=attention_mask)\n",
    "#         loss = criterion(outputs, targets)\n",
    "#         _, preds = torch.max(outputs, dim=1)\n",
    "#         correct_predictions += torch.sum(preds == targets)\n",
    "#         total_samples += targets.size(0)\n",
    "#         losses.append(loss.item())\n",
    "#         loss.backward()\n",
    "#         nn.utils.clip_grad_norm_(model.parameters(), max_norm=1.0)\n",
    "#         optimizer.step()\n",
    "#         if scheduler: scheduler.step()\n",
    "#         progress_bar.set_postfix(loss=loss.item())\n",
    "\n",
    "#     epoch_loss = np.mean(losses) if losses else 0\n",
    "#     epoch_acc = correct_predictions.double() / total_samples if total_samples > 0 else 0\n",
    "#     print(f'Train Loss: {epoch_loss:.4f} | Train Accuracy: {epoch_acc:.4f}')\n",
    "#     return epoch_loss, epoch_acc\n",
    "\n",
    "\n",
    "# def eval_model(model, criterion, data_loader, device, mode='Validation', n_epochs=EPOCHS, epoch=0):\n",
    "#     model.eval()\n",
    "#     losses = []\n",
    "#     correct_predictions = 0\n",
    "#     total_samples = 0\n",
    "#     progress_bar = tqdm(data_loader, desc=f'Epoch {epoch+1}/{n_epochs} [{mode}]', leave=False)\n",
    "\n",
    "#     with torch.no_grad():\n",
    "#         for data in progress_bar:\n",
    "#             if data is None: continue\n",
    "#             input_ids = data['input_ids'].to(device)\n",
    "#             attention_mask = data['attention_masks'].to(device)\n",
    "#             targets = data['targets'].to(device)\n",
    "#             outputs = model(input_ids=input_ids, attention_mask=attention_mask)\n",
    "#             _, preds = torch.max(outputs, dim=1)\n",
    "#             loss = criterion(outputs, targets)\n",
    "#             correct_predictions += torch.sum(preds == targets)\n",
    "#             total_samples += targets.size(0)\n",
    "#             losses.append(loss.item())\n",
    "\n",
    "#     epoch_loss = np.mean(losses) if losses else 0\n",
    "#     epoch_acc = correct_predictions.double() / total_samples if total_samples > 0 else 0\n",
    "#     print(f'{mode} Loss: {epoch_loss:.4f} | {mode} Accuracy: {epoch_acc:.4f}')\n",
    "#     return epoch_loss, epoch_acc\n",
    "# Cell 6 (SỬ DỤNG tqdm CƠ BẢN)\n",
    "\n",
    "# Import tqdm bản cơ bản (không cần ipywidgets)\n",
    "# Cell 6 (SỬ DỤNG tqdm CƠ BẢN - KIỂM TRA LẠI!)\n",
    "\n",
    "# Import tqdm bản cơ bản (không cần ipywidgets)\n",
    "from tqdm import tqdm # <<< QUAN TRỌNG: Đảm bảo là 'from tqdm import tqdm'\n",
    "import numpy as np\n",
    "import torch\n",
    "import traceback\n",
    "\n",
    "def train_epoch(model, criterion, optimizer, scheduler, train_loader, epoch, n_epochs, device):\n",
    "    model.train()\n",
    "    losses = []\n",
    "    correct_predictions = 0\n",
    "    total_samples = 0\n",
    "    # Sử dụng tqdm bản cơ bản\n",
    "    progress_bar = tqdm(train_loader, desc=f'Epoch {epoch+1}/{n_epochs} [Train]', leave=True, unit=\"batch\")\n",
    "\n",
    "    for data in progress_bar:\n",
    "        if data is None: continue\n",
    "        try:\n",
    "            input_ids = data['input_ids'].to(device)\n",
    "            attention_mask = data['attention_masks'].to(device)\n",
    "            targets = data['targets'].to(device)\n",
    "\n",
    "            optimizer.zero_grad()\n",
    "            outputs = model(input_ids=input_ids, attention_mask=attention_mask)\n",
    "            loss = criterion(outputs, targets)\n",
    "            _, preds = torch.max(outputs, dim=1)\n",
    "            correct_predictions += torch.sum(preds == targets)\n",
    "            total_samples += targets.size(0)\n",
    "            losses.append(loss.item())\n",
    "            loss.backward()\n",
    "            nn.utils.clip_grad_norm_(model.parameters(), max_norm=1.0)\n",
    "            optimizer.step()\n",
    "            if scheduler: scheduler.step()\n",
    "            progress_bar.set_postfix(loss=f\"{loss.item():.4f}\", refresh=True)\n",
    "        except Exception as e_batch:\n",
    "             print(f\"\\nError in training batch: {e_batch}\")\n",
    "             continue\n",
    "\n",
    "    epoch_loss = np.mean(losses) if losses else float('nan')\n",
    "    epoch_acc = correct_predictions.double() / total_samples if total_samples > 0 else float('nan')\n",
    "    print(f'Epoch {epoch+1}/{n_epochs} [Train] Completed - Train Loss: {epoch_loss:.4f} | Train Accuracy: {epoch_acc:.4f}')\n",
    "    return epoch_loss, epoch_acc\n",
    "\n",
    "\n",
    "def eval_model(model, criterion, data_loader, device, mode='Validation', n_epochs=EPOCHS, epoch=0):\n",
    "    model.eval()\n",
    "    losses = []\n",
    "    correct_predictions = 0\n",
    "    total_samples = 0\n",
    "    # Sử dụng tqdm bản cơ bản\n",
    "    progress_bar = tqdm(data_loader, desc=f'Epoch {epoch+1}/{n_epochs} [{mode}]', leave=True, unit=\"batch\")\n",
    "\n",
    "    with torch.no_grad():\n",
    "        for data in progress_bar:\n",
    "            if data is None: continue\n",
    "            try:\n",
    "                input_ids = data['input_ids'].to(device)\n",
    "                attention_mask = data['attention_masks'].to(device)\n",
    "                targets = data['targets'].to(device)\n",
    "                outputs = model(input_ids=input_ids, attention_mask=attention_mask)\n",
    "                _, preds = torch.max(outputs, dim=1)\n",
    "                loss = criterion(outputs, targets)\n",
    "                correct_predictions += torch.sum(preds == targets)\n",
    "                total_samples += targets.size(0)\n",
    "                losses.append(loss.item())\n",
    "                progress_bar.set_postfix(loss=f\"{loss.item():.4f}\", refresh=True)\n",
    "            except Exception as e_batch_eval:\n",
    "                 print(f\"\\nError in evaluation batch: {e_batch_eval}\")\n",
    "                 continue\n",
    "\n",
    "    epoch_loss = np.mean(losses) if losses else float('nan')\n",
    "    epoch_acc = correct_predictions.double() / total_samples if total_samples > 0 else float('nan')\n",
    "    print(f'Epoch {epoch+1}/{n_epochs} [{mode}] Completed - {mode} Loss: {epoch_loss:.4f} | {mode} Accuracy: {epoch_acc:.4f}')\n",
    "    return epoch_loss, epoch_acc\n",
    "\n",
    "print(\"Training and Evaluation functions defined (using basic tqdm).\")"
   ]
  },
  {
   "cell_type": "markdown",
   "metadata": {},
   "source": [
    "# Cell 7: Training with K-Fold"
   ]
  },
  {
   "cell_type": "code",
   "execution_count": 8,
   "metadata": {},
   "outputs": [
    {
     "name": "stdout",
     "output_type": "stream",
     "text": [
      "\n",
      "===== Fold: 1/5 =====\n",
      "Fold 1: Train size=2048, Valid size=513\n",
      "Initializing SentimentClassifier for 3 classes...\n",
      "Pre-trained PhoBERT base model loaded.\n",
      "Classifier head initialized.\n",
      "\n",
      "--- Epoch 1/4 ---\n"
     ]
    },
    {
     "name": "stderr",
     "output_type": "stream",
     "text": [
      "Epoch 1/4 [Train]: 100%|██████████| 128/128 [00:51<00:00,  2.49batch/s, loss=0.9048]\n"
     ]
    },
    {
     "name": "stdout",
     "output_type": "stream",
     "text": [
      "Epoch 1/4 [Train] Completed - Train Loss: 0.8560 | Train Accuracy: 0.6270\n"
     ]
    },
    {
     "name": "stderr",
     "output_type": "stream",
     "text": [
      "Epoch 1/4 [Validation]: 100%|██████████| 33/33 [00:03<00:00,  8.93batch/s, loss=2.2107]\n"
     ]
    },
    {
     "name": "stdout",
     "output_type": "stream",
     "text": [
      "Epoch 1/4 [Validation] Completed - Validation Loss: 0.7174 | Validation Accuracy: 0.7349\n",
      "Validation accuracy improved (0.0000 --> 0.7349). Saving model...\n",
      "Model saved to phobert_sentiment_fold1.pth\n",
      "\n",
      "--- Epoch 2/4 ---\n"
     ]
    },
    {
     "name": "stderr",
     "output_type": "stream",
     "text": [
      "Epoch 2/4 [Train]: 100%|██████████| 128/128 [00:50<00:00,  2.53batch/s, loss=1.0003]\n"
     ]
    },
    {
     "name": "stdout",
     "output_type": "stream",
     "text": [
      "Epoch 2/4 [Train] Completed - Train Loss: 0.9548 | Train Accuracy: 0.6079\n"
     ]
    },
    {
     "name": "stderr",
     "output_type": "stream",
     "text": [
      "Epoch 2/4 [Validation]: 100%|██████████| 33/33 [00:03<00:00,  8.99batch/s, loss=1.4397]\n"
     ]
    },
    {
     "name": "stdout",
     "output_type": "stream",
     "text": [
      "Epoch 2/4 [Validation] Completed - Validation Loss: 0.9554 | Validation Accuracy: 0.6062\n",
      "\n",
      "--- Epoch 3/4 ---\n"
     ]
    },
    {
     "name": "stderr",
     "output_type": "stream",
     "text": [
      "Epoch 3/4 [Train]: 100%|██████████| 128/128 [00:50<00:00,  2.53batch/s, loss=0.8699]\n"
     ]
    },
    {
     "name": "stdout",
     "output_type": "stream",
     "text": [
      "Epoch 3/4 [Train] Completed - Train Loss: 0.9415 | Train Accuracy: 0.6064\n"
     ]
    },
    {
     "name": "stderr",
     "output_type": "stream",
     "text": [
      "Epoch 3/4 [Validation]: 100%|██████████| 33/33 [00:03<00:00,  8.99batch/s, loss=1.5729]\n"
     ]
    },
    {
     "name": "stdout",
     "output_type": "stream",
     "text": [
      "Epoch 3/4 [Validation] Completed - Validation Loss: 0.9584 | Validation Accuracy: 0.6062\n",
      "\n",
      "--- Epoch 4/4 ---\n"
     ]
    },
    {
     "name": "stderr",
     "output_type": "stream",
     "text": [
      "Epoch 4/4 [Train]: 100%|██████████| 128/128 [00:50<00:00,  2.53batch/s, loss=0.9375]\n"
     ]
    },
    {
     "name": "stdout",
     "output_type": "stream",
     "text": [
      "Epoch 4/4 [Train] Completed - Train Loss: 0.9333 | Train Accuracy: 0.6064\n"
     ]
    },
    {
     "name": "stderr",
     "output_type": "stream",
     "text": [
      "Epoch 4/4 [Validation]: 100%|██████████| 33/33 [00:03<00:00,  9.01batch/s, loss=1.5941]\n"
     ]
    },
    {
     "name": "stdout",
     "output_type": "stream",
     "text": [
      "Epoch 4/4 [Validation] Completed - Validation Loss: 0.9605 | Validation Accuracy: 0.6062\n",
      "\n",
      "Best Validation Accuracy for Fold 1: 0.7349\n",
      "\n",
      "===== Fold: 2/5 =====\n",
      "Fold 2: Train size=2049, Valid size=512\n",
      "Initializing SentimentClassifier for 3 classes...\n",
      "Pre-trained PhoBERT base model loaded.\n",
      "Classifier head initialized.\n",
      "\n",
      "--- Epoch 1/4 ---\n"
     ]
    },
    {
     "name": "stderr",
     "output_type": "stream",
     "text": [
      "Epoch 1/4 [Train]: 100%|██████████| 129/129 [00:50<00:00,  2.54batch/s, loss=1.5727]\n"
     ]
    },
    {
     "name": "stdout",
     "output_type": "stream",
     "text": [
      "Epoch 1/4 [Train] Completed - Train Loss: 0.8750 | Train Accuracy: 0.6550\n"
     ]
    },
    {
     "name": "stderr",
     "output_type": "stream",
     "text": [
      "Epoch 1/4 [Validation]: 100%|██████████| 32/32 [00:03<00:00,  8.71batch/s, loss=1.1024]\n"
     ]
    },
    {
     "name": "stdout",
     "output_type": "stream",
     "text": [
      "Epoch 1/4 [Validation] Completed - Validation Loss: 0.6711 | Validation Accuracy: 0.7227\n",
      "Validation accuracy improved (0.0000 --> 0.7227). Saving model...\n",
      "Model saved to phobert_sentiment_fold2.pth\n",
      "\n",
      "--- Epoch 2/4 ---\n"
     ]
    },
    {
     "name": "stderr",
     "output_type": "stream",
     "text": [
      "Epoch 2/4 [Train]: 100%|██████████| 129/129 [00:50<00:00,  2.54batch/s, loss=0.0716]\n"
     ]
    },
    {
     "name": "stdout",
     "output_type": "stream",
     "text": [
      "Epoch 2/4 [Train] Completed - Train Loss: 0.5517 | Train Accuracy: 0.7853\n"
     ]
    },
    {
     "name": "stderr",
     "output_type": "stream",
     "text": [
      "Epoch 2/4 [Validation]: 100%|██████████| 32/32 [00:03<00:00,  8.69batch/s, loss=1.0733]\n"
     ]
    },
    {
     "name": "stdout",
     "output_type": "stream",
     "text": [
      "Epoch 2/4 [Validation] Completed - Validation Loss: 0.5287 | Validation Accuracy: 0.7793\n",
      "Validation accuracy improved (0.7227 --> 0.7793). Saving model...\n",
      "Model saved to phobert_sentiment_fold2.pth\n",
      "\n",
      "--- Epoch 3/4 ---\n"
     ]
    },
    {
     "name": "stderr",
     "output_type": "stream",
     "text": [
      "Epoch 3/4 [Train]: 100%|██████████| 129/129 [00:50<00:00,  2.55batch/s, loss=0.6373]\n"
     ]
    },
    {
     "name": "stdout",
     "output_type": "stream",
     "text": [
      "Epoch 3/4 [Train] Completed - Train Loss: 0.4069 | Train Accuracy: 0.8565\n"
     ]
    },
    {
     "name": "stderr",
     "output_type": "stream",
     "text": [
      "Epoch 3/4 [Validation]: 100%|██████████| 32/32 [00:03<00:00,  8.73batch/s, loss=1.2340]\n"
     ]
    },
    {
     "name": "stdout",
     "output_type": "stream",
     "text": [
      "Epoch 3/4 [Validation] Completed - Validation Loss: 0.5090 | Validation Accuracy: 0.7910\n",
      "Validation accuracy improved (0.7793 --> 0.7910). Saving model...\n",
      "Model saved to phobert_sentiment_fold2.pth\n",
      "\n",
      "--- Epoch 4/4 ---\n"
     ]
    },
    {
     "name": "stderr",
     "output_type": "stream",
     "text": [
      "Epoch 4/4 [Train]: 100%|██████████| 129/129 [00:50<00:00,  2.56batch/s, loss=0.0840]\n"
     ]
    },
    {
     "name": "stdout",
     "output_type": "stream",
     "text": [
      "Epoch 4/4 [Train] Completed - Train Loss: 0.3194 | Train Accuracy: 0.8843\n"
     ]
    },
    {
     "name": "stderr",
     "output_type": "stream",
     "text": [
      "Epoch 4/4 [Validation]: 100%|██████████| 32/32 [00:03<00:00,  8.74batch/s, loss=1.3531]\n"
     ]
    },
    {
     "name": "stdout",
     "output_type": "stream",
     "text": [
      "Epoch 4/4 [Validation] Completed - Validation Loss: 0.4828 | Validation Accuracy: 0.8145\n",
      "Validation accuracy improved (0.7910 --> 0.8145). Saving model...\n",
      "Model saved to phobert_sentiment_fold2.pth\n",
      "\n",
      "Best Validation Accuracy for Fold 2: 0.8145\n",
      "\n",
      "===== Fold: 3/5 =====\n",
      "Fold 3: Train size=2049, Valid size=512\n",
      "Initializing SentimentClassifier for 3 classes...\n",
      "Pre-trained PhoBERT base model loaded.\n",
      "Classifier head initialized.\n",
      "\n",
      "--- Epoch 1/4 ---\n"
     ]
    },
    {
     "name": "stderr",
     "output_type": "stream",
     "text": [
      "Epoch 1/4 [Train]: 100%|██████████| 129/129 [00:50<00:00,  2.56batch/s, loss=0.2718]\n"
     ]
    },
    {
     "name": "stdout",
     "output_type": "stream",
     "text": [
      "Epoch 1/4 [Train] Completed - Train Loss: 1.1014 | Train Accuracy: 0.5120\n"
     ]
    },
    {
     "name": "stderr",
     "output_type": "stream",
     "text": [
      "Epoch 1/4 [Validation]: 100%|██████████| 32/32 [00:03<00:00,  8.71batch/s, loss=1.3374]\n"
     ]
    },
    {
     "name": "stdout",
     "output_type": "stream",
     "text": [
      "Epoch 1/4 [Validation] Completed - Validation Loss: 0.7030 | Validation Accuracy: 0.7246\n",
      "Validation accuracy improved (0.0000 --> 0.7246). Saving model...\n",
      "Model saved to phobert_sentiment_fold3.pth\n",
      "\n",
      "--- Epoch 2/4 ---\n"
     ]
    },
    {
     "name": "stderr",
     "output_type": "stream",
     "text": [
      "Epoch 2/4 [Train]: 100%|██████████| 129/129 [00:50<00:00,  2.55batch/s, loss=1.2672]\n"
     ]
    },
    {
     "name": "stdout",
     "output_type": "stream",
     "text": [
      "Epoch 2/4 [Train] Completed - Train Loss: 0.9610 | Train Accuracy: 0.5798\n"
     ]
    },
    {
     "name": "stderr",
     "output_type": "stream",
     "text": [
      "Epoch 2/4 [Validation]: 100%|██████████| 32/32 [00:03<00:00,  8.74batch/s, loss=1.9438]\n"
     ]
    },
    {
     "name": "stdout",
     "output_type": "stream",
     "text": [
      "Epoch 2/4 [Validation] Completed - Validation Loss: 1.0806 | Validation Accuracy: 0.6055\n",
      "\n",
      "--- Epoch 3/4 ---\n"
     ]
    },
    {
     "name": "stderr",
     "output_type": "stream",
     "text": [
      "Epoch 3/4 [Train]: 100%|██████████| 129/129 [00:50<00:00,  2.56batch/s, loss=0.3787]\n"
     ]
    },
    {
     "name": "stdout",
     "output_type": "stream",
     "text": [
      "Epoch 3/4 [Train] Completed - Train Loss: 0.8902 | Train Accuracy: 0.6310\n"
     ]
    },
    {
     "name": "stderr",
     "output_type": "stream",
     "text": [
      "Epoch 3/4 [Validation]: 100%|██████████| 32/32 [00:03<00:00,  8.71batch/s, loss=1.6250]\n"
     ]
    },
    {
     "name": "stdout",
     "output_type": "stream",
     "text": [
      "Epoch 3/4 [Validation] Completed - Validation Loss: 0.9881 | Validation Accuracy: 0.6055\n",
      "\n",
      "--- Epoch 4/4 ---\n"
     ]
    },
    {
     "name": "stderr",
     "output_type": "stream",
     "text": [
      "Epoch 4/4 [Train]: 100%|██████████| 129/129 [00:50<00:00,  2.57batch/s, loss=0.5282]\n"
     ]
    },
    {
     "name": "stdout",
     "output_type": "stream",
     "text": [
      "Epoch 4/4 [Train] Completed - Train Loss: 0.8723 | Train Accuracy: 0.6574\n"
     ]
    },
    {
     "name": "stderr",
     "output_type": "stream",
     "text": [
      "Epoch 4/4 [Validation]: 100%|██████████| 32/32 [00:03<00:00,  8.77batch/s, loss=1.5836]\n"
     ]
    },
    {
     "name": "stdout",
     "output_type": "stream",
     "text": [
      "Epoch 4/4 [Validation] Completed - Validation Loss: 0.9785 | Validation Accuracy: 0.6055\n",
      "\n",
      "Best Validation Accuracy for Fold 3: 0.7246\n",
      "\n",
      "===== Fold: 4/5 =====\n",
      "Fold 4: Train size=2049, Valid size=512\n",
      "Initializing SentimentClassifier for 3 classes...\n",
      "Pre-trained PhoBERT base model loaded.\n",
      "Classifier head initialized.\n",
      "\n",
      "--- Epoch 1/4 ---\n"
     ]
    },
    {
     "name": "stderr",
     "output_type": "stream",
     "text": [
      "Epoch 1/4 [Train]: 100%|██████████| 129/129 [00:50<00:00,  2.56batch/s, loss=0.5349]\n"
     ]
    },
    {
     "name": "stdout",
     "output_type": "stream",
     "text": [
      "Epoch 1/4 [Train] Completed - Train Loss: 0.8727 | Train Accuracy: 0.5920\n"
     ]
    },
    {
     "name": "stderr",
     "output_type": "stream",
     "text": [
      "Epoch 1/4 [Validation]: 100%|██████████| 32/32 [00:03<00:00,  8.74batch/s, loss=1.1228]\n"
     ]
    },
    {
     "name": "stdout",
     "output_type": "stream",
     "text": [
      "Epoch 1/4 [Validation] Completed - Validation Loss: 0.6327 | Validation Accuracy: 0.7578\n",
      "Validation accuracy improved (0.0000 --> 0.7578). Saving model...\n",
      "Model saved to phobert_sentiment_fold4.pth\n",
      "\n",
      "--- Epoch 2/4 ---\n"
     ]
    },
    {
     "name": "stderr",
     "output_type": "stream",
     "text": [
      "Epoch 2/4 [Train]: 100%|██████████| 129/129 [00:50<00:00,  2.55batch/s, loss=2.6360]\n"
     ]
    },
    {
     "name": "stdout",
     "output_type": "stream",
     "text": [
      "Epoch 2/4 [Train] Completed - Train Loss: 0.6255 | Train Accuracy: 0.7565\n"
     ]
    },
    {
     "name": "stderr",
     "output_type": "stream",
     "text": [
      "Epoch 2/4 [Validation]: 100%|██████████| 32/32 [00:03<00:00,  8.74batch/s, loss=0.8246]\n"
     ]
    },
    {
     "name": "stdout",
     "output_type": "stream",
     "text": [
      "Epoch 2/4 [Validation] Completed - Validation Loss: 0.4609 | Validation Accuracy: 0.8047\n",
      "Validation accuracy improved (0.7578 --> 0.8047). Saving model...\n",
      "Model saved to phobert_sentiment_fold4.pth\n",
      "\n",
      "--- Epoch 3/4 ---\n"
     ]
    },
    {
     "name": "stderr",
     "output_type": "stream",
     "text": [
      "Epoch 3/4 [Train]: 100%|██████████| 129/129 [00:50<00:00,  2.56batch/s, loss=0.4335]\n"
     ]
    },
    {
     "name": "stdout",
     "output_type": "stream",
     "text": [
      "Epoch 3/4 [Train] Completed - Train Loss: 0.4537 | Train Accuracy: 0.8267\n"
     ]
    },
    {
     "name": "stderr",
     "output_type": "stream",
     "text": [
      "Epoch 3/4 [Validation]: 100%|██████████| 32/32 [00:03<00:00,  8.72batch/s, loss=1.0050]\n"
     ]
    },
    {
     "name": "stdout",
     "output_type": "stream",
     "text": [
      "Epoch 3/4 [Validation] Completed - Validation Loss: 0.3936 | Validation Accuracy: 0.8398\n",
      "Validation accuracy improved (0.8047 --> 0.8398). Saving model...\n",
      "Model saved to phobert_sentiment_fold4.pth\n",
      "\n",
      "--- Epoch 4/4 ---\n"
     ]
    },
    {
     "name": "stderr",
     "output_type": "stream",
     "text": [
      "Epoch 4/4 [Train]: 100%|██████████| 129/129 [00:50<00:00,  2.55batch/s, loss=0.0669]\n"
     ]
    },
    {
     "name": "stdout",
     "output_type": "stream",
     "text": [
      "Epoch 4/4 [Train] Completed - Train Loss: 0.3645 | Train Accuracy: 0.8619\n"
     ]
    },
    {
     "name": "stderr",
     "output_type": "stream",
     "text": [
      "Epoch 4/4 [Validation]: 100%|██████████| 32/32 [00:03<00:00,  8.72batch/s, loss=0.9058]\n"
     ]
    },
    {
     "name": "stdout",
     "output_type": "stream",
     "text": [
      "Epoch 4/4 [Validation] Completed - Validation Loss: 0.3610 | Validation Accuracy: 0.8633\n",
      "Validation accuracy improved (0.8398 --> 0.8633). Saving model...\n",
      "Model saved to phobert_sentiment_fold4.pth\n",
      "\n",
      "Best Validation Accuracy for Fold 4: 0.8633\n",
      "\n",
      "===== Fold: 5/5 =====\n",
      "Fold 5: Train size=2049, Valid size=512\n",
      "Initializing SentimentClassifier for 3 classes...\n",
      "Pre-trained PhoBERT base model loaded.\n",
      "Classifier head initialized.\n",
      "\n",
      "--- Epoch 1/4 ---\n"
     ]
    },
    {
     "name": "stderr",
     "output_type": "stream",
     "text": [
      "Epoch 1/4 [Train]:   2%|▏         | 3/129 [00:01<00:46,  2.73batch/s, loss=0.8462]"
     ]
    },
    {
     "name": "stdout",
     "output_type": "stream",
     "text": [
      "\n",
      "Error in training batch: CUDA out of memory. Tried to allocate 188.00 MiB. GPU 0 has a total capacity of 5.77 GiB of which 86.31 MiB is free. Including non-PyTorch memory, this process has 5.67 GiB memory in use. Of the allocated memory 3.90 GiB is allocated by PyTorch, and 1.66 GiB is reserved by PyTorch but unallocated. If reserved but unallocated memory is large try setting PYTORCH_CUDA_ALLOC_CONF=expandable_segments:True to avoid fragmentation.  See documentation for Memory Management  (https://pytorch.org/docs/stable/notes/cuda.html#environment-variables)\n"
     ]
    },
    {
     "name": "stderr",
     "output_type": "stream",
     "text": [
      "Epoch 1/4 [Train]:   4%|▍         | 5/129 [00:01<00:35,  3.53batch/s, loss=0.8462]"
     ]
    },
    {
     "name": "stdout",
     "output_type": "stream",
     "text": [
      "\n",
      "Error in training batch: CUDA out of memory. Tried to allocate 188.00 MiB. GPU 0 has a total capacity of 5.77 GiB of which 86.31 MiB is free. Including non-PyTorch memory, this process has 5.67 GiB memory in use. Of the allocated memory 4.07 GiB is allocated by PyTorch, and 1.49 GiB is reserved by PyTorch but unallocated. If reserved but unallocated memory is large try setting PYTORCH_CUDA_ALLOC_CONF=expandable_segments:True to avoid fragmentation.  See documentation for Memory Management  (https://pytorch.org/docs/stable/notes/cuda.html#environment-variables)\n",
      "\n",
      "Error in training batch: CUDA out of memory. Tried to allocate 188.00 MiB. GPU 0 has a total capacity of 5.77 GiB of which 86.31 MiB is free. Including non-PyTorch memory, this process has 5.67 GiB memory in use. Of the allocated memory 4.07 GiB is allocated by PyTorch, and 1.49 GiB is reserved by PyTorch but unallocated. If reserved but unallocated memory is large try setting PYTORCH_CUDA_ALLOC_CONF=expandable_segments:True to avoid fragmentation.  See documentation for Memory Management  (https://pytorch.org/docs/stable/notes/cuda.html#environment-variables)\n"
     ]
    },
    {
     "name": "stderr",
     "output_type": "stream",
     "text": [
      "Epoch 1/4 [Train]:   5%|▍         | 6/129 [00:01<00:38,  3.22batch/s, loss=0.8462]"
     ]
    },
    {
     "name": "stdout",
     "output_type": "stream",
     "text": [
      "\n",
      "Error in training batch: CUDA out of memory. Tried to allocate 188.00 MiB. GPU 0 has a total capacity of 5.77 GiB of which 86.31 MiB is free. Including non-PyTorch memory, this process has 5.67 GiB memory in use. Of the allocated memory 4.07 GiB is allocated by PyTorch, and 1.49 GiB is reserved by PyTorch but unallocated. If reserved but unallocated memory is large try setting PYTORCH_CUDA_ALLOC_CONF=expandable_segments:True to avoid fragmentation.  See documentation for Memory Management  (https://pytorch.org/docs/stable/notes/cuda.html#environment-variables)\n"
     ]
    },
    {
     "name": "stderr",
     "output_type": "stream",
     "text": [
      "Epoch 1/4 [Train]:   5%|▌         | 7/129 [00:02<00:39,  3.08batch/s, loss=0.8462]"
     ]
    },
    {
     "name": "stdout",
     "output_type": "stream",
     "text": [
      "\n",
      "Error in training batch: CUDA out of memory. Tried to allocate 188.00 MiB. GPU 0 has a total capacity of 5.77 GiB of which 86.31 MiB is free. Including non-PyTorch memory, this process has 5.67 GiB memory in use. Of the allocated memory 4.07 GiB is allocated by PyTorch, and 1.49 GiB is reserved by PyTorch but unallocated. If reserved but unallocated memory is large try setting PYTORCH_CUDA_ALLOC_CONF=expandable_segments:True to avoid fragmentation.  See documentation for Memory Management  (https://pytorch.org/docs/stable/notes/cuda.html#environment-variables)\n"
     ]
    },
    {
     "name": "stderr",
     "output_type": "stream",
     "text": [
      "Epoch 1/4 [Train]:   6%|▌         | 8/129 [00:02<00:40,  2.97batch/s, loss=0.8462]"
     ]
    },
    {
     "name": "stdout",
     "output_type": "stream",
     "text": [
      "\n",
      "Error in training batch: CUDA out of memory. Tried to allocate 188.00 MiB. GPU 0 has a total capacity of 5.77 GiB of which 86.31 MiB is free. Including non-PyTorch memory, this process has 5.67 GiB memory in use. Of the allocated memory 4.07 GiB is allocated by PyTorch, and 1.49 GiB is reserved by PyTorch but unallocated. If reserved but unallocated memory is large try setting PYTORCH_CUDA_ALLOC_CONF=expandable_segments:True to avoid fragmentation.  See documentation for Memory Management  (https://pytorch.org/docs/stable/notes/cuda.html#environment-variables)\n"
     ]
    },
    {
     "name": "stderr",
     "output_type": "stream",
     "text": [
      "Epoch 1/4 [Train]:   7%|▋         | 9/129 [00:03<00:41,  2.92batch/s, loss=0.8462]"
     ]
    },
    {
     "name": "stdout",
     "output_type": "stream",
     "text": [
      "\n",
      "Error in training batch: CUDA out of memory. Tried to allocate 188.00 MiB. GPU 0 has a total capacity of 5.77 GiB of which 86.31 MiB is free. Including non-PyTorch memory, this process has 5.67 GiB memory in use. Of the allocated memory 4.07 GiB is allocated by PyTorch, and 1.49 GiB is reserved by PyTorch but unallocated. If reserved but unallocated memory is large try setting PYTORCH_CUDA_ALLOC_CONF=expandable_segments:True to avoid fragmentation.  See documentation for Memory Management  (https://pytorch.org/docs/stable/notes/cuda.html#environment-variables)\n"
     ]
    },
    {
     "name": "stderr",
     "output_type": "stream",
     "text": [
      "Epoch 1/4 [Train]:   8%|▊         | 10/129 [00:03<00:40,  2.91batch/s, loss=0.8462]"
     ]
    },
    {
     "name": "stdout",
     "output_type": "stream",
     "text": [
      "\n",
      "Error in training batch: CUDA out of memory. Tried to allocate 188.00 MiB. GPU 0 has a total capacity of 5.77 GiB of which 86.31 MiB is free. Including non-PyTorch memory, this process has 5.67 GiB memory in use. Of the allocated memory 4.07 GiB is allocated by PyTorch, and 1.49 GiB is reserved by PyTorch but unallocated. If reserved but unallocated memory is large try setting PYTORCH_CUDA_ALLOC_CONF=expandable_segments:True to avoid fragmentation.  See documentation for Memory Management  (https://pytorch.org/docs/stable/notes/cuda.html#environment-variables)\n"
     ]
    },
    {
     "name": "stderr",
     "output_type": "stream",
     "text": [
      "Epoch 1/4 [Train]:   9%|▊         | 11/129 [00:03<00:42,  2.80batch/s, loss=0.8462]"
     ]
    },
    {
     "name": "stdout",
     "output_type": "stream",
     "text": [
      "\n",
      "Error in training batch: CUDA out of memory. Tried to allocate 188.00 MiB. GPU 0 has a total capacity of 5.77 GiB of which 86.31 MiB is free. Including non-PyTorch memory, this process has 5.67 GiB memory in use. Of the allocated memory 4.07 GiB is allocated by PyTorch, and 1.49 GiB is reserved by PyTorch but unallocated. If reserved but unallocated memory is large try setting PYTORCH_CUDA_ALLOC_CONF=expandable_segments:True to avoid fragmentation.  See documentation for Memory Management  (https://pytorch.org/docs/stable/notes/cuda.html#environment-variables)\n"
     ]
    },
    {
     "name": "stderr",
     "output_type": "stream",
     "text": [
      "Epoch 1/4 [Train]:   9%|▉         | 12/129 [00:04<00:41,  2.84batch/s, loss=0.8462]"
     ]
    },
    {
     "name": "stdout",
     "output_type": "stream",
     "text": [
      "\n",
      "Error in training batch: CUDA out of memory. Tried to allocate 188.00 MiB. GPU 0 has a total capacity of 5.77 GiB of which 86.31 MiB is free. Including non-PyTorch memory, this process has 5.67 GiB memory in use. Of the allocated memory 4.07 GiB is allocated by PyTorch, and 1.49 GiB is reserved by PyTorch but unallocated. If reserved but unallocated memory is large try setting PYTORCH_CUDA_ALLOC_CONF=expandable_segments:True to avoid fragmentation.  See documentation for Memory Management  (https://pytorch.org/docs/stable/notes/cuda.html#environment-variables)\n"
     ]
    },
    {
     "name": "stderr",
     "output_type": "stream",
     "text": [
      "Epoch 1/4 [Train]:  10%|█         | 13/129 [00:04<00:40,  2.84batch/s, loss=0.8462]"
     ]
    },
    {
     "name": "stdout",
     "output_type": "stream",
     "text": [
      "\n",
      "Error in training batch: CUDA out of memory. Tried to allocate 188.00 MiB. GPU 0 has a total capacity of 5.77 GiB of which 86.31 MiB is free. Including non-PyTorch memory, this process has 5.67 GiB memory in use. Of the allocated memory 4.07 GiB is allocated by PyTorch, and 1.49 GiB is reserved by PyTorch but unallocated. If reserved but unallocated memory is large try setting PYTORCH_CUDA_ALLOC_CONF=expandable_segments:True to avoid fragmentation.  See documentation for Memory Management  (https://pytorch.org/docs/stable/notes/cuda.html#environment-variables)\n"
     ]
    },
    {
     "name": "stderr",
     "output_type": "stream",
     "text": [
      "Epoch 1/4 [Train]:  11%|█         | 14/129 [00:04<00:40,  2.82batch/s, loss=0.8462]"
     ]
    },
    {
     "name": "stdout",
     "output_type": "stream",
     "text": [
      "\n",
      "Error in training batch: CUDA out of memory. Tried to allocate 188.00 MiB. GPU 0 has a total capacity of 5.77 GiB of which 86.31 MiB is free. Including non-PyTorch memory, this process has 5.67 GiB memory in use. Of the allocated memory 4.07 GiB is allocated by PyTorch, and 1.49 GiB is reserved by PyTorch but unallocated. If reserved but unallocated memory is large try setting PYTORCH_CUDA_ALLOC_CONF=expandable_segments:True to avoid fragmentation.  See documentation for Memory Management  (https://pytorch.org/docs/stable/notes/cuda.html#environment-variables)\n"
     ]
    },
    {
     "name": "stderr",
     "output_type": "stream",
     "text": [
      "Epoch 1/4 [Train]:  12%|█▏        | 15/129 [00:05<00:40,  2.79batch/s, loss=0.8462]"
     ]
    },
    {
     "name": "stdout",
     "output_type": "stream",
     "text": [
      "\n",
      "Error in training batch: CUDA out of memory. Tried to allocate 188.00 MiB. GPU 0 has a total capacity of 5.77 GiB of which 86.31 MiB is free. Including non-PyTorch memory, this process has 5.67 GiB memory in use. Of the allocated memory 4.07 GiB is allocated by PyTorch, and 1.49 GiB is reserved by PyTorch but unallocated. If reserved but unallocated memory is large try setting PYTORCH_CUDA_ALLOC_CONF=expandable_segments:True to avoid fragmentation.  See documentation for Memory Management  (https://pytorch.org/docs/stable/notes/cuda.html#environment-variables)\n"
     ]
    },
    {
     "name": "stderr",
     "output_type": "stream",
     "text": [
      "Epoch 1/4 [Train]:  12%|█▏        | 16/129 [00:05<00:40,  2.81batch/s, loss=0.8462]"
     ]
    },
    {
     "name": "stdout",
     "output_type": "stream",
     "text": [
      "\n",
      "Error in training batch: CUDA out of memory. Tried to allocate 188.00 MiB. GPU 0 has a total capacity of 5.77 GiB of which 86.31 MiB is free. Including non-PyTorch memory, this process has 5.67 GiB memory in use. Of the allocated memory 4.07 GiB is allocated by PyTorch, and 1.49 GiB is reserved by PyTorch but unallocated. If reserved but unallocated memory is large try setting PYTORCH_CUDA_ALLOC_CONF=expandable_segments:True to avoid fragmentation.  See documentation for Memory Management  (https://pytorch.org/docs/stable/notes/cuda.html#environment-variables)\n"
     ]
    },
    {
     "name": "stderr",
     "output_type": "stream",
     "text": [
      "Epoch 1/4 [Train]:  13%|█▎        | 17/129 [00:05<00:39,  2.83batch/s, loss=0.8462]"
     ]
    },
    {
     "name": "stdout",
     "output_type": "stream",
     "text": [
      "\n",
      "Error in training batch: CUDA out of memory. Tried to allocate 188.00 MiB. GPU 0 has a total capacity of 5.77 GiB of which 86.31 MiB is free. Including non-PyTorch memory, this process has 5.67 GiB memory in use. Of the allocated memory 4.07 GiB is allocated by PyTorch, and 1.49 GiB is reserved by PyTorch but unallocated. If reserved but unallocated memory is large try setting PYTORCH_CUDA_ALLOC_CONF=expandable_segments:True to avoid fragmentation.  See documentation for Memory Management  (https://pytorch.org/docs/stable/notes/cuda.html#environment-variables)\n"
     ]
    },
    {
     "name": "stderr",
     "output_type": "stream",
     "text": [
      "Epoch 1/4 [Train]:  14%|█▍        | 18/129 [00:06<00:39,  2.80batch/s, loss=0.8462]"
     ]
    },
    {
     "name": "stdout",
     "output_type": "stream",
     "text": [
      "\n",
      "Error in training batch: CUDA out of memory. Tried to allocate 188.00 MiB. GPU 0 has a total capacity of 5.77 GiB of which 86.31 MiB is free. Including non-PyTorch memory, this process has 5.67 GiB memory in use. Of the allocated memory 4.07 GiB is allocated by PyTorch, and 1.49 GiB is reserved by PyTorch but unallocated. If reserved but unallocated memory is large try setting PYTORCH_CUDA_ALLOC_CONF=expandable_segments:True to avoid fragmentation.  See documentation for Memory Management  (https://pytorch.org/docs/stable/notes/cuda.html#environment-variables)\n"
     ]
    },
    {
     "name": "stderr",
     "output_type": "stream",
     "text": [
      "Epoch 1/4 [Train]:  15%|█▍        | 19/129 [00:06<00:39,  2.80batch/s, loss=0.8462]"
     ]
    },
    {
     "name": "stdout",
     "output_type": "stream",
     "text": [
      "\n",
      "Error in training batch: CUDA out of memory. Tried to allocate 188.00 MiB. GPU 0 has a total capacity of 5.77 GiB of which 86.31 MiB is free. Including non-PyTorch memory, this process has 5.67 GiB memory in use. Of the allocated memory 4.07 GiB is allocated by PyTorch, and 1.49 GiB is reserved by PyTorch but unallocated. If reserved but unallocated memory is large try setting PYTORCH_CUDA_ALLOC_CONF=expandable_segments:True to avoid fragmentation.  See documentation for Memory Management  (https://pytorch.org/docs/stable/notes/cuda.html#environment-variables)\n"
     ]
    },
    {
     "name": "stderr",
     "output_type": "stream",
     "text": [
      "Epoch 1/4 [Train]:  16%|█▌        | 20/129 [00:06<00:39,  2.77batch/s, loss=0.8462]"
     ]
    },
    {
     "name": "stdout",
     "output_type": "stream",
     "text": [
      "\n",
      "Error in training batch: CUDA out of memory. Tried to allocate 188.00 MiB. GPU 0 has a total capacity of 5.77 GiB of which 86.31 MiB is free. Including non-PyTorch memory, this process has 5.67 GiB memory in use. Of the allocated memory 4.07 GiB is allocated by PyTorch, and 1.49 GiB is reserved by PyTorch but unallocated. If reserved but unallocated memory is large try setting PYTORCH_CUDA_ALLOC_CONF=expandable_segments:True to avoid fragmentation.  See documentation for Memory Management  (https://pytorch.org/docs/stable/notes/cuda.html#environment-variables)\n"
     ]
    },
    {
     "name": "stderr",
     "output_type": "stream",
     "text": [
      "Epoch 1/4 [Train]:  16%|█▋        | 21/129 [00:07<00:39,  2.76batch/s, loss=0.8462]"
     ]
    },
    {
     "name": "stdout",
     "output_type": "stream",
     "text": [
      "\n",
      "Error in training batch: CUDA out of memory. Tried to allocate 188.00 MiB. GPU 0 has a total capacity of 5.77 GiB of which 86.31 MiB is free. Including non-PyTorch memory, this process has 5.67 GiB memory in use. Of the allocated memory 4.07 GiB is allocated by PyTorch, and 1.49 GiB is reserved by PyTorch but unallocated. If reserved but unallocated memory is large try setting PYTORCH_CUDA_ALLOC_CONF=expandable_segments:True to avoid fragmentation.  See documentation for Memory Management  (https://pytorch.org/docs/stable/notes/cuda.html#environment-variables)\n"
     ]
    },
    {
     "name": "stderr",
     "output_type": "stream",
     "text": [
      "Epoch 1/4 [Train]:  17%|█▋        | 22/129 [00:07<00:38,  2.77batch/s, loss=0.8462]"
     ]
    },
    {
     "name": "stdout",
     "output_type": "stream",
     "text": [
      "\n",
      "Error in training batch: CUDA out of memory. Tried to allocate 188.00 MiB. GPU 0 has a total capacity of 5.77 GiB of which 86.31 MiB is free. Including non-PyTorch memory, this process has 5.67 GiB memory in use. Of the allocated memory 4.07 GiB is allocated by PyTorch, and 1.49 GiB is reserved by PyTorch but unallocated. If reserved but unallocated memory is large try setting PYTORCH_CUDA_ALLOC_CONF=expandable_segments:True to avoid fragmentation.  See documentation for Memory Management  (https://pytorch.org/docs/stable/notes/cuda.html#environment-variables)\n"
     ]
    },
    {
     "name": "stderr",
     "output_type": "stream",
     "text": [
      "Epoch 1/4 [Train]:  18%|█▊        | 23/129 [00:08<00:38,  2.75batch/s, loss=0.8462]"
     ]
    },
    {
     "name": "stdout",
     "output_type": "stream",
     "text": [
      "\n",
      "Error in training batch: CUDA out of memory. Tried to allocate 188.00 MiB. GPU 0 has a total capacity of 5.77 GiB of which 86.31 MiB is free. Including non-PyTorch memory, this process has 5.67 GiB memory in use. Of the allocated memory 4.07 GiB is allocated by PyTorch, and 1.49 GiB is reserved by PyTorch but unallocated. If reserved but unallocated memory is large try setting PYTORCH_CUDA_ALLOC_CONF=expandable_segments:True to avoid fragmentation.  See documentation for Memory Management  (https://pytorch.org/docs/stable/notes/cuda.html#environment-variables)\n"
     ]
    },
    {
     "name": "stderr",
     "output_type": "stream",
     "text": [
      "Epoch 1/4 [Train]:  19%|█▊        | 24/129 [00:08<00:37,  2.78batch/s, loss=0.8462]"
     ]
    },
    {
     "name": "stdout",
     "output_type": "stream",
     "text": [
      "\n",
      "Error in training batch: CUDA out of memory. Tried to allocate 188.00 MiB. GPU 0 has a total capacity of 5.77 GiB of which 86.31 MiB is free. Including non-PyTorch memory, this process has 5.67 GiB memory in use. Of the allocated memory 4.07 GiB is allocated by PyTorch, and 1.49 GiB is reserved by PyTorch but unallocated. If reserved but unallocated memory is large try setting PYTORCH_CUDA_ALLOC_CONF=expandable_segments:True to avoid fragmentation.  See documentation for Memory Management  (https://pytorch.org/docs/stable/notes/cuda.html#environment-variables)\n"
     ]
    },
    {
     "name": "stderr",
     "output_type": "stream",
     "text": [
      "Epoch 1/4 [Train]:  19%|█▉        | 25/129 [00:08<00:37,  2.78batch/s, loss=0.8462]"
     ]
    },
    {
     "name": "stdout",
     "output_type": "stream",
     "text": [
      "\n",
      "Error in training batch: CUDA out of memory. Tried to allocate 188.00 MiB. GPU 0 has a total capacity of 5.77 GiB of which 86.31 MiB is free. Including non-PyTorch memory, this process has 5.67 GiB memory in use. Of the allocated memory 4.07 GiB is allocated by PyTorch, and 1.49 GiB is reserved by PyTorch but unallocated. If reserved but unallocated memory is large try setting PYTORCH_CUDA_ALLOC_CONF=expandable_segments:True to avoid fragmentation.  See documentation for Memory Management  (https://pytorch.org/docs/stable/notes/cuda.html#environment-variables)\n"
     ]
    },
    {
     "name": "stderr",
     "output_type": "stream",
     "text": [
      "Epoch 1/4 [Train]:  20%|██        | 26/129 [00:09<00:37,  2.76batch/s, loss=0.8462]"
     ]
    },
    {
     "name": "stdout",
     "output_type": "stream",
     "text": [
      "\n",
      "Error in training batch: CUDA out of memory. Tried to allocate 188.00 MiB. GPU 0 has a total capacity of 5.77 GiB of which 86.31 MiB is free. Including non-PyTorch memory, this process has 5.67 GiB memory in use. Of the allocated memory 4.07 GiB is allocated by PyTorch, and 1.49 GiB is reserved by PyTorch but unallocated. If reserved but unallocated memory is large try setting PYTORCH_CUDA_ALLOC_CONF=expandable_segments:True to avoid fragmentation.  See documentation for Memory Management  (https://pytorch.org/docs/stable/notes/cuda.html#environment-variables)\n"
     ]
    },
    {
     "name": "stderr",
     "output_type": "stream",
     "text": [
      "Epoch 1/4 [Train]:  21%|██        | 27/129 [00:09<00:36,  2.82batch/s, loss=0.8462]"
     ]
    },
    {
     "name": "stdout",
     "output_type": "stream",
     "text": [
      "\n",
      "Error in training batch: CUDA out of memory. Tried to allocate 188.00 MiB. GPU 0 has a total capacity of 5.77 GiB of which 86.31 MiB is free. Including non-PyTorch memory, this process has 5.67 GiB memory in use. Of the allocated memory 4.07 GiB is allocated by PyTorch, and 1.49 GiB is reserved by PyTorch but unallocated. If reserved but unallocated memory is large try setting PYTORCH_CUDA_ALLOC_CONF=expandable_segments:True to avoid fragmentation.  See documentation for Memory Management  (https://pytorch.org/docs/stable/notes/cuda.html#environment-variables)\n"
     ]
    },
    {
     "name": "stderr",
     "output_type": "stream",
     "text": [
      "Epoch 1/4 [Train]:  22%|██▏       | 28/129 [00:09<00:36,  2.79batch/s, loss=0.8462]"
     ]
    },
    {
     "name": "stdout",
     "output_type": "stream",
     "text": [
      "\n",
      "Error in training batch: CUDA out of memory. Tried to allocate 188.00 MiB. GPU 0 has a total capacity of 5.77 GiB of which 86.31 MiB is free. Including non-PyTorch memory, this process has 5.67 GiB memory in use. Of the allocated memory 4.07 GiB is allocated by PyTorch, and 1.49 GiB is reserved by PyTorch but unallocated. If reserved but unallocated memory is large try setting PYTORCH_CUDA_ALLOC_CONF=expandable_segments:True to avoid fragmentation.  See documentation for Memory Management  (https://pytorch.org/docs/stable/notes/cuda.html#environment-variables)\n"
     ]
    },
    {
     "name": "stderr",
     "output_type": "stream",
     "text": [
      "Epoch 1/4 [Train]:  22%|██▏       | 29/129 [00:10<00:35,  2.80batch/s, loss=0.8462]"
     ]
    },
    {
     "name": "stdout",
     "output_type": "stream",
     "text": [
      "\n",
      "Error in training batch: CUDA out of memory. Tried to allocate 188.00 MiB. GPU 0 has a total capacity of 5.77 GiB of which 86.31 MiB is free. Including non-PyTorch memory, this process has 5.67 GiB memory in use. Of the allocated memory 4.07 GiB is allocated by PyTorch, and 1.49 GiB is reserved by PyTorch but unallocated. If reserved but unallocated memory is large try setting PYTORCH_CUDA_ALLOC_CONF=expandable_segments:True to avoid fragmentation.  See documentation for Memory Management  (https://pytorch.org/docs/stable/notes/cuda.html#environment-variables)\n"
     ]
    },
    {
     "name": "stderr",
     "output_type": "stream",
     "text": [
      "Epoch 1/4 [Train]:  23%|██▎       | 30/129 [00:10<00:35,  2.78batch/s, loss=0.8462]"
     ]
    },
    {
     "name": "stdout",
     "output_type": "stream",
     "text": [
      "\n",
      "Error in training batch: CUDA out of memory. Tried to allocate 188.00 MiB. GPU 0 has a total capacity of 5.77 GiB of which 86.31 MiB is free. Including non-PyTorch memory, this process has 5.67 GiB memory in use. Of the allocated memory 4.07 GiB is allocated by PyTorch, and 1.49 GiB is reserved by PyTorch but unallocated. If reserved but unallocated memory is large try setting PYTORCH_CUDA_ALLOC_CONF=expandable_segments:True to avoid fragmentation.  See documentation for Memory Management  (https://pytorch.org/docs/stable/notes/cuda.html#environment-variables)\n"
     ]
    },
    {
     "name": "stderr",
     "output_type": "stream",
     "text": [
      "Epoch 1/4 [Train]:  24%|██▍       | 31/129 [00:10<00:34,  2.82batch/s, loss=0.8462]"
     ]
    },
    {
     "name": "stdout",
     "output_type": "stream",
     "text": [
      "\n",
      "Error in training batch: CUDA out of memory. Tried to allocate 188.00 MiB. GPU 0 has a total capacity of 5.77 GiB of which 86.31 MiB is free. Including non-PyTorch memory, this process has 5.67 GiB memory in use. Of the allocated memory 4.07 GiB is allocated by PyTorch, and 1.49 GiB is reserved by PyTorch but unallocated. If reserved but unallocated memory is large try setting PYTORCH_CUDA_ALLOC_CONF=expandable_segments:True to avoid fragmentation.  See documentation for Memory Management  (https://pytorch.org/docs/stable/notes/cuda.html#environment-variables)\n"
     ]
    },
    {
     "name": "stderr",
     "output_type": "stream",
     "text": [
      "Epoch 1/4 [Train]:  25%|██▍       | 32/129 [00:11<00:34,  2.83batch/s, loss=0.8462]"
     ]
    },
    {
     "name": "stdout",
     "output_type": "stream",
     "text": [
      "\n",
      "Error in training batch: CUDA out of memory. Tried to allocate 188.00 MiB. GPU 0 has a total capacity of 5.77 GiB of which 86.31 MiB is free. Including non-PyTorch memory, this process has 5.67 GiB memory in use. Of the allocated memory 4.07 GiB is allocated by PyTorch, and 1.49 GiB is reserved by PyTorch but unallocated. If reserved but unallocated memory is large try setting PYTORCH_CUDA_ALLOC_CONF=expandable_segments:True to avoid fragmentation.  See documentation for Memory Management  (https://pytorch.org/docs/stable/notes/cuda.html#environment-variables)\n"
     ]
    },
    {
     "name": "stderr",
     "output_type": "stream",
     "text": [
      "Epoch 1/4 [Train]:  26%|██▌       | 33/129 [00:11<00:34,  2.80batch/s, loss=0.8462]"
     ]
    },
    {
     "name": "stdout",
     "output_type": "stream",
     "text": [
      "\n",
      "Error in training batch: CUDA out of memory. Tried to allocate 188.00 MiB. GPU 0 has a total capacity of 5.77 GiB of which 86.31 MiB is free. Including non-PyTorch memory, this process has 5.67 GiB memory in use. Of the allocated memory 4.07 GiB is allocated by PyTorch, and 1.49 GiB is reserved by PyTorch but unallocated. If reserved but unallocated memory is large try setting PYTORCH_CUDA_ALLOC_CONF=expandable_segments:True to avoid fragmentation.  See documentation for Memory Management  (https://pytorch.org/docs/stable/notes/cuda.html#environment-variables)\n"
     ]
    },
    {
     "name": "stderr",
     "output_type": "stream",
     "text": [
      "Epoch 1/4 [Train]:  26%|██▋       | 34/129 [00:11<00:33,  2.81batch/s, loss=0.8462]"
     ]
    },
    {
     "name": "stdout",
     "output_type": "stream",
     "text": [
      "\n",
      "Error in training batch: CUDA out of memory. Tried to allocate 188.00 MiB. GPU 0 has a total capacity of 5.77 GiB of which 86.31 MiB is free. Including non-PyTorch memory, this process has 5.67 GiB memory in use. Of the allocated memory 4.07 GiB is allocated by PyTorch, and 1.49 GiB is reserved by PyTorch but unallocated. If reserved but unallocated memory is large try setting PYTORCH_CUDA_ALLOC_CONF=expandable_segments:True to avoid fragmentation.  See documentation for Memory Management  (https://pytorch.org/docs/stable/notes/cuda.html#environment-variables)\n"
     ]
    },
    {
     "name": "stderr",
     "output_type": "stream",
     "text": [
      "Epoch 1/4 [Train]:  27%|██▋       | 35/129 [00:12<00:33,  2.79batch/s, loss=0.8462]"
     ]
    },
    {
     "name": "stdout",
     "output_type": "stream",
     "text": [
      "\n",
      "Error in training batch: CUDA out of memory. Tried to allocate 188.00 MiB. GPU 0 has a total capacity of 5.77 GiB of which 86.31 MiB is free. Including non-PyTorch memory, this process has 5.67 GiB memory in use. Of the allocated memory 4.07 GiB is allocated by PyTorch, and 1.49 GiB is reserved by PyTorch but unallocated. If reserved but unallocated memory is large try setting PYTORCH_CUDA_ALLOC_CONF=expandable_segments:True to avoid fragmentation.  See documentation for Memory Management  (https://pytorch.org/docs/stable/notes/cuda.html#environment-variables)\n"
     ]
    },
    {
     "name": "stderr",
     "output_type": "stream",
     "text": [
      "Epoch 1/4 [Train]:  28%|██▊       | 36/129 [00:12<00:32,  2.82batch/s, loss=0.8462]"
     ]
    },
    {
     "name": "stdout",
     "output_type": "stream",
     "text": [
      "\n",
      "Error in training batch: CUDA out of memory. Tried to allocate 188.00 MiB. GPU 0 has a total capacity of 5.77 GiB of which 86.31 MiB is free. Including non-PyTorch memory, this process has 5.67 GiB memory in use. Of the allocated memory 4.07 GiB is allocated by PyTorch, and 1.49 GiB is reserved by PyTorch but unallocated. If reserved but unallocated memory is large try setting PYTORCH_CUDA_ALLOC_CONF=expandable_segments:True to avoid fragmentation.  See documentation for Memory Management  (https://pytorch.org/docs/stable/notes/cuda.html#environment-variables)\n"
     ]
    },
    {
     "name": "stderr",
     "output_type": "stream",
     "text": [
      "Epoch 1/4 [Train]:  29%|██▊       | 37/129 [00:13<00:32,  2.81batch/s, loss=0.8462]"
     ]
    },
    {
     "name": "stdout",
     "output_type": "stream",
     "text": [
      "\n",
      "Error in training batch: CUDA out of memory. Tried to allocate 188.00 MiB. GPU 0 has a total capacity of 5.77 GiB of which 86.31 MiB is free. Including non-PyTorch memory, this process has 5.67 GiB memory in use. Of the allocated memory 4.07 GiB is allocated by PyTorch, and 1.49 GiB is reserved by PyTorch but unallocated. If reserved but unallocated memory is large try setting PYTORCH_CUDA_ALLOC_CONF=expandable_segments:True to avoid fragmentation.  See documentation for Memory Management  (https://pytorch.org/docs/stable/notes/cuda.html#environment-variables)\n"
     ]
    },
    {
     "name": "stderr",
     "output_type": "stream",
     "text": [
      "Epoch 1/4 [Train]:  29%|██▉       | 38/129 [00:13<00:32,  2.82batch/s, loss=0.8462]"
     ]
    },
    {
     "name": "stdout",
     "output_type": "stream",
     "text": [
      "\n",
      "Error in training batch: CUDA out of memory. Tried to allocate 188.00 MiB. GPU 0 has a total capacity of 5.77 GiB of which 86.31 MiB is free. Including non-PyTorch memory, this process has 5.67 GiB memory in use. Of the allocated memory 4.07 GiB is allocated by PyTorch, and 1.49 GiB is reserved by PyTorch but unallocated. If reserved but unallocated memory is large try setting PYTORCH_CUDA_ALLOC_CONF=expandable_segments:True to avoid fragmentation.  See documentation for Memory Management  (https://pytorch.org/docs/stable/notes/cuda.html#environment-variables)\n"
     ]
    },
    {
     "name": "stderr",
     "output_type": "stream",
     "text": [
      "Epoch 1/4 [Train]:  30%|███       | 39/129 [00:13<00:32,  2.80batch/s, loss=0.8462]"
     ]
    },
    {
     "name": "stdout",
     "output_type": "stream",
     "text": [
      "\n",
      "Error in training batch: CUDA out of memory. Tried to allocate 188.00 MiB. GPU 0 has a total capacity of 5.77 GiB of which 86.31 MiB is free. Including non-PyTorch memory, this process has 5.67 GiB memory in use. Of the allocated memory 4.07 GiB is allocated by PyTorch, and 1.49 GiB is reserved by PyTorch but unallocated. If reserved but unallocated memory is large try setting PYTORCH_CUDA_ALLOC_CONF=expandable_segments:True to avoid fragmentation.  See documentation for Memory Management  (https://pytorch.org/docs/stable/notes/cuda.html#environment-variables)\n"
     ]
    },
    {
     "name": "stderr",
     "output_type": "stream",
     "text": [
      "Epoch 1/4 [Train]:  31%|███       | 40/129 [00:14<00:31,  2.81batch/s, loss=0.8462]"
     ]
    },
    {
     "name": "stdout",
     "output_type": "stream",
     "text": [
      "\n",
      "Error in training batch: CUDA out of memory. Tried to allocate 188.00 MiB. GPU 0 has a total capacity of 5.77 GiB of which 86.31 MiB is free. Including non-PyTorch memory, this process has 5.67 GiB memory in use. Of the allocated memory 4.07 GiB is allocated by PyTorch, and 1.49 GiB is reserved by PyTorch but unallocated. If reserved but unallocated memory is large try setting PYTORCH_CUDA_ALLOC_CONF=expandable_segments:True to avoid fragmentation.  See documentation for Memory Management  (https://pytorch.org/docs/stable/notes/cuda.html#environment-variables)\n"
     ]
    },
    {
     "name": "stderr",
     "output_type": "stream",
     "text": [
      "Epoch 1/4 [Train]:  32%|███▏      | 41/129 [00:14<00:31,  2.83batch/s, loss=0.8462]"
     ]
    },
    {
     "name": "stdout",
     "output_type": "stream",
     "text": [
      "\n",
      "Error in training batch: CUDA out of memory. Tried to allocate 188.00 MiB. GPU 0 has a total capacity of 5.77 GiB of which 86.31 MiB is free. Including non-PyTorch memory, this process has 5.67 GiB memory in use. Of the allocated memory 4.07 GiB is allocated by PyTorch, and 1.49 GiB is reserved by PyTorch but unallocated. If reserved but unallocated memory is large try setting PYTORCH_CUDA_ALLOC_CONF=expandable_segments:True to avoid fragmentation.  See documentation for Memory Management  (https://pytorch.org/docs/stable/notes/cuda.html#environment-variables)\n"
     ]
    },
    {
     "name": "stderr",
     "output_type": "stream",
     "text": [
      "Epoch 1/4 [Train]:  33%|███▎      | 42/129 [00:14<00:30,  2.82batch/s, loss=0.8462]"
     ]
    },
    {
     "name": "stdout",
     "output_type": "stream",
     "text": [
      "\n",
      "Error in training batch: CUDA out of memory. Tried to allocate 188.00 MiB. GPU 0 has a total capacity of 5.77 GiB of which 86.31 MiB is free. Including non-PyTorch memory, this process has 5.67 GiB memory in use. Of the allocated memory 4.07 GiB is allocated by PyTorch, and 1.49 GiB is reserved by PyTorch but unallocated. If reserved but unallocated memory is large try setting PYTORCH_CUDA_ALLOC_CONF=expandable_segments:True to avoid fragmentation.  See documentation for Memory Management  (https://pytorch.org/docs/stable/notes/cuda.html#environment-variables)\n"
     ]
    },
    {
     "name": "stderr",
     "output_type": "stream",
     "text": [
      "Epoch 1/4 [Train]:  33%|███▎      | 43/129 [00:15<00:30,  2.79batch/s, loss=0.8462]"
     ]
    },
    {
     "name": "stdout",
     "output_type": "stream",
     "text": [
      "\n",
      "Error in training batch: CUDA out of memory. Tried to allocate 188.00 MiB. GPU 0 has a total capacity of 5.77 GiB of which 86.31 MiB is free. Including non-PyTorch memory, this process has 5.67 GiB memory in use. Of the allocated memory 4.07 GiB is allocated by PyTorch, and 1.49 GiB is reserved by PyTorch but unallocated. If reserved but unallocated memory is large try setting PYTORCH_CUDA_ALLOC_CONF=expandable_segments:True to avoid fragmentation.  See documentation for Memory Management  (https://pytorch.org/docs/stable/notes/cuda.html#environment-variables)\n"
     ]
    },
    {
     "name": "stderr",
     "output_type": "stream",
     "text": [
      "Epoch 1/4 [Train]:  34%|███▍      | 44/129 [00:15<00:30,  2.80batch/s, loss=0.8462]"
     ]
    },
    {
     "name": "stdout",
     "output_type": "stream",
     "text": [
      "\n",
      "Error in training batch: CUDA out of memory. Tried to allocate 188.00 MiB. GPU 0 has a total capacity of 5.77 GiB of which 86.31 MiB is free. Including non-PyTorch memory, this process has 5.67 GiB memory in use. Of the allocated memory 4.07 GiB is allocated by PyTorch, and 1.49 GiB is reserved by PyTorch but unallocated. If reserved but unallocated memory is large try setting PYTORCH_CUDA_ALLOC_CONF=expandable_segments:True to avoid fragmentation.  See documentation for Memory Management  (https://pytorch.org/docs/stable/notes/cuda.html#environment-variables)\n"
     ]
    },
    {
     "name": "stderr",
     "output_type": "stream",
     "text": [
      "Epoch 1/4 [Train]:  35%|███▍      | 45/129 [00:15<00:29,  2.83batch/s, loss=0.8462]"
     ]
    },
    {
     "name": "stdout",
     "output_type": "stream",
     "text": [
      "\n",
      "Error in training batch: CUDA out of memory. Tried to allocate 188.00 MiB. GPU 0 has a total capacity of 5.77 GiB of which 86.31 MiB is free. Including non-PyTorch memory, this process has 5.67 GiB memory in use. Of the allocated memory 4.07 GiB is allocated by PyTorch, and 1.49 GiB is reserved by PyTorch but unallocated. If reserved but unallocated memory is large try setting PYTORCH_CUDA_ALLOC_CONF=expandable_segments:True to avoid fragmentation.  See documentation for Memory Management  (https://pytorch.org/docs/stable/notes/cuda.html#environment-variables)\n"
     ]
    },
    {
     "name": "stderr",
     "output_type": "stream",
     "text": [
      "Epoch 1/4 [Train]:  36%|███▌      | 46/129 [00:16<00:29,  2.81batch/s, loss=0.8462]"
     ]
    },
    {
     "name": "stdout",
     "output_type": "stream",
     "text": [
      "\n",
      "Error in training batch: CUDA out of memory. Tried to allocate 188.00 MiB. GPU 0 has a total capacity of 5.77 GiB of which 86.31 MiB is free. Including non-PyTorch memory, this process has 5.67 GiB memory in use. Of the allocated memory 4.07 GiB is allocated by PyTorch, and 1.49 GiB is reserved by PyTorch but unallocated. If reserved but unallocated memory is large try setting PYTORCH_CUDA_ALLOC_CONF=expandable_segments:True to avoid fragmentation.  See documentation for Memory Management  (https://pytorch.org/docs/stable/notes/cuda.html#environment-variables)\n"
     ]
    },
    {
     "name": "stderr",
     "output_type": "stream",
     "text": [
      "Epoch 1/4 [Train]:  36%|███▋      | 47/129 [00:16<00:29,  2.81batch/s, loss=0.8462]"
     ]
    },
    {
     "name": "stdout",
     "output_type": "stream",
     "text": [
      "\n",
      "Error in training batch: CUDA out of memory. Tried to allocate 188.00 MiB. GPU 0 has a total capacity of 5.77 GiB of which 86.31 MiB is free. Including non-PyTorch memory, this process has 5.67 GiB memory in use. Of the allocated memory 4.07 GiB is allocated by PyTorch, and 1.49 GiB is reserved by PyTorch but unallocated. If reserved but unallocated memory is large try setting PYTORCH_CUDA_ALLOC_CONF=expandable_segments:True to avoid fragmentation.  See documentation for Memory Management  (https://pytorch.org/docs/stable/notes/cuda.html#environment-variables)\n"
     ]
    },
    {
     "name": "stderr",
     "output_type": "stream",
     "text": [
      "Epoch 1/4 [Train]:  37%|███▋      | 48/129 [00:16<00:28,  2.83batch/s, loss=0.8462]"
     ]
    },
    {
     "name": "stdout",
     "output_type": "stream",
     "text": [
      "\n",
      "Error in training batch: CUDA out of memory. Tried to allocate 188.00 MiB. GPU 0 has a total capacity of 5.77 GiB of which 86.31 MiB is free. Including non-PyTorch memory, this process has 5.67 GiB memory in use. Of the allocated memory 4.07 GiB is allocated by PyTorch, and 1.49 GiB is reserved by PyTorch but unallocated. If reserved but unallocated memory is large try setting PYTORCH_CUDA_ALLOC_CONF=expandable_segments:True to avoid fragmentation.  See documentation for Memory Management  (https://pytorch.org/docs/stable/notes/cuda.html#environment-variables)\n"
     ]
    },
    {
     "name": "stderr",
     "output_type": "stream",
     "text": [
      "Epoch 1/4 [Train]:  38%|███▊      | 49/129 [00:17<00:28,  2.78batch/s, loss=0.8462]"
     ]
    },
    {
     "name": "stdout",
     "output_type": "stream",
     "text": [
      "\n",
      "Error in training batch: CUDA out of memory. Tried to allocate 188.00 MiB. GPU 0 has a total capacity of 5.77 GiB of which 86.31 MiB is free. Including non-PyTorch memory, this process has 5.67 GiB memory in use. Of the allocated memory 4.07 GiB is allocated by PyTorch, and 1.49 GiB is reserved by PyTorch but unallocated. If reserved but unallocated memory is large try setting PYTORCH_CUDA_ALLOC_CONF=expandable_segments:True to avoid fragmentation.  See documentation for Memory Management  (https://pytorch.org/docs/stable/notes/cuda.html#environment-variables)\n"
     ]
    },
    {
     "name": "stderr",
     "output_type": "stream",
     "text": [
      "Epoch 1/4 [Train]:  39%|███▉      | 50/129 [00:17<00:28,  2.79batch/s, loss=0.8462]"
     ]
    },
    {
     "name": "stdout",
     "output_type": "stream",
     "text": [
      "\n",
      "Error in training batch: CUDA out of memory. Tried to allocate 188.00 MiB. GPU 0 has a total capacity of 5.77 GiB of which 86.31 MiB is free. Including non-PyTorch memory, this process has 5.67 GiB memory in use. Of the allocated memory 4.07 GiB is allocated by PyTorch, and 1.49 GiB is reserved by PyTorch but unallocated. If reserved but unallocated memory is large try setting PYTORCH_CUDA_ALLOC_CONF=expandable_segments:True to avoid fragmentation.  See documentation for Memory Management  (https://pytorch.org/docs/stable/notes/cuda.html#environment-variables)\n"
     ]
    },
    {
     "name": "stderr",
     "output_type": "stream",
     "text": [
      "Epoch 1/4 [Train]:  40%|███▉      | 51/129 [00:18<00:27,  2.79batch/s, loss=0.8462]"
     ]
    },
    {
     "name": "stdout",
     "output_type": "stream",
     "text": [
      "\n",
      "Error in training batch: CUDA out of memory. Tried to allocate 188.00 MiB. GPU 0 has a total capacity of 5.77 GiB of which 86.31 MiB is free. Including non-PyTorch memory, this process has 5.67 GiB memory in use. Of the allocated memory 4.07 GiB is allocated by PyTorch, and 1.49 GiB is reserved by PyTorch but unallocated. If reserved but unallocated memory is large try setting PYTORCH_CUDA_ALLOC_CONF=expandable_segments:True to avoid fragmentation.  See documentation for Memory Management  (https://pytorch.org/docs/stable/notes/cuda.html#environment-variables)\n"
     ]
    },
    {
     "name": "stderr",
     "output_type": "stream",
     "text": [
      "Epoch 1/4 [Train]:  40%|████      | 52/129 [00:18<00:27,  2.77batch/s, loss=0.8462]"
     ]
    },
    {
     "name": "stdout",
     "output_type": "stream",
     "text": [
      "\n",
      "Error in training batch: CUDA out of memory. Tried to allocate 188.00 MiB. GPU 0 has a total capacity of 5.77 GiB of which 86.31 MiB is free. Including non-PyTorch memory, this process has 5.67 GiB memory in use. Of the allocated memory 4.07 GiB is allocated by PyTorch, and 1.49 GiB is reserved by PyTorch but unallocated. If reserved but unallocated memory is large try setting PYTORCH_CUDA_ALLOC_CONF=expandable_segments:True to avoid fragmentation.  See documentation for Memory Management  (https://pytorch.org/docs/stable/notes/cuda.html#environment-variables)\n"
     ]
    },
    {
     "name": "stderr",
     "output_type": "stream",
     "text": [
      "Epoch 1/4 [Train]:  41%|████      | 53/129 [00:18<00:27,  2.78batch/s, loss=0.8462]"
     ]
    },
    {
     "name": "stdout",
     "output_type": "stream",
     "text": [
      "\n",
      "Error in training batch: CUDA out of memory. Tried to allocate 188.00 MiB. GPU 0 has a total capacity of 5.77 GiB of which 86.31 MiB is free. Including non-PyTorch memory, this process has 5.67 GiB memory in use. Of the allocated memory 4.07 GiB is allocated by PyTorch, and 1.49 GiB is reserved by PyTorch but unallocated. If reserved but unallocated memory is large try setting PYTORCH_CUDA_ALLOC_CONF=expandable_segments:True to avoid fragmentation.  See documentation for Memory Management  (https://pytorch.org/docs/stable/notes/cuda.html#environment-variables)\n"
     ]
    },
    {
     "name": "stderr",
     "output_type": "stream",
     "text": [
      "Epoch 1/4 [Train]:  42%|████▏     | 54/129 [00:19<00:26,  2.79batch/s, loss=0.8462]"
     ]
    },
    {
     "name": "stdout",
     "output_type": "stream",
     "text": [
      "\n",
      "Error in training batch: CUDA out of memory. Tried to allocate 188.00 MiB. GPU 0 has a total capacity of 5.77 GiB of which 86.31 MiB is free. Including non-PyTorch memory, this process has 5.67 GiB memory in use. Of the allocated memory 4.07 GiB is allocated by PyTorch, and 1.49 GiB is reserved by PyTorch but unallocated. If reserved but unallocated memory is large try setting PYTORCH_CUDA_ALLOC_CONF=expandable_segments:True to avoid fragmentation.  See documentation for Memory Management  (https://pytorch.org/docs/stable/notes/cuda.html#environment-variables)\n"
     ]
    },
    {
     "name": "stderr",
     "output_type": "stream",
     "text": [
      "Epoch 1/4 [Train]:  43%|████▎     | 55/129 [00:19<00:26,  2.82batch/s, loss=0.8462]"
     ]
    },
    {
     "name": "stdout",
     "output_type": "stream",
     "text": [
      "\n",
      "Error in training batch: CUDA out of memory. Tried to allocate 188.00 MiB. GPU 0 has a total capacity of 5.77 GiB of which 86.31 MiB is free. Including non-PyTorch memory, this process has 5.67 GiB memory in use. Of the allocated memory 4.07 GiB is allocated by PyTorch, and 1.49 GiB is reserved by PyTorch but unallocated. If reserved but unallocated memory is large try setting PYTORCH_CUDA_ALLOC_CONF=expandable_segments:True to avoid fragmentation.  See documentation for Memory Management  (https://pytorch.org/docs/stable/notes/cuda.html#environment-variables)\n"
     ]
    },
    {
     "name": "stderr",
     "output_type": "stream",
     "text": [
      "Epoch 1/4 [Train]:  43%|████▎     | 56/129 [00:19<00:25,  2.82batch/s, loss=0.8462]"
     ]
    },
    {
     "name": "stdout",
     "output_type": "stream",
     "text": [
      "\n",
      "Error in training batch: CUDA out of memory. Tried to allocate 188.00 MiB. GPU 0 has a total capacity of 5.77 GiB of which 86.31 MiB is free. Including non-PyTorch memory, this process has 5.67 GiB memory in use. Of the allocated memory 4.07 GiB is allocated by PyTorch, and 1.49 GiB is reserved by PyTorch but unallocated. If reserved but unallocated memory is large try setting PYTORCH_CUDA_ALLOC_CONF=expandable_segments:True to avoid fragmentation.  See documentation for Memory Management  (https://pytorch.org/docs/stable/notes/cuda.html#environment-variables)\n"
     ]
    },
    {
     "name": "stderr",
     "output_type": "stream",
     "text": [
      "Epoch 1/4 [Train]:  44%|████▍     | 57/129 [00:20<00:25,  2.83batch/s, loss=0.8462]"
     ]
    },
    {
     "name": "stdout",
     "output_type": "stream",
     "text": [
      "\n",
      "Error in training batch: CUDA out of memory. Tried to allocate 188.00 MiB. GPU 0 has a total capacity of 5.77 GiB of which 86.31 MiB is free. Including non-PyTorch memory, this process has 5.67 GiB memory in use. Of the allocated memory 4.07 GiB is allocated by PyTorch, and 1.49 GiB is reserved by PyTorch but unallocated. If reserved but unallocated memory is large try setting PYTORCH_CUDA_ALLOC_CONF=expandable_segments:True to avoid fragmentation.  See documentation for Memory Management  (https://pytorch.org/docs/stable/notes/cuda.html#environment-variables)\n"
     ]
    },
    {
     "name": "stderr",
     "output_type": "stream",
     "text": [
      "Epoch 1/4 [Train]:  45%|████▍     | 58/129 [00:20<00:25,  2.80batch/s, loss=0.8462]"
     ]
    },
    {
     "name": "stdout",
     "output_type": "stream",
     "text": [
      "\n",
      "Error in training batch: CUDA out of memory. Tried to allocate 188.00 MiB. GPU 0 has a total capacity of 5.77 GiB of which 86.31 MiB is free. Including non-PyTorch memory, this process has 5.67 GiB memory in use. Of the allocated memory 4.07 GiB is allocated by PyTorch, and 1.49 GiB is reserved by PyTorch but unallocated. If reserved but unallocated memory is large try setting PYTORCH_CUDA_ALLOC_CONF=expandable_segments:True to avoid fragmentation.  See documentation for Memory Management  (https://pytorch.org/docs/stable/notes/cuda.html#environment-variables)\n"
     ]
    },
    {
     "name": "stderr",
     "output_type": "stream",
     "text": [
      "Epoch 1/4 [Train]:  46%|████▌     | 59/129 [00:20<00:25,  2.78batch/s, loss=0.8462]"
     ]
    },
    {
     "name": "stdout",
     "output_type": "stream",
     "text": [
      "\n",
      "Error in training batch: CUDA out of memory. Tried to allocate 188.00 MiB. GPU 0 has a total capacity of 5.77 GiB of which 86.31 MiB is free. Including non-PyTorch memory, this process has 5.67 GiB memory in use. Of the allocated memory 4.07 GiB is allocated by PyTorch, and 1.49 GiB is reserved by PyTorch but unallocated. If reserved but unallocated memory is large try setting PYTORCH_CUDA_ALLOC_CONF=expandable_segments:True to avoid fragmentation.  See documentation for Memory Management  (https://pytorch.org/docs/stable/notes/cuda.html#environment-variables)\n"
     ]
    },
    {
     "name": "stderr",
     "output_type": "stream",
     "text": [
      "Epoch 1/4 [Train]:  47%|████▋     | 60/129 [00:21<00:24,  2.78batch/s, loss=0.8462]"
     ]
    },
    {
     "name": "stdout",
     "output_type": "stream",
     "text": [
      "\n",
      "Error in training batch: CUDA out of memory. Tried to allocate 188.00 MiB. GPU 0 has a total capacity of 5.77 GiB of which 86.31 MiB is free. Including non-PyTorch memory, this process has 5.67 GiB memory in use. Of the allocated memory 4.07 GiB is allocated by PyTorch, and 1.49 GiB is reserved by PyTorch but unallocated. If reserved but unallocated memory is large try setting PYTORCH_CUDA_ALLOC_CONF=expandable_segments:True to avoid fragmentation.  See documentation for Memory Management  (https://pytorch.org/docs/stable/notes/cuda.html#environment-variables)\n"
     ]
    },
    {
     "name": "stderr",
     "output_type": "stream",
     "text": [
      "Epoch 1/4 [Train]:  47%|████▋     | 61/129 [00:21<00:24,  2.79batch/s, loss=0.8462]"
     ]
    },
    {
     "name": "stdout",
     "output_type": "stream",
     "text": [
      "\n",
      "Error in training batch: CUDA out of memory. Tried to allocate 188.00 MiB. GPU 0 has a total capacity of 5.77 GiB of which 86.31 MiB is free. Including non-PyTorch memory, this process has 5.67 GiB memory in use. Of the allocated memory 4.07 GiB is allocated by PyTorch, and 1.49 GiB is reserved by PyTorch but unallocated. If reserved but unallocated memory is large try setting PYTORCH_CUDA_ALLOC_CONF=expandable_segments:True to avoid fragmentation.  See documentation for Memory Management  (https://pytorch.org/docs/stable/notes/cuda.html#environment-variables)\n"
     ]
    },
    {
     "name": "stderr",
     "output_type": "stream",
     "text": [
      "Epoch 1/4 [Train]:  48%|████▊     | 62/129 [00:21<00:24,  2.77batch/s, loss=0.8462]"
     ]
    },
    {
     "name": "stdout",
     "output_type": "stream",
     "text": [
      "\n",
      "Error in training batch: CUDA out of memory. Tried to allocate 188.00 MiB. GPU 0 has a total capacity of 5.77 GiB of which 86.31 MiB is free. Including non-PyTorch memory, this process has 5.67 GiB memory in use. Of the allocated memory 4.07 GiB is allocated by PyTorch, and 1.49 GiB is reserved by PyTorch but unallocated. If reserved but unallocated memory is large try setting PYTORCH_CUDA_ALLOC_CONF=expandable_segments:True to avoid fragmentation.  See documentation for Memory Management  (https://pytorch.org/docs/stable/notes/cuda.html#environment-variables)\n"
     ]
    },
    {
     "name": "stderr",
     "output_type": "stream",
     "text": [
      "Epoch 1/4 [Train]:  49%|████▉     | 63/129 [00:22<00:23,  2.80batch/s, loss=0.8462]"
     ]
    },
    {
     "name": "stdout",
     "output_type": "stream",
     "text": [
      "\n",
      "Error in training batch: CUDA out of memory. Tried to allocate 188.00 MiB. GPU 0 has a total capacity of 5.77 GiB of which 86.31 MiB is free. Including non-PyTorch memory, this process has 5.67 GiB memory in use. Of the allocated memory 4.07 GiB is allocated by PyTorch, and 1.49 GiB is reserved by PyTorch but unallocated. If reserved but unallocated memory is large try setting PYTORCH_CUDA_ALLOC_CONF=expandable_segments:True to avoid fragmentation.  See documentation for Memory Management  (https://pytorch.org/docs/stable/notes/cuda.html#environment-variables)\n"
     ]
    },
    {
     "name": "stderr",
     "output_type": "stream",
     "text": [
      "Epoch 1/4 [Train]:  50%|████▉     | 64/129 [00:22<00:23,  2.82batch/s, loss=0.8462]"
     ]
    },
    {
     "name": "stdout",
     "output_type": "stream",
     "text": [
      "\n",
      "Error in training batch: CUDA out of memory. Tried to allocate 188.00 MiB. GPU 0 has a total capacity of 5.77 GiB of which 86.31 MiB is free. Including non-PyTorch memory, this process has 5.67 GiB memory in use. Of the allocated memory 4.07 GiB is allocated by PyTorch, and 1.49 GiB is reserved by PyTorch but unallocated. If reserved but unallocated memory is large try setting PYTORCH_CUDA_ALLOC_CONF=expandable_segments:True to avoid fragmentation.  See documentation for Memory Management  (https://pytorch.org/docs/stable/notes/cuda.html#environment-variables)\n"
     ]
    },
    {
     "name": "stderr",
     "output_type": "stream",
     "text": [
      "Epoch 1/4 [Train]:  50%|█████     | 65/129 [00:23<00:22,  2.80batch/s, loss=0.8462]"
     ]
    },
    {
     "name": "stdout",
     "output_type": "stream",
     "text": [
      "\n",
      "Error in training batch: CUDA out of memory. Tried to allocate 188.00 MiB. GPU 0 has a total capacity of 5.77 GiB of which 86.31 MiB is free. Including non-PyTorch memory, this process has 5.67 GiB memory in use. Of the allocated memory 4.07 GiB is allocated by PyTorch, and 1.49 GiB is reserved by PyTorch but unallocated. If reserved but unallocated memory is large try setting PYTORCH_CUDA_ALLOC_CONF=expandable_segments:True to avoid fragmentation.  See documentation for Memory Management  (https://pytorch.org/docs/stable/notes/cuda.html#environment-variables)\n"
     ]
    },
    {
     "name": "stderr",
     "output_type": "stream",
     "text": [
      "Epoch 1/4 [Train]:  51%|█████     | 66/129 [00:23<00:22,  2.81batch/s, loss=0.8462]"
     ]
    },
    {
     "name": "stdout",
     "output_type": "stream",
     "text": [
      "\n",
      "Error in training batch: CUDA out of memory. Tried to allocate 188.00 MiB. GPU 0 has a total capacity of 5.77 GiB of which 86.31 MiB is free. Including non-PyTorch memory, this process has 5.67 GiB memory in use. Of the allocated memory 4.07 GiB is allocated by PyTorch, and 1.49 GiB is reserved by PyTorch but unallocated. If reserved but unallocated memory is large try setting PYTORCH_CUDA_ALLOC_CONF=expandable_segments:True to avoid fragmentation.  See documentation for Memory Management  (https://pytorch.org/docs/stable/notes/cuda.html#environment-variables)\n"
     ]
    },
    {
     "name": "stderr",
     "output_type": "stream",
     "text": [
      "Epoch 1/4 [Train]:  52%|█████▏    | 67/129 [00:23<00:22,  2.81batch/s, loss=0.8462]"
     ]
    },
    {
     "name": "stdout",
     "output_type": "stream",
     "text": [
      "\n",
      "Error in training batch: CUDA out of memory. Tried to allocate 188.00 MiB. GPU 0 has a total capacity of 5.77 GiB of which 86.31 MiB is free. Including non-PyTorch memory, this process has 5.67 GiB memory in use. Of the allocated memory 4.07 GiB is allocated by PyTorch, and 1.49 GiB is reserved by PyTorch but unallocated. If reserved but unallocated memory is large try setting PYTORCH_CUDA_ALLOC_CONF=expandable_segments:True to avoid fragmentation.  See documentation for Memory Management  (https://pytorch.org/docs/stable/notes/cuda.html#environment-variables)\n"
     ]
    },
    {
     "name": "stderr",
     "output_type": "stream",
     "text": [
      "Epoch 1/4 [Train]:  53%|█████▎    | 68/129 [00:24<00:21,  2.79batch/s, loss=0.8462]"
     ]
    },
    {
     "name": "stdout",
     "output_type": "stream",
     "text": [
      "\n",
      "Error in training batch: CUDA out of memory. Tried to allocate 188.00 MiB. GPU 0 has a total capacity of 5.77 GiB of which 86.31 MiB is free. Including non-PyTorch memory, this process has 5.67 GiB memory in use. Of the allocated memory 4.07 GiB is allocated by PyTorch, and 1.49 GiB is reserved by PyTorch but unallocated. If reserved but unallocated memory is large try setting PYTORCH_CUDA_ALLOC_CONF=expandable_segments:True to avoid fragmentation.  See documentation for Memory Management  (https://pytorch.org/docs/stable/notes/cuda.html#environment-variables)\n"
     ]
    },
    {
     "name": "stderr",
     "output_type": "stream",
     "text": [
      "Epoch 1/4 [Train]:  53%|█████▎    | 69/129 [00:24<00:21,  2.83batch/s, loss=0.8462]"
     ]
    },
    {
     "name": "stdout",
     "output_type": "stream",
     "text": [
      "\n",
      "Error in training batch: CUDA out of memory. Tried to allocate 188.00 MiB. GPU 0 has a total capacity of 5.77 GiB of which 86.31 MiB is free. Including non-PyTorch memory, this process has 5.67 GiB memory in use. Of the allocated memory 4.07 GiB is allocated by PyTorch, and 1.49 GiB is reserved by PyTorch but unallocated. If reserved but unallocated memory is large try setting PYTORCH_CUDA_ALLOC_CONF=expandable_segments:True to avoid fragmentation.  See documentation for Memory Management  (https://pytorch.org/docs/stable/notes/cuda.html#environment-variables)\n"
     ]
    },
    {
     "name": "stderr",
     "output_type": "stream",
     "text": [
      "Epoch 1/4 [Train]:  54%|█████▍    | 70/129 [00:24<00:20,  2.82batch/s, loss=0.8462]"
     ]
    },
    {
     "name": "stdout",
     "output_type": "stream",
     "text": [
      "\n",
      "Error in training batch: CUDA out of memory. Tried to allocate 188.00 MiB. GPU 0 has a total capacity of 5.77 GiB of which 86.31 MiB is free. Including non-PyTorch memory, this process has 5.67 GiB memory in use. Of the allocated memory 4.07 GiB is allocated by PyTorch, and 1.49 GiB is reserved by PyTorch but unallocated. If reserved but unallocated memory is large try setting PYTORCH_CUDA_ALLOC_CONF=expandable_segments:True to avoid fragmentation.  See documentation for Memory Management  (https://pytorch.org/docs/stable/notes/cuda.html#environment-variables)\n"
     ]
    },
    {
     "name": "stderr",
     "output_type": "stream",
     "text": [
      "Epoch 1/4 [Train]:  55%|█████▌    | 71/129 [00:25<00:20,  2.80batch/s, loss=0.8462]"
     ]
    },
    {
     "name": "stdout",
     "output_type": "stream",
     "text": [
      "\n",
      "Error in training batch: CUDA out of memory. Tried to allocate 188.00 MiB. GPU 0 has a total capacity of 5.77 GiB of which 86.31 MiB is free. Including non-PyTorch memory, this process has 5.67 GiB memory in use. Of the allocated memory 4.07 GiB is allocated by PyTorch, and 1.49 GiB is reserved by PyTorch but unallocated. If reserved but unallocated memory is large try setting PYTORCH_CUDA_ALLOC_CONF=expandable_segments:True to avoid fragmentation.  See documentation for Memory Management  (https://pytorch.org/docs/stable/notes/cuda.html#environment-variables)\n"
     ]
    },
    {
     "name": "stderr",
     "output_type": "stream",
     "text": [
      "Epoch 1/4 [Train]:  56%|█████▌    | 72/129 [00:25<00:20,  2.77batch/s, loss=0.8462]"
     ]
    },
    {
     "name": "stdout",
     "output_type": "stream",
     "text": [
      "\n",
      "Error in training batch: CUDA out of memory. Tried to allocate 188.00 MiB. GPU 0 has a total capacity of 5.77 GiB of which 86.31 MiB is free. Including non-PyTorch memory, this process has 5.67 GiB memory in use. Of the allocated memory 4.07 GiB is allocated by PyTorch, and 1.49 GiB is reserved by PyTorch but unallocated. If reserved but unallocated memory is large try setting PYTORCH_CUDA_ALLOC_CONF=expandable_segments:True to avoid fragmentation.  See documentation for Memory Management  (https://pytorch.org/docs/stable/notes/cuda.html#environment-variables)\n"
     ]
    },
    {
     "name": "stderr",
     "output_type": "stream",
     "text": [
      "Epoch 1/4 [Train]:  57%|█████▋    | 73/129 [00:25<00:19,  2.82batch/s, loss=0.8462]"
     ]
    },
    {
     "name": "stdout",
     "output_type": "stream",
     "text": [
      "\n",
      "Error in training batch: CUDA out of memory. Tried to allocate 188.00 MiB. GPU 0 has a total capacity of 5.77 GiB of which 86.31 MiB is free. Including non-PyTorch memory, this process has 5.67 GiB memory in use. Of the allocated memory 4.07 GiB is allocated by PyTorch, and 1.49 GiB is reserved by PyTorch but unallocated. If reserved but unallocated memory is large try setting PYTORCH_CUDA_ALLOC_CONF=expandable_segments:True to avoid fragmentation.  See documentation for Memory Management  (https://pytorch.org/docs/stable/notes/cuda.html#environment-variables)\n"
     ]
    },
    {
     "name": "stderr",
     "output_type": "stream",
     "text": [
      "Epoch 1/4 [Train]:  57%|█████▋    | 74/129 [00:26<00:19,  2.81batch/s, loss=0.8462]"
     ]
    },
    {
     "name": "stdout",
     "output_type": "stream",
     "text": [
      "\n",
      "Error in training batch: CUDA out of memory. Tried to allocate 188.00 MiB. GPU 0 has a total capacity of 5.77 GiB of which 86.31 MiB is free. Including non-PyTorch memory, this process has 5.67 GiB memory in use. Of the allocated memory 4.07 GiB is allocated by PyTorch, and 1.49 GiB is reserved by PyTorch but unallocated. If reserved but unallocated memory is large try setting PYTORCH_CUDA_ALLOC_CONF=expandable_segments:True to avoid fragmentation.  See documentation for Memory Management  (https://pytorch.org/docs/stable/notes/cuda.html#environment-variables)\n"
     ]
    },
    {
     "name": "stderr",
     "output_type": "stream",
     "text": [
      "Epoch 1/4 [Train]:  58%|█████▊    | 75/129 [00:26<00:19,  2.80batch/s, loss=0.8462]"
     ]
    },
    {
     "name": "stdout",
     "output_type": "stream",
     "text": [
      "\n",
      "Error in training batch: CUDA out of memory. Tried to allocate 188.00 MiB. GPU 0 has a total capacity of 5.77 GiB of which 86.31 MiB is free. Including non-PyTorch memory, this process has 5.67 GiB memory in use. Of the allocated memory 4.07 GiB is allocated by PyTorch, and 1.49 GiB is reserved by PyTorch but unallocated. If reserved but unallocated memory is large try setting PYTORCH_CUDA_ALLOC_CONF=expandable_segments:True to avoid fragmentation.  See documentation for Memory Management  (https://pytorch.org/docs/stable/notes/cuda.html#environment-variables)\n"
     ]
    },
    {
     "name": "stderr",
     "output_type": "stream",
     "text": [
      "Epoch 1/4 [Train]:  59%|█████▉    | 76/129 [00:26<00:19,  2.78batch/s, loss=0.8462]"
     ]
    },
    {
     "name": "stdout",
     "output_type": "stream",
     "text": [
      "\n",
      "Error in training batch: CUDA out of memory. Tried to allocate 188.00 MiB. GPU 0 has a total capacity of 5.77 GiB of which 86.31 MiB is free. Including non-PyTorch memory, this process has 5.67 GiB memory in use. Of the allocated memory 4.07 GiB is allocated by PyTorch, and 1.49 GiB is reserved by PyTorch but unallocated. If reserved but unallocated memory is large try setting PYTORCH_CUDA_ALLOC_CONF=expandable_segments:True to avoid fragmentation.  See documentation for Memory Management  (https://pytorch.org/docs/stable/notes/cuda.html#environment-variables)\n"
     ]
    },
    {
     "name": "stderr",
     "output_type": "stream",
     "text": [
      "Epoch 1/4 [Train]:  60%|█████▉    | 77/129 [00:27<00:18,  2.81batch/s, loss=0.8462]"
     ]
    },
    {
     "name": "stdout",
     "output_type": "stream",
     "text": [
      "\n",
      "Error in training batch: CUDA out of memory. Tried to allocate 188.00 MiB. GPU 0 has a total capacity of 5.77 GiB of which 86.31 MiB is free. Including non-PyTorch memory, this process has 5.67 GiB memory in use. Of the allocated memory 4.07 GiB is allocated by PyTorch, and 1.49 GiB is reserved by PyTorch but unallocated. If reserved but unallocated memory is large try setting PYTORCH_CUDA_ALLOC_CONF=expandable_segments:True to avoid fragmentation.  See documentation for Memory Management  (https://pytorch.org/docs/stable/notes/cuda.html#environment-variables)\n"
     ]
    },
    {
     "name": "stderr",
     "output_type": "stream",
     "text": [
      "Epoch 1/4 [Train]:  60%|██████    | 78/129 [00:27<00:17,  2.85batch/s, loss=0.8462]"
     ]
    },
    {
     "name": "stdout",
     "output_type": "stream",
     "text": [
      "\n",
      "Error in training batch: CUDA out of memory. Tried to allocate 188.00 MiB. GPU 0 has a total capacity of 5.77 GiB of which 86.31 MiB is free. Including non-PyTorch memory, this process has 5.67 GiB memory in use. Of the allocated memory 4.07 GiB is allocated by PyTorch, and 1.49 GiB is reserved by PyTorch but unallocated. If reserved but unallocated memory is large try setting PYTORCH_CUDA_ALLOC_CONF=expandable_segments:True to avoid fragmentation.  See documentation for Memory Management  (https://pytorch.org/docs/stable/notes/cuda.html#environment-variables)\n"
     ]
    },
    {
     "name": "stderr",
     "output_type": "stream",
     "text": [
      "Epoch 1/4 [Train]:  61%|██████    | 79/129 [00:28<00:17,  2.85batch/s, loss=0.8462]"
     ]
    },
    {
     "name": "stdout",
     "output_type": "stream",
     "text": [
      "\n",
      "Error in training batch: CUDA out of memory. Tried to allocate 188.00 MiB. GPU 0 has a total capacity of 5.77 GiB of which 86.31 MiB is free. Including non-PyTorch memory, this process has 5.67 GiB memory in use. Of the allocated memory 4.07 GiB is allocated by PyTorch, and 1.49 GiB is reserved by PyTorch but unallocated. If reserved but unallocated memory is large try setting PYTORCH_CUDA_ALLOC_CONF=expandable_segments:True to avoid fragmentation.  See documentation for Memory Management  (https://pytorch.org/docs/stable/notes/cuda.html#environment-variables)\n"
     ]
    },
    {
     "name": "stderr",
     "output_type": "stream",
     "text": [
      "Epoch 1/4 [Train]:  62%|██████▏   | 80/129 [00:28<00:17,  2.80batch/s, loss=0.8462]"
     ]
    },
    {
     "name": "stdout",
     "output_type": "stream",
     "text": [
      "\n",
      "Error in training batch: CUDA out of memory. Tried to allocate 188.00 MiB. GPU 0 has a total capacity of 5.77 GiB of which 86.31 MiB is free. Including non-PyTorch memory, this process has 5.67 GiB memory in use. Of the allocated memory 4.07 GiB is allocated by PyTorch, and 1.49 GiB is reserved by PyTorch but unallocated. If reserved but unallocated memory is large try setting PYTORCH_CUDA_ALLOC_CONF=expandable_segments:True to avoid fragmentation.  See documentation for Memory Management  (https://pytorch.org/docs/stable/notes/cuda.html#environment-variables)\n"
     ]
    },
    {
     "name": "stderr",
     "output_type": "stream",
     "text": [
      "Epoch 1/4 [Train]:  63%|██████▎   | 81/129 [00:28<00:17,  2.79batch/s, loss=0.8462]"
     ]
    },
    {
     "name": "stdout",
     "output_type": "stream",
     "text": [
      "\n",
      "Error in training batch: CUDA out of memory. Tried to allocate 188.00 MiB. GPU 0 has a total capacity of 5.77 GiB of which 86.31 MiB is free. Including non-PyTorch memory, this process has 5.67 GiB memory in use. Of the allocated memory 4.07 GiB is allocated by PyTorch, and 1.49 GiB is reserved by PyTorch but unallocated. If reserved but unallocated memory is large try setting PYTORCH_CUDA_ALLOC_CONF=expandable_segments:True to avoid fragmentation.  See documentation for Memory Management  (https://pytorch.org/docs/stable/notes/cuda.html#environment-variables)\n"
     ]
    },
    {
     "name": "stderr",
     "output_type": "stream",
     "text": [
      "Epoch 1/4 [Train]:  64%|██████▎   | 82/129 [00:29<00:16,  2.83batch/s, loss=0.8462]"
     ]
    },
    {
     "name": "stdout",
     "output_type": "stream",
     "text": [
      "\n",
      "Error in training batch: CUDA out of memory. Tried to allocate 188.00 MiB. GPU 0 has a total capacity of 5.77 GiB of which 86.31 MiB is free. Including non-PyTorch memory, this process has 5.67 GiB memory in use. Of the allocated memory 4.07 GiB is allocated by PyTorch, and 1.49 GiB is reserved by PyTorch but unallocated. If reserved but unallocated memory is large try setting PYTORCH_CUDA_ALLOC_CONF=expandable_segments:True to avoid fragmentation.  See documentation for Memory Management  (https://pytorch.org/docs/stable/notes/cuda.html#environment-variables)\n"
     ]
    },
    {
     "name": "stderr",
     "output_type": "stream",
     "text": [
      "Epoch 1/4 [Train]:  64%|██████▍   | 83/129 [00:29<00:16,  2.83batch/s, loss=0.8462]"
     ]
    },
    {
     "name": "stdout",
     "output_type": "stream",
     "text": [
      "\n",
      "Error in training batch: CUDA out of memory. Tried to allocate 188.00 MiB. GPU 0 has a total capacity of 5.77 GiB of which 86.31 MiB is free. Including non-PyTorch memory, this process has 5.67 GiB memory in use. Of the allocated memory 4.07 GiB is allocated by PyTorch, and 1.49 GiB is reserved by PyTorch but unallocated. If reserved but unallocated memory is large try setting PYTORCH_CUDA_ALLOC_CONF=expandable_segments:True to avoid fragmentation.  See documentation for Memory Management  (https://pytorch.org/docs/stable/notes/cuda.html#environment-variables)\n"
     ]
    },
    {
     "name": "stderr",
     "output_type": "stream",
     "text": [
      "Epoch 1/4 [Train]:  65%|██████▌   | 84/129 [00:29<00:16,  2.80batch/s, loss=0.8462]"
     ]
    },
    {
     "name": "stdout",
     "output_type": "stream",
     "text": [
      "\n",
      "Error in training batch: CUDA out of memory. Tried to allocate 188.00 MiB. GPU 0 has a total capacity of 5.77 GiB of which 86.31 MiB is free. Including non-PyTorch memory, this process has 5.67 GiB memory in use. Of the allocated memory 4.07 GiB is allocated by PyTorch, and 1.49 GiB is reserved by PyTorch but unallocated. If reserved but unallocated memory is large try setting PYTORCH_CUDA_ALLOC_CONF=expandable_segments:True to avoid fragmentation.  See documentation for Memory Management  (https://pytorch.org/docs/stable/notes/cuda.html#environment-variables)\n"
     ]
    },
    {
     "name": "stderr",
     "output_type": "stream",
     "text": [
      "Epoch 1/4 [Train]:  66%|██████▌   | 85/129 [00:30<00:15,  2.79batch/s, loss=0.8462]"
     ]
    },
    {
     "name": "stdout",
     "output_type": "stream",
     "text": [
      "\n",
      "Error in training batch: CUDA out of memory. Tried to allocate 188.00 MiB. GPU 0 has a total capacity of 5.77 GiB of which 86.31 MiB is free. Including non-PyTorch memory, this process has 5.67 GiB memory in use. Of the allocated memory 4.07 GiB is allocated by PyTorch, and 1.49 GiB is reserved by PyTorch but unallocated. If reserved but unallocated memory is large try setting PYTORCH_CUDA_ALLOC_CONF=expandable_segments:True to avoid fragmentation.  See documentation for Memory Management  (https://pytorch.org/docs/stable/notes/cuda.html#environment-variables)\n"
     ]
    },
    {
     "name": "stderr",
     "output_type": "stream",
     "text": [
      "Epoch 1/4 [Train]:  67%|██████▋   | 86/129 [00:30<00:15,  2.77batch/s, loss=0.8462]"
     ]
    },
    {
     "name": "stdout",
     "output_type": "stream",
     "text": [
      "\n",
      "Error in training batch: CUDA out of memory. Tried to allocate 188.00 MiB. GPU 0 has a total capacity of 5.77 GiB of which 86.31 MiB is free. Including non-PyTorch memory, this process has 5.67 GiB memory in use. Of the allocated memory 4.07 GiB is allocated by PyTorch, and 1.49 GiB is reserved by PyTorch but unallocated. If reserved but unallocated memory is large try setting PYTORCH_CUDA_ALLOC_CONF=expandable_segments:True to avoid fragmentation.  See documentation for Memory Management  (https://pytorch.org/docs/stable/notes/cuda.html#environment-variables)\n"
     ]
    },
    {
     "name": "stderr",
     "output_type": "stream",
     "text": [
      "Epoch 1/4 [Train]:  67%|██████▋   | 87/129 [00:30<00:14,  2.81batch/s, loss=0.8462]"
     ]
    },
    {
     "name": "stdout",
     "output_type": "stream",
     "text": [
      "\n",
      "Error in training batch: CUDA out of memory. Tried to allocate 188.00 MiB. GPU 0 has a total capacity of 5.77 GiB of which 86.31 MiB is free. Including non-PyTorch memory, this process has 5.67 GiB memory in use. Of the allocated memory 4.07 GiB is allocated by PyTorch, and 1.49 GiB is reserved by PyTorch but unallocated. If reserved but unallocated memory is large try setting PYTORCH_CUDA_ALLOC_CONF=expandable_segments:True to avoid fragmentation.  See documentation for Memory Management  (https://pytorch.org/docs/stable/notes/cuda.html#environment-variables)\n"
     ]
    },
    {
     "name": "stderr",
     "output_type": "stream",
     "text": [
      "Epoch 1/4 [Train]:  68%|██████▊   | 88/129 [00:31<00:14,  2.81batch/s, loss=0.8462]"
     ]
    },
    {
     "name": "stdout",
     "output_type": "stream",
     "text": [
      "\n",
      "Error in training batch: CUDA out of memory. Tried to allocate 188.00 MiB. GPU 0 has a total capacity of 5.77 GiB of which 86.31 MiB is free. Including non-PyTorch memory, this process has 5.67 GiB memory in use. Of the allocated memory 4.07 GiB is allocated by PyTorch, and 1.49 GiB is reserved by PyTorch but unallocated. If reserved but unallocated memory is large try setting PYTORCH_CUDA_ALLOC_CONF=expandable_segments:True to avoid fragmentation.  See documentation for Memory Management  (https://pytorch.org/docs/stable/notes/cuda.html#environment-variables)\n"
     ]
    },
    {
     "name": "stderr",
     "output_type": "stream",
     "text": [
      "Epoch 1/4 [Train]:  69%|██████▉   | 89/129 [00:31<00:14,  2.79batch/s, loss=0.8462]"
     ]
    },
    {
     "name": "stdout",
     "output_type": "stream",
     "text": [
      "\n",
      "Error in training batch: CUDA out of memory. Tried to allocate 188.00 MiB. GPU 0 has a total capacity of 5.77 GiB of which 86.31 MiB is free. Including non-PyTorch memory, this process has 5.67 GiB memory in use. Of the allocated memory 4.07 GiB is allocated by PyTorch, and 1.49 GiB is reserved by PyTorch but unallocated. If reserved but unallocated memory is large try setting PYTORCH_CUDA_ALLOC_CONF=expandable_segments:True to avoid fragmentation.  See documentation for Memory Management  (https://pytorch.org/docs/stable/notes/cuda.html#environment-variables)\n"
     ]
    },
    {
     "name": "stderr",
     "output_type": "stream",
     "text": [
      "Epoch 1/4 [Train]:  70%|██████▉   | 90/129 [00:31<00:14,  2.78batch/s, loss=0.8462]"
     ]
    },
    {
     "name": "stdout",
     "output_type": "stream",
     "text": [
      "\n",
      "Error in training batch: CUDA out of memory. Tried to allocate 188.00 MiB. GPU 0 has a total capacity of 5.77 GiB of which 86.31 MiB is free. Including non-PyTorch memory, this process has 5.67 GiB memory in use. Of the allocated memory 4.07 GiB is allocated by PyTorch, and 1.49 GiB is reserved by PyTorch but unallocated. If reserved but unallocated memory is large try setting PYTORCH_CUDA_ALLOC_CONF=expandable_segments:True to avoid fragmentation.  See documentation for Memory Management  (https://pytorch.org/docs/stable/notes/cuda.html#environment-variables)\n"
     ]
    },
    {
     "name": "stderr",
     "output_type": "stream",
     "text": [
      "Epoch 1/4 [Train]:  71%|███████   | 91/129 [00:32<00:13,  2.77batch/s, loss=0.8462]"
     ]
    },
    {
     "name": "stdout",
     "output_type": "stream",
     "text": [
      "\n",
      "Error in training batch: CUDA out of memory. Tried to allocate 188.00 MiB. GPU 0 has a total capacity of 5.77 GiB of which 86.31 MiB is free. Including non-PyTorch memory, this process has 5.67 GiB memory in use. Of the allocated memory 4.07 GiB is allocated by PyTorch, and 1.49 GiB is reserved by PyTorch but unallocated. If reserved but unallocated memory is large try setting PYTORCH_CUDA_ALLOC_CONF=expandable_segments:True to avoid fragmentation.  See documentation for Memory Management  (https://pytorch.org/docs/stable/notes/cuda.html#environment-variables)\n"
     ]
    },
    {
     "name": "stderr",
     "output_type": "stream",
     "text": [
      "Epoch 1/4 [Train]:  71%|███████▏  | 92/129 [00:32<00:13,  2.79batch/s, loss=0.8462]"
     ]
    },
    {
     "name": "stdout",
     "output_type": "stream",
     "text": [
      "\n",
      "Error in training batch: CUDA out of memory. Tried to allocate 188.00 MiB. GPU 0 has a total capacity of 5.77 GiB of which 86.31 MiB is free. Including non-PyTorch memory, this process has 5.67 GiB memory in use. Of the allocated memory 4.07 GiB is allocated by PyTorch, and 1.49 GiB is reserved by PyTorch but unallocated. If reserved but unallocated memory is large try setting PYTORCH_CUDA_ALLOC_CONF=expandable_segments:True to avoid fragmentation.  See documentation for Memory Management  (https://pytorch.org/docs/stable/notes/cuda.html#environment-variables)\n"
     ]
    },
    {
     "name": "stderr",
     "output_type": "stream",
     "text": [
      "Epoch 1/4 [Train]:  72%|███████▏  | 93/129 [00:33<00:12,  2.78batch/s, loss=0.8462]"
     ]
    },
    {
     "name": "stdout",
     "output_type": "stream",
     "text": [
      "\n",
      "Error in training batch: CUDA out of memory. Tried to allocate 188.00 MiB. GPU 0 has a total capacity of 5.77 GiB of which 86.31 MiB is free. Including non-PyTorch memory, this process has 5.67 GiB memory in use. Of the allocated memory 4.07 GiB is allocated by PyTorch, and 1.49 GiB is reserved by PyTorch but unallocated. If reserved but unallocated memory is large try setting PYTORCH_CUDA_ALLOC_CONF=expandable_segments:True to avoid fragmentation.  See documentation for Memory Management  (https://pytorch.org/docs/stable/notes/cuda.html#environment-variables)\n"
     ]
    },
    {
     "name": "stderr",
     "output_type": "stream",
     "text": [
      "Epoch 1/4 [Train]:  73%|███████▎  | 94/129 [00:33<00:12,  2.78batch/s, loss=0.8462]"
     ]
    },
    {
     "name": "stdout",
     "output_type": "stream",
     "text": [
      "\n",
      "Error in training batch: CUDA out of memory. Tried to allocate 188.00 MiB. GPU 0 has a total capacity of 5.77 GiB of which 86.31 MiB is free. Including non-PyTorch memory, this process has 5.67 GiB memory in use. Of the allocated memory 4.07 GiB is allocated by PyTorch, and 1.49 GiB is reserved by PyTorch but unallocated. If reserved but unallocated memory is large try setting PYTORCH_CUDA_ALLOC_CONF=expandable_segments:True to avoid fragmentation.  See documentation for Memory Management  (https://pytorch.org/docs/stable/notes/cuda.html#environment-variables)\n"
     ]
    },
    {
     "name": "stderr",
     "output_type": "stream",
     "text": [
      "Epoch 1/4 [Train]:  74%|███████▎  | 95/129 [00:33<00:12,  2.78batch/s, loss=0.8462]"
     ]
    },
    {
     "name": "stdout",
     "output_type": "stream",
     "text": [
      "\n",
      "Error in training batch: CUDA out of memory. Tried to allocate 188.00 MiB. GPU 0 has a total capacity of 5.77 GiB of which 86.31 MiB is free. Including non-PyTorch memory, this process has 5.67 GiB memory in use. Of the allocated memory 4.07 GiB is allocated by PyTorch, and 1.49 GiB is reserved by PyTorch but unallocated. If reserved but unallocated memory is large try setting PYTORCH_CUDA_ALLOC_CONF=expandable_segments:True to avoid fragmentation.  See documentation for Memory Management  (https://pytorch.org/docs/stable/notes/cuda.html#environment-variables)\n"
     ]
    },
    {
     "name": "stderr",
     "output_type": "stream",
     "text": [
      "Epoch 1/4 [Train]:  74%|███████▍  | 96/129 [00:34<00:11,  2.77batch/s, loss=0.8462]"
     ]
    },
    {
     "name": "stdout",
     "output_type": "stream",
     "text": [
      "\n",
      "Error in training batch: CUDA out of memory. Tried to allocate 188.00 MiB. GPU 0 has a total capacity of 5.77 GiB of which 86.31 MiB is free. Including non-PyTorch memory, this process has 5.67 GiB memory in use. Of the allocated memory 4.07 GiB is allocated by PyTorch, and 1.49 GiB is reserved by PyTorch but unallocated. If reserved but unallocated memory is large try setting PYTORCH_CUDA_ALLOC_CONF=expandable_segments:True to avoid fragmentation.  See documentation for Memory Management  (https://pytorch.org/docs/stable/notes/cuda.html#environment-variables)\n"
     ]
    },
    {
     "name": "stderr",
     "output_type": "stream",
     "text": [
      "Epoch 1/4 [Train]:  75%|███████▌  | 97/129 [00:34<00:11,  2.81batch/s, loss=0.8462]"
     ]
    },
    {
     "name": "stdout",
     "output_type": "stream",
     "text": [
      "\n",
      "Error in training batch: CUDA out of memory. Tried to allocate 188.00 MiB. GPU 0 has a total capacity of 5.77 GiB of which 86.31 MiB is free. Including non-PyTorch memory, this process has 5.67 GiB memory in use. Of the allocated memory 4.07 GiB is allocated by PyTorch, and 1.49 GiB is reserved by PyTorch but unallocated. If reserved but unallocated memory is large try setting PYTORCH_CUDA_ALLOC_CONF=expandable_segments:True to avoid fragmentation.  See documentation for Memory Management  (https://pytorch.org/docs/stable/notes/cuda.html#environment-variables)\n"
     ]
    },
    {
     "name": "stderr",
     "output_type": "stream",
     "text": [
      "Epoch 1/4 [Train]:  76%|███████▌  | 98/129 [00:34<00:11,  2.80batch/s, loss=0.8462]"
     ]
    },
    {
     "name": "stdout",
     "output_type": "stream",
     "text": [
      "\n",
      "Error in training batch: CUDA out of memory. Tried to allocate 188.00 MiB. GPU 0 has a total capacity of 5.77 GiB of which 86.31 MiB is free. Including non-PyTorch memory, this process has 5.67 GiB memory in use. Of the allocated memory 4.07 GiB is allocated by PyTorch, and 1.49 GiB is reserved by PyTorch but unallocated. If reserved but unallocated memory is large try setting PYTORCH_CUDA_ALLOC_CONF=expandable_segments:True to avoid fragmentation.  See documentation for Memory Management  (https://pytorch.org/docs/stable/notes/cuda.html#environment-variables)\n"
     ]
    },
    {
     "name": "stderr",
     "output_type": "stream",
     "text": [
      "Epoch 1/4 [Train]:  77%|███████▋  | 99/129 [00:35<00:10,  2.78batch/s, loss=0.8462]"
     ]
    },
    {
     "name": "stdout",
     "output_type": "stream",
     "text": [
      "\n",
      "Error in training batch: CUDA out of memory. Tried to allocate 188.00 MiB. GPU 0 has a total capacity of 5.77 GiB of which 86.31 MiB is free. Including non-PyTorch memory, this process has 5.67 GiB memory in use. Of the allocated memory 4.07 GiB is allocated by PyTorch, and 1.49 GiB is reserved by PyTorch but unallocated. If reserved but unallocated memory is large try setting PYTORCH_CUDA_ALLOC_CONF=expandable_segments:True to avoid fragmentation.  See documentation for Memory Management  (https://pytorch.org/docs/stable/notes/cuda.html#environment-variables)\n"
     ]
    },
    {
     "name": "stderr",
     "output_type": "stream",
     "text": [
      "Epoch 1/4 [Train]:  78%|███████▊  | 100/129 [00:35<00:10,  2.76batch/s, loss=0.8462]"
     ]
    },
    {
     "name": "stdout",
     "output_type": "stream",
     "text": [
      "\n",
      "Error in training batch: CUDA out of memory. Tried to allocate 188.00 MiB. GPU 0 has a total capacity of 5.77 GiB of which 86.31 MiB is free. Including non-PyTorch memory, this process has 5.67 GiB memory in use. Of the allocated memory 4.07 GiB is allocated by PyTorch, and 1.49 GiB is reserved by PyTorch but unallocated. If reserved but unallocated memory is large try setting PYTORCH_CUDA_ALLOC_CONF=expandable_segments:True to avoid fragmentation.  See documentation for Memory Management  (https://pytorch.org/docs/stable/notes/cuda.html#environment-variables)\n"
     ]
    },
    {
     "name": "stderr",
     "output_type": "stream",
     "text": [
      "Epoch 1/4 [Train]:  78%|███████▊  | 101/129 [00:35<00:10,  2.76batch/s, loss=0.8462]"
     ]
    },
    {
     "name": "stdout",
     "output_type": "stream",
     "text": [
      "\n",
      "Error in training batch: CUDA out of memory. Tried to allocate 188.00 MiB. GPU 0 has a total capacity of 5.77 GiB of which 86.31 MiB is free. Including non-PyTorch memory, this process has 5.67 GiB memory in use. Of the allocated memory 4.07 GiB is allocated by PyTorch, and 1.49 GiB is reserved by PyTorch but unallocated. If reserved but unallocated memory is large try setting PYTORCH_CUDA_ALLOC_CONF=expandable_segments:True to avoid fragmentation.  See documentation for Memory Management  (https://pytorch.org/docs/stable/notes/cuda.html#environment-variables)\n"
     ]
    },
    {
     "name": "stderr",
     "output_type": "stream",
     "text": [
      "Epoch 1/4 [Train]:  79%|███████▉  | 102/129 [00:36<00:09,  2.77batch/s, loss=0.8462]"
     ]
    },
    {
     "name": "stdout",
     "output_type": "stream",
     "text": [
      "\n",
      "Error in training batch: CUDA out of memory. Tried to allocate 188.00 MiB. GPU 0 has a total capacity of 5.77 GiB of which 86.31 MiB is free. Including non-PyTorch memory, this process has 5.67 GiB memory in use. Of the allocated memory 4.07 GiB is allocated by PyTorch, and 1.49 GiB is reserved by PyTorch but unallocated. If reserved but unallocated memory is large try setting PYTORCH_CUDA_ALLOC_CONF=expandable_segments:True to avoid fragmentation.  See documentation for Memory Management  (https://pytorch.org/docs/stable/notes/cuda.html#environment-variables)\n"
     ]
    },
    {
     "name": "stderr",
     "output_type": "stream",
     "text": [
      "Epoch 1/4 [Train]:  80%|███████▉  | 103/129 [00:36<00:09,  2.76batch/s, loss=0.8462]"
     ]
    },
    {
     "name": "stdout",
     "output_type": "stream",
     "text": [
      "\n",
      "Error in training batch: CUDA out of memory. Tried to allocate 188.00 MiB. GPU 0 has a total capacity of 5.77 GiB of which 86.31 MiB is free. Including non-PyTorch memory, this process has 5.67 GiB memory in use. Of the allocated memory 4.07 GiB is allocated by PyTorch, and 1.49 GiB is reserved by PyTorch but unallocated. If reserved but unallocated memory is large try setting PYTORCH_CUDA_ALLOC_CONF=expandable_segments:True to avoid fragmentation.  See documentation for Memory Management  (https://pytorch.org/docs/stable/notes/cuda.html#environment-variables)\n"
     ]
    },
    {
     "name": "stderr",
     "output_type": "stream",
     "text": [
      "Epoch 1/4 [Train]:  81%|████████  | 104/129 [00:37<00:09,  2.77batch/s, loss=0.8462]"
     ]
    },
    {
     "name": "stdout",
     "output_type": "stream",
     "text": [
      "\n",
      "Error in training batch: CUDA out of memory. Tried to allocate 188.00 MiB. GPU 0 has a total capacity of 5.77 GiB of which 86.31 MiB is free. Including non-PyTorch memory, this process has 5.67 GiB memory in use. Of the allocated memory 4.07 GiB is allocated by PyTorch, and 1.49 GiB is reserved by PyTorch but unallocated. If reserved but unallocated memory is large try setting PYTORCH_CUDA_ALLOC_CONF=expandable_segments:True to avoid fragmentation.  See documentation for Memory Management  (https://pytorch.org/docs/stable/notes/cuda.html#environment-variables)\n"
     ]
    },
    {
     "name": "stderr",
     "output_type": "stream",
     "text": [
      "Epoch 1/4 [Train]:  81%|████████▏ | 105/129 [00:37<00:08,  2.76batch/s, loss=0.8462]"
     ]
    },
    {
     "name": "stdout",
     "output_type": "stream",
     "text": [
      "\n",
      "Error in training batch: CUDA out of memory. Tried to allocate 188.00 MiB. GPU 0 has a total capacity of 5.77 GiB of which 86.31 MiB is free. Including non-PyTorch memory, this process has 5.67 GiB memory in use. Of the allocated memory 4.07 GiB is allocated by PyTorch, and 1.49 GiB is reserved by PyTorch but unallocated. If reserved but unallocated memory is large try setting PYTORCH_CUDA_ALLOC_CONF=expandable_segments:True to avoid fragmentation.  See documentation for Memory Management  (https://pytorch.org/docs/stable/notes/cuda.html#environment-variables)\n"
     ]
    },
    {
     "name": "stderr",
     "output_type": "stream",
     "text": [
      "Epoch 1/4 [Train]:  82%|████████▏ | 106/129 [00:37<00:08,  2.80batch/s, loss=0.8462]"
     ]
    },
    {
     "name": "stdout",
     "output_type": "stream",
     "text": [
      "\n",
      "Error in training batch: CUDA out of memory. Tried to allocate 188.00 MiB. GPU 0 has a total capacity of 5.77 GiB of which 86.31 MiB is free. Including non-PyTorch memory, this process has 5.67 GiB memory in use. Of the allocated memory 4.07 GiB is allocated by PyTorch, and 1.49 GiB is reserved by PyTorch but unallocated. If reserved but unallocated memory is large try setting PYTORCH_CUDA_ALLOC_CONF=expandable_segments:True to avoid fragmentation.  See documentation for Memory Management  (https://pytorch.org/docs/stable/notes/cuda.html#environment-variables)\n"
     ]
    },
    {
     "name": "stderr",
     "output_type": "stream",
     "text": [
      "Epoch 1/4 [Train]:  83%|████████▎ | 107/129 [00:38<00:07,  2.80batch/s, loss=0.8462]"
     ]
    },
    {
     "name": "stdout",
     "output_type": "stream",
     "text": [
      "\n",
      "Error in training batch: CUDA out of memory. Tried to allocate 188.00 MiB. GPU 0 has a total capacity of 5.77 GiB of which 86.31 MiB is free. Including non-PyTorch memory, this process has 5.67 GiB memory in use. Of the allocated memory 4.07 GiB is allocated by PyTorch, and 1.49 GiB is reserved by PyTorch but unallocated. If reserved but unallocated memory is large try setting PYTORCH_CUDA_ALLOC_CONF=expandable_segments:True to avoid fragmentation.  See documentation for Memory Management  (https://pytorch.org/docs/stable/notes/cuda.html#environment-variables)\n"
     ]
    },
    {
     "name": "stderr",
     "output_type": "stream",
     "text": [
      "Epoch 1/4 [Train]:  84%|████████▎ | 108/129 [00:38<00:07,  2.78batch/s, loss=0.8462]"
     ]
    },
    {
     "name": "stdout",
     "output_type": "stream",
     "text": [
      "\n",
      "Error in training batch: CUDA out of memory. Tried to allocate 188.00 MiB. GPU 0 has a total capacity of 5.77 GiB of which 86.31 MiB is free. Including non-PyTorch memory, this process has 5.67 GiB memory in use. Of the allocated memory 4.07 GiB is allocated by PyTorch, and 1.49 GiB is reserved by PyTorch but unallocated. If reserved but unallocated memory is large try setting PYTORCH_CUDA_ALLOC_CONF=expandable_segments:True to avoid fragmentation.  See documentation for Memory Management  (https://pytorch.org/docs/stable/notes/cuda.html#environment-variables)\n"
     ]
    },
    {
     "name": "stderr",
     "output_type": "stream",
     "text": [
      "Epoch 1/4 [Train]:  84%|████████▍ | 109/129 [00:38<00:07,  2.80batch/s, loss=0.8462]"
     ]
    },
    {
     "name": "stdout",
     "output_type": "stream",
     "text": [
      "\n",
      "Error in training batch: CUDA out of memory. Tried to allocate 188.00 MiB. GPU 0 has a total capacity of 5.77 GiB of which 86.31 MiB is free. Including non-PyTorch memory, this process has 5.67 GiB memory in use. Of the allocated memory 4.07 GiB is allocated by PyTorch, and 1.49 GiB is reserved by PyTorch but unallocated. If reserved but unallocated memory is large try setting PYTORCH_CUDA_ALLOC_CONF=expandable_segments:True to avoid fragmentation.  See documentation for Memory Management  (https://pytorch.org/docs/stable/notes/cuda.html#environment-variables)\n"
     ]
    },
    {
     "name": "stderr",
     "output_type": "stream",
     "text": [
      "Epoch 1/4 [Train]:  85%|████████▌ | 110/129 [00:39<00:06,  2.78batch/s, loss=0.8462]"
     ]
    },
    {
     "name": "stdout",
     "output_type": "stream",
     "text": [
      "\n",
      "Error in training batch: CUDA out of memory. Tried to allocate 188.00 MiB. GPU 0 has a total capacity of 5.77 GiB of which 86.31 MiB is free. Including non-PyTorch memory, this process has 5.67 GiB memory in use. Of the allocated memory 4.07 GiB is allocated by PyTorch, and 1.49 GiB is reserved by PyTorch but unallocated. If reserved but unallocated memory is large try setting PYTORCH_CUDA_ALLOC_CONF=expandable_segments:True to avoid fragmentation.  See documentation for Memory Management  (https://pytorch.org/docs/stable/notes/cuda.html#environment-variables)\n"
     ]
    },
    {
     "name": "stderr",
     "output_type": "stream",
     "text": [
      "Epoch 1/4 [Train]:  86%|████████▌ | 111/129 [00:39<00:06,  2.77batch/s, loss=0.8462]"
     ]
    },
    {
     "name": "stdout",
     "output_type": "stream",
     "text": [
      "\n",
      "Error in training batch: CUDA out of memory. Tried to allocate 188.00 MiB. GPU 0 has a total capacity of 5.77 GiB of which 86.31 MiB is free. Including non-PyTorch memory, this process has 5.67 GiB memory in use. Of the allocated memory 4.07 GiB is allocated by PyTorch, and 1.49 GiB is reserved by PyTorch but unallocated. If reserved but unallocated memory is large try setting PYTORCH_CUDA_ALLOC_CONF=expandable_segments:True to avoid fragmentation.  See documentation for Memory Management  (https://pytorch.org/docs/stable/notes/cuda.html#environment-variables)\n"
     ]
    },
    {
     "name": "stderr",
     "output_type": "stream",
     "text": [
      "Epoch 1/4 [Train]:  87%|████████▋ | 112/129 [00:39<00:06,  2.81batch/s, loss=0.8462]"
     ]
    },
    {
     "name": "stdout",
     "output_type": "stream",
     "text": [
      "\n",
      "Error in training batch: CUDA out of memory. Tried to allocate 188.00 MiB. GPU 0 has a total capacity of 5.77 GiB of which 86.31 MiB is free. Including non-PyTorch memory, this process has 5.67 GiB memory in use. Of the allocated memory 4.07 GiB is allocated by PyTorch, and 1.49 GiB is reserved by PyTorch but unallocated. If reserved but unallocated memory is large try setting PYTORCH_CUDA_ALLOC_CONF=expandable_segments:True to avoid fragmentation.  See documentation for Memory Management  (https://pytorch.org/docs/stable/notes/cuda.html#environment-variables)\n"
     ]
    },
    {
     "name": "stderr",
     "output_type": "stream",
     "text": [
      "Epoch 1/4 [Train]:  88%|████████▊ | 113/129 [00:40<00:05,  2.80batch/s, loss=0.8462]"
     ]
    },
    {
     "name": "stdout",
     "output_type": "stream",
     "text": [
      "\n",
      "Error in training batch: CUDA out of memory. Tried to allocate 188.00 MiB. GPU 0 has a total capacity of 5.77 GiB of which 86.31 MiB is free. Including non-PyTorch memory, this process has 5.67 GiB memory in use. Of the allocated memory 4.07 GiB is allocated by PyTorch, and 1.49 GiB is reserved by PyTorch but unallocated. If reserved but unallocated memory is large try setting PYTORCH_CUDA_ALLOC_CONF=expandable_segments:True to avoid fragmentation.  See documentation for Memory Management  (https://pytorch.org/docs/stable/notes/cuda.html#environment-variables)\n"
     ]
    },
    {
     "name": "stderr",
     "output_type": "stream",
     "text": [
      "Epoch 1/4 [Train]:  88%|████████▊ | 114/129 [00:40<00:05,  2.78batch/s, loss=0.8462]"
     ]
    },
    {
     "name": "stdout",
     "output_type": "stream",
     "text": [
      "\n",
      "Error in training batch: CUDA out of memory. Tried to allocate 188.00 MiB. GPU 0 has a total capacity of 5.77 GiB of which 86.31 MiB is free. Including non-PyTorch memory, this process has 5.67 GiB memory in use. Of the allocated memory 4.07 GiB is allocated by PyTorch, and 1.49 GiB is reserved by PyTorch but unallocated. If reserved but unallocated memory is large try setting PYTORCH_CUDA_ALLOC_CONF=expandable_segments:True to avoid fragmentation.  See documentation for Memory Management  (https://pytorch.org/docs/stable/notes/cuda.html#environment-variables)\n"
     ]
    },
    {
     "name": "stderr",
     "output_type": "stream",
     "text": [
      "Epoch 1/4 [Train]:  89%|████████▉ | 115/129 [00:40<00:05,  2.77batch/s, loss=0.8462]"
     ]
    },
    {
     "name": "stdout",
     "output_type": "stream",
     "text": [
      "\n",
      "Error in training batch: CUDA out of memory. Tried to allocate 188.00 MiB. GPU 0 has a total capacity of 5.77 GiB of which 86.31 MiB is free. Including non-PyTorch memory, this process has 5.67 GiB memory in use. Of the allocated memory 4.07 GiB is allocated by PyTorch, and 1.49 GiB is reserved by PyTorch but unallocated. If reserved but unallocated memory is large try setting PYTORCH_CUDA_ALLOC_CONF=expandable_segments:True to avoid fragmentation.  See documentation for Memory Management  (https://pytorch.org/docs/stable/notes/cuda.html#environment-variables)\n"
     ]
    },
    {
     "name": "stderr",
     "output_type": "stream",
     "text": [
      "Epoch 1/4 [Train]:  90%|████████▉ | 116/129 [00:41<00:04,  2.79batch/s, loss=0.8462]"
     ]
    },
    {
     "name": "stdout",
     "output_type": "stream",
     "text": [
      "\n",
      "Error in training batch: CUDA out of memory. Tried to allocate 188.00 MiB. GPU 0 has a total capacity of 5.77 GiB of which 86.31 MiB is free. Including non-PyTorch memory, this process has 5.67 GiB memory in use. Of the allocated memory 4.07 GiB is allocated by PyTorch, and 1.49 GiB is reserved by PyTorch but unallocated. If reserved but unallocated memory is large try setting PYTORCH_CUDA_ALLOC_CONF=expandable_segments:True to avoid fragmentation.  See documentation for Memory Management  (https://pytorch.org/docs/stable/notes/cuda.html#environment-variables)\n"
     ]
    },
    {
     "name": "stderr",
     "output_type": "stream",
     "text": [
      "Epoch 1/4 [Train]:  91%|█████████ | 117/129 [00:41<00:04,  2.78batch/s, loss=0.8462]"
     ]
    },
    {
     "name": "stdout",
     "output_type": "stream",
     "text": [
      "\n",
      "Error in training batch: CUDA out of memory. Tried to allocate 188.00 MiB. GPU 0 has a total capacity of 5.77 GiB of which 86.31 MiB is free. Including non-PyTorch memory, this process has 5.67 GiB memory in use. Of the allocated memory 4.07 GiB is allocated by PyTorch, and 1.49 GiB is reserved by PyTorch but unallocated. If reserved but unallocated memory is large try setting PYTORCH_CUDA_ALLOC_CONF=expandable_segments:True to avoid fragmentation.  See documentation for Memory Management  (https://pytorch.org/docs/stable/notes/cuda.html#environment-variables)\n"
     ]
    },
    {
     "name": "stderr",
     "output_type": "stream",
     "text": [
      "Epoch 1/4 [Train]:  91%|█████████▏| 118/129 [00:42<00:03,  2.77batch/s, loss=0.8462]"
     ]
    },
    {
     "name": "stdout",
     "output_type": "stream",
     "text": [
      "\n",
      "Error in training batch: CUDA out of memory. Tried to allocate 188.00 MiB. GPU 0 has a total capacity of 5.77 GiB of which 86.31 MiB is free. Including non-PyTorch memory, this process has 5.67 GiB memory in use. Of the allocated memory 4.07 GiB is allocated by PyTorch, and 1.49 GiB is reserved by PyTorch but unallocated. If reserved but unallocated memory is large try setting PYTORCH_CUDA_ALLOC_CONF=expandable_segments:True to avoid fragmentation.  See documentation for Memory Management  (https://pytorch.org/docs/stable/notes/cuda.html#environment-variables)\n"
     ]
    },
    {
     "name": "stderr",
     "output_type": "stream",
     "text": [
      "Epoch 1/4 [Train]:  92%|█████████▏| 119/129 [00:42<00:03,  2.78batch/s, loss=0.8462]"
     ]
    },
    {
     "name": "stdout",
     "output_type": "stream",
     "text": [
      "\n",
      "Error in training batch: CUDA out of memory. Tried to allocate 188.00 MiB. GPU 0 has a total capacity of 5.77 GiB of which 86.31 MiB is free. Including non-PyTorch memory, this process has 5.67 GiB memory in use. Of the allocated memory 4.07 GiB is allocated by PyTorch, and 1.49 GiB is reserved by PyTorch but unallocated. If reserved but unallocated memory is large try setting PYTORCH_CUDA_ALLOC_CONF=expandable_segments:True to avoid fragmentation.  See documentation for Memory Management  (https://pytorch.org/docs/stable/notes/cuda.html#environment-variables)\n"
     ]
    },
    {
     "name": "stderr",
     "output_type": "stream",
     "text": [
      "Epoch 1/4 [Train]:  93%|█████████▎| 120/129 [00:42<00:03,  2.77batch/s, loss=0.8462]"
     ]
    },
    {
     "name": "stdout",
     "output_type": "stream",
     "text": [
      "\n",
      "Error in training batch: CUDA out of memory. Tried to allocate 188.00 MiB. GPU 0 has a total capacity of 5.77 GiB of which 86.31 MiB is free. Including non-PyTorch memory, this process has 5.67 GiB memory in use. Of the allocated memory 4.07 GiB is allocated by PyTorch, and 1.49 GiB is reserved by PyTorch but unallocated. If reserved but unallocated memory is large try setting PYTORCH_CUDA_ALLOC_CONF=expandable_segments:True to avoid fragmentation.  See documentation for Memory Management  (https://pytorch.org/docs/stable/notes/cuda.html#environment-variables)\n"
     ]
    },
    {
     "name": "stderr",
     "output_type": "stream",
     "text": [
      "Epoch 1/4 [Train]:  94%|█████████▍| 121/129 [00:43<00:02,  2.79batch/s, loss=0.8462]"
     ]
    },
    {
     "name": "stdout",
     "output_type": "stream",
     "text": [
      "\n",
      "Error in training batch: CUDA out of memory. Tried to allocate 188.00 MiB. GPU 0 has a total capacity of 5.77 GiB of which 86.31 MiB is free. Including non-PyTorch memory, this process has 5.67 GiB memory in use. Of the allocated memory 4.07 GiB is allocated by PyTorch, and 1.49 GiB is reserved by PyTorch but unallocated. If reserved but unallocated memory is large try setting PYTORCH_CUDA_ALLOC_CONF=expandable_segments:True to avoid fragmentation.  See documentation for Memory Management  (https://pytorch.org/docs/stable/notes/cuda.html#environment-variables)\n"
     ]
    },
    {
     "name": "stderr",
     "output_type": "stream",
     "text": [
      "Epoch 1/4 [Train]:  95%|█████████▍| 122/129 [00:43<00:02,  2.81batch/s, loss=0.8462]"
     ]
    },
    {
     "name": "stdout",
     "output_type": "stream",
     "text": [
      "\n",
      "Error in training batch: CUDA out of memory. Tried to allocate 188.00 MiB. GPU 0 has a total capacity of 5.77 GiB of which 86.31 MiB is free. Including non-PyTorch memory, this process has 5.67 GiB memory in use. Of the allocated memory 4.07 GiB is allocated by PyTorch, and 1.49 GiB is reserved by PyTorch but unallocated. If reserved but unallocated memory is large try setting PYTORCH_CUDA_ALLOC_CONF=expandable_segments:True to avoid fragmentation.  See documentation for Memory Management  (https://pytorch.org/docs/stable/notes/cuda.html#environment-variables)\n"
     ]
    },
    {
     "name": "stderr",
     "output_type": "stream",
     "text": [
      "Epoch 1/4 [Train]:  95%|█████████▌| 123/129 [00:43<00:02,  2.79batch/s, loss=0.8462]"
     ]
    },
    {
     "name": "stdout",
     "output_type": "stream",
     "text": [
      "\n",
      "Error in training batch: CUDA out of memory. Tried to allocate 188.00 MiB. GPU 0 has a total capacity of 5.77 GiB of which 86.31 MiB is free. Including non-PyTorch memory, this process has 5.67 GiB memory in use. Of the allocated memory 4.07 GiB is allocated by PyTorch, and 1.49 GiB is reserved by PyTorch but unallocated. If reserved but unallocated memory is large try setting PYTORCH_CUDA_ALLOC_CONF=expandable_segments:True to avoid fragmentation.  See documentation for Memory Management  (https://pytorch.org/docs/stable/notes/cuda.html#environment-variables)\n"
     ]
    },
    {
     "name": "stderr",
     "output_type": "stream",
     "text": [
      "Epoch 1/4 [Train]:  96%|█████████▌| 124/129 [00:44<00:01,  2.78batch/s, loss=0.8462]"
     ]
    },
    {
     "name": "stdout",
     "output_type": "stream",
     "text": [
      "\n",
      "Error in training batch: CUDA out of memory. Tried to allocate 188.00 MiB. GPU 0 has a total capacity of 5.77 GiB of which 86.31 MiB is free. Including non-PyTorch memory, this process has 5.67 GiB memory in use. Of the allocated memory 4.07 GiB is allocated by PyTorch, and 1.49 GiB is reserved by PyTorch but unallocated. If reserved but unallocated memory is large try setting PYTORCH_CUDA_ALLOC_CONF=expandable_segments:True to avoid fragmentation.  See documentation for Memory Management  (https://pytorch.org/docs/stable/notes/cuda.html#environment-variables)\n"
     ]
    },
    {
     "name": "stderr",
     "output_type": "stream",
     "text": [
      "Epoch 1/4 [Train]:  97%|█████████▋| 125/129 [00:44<00:01,  2.81batch/s, loss=0.8462]"
     ]
    },
    {
     "name": "stdout",
     "output_type": "stream",
     "text": [
      "\n",
      "Error in training batch: CUDA out of memory. Tried to allocate 188.00 MiB. GPU 0 has a total capacity of 5.77 GiB of which 86.31 MiB is free. Including non-PyTorch memory, this process has 5.67 GiB memory in use. Of the allocated memory 4.07 GiB is allocated by PyTorch, and 1.49 GiB is reserved by PyTorch but unallocated. If reserved but unallocated memory is large try setting PYTORCH_CUDA_ALLOC_CONF=expandable_segments:True to avoid fragmentation.  See documentation for Memory Management  (https://pytorch.org/docs/stable/notes/cuda.html#environment-variables)\n"
     ]
    },
    {
     "name": "stderr",
     "output_type": "stream",
     "text": [
      "Epoch 1/4 [Train]:  98%|█████████▊| 126/129 [00:44<00:01,  2.82batch/s, loss=0.8462]"
     ]
    },
    {
     "name": "stdout",
     "output_type": "stream",
     "text": [
      "\n",
      "Error in training batch: CUDA out of memory. Tried to allocate 188.00 MiB. GPU 0 has a total capacity of 5.77 GiB of which 86.31 MiB is free. Including non-PyTorch memory, this process has 5.67 GiB memory in use. Of the allocated memory 4.07 GiB is allocated by PyTorch, and 1.49 GiB is reserved by PyTorch but unallocated. If reserved but unallocated memory is large try setting PYTORCH_CUDA_ALLOC_CONF=expandable_segments:True to avoid fragmentation.  See documentation for Memory Management  (https://pytorch.org/docs/stable/notes/cuda.html#environment-variables)\n"
     ]
    },
    {
     "name": "stderr",
     "output_type": "stream",
     "text": [
      "Epoch 1/4 [Train]:  98%|█████████▊| 127/129 [00:45<00:00,  2.79batch/s, loss=0.8462]"
     ]
    },
    {
     "name": "stdout",
     "output_type": "stream",
     "text": [
      "\n",
      "Error in training batch: CUDA out of memory. Tried to allocate 188.00 MiB. GPU 0 has a total capacity of 5.77 GiB of which 86.31 MiB is free. Including non-PyTorch memory, this process has 5.67 GiB memory in use. Of the allocated memory 4.07 GiB is allocated by PyTorch, and 1.49 GiB is reserved by PyTorch but unallocated. If reserved but unallocated memory is large try setting PYTORCH_CUDA_ALLOC_CONF=expandable_segments:True to avoid fragmentation.  See documentation for Memory Management  (https://pytorch.org/docs/stable/notes/cuda.html#environment-variables)\n"
     ]
    },
    {
     "name": "stderr",
     "output_type": "stream",
     "text": [
      "Epoch 1/4 [Train]:  99%|█████████▉| 128/129 [00:45<00:00,  2.79batch/s, loss=0.8462]"
     ]
    },
    {
     "name": "stdout",
     "output_type": "stream",
     "text": [
      "\n",
      "Error in training batch: CUDA out of memory. Tried to allocate 188.00 MiB. GPU 0 has a total capacity of 5.77 GiB of which 86.31 MiB is free. Including non-PyTorch memory, this process has 5.67 GiB memory in use. Of the allocated memory 4.07 GiB is allocated by PyTorch, and 1.49 GiB is reserved by PyTorch but unallocated. If reserved but unallocated memory is large try setting PYTORCH_CUDA_ALLOC_CONF=expandable_segments:True to avoid fragmentation.  See documentation for Memory Management  (https://pytorch.org/docs/stable/notes/cuda.html#environment-variables)\n"
     ]
    },
    {
     "name": "stderr",
     "output_type": "stream",
     "text": [
      "Epoch 1/4 [Train]: 100%|██████████| 129/129 [00:45<00:00,  2.81batch/s, loss=0.5604]\n"
     ]
    },
    {
     "name": "stdout",
     "output_type": "stream",
     "text": [
      "Epoch 1/4 [Train] Completed - Train Loss: 0.9886 | Train Accuracy: 0.6061\n"
     ]
    },
    {
     "name": "stderr",
     "output_type": "stream",
     "text": [
      "Epoch 1/4 [Validation]: 100%|██████████| 32/32 [00:03<00:00,  8.75batch/s, loss=1.3186]\n"
     ]
    },
    {
     "name": "stdout",
     "output_type": "stream",
     "text": [
      "Epoch 1/4 [Validation] Completed - Validation Loss: 0.9828 | Validation Accuracy: 0.6074\n",
      "Validation accuracy improved (0.0000 --> 0.6074). Saving model...\n",
      "Model saved to phobert_sentiment_fold5.pth\n",
      "\n",
      "--- Epoch 2/4 ---\n"
     ]
    },
    {
     "name": "stderr",
     "output_type": "stream",
     "text": [
      "Epoch 2/4 [Train]:   2%|▏         | 2/129 [00:00<00:26,  4.74batch/s]"
     ]
    },
    {
     "name": "stdout",
     "output_type": "stream",
     "text": [
      "\n",
      "Error in training batch: CUDA out of memory. Tried to allocate 188.00 MiB. GPU 0 has a total capacity of 5.77 GiB of which 86.31 MiB is free. Including non-PyTorch memory, this process has 5.67 GiB memory in use. Of the allocated memory 4.07 GiB is allocated by PyTorch, and 1.49 GiB is reserved by PyTorch but unallocated. If reserved but unallocated memory is large try setting PYTORCH_CUDA_ALLOC_CONF=expandable_segments:True to avoid fragmentation.  See documentation for Memory Management  (https://pytorch.org/docs/stable/notes/cuda.html#environment-variables)\n",
      "\n",
      "Error in training batch: CUDA out of memory. Tried to allocate 188.00 MiB. GPU 0 has a total capacity of 5.77 GiB of which 86.31 MiB is free. Including non-PyTorch memory, this process has 5.67 GiB memory in use. Of the allocated memory 4.07 GiB is allocated by PyTorch, and 1.49 GiB is reserved by PyTorch but unallocated. If reserved but unallocated memory is large try setting PYTORCH_CUDA_ALLOC_CONF=expandable_segments:True to avoid fragmentation.  See documentation for Memory Management  (https://pytorch.org/docs/stable/notes/cuda.html#environment-variables)\n"
     ]
    },
    {
     "name": "stderr",
     "output_type": "stream",
     "text": [
      "Epoch 2/4 [Train]:   2%|▏         | 3/129 [00:00<00:34,  3.67batch/s]"
     ]
    },
    {
     "name": "stdout",
     "output_type": "stream",
     "text": [
      "\n",
      "Error in training batch: CUDA out of memory. Tried to allocate 188.00 MiB. GPU 0 has a total capacity of 5.77 GiB of which 86.31 MiB is free. Including non-PyTorch memory, this process has 5.67 GiB memory in use. Of the allocated memory 4.07 GiB is allocated by PyTorch, and 1.49 GiB is reserved by PyTorch but unallocated. If reserved but unallocated memory is large try setting PYTORCH_CUDA_ALLOC_CONF=expandable_segments:True to avoid fragmentation.  See documentation for Memory Management  (https://pytorch.org/docs/stable/notes/cuda.html#environment-variables)\n"
     ]
    },
    {
     "name": "stderr",
     "output_type": "stream",
     "text": [
      "Epoch 2/4 [Train]:   3%|▎         | 4/129 [00:01<00:38,  3.24batch/s]"
     ]
    },
    {
     "name": "stdout",
     "output_type": "stream",
     "text": [
      "\n",
      "Error in training batch: CUDA out of memory. Tried to allocate 188.00 MiB. GPU 0 has a total capacity of 5.77 GiB of which 86.31 MiB is free. Including non-PyTorch memory, this process has 5.67 GiB memory in use. Of the allocated memory 4.07 GiB is allocated by PyTorch, and 1.49 GiB is reserved by PyTorch but unallocated. If reserved but unallocated memory is large try setting PYTORCH_CUDA_ALLOC_CONF=expandable_segments:True to avoid fragmentation.  See documentation for Memory Management  (https://pytorch.org/docs/stable/notes/cuda.html#environment-variables)\n"
     ]
    },
    {
     "name": "stderr",
     "output_type": "stream",
     "text": [
      "Epoch 2/4 [Train]:   4%|▍         | 5/129 [00:01<00:40,  3.05batch/s]"
     ]
    },
    {
     "name": "stdout",
     "output_type": "stream",
     "text": [
      "\n",
      "Error in training batch: CUDA out of memory. Tried to allocate 188.00 MiB. GPU 0 has a total capacity of 5.77 GiB of which 86.31 MiB is free. Including non-PyTorch memory, this process has 5.67 GiB memory in use. Of the allocated memory 4.07 GiB is allocated by PyTorch, and 1.49 GiB is reserved by PyTorch but unallocated. If reserved but unallocated memory is large try setting PYTORCH_CUDA_ALLOC_CONF=expandable_segments:True to avoid fragmentation.  See documentation for Memory Management  (https://pytorch.org/docs/stable/notes/cuda.html#environment-variables)\n"
     ]
    },
    {
     "name": "stderr",
     "output_type": "stream",
     "text": [
      "Epoch 2/4 [Train]:   5%|▍         | 6/129 [00:01<00:41,  2.97batch/s]"
     ]
    },
    {
     "name": "stdout",
     "output_type": "stream",
     "text": [
      "\n",
      "Error in training batch: CUDA out of memory. Tried to allocate 188.00 MiB. GPU 0 has a total capacity of 5.77 GiB of which 86.31 MiB is free. Including non-PyTorch memory, this process has 5.67 GiB memory in use. Of the allocated memory 4.07 GiB is allocated by PyTorch, and 1.49 GiB is reserved by PyTorch but unallocated. If reserved but unallocated memory is large try setting PYTORCH_CUDA_ALLOC_CONF=expandable_segments:True to avoid fragmentation.  See documentation for Memory Management  (https://pytorch.org/docs/stable/notes/cuda.html#environment-variables)\n"
     ]
    },
    {
     "name": "stderr",
     "output_type": "stream",
     "text": [
      "Epoch 2/4 [Train]:   5%|▌         | 7/129 [00:02<00:42,  2.90batch/s]"
     ]
    },
    {
     "name": "stdout",
     "output_type": "stream",
     "text": [
      "\n",
      "Error in training batch: CUDA out of memory. Tried to allocate 188.00 MiB. GPU 0 has a total capacity of 5.77 GiB of which 86.31 MiB is free. Including non-PyTorch memory, this process has 5.67 GiB memory in use. Of the allocated memory 4.07 GiB is allocated by PyTorch, and 1.49 GiB is reserved by PyTorch but unallocated. If reserved but unallocated memory is large try setting PYTORCH_CUDA_ALLOC_CONF=expandable_segments:True to avoid fragmentation.  See documentation for Memory Management  (https://pytorch.org/docs/stable/notes/cuda.html#environment-variables)\n"
     ]
    },
    {
     "name": "stderr",
     "output_type": "stream",
     "text": [
      "Epoch 2/4 [Train]:   6%|▌         | 8/129 [00:02<00:41,  2.88batch/s]"
     ]
    },
    {
     "name": "stdout",
     "output_type": "stream",
     "text": [
      "\n",
      "Error in training batch: CUDA out of memory. Tried to allocate 188.00 MiB. GPU 0 has a total capacity of 5.77 GiB of which 86.31 MiB is free. Including non-PyTorch memory, this process has 5.67 GiB memory in use. Of the allocated memory 4.07 GiB is allocated by PyTorch, and 1.49 GiB is reserved by PyTorch but unallocated. If reserved but unallocated memory is large try setting PYTORCH_CUDA_ALLOC_CONF=expandable_segments:True to avoid fragmentation.  See documentation for Memory Management  (https://pytorch.org/docs/stable/notes/cuda.html#environment-variables)\n"
     ]
    },
    {
     "name": "stderr",
     "output_type": "stream",
     "text": [
      "Epoch 2/4 [Train]:   7%|▋         | 9/129 [00:02<00:41,  2.86batch/s]"
     ]
    },
    {
     "name": "stdout",
     "output_type": "stream",
     "text": [
      "\n",
      "Error in training batch: CUDA out of memory. Tried to allocate 188.00 MiB. GPU 0 has a total capacity of 5.77 GiB of which 86.31 MiB is free. Including non-PyTorch memory, this process has 5.67 GiB memory in use. Of the allocated memory 4.07 GiB is allocated by PyTorch, and 1.49 GiB is reserved by PyTorch but unallocated. If reserved but unallocated memory is large try setting PYTORCH_CUDA_ALLOC_CONF=expandable_segments:True to avoid fragmentation.  See documentation for Memory Management  (https://pytorch.org/docs/stable/notes/cuda.html#environment-variables)\n"
     ]
    },
    {
     "name": "stderr",
     "output_type": "stream",
     "text": [
      "Epoch 2/4 [Train]:   8%|▊         | 10/129 [00:03<00:42,  2.82batch/s]"
     ]
    },
    {
     "name": "stdout",
     "output_type": "stream",
     "text": [
      "\n",
      "Error in training batch: CUDA out of memory. Tried to allocate 188.00 MiB. GPU 0 has a total capacity of 5.77 GiB of which 86.31 MiB is free. Including non-PyTorch memory, this process has 5.67 GiB memory in use. Of the allocated memory 4.07 GiB is allocated by PyTorch, and 1.49 GiB is reserved by PyTorch but unallocated. If reserved but unallocated memory is large try setting PYTORCH_CUDA_ALLOC_CONF=expandable_segments:True to avoid fragmentation.  See documentation for Memory Management  (https://pytorch.org/docs/stable/notes/cuda.html#environment-variables)\n"
     ]
    },
    {
     "name": "stderr",
     "output_type": "stream",
     "text": [
      "Epoch 2/4 [Train]:   9%|▊         | 11/129 [00:03<00:41,  2.82batch/s]"
     ]
    },
    {
     "name": "stdout",
     "output_type": "stream",
     "text": [
      "\n",
      "Error in training batch: CUDA out of memory. Tried to allocate 188.00 MiB. GPU 0 has a total capacity of 5.77 GiB of which 86.31 MiB is free. Including non-PyTorch memory, this process has 5.67 GiB memory in use. Of the allocated memory 4.07 GiB is allocated by PyTorch, and 1.49 GiB is reserved by PyTorch but unallocated. If reserved but unallocated memory is large try setting PYTORCH_CUDA_ALLOC_CONF=expandable_segments:True to avoid fragmentation.  See documentation for Memory Management  (https://pytorch.org/docs/stable/notes/cuda.html#environment-variables)\n"
     ]
    },
    {
     "name": "stderr",
     "output_type": "stream",
     "text": [
      "Epoch 2/4 [Train]:   9%|▉         | 12/129 [00:04<00:41,  2.80batch/s]"
     ]
    },
    {
     "name": "stdout",
     "output_type": "stream",
     "text": [
      "\n",
      "Error in training batch: CUDA out of memory. Tried to allocate 188.00 MiB. GPU 0 has a total capacity of 5.77 GiB of which 86.31 MiB is free. Including non-PyTorch memory, this process has 5.67 GiB memory in use. Of the allocated memory 4.07 GiB is allocated by PyTorch, and 1.49 GiB is reserved by PyTorch but unallocated. If reserved but unallocated memory is large try setting PYTORCH_CUDA_ALLOC_CONF=expandable_segments:True to avoid fragmentation.  See documentation for Memory Management  (https://pytorch.org/docs/stable/notes/cuda.html#environment-variables)\n"
     ]
    },
    {
     "name": "stderr",
     "output_type": "stream",
     "text": [
      "Epoch 2/4 [Train]:  10%|█         | 13/129 [00:04<00:41,  2.79batch/s]"
     ]
    },
    {
     "name": "stdout",
     "output_type": "stream",
     "text": [
      "\n",
      "Error in training batch: CUDA out of memory. Tried to allocate 188.00 MiB. GPU 0 has a total capacity of 5.77 GiB of which 86.31 MiB is free. Including non-PyTorch memory, this process has 5.67 GiB memory in use. Of the allocated memory 4.07 GiB is allocated by PyTorch, and 1.49 GiB is reserved by PyTorch but unallocated. If reserved but unallocated memory is large try setting PYTORCH_CUDA_ALLOC_CONF=expandable_segments:True to avoid fragmentation.  See documentation for Memory Management  (https://pytorch.org/docs/stable/notes/cuda.html#environment-variables)\n"
     ]
    },
    {
     "name": "stderr",
     "output_type": "stream",
     "text": [
      "Epoch 2/4 [Train]:  11%|█         | 14/129 [00:04<00:41,  2.78batch/s]"
     ]
    },
    {
     "name": "stdout",
     "output_type": "stream",
     "text": [
      "\n",
      "Error in training batch: CUDA out of memory. Tried to allocate 188.00 MiB. GPU 0 has a total capacity of 5.77 GiB of which 86.31 MiB is free. Including non-PyTorch memory, this process has 5.67 GiB memory in use. Of the allocated memory 4.07 GiB is allocated by PyTorch, and 1.49 GiB is reserved by PyTorch but unallocated. If reserved but unallocated memory is large try setting PYTORCH_CUDA_ALLOC_CONF=expandable_segments:True to avoid fragmentation.  See documentation for Memory Management  (https://pytorch.org/docs/stable/notes/cuda.html#environment-variables)\n"
     ]
    },
    {
     "name": "stderr",
     "output_type": "stream",
     "text": [
      "Epoch 2/4 [Train]:  12%|█▏        | 15/129 [00:05<00:40,  2.79batch/s]"
     ]
    },
    {
     "name": "stdout",
     "output_type": "stream",
     "text": [
      "\n",
      "Error in training batch: CUDA out of memory. Tried to allocate 188.00 MiB. GPU 0 has a total capacity of 5.77 GiB of which 86.31 MiB is free. Including non-PyTorch memory, this process has 5.67 GiB memory in use. Of the allocated memory 4.07 GiB is allocated by PyTorch, and 1.49 GiB is reserved by PyTorch but unallocated. If reserved but unallocated memory is large try setting PYTORCH_CUDA_ALLOC_CONF=expandable_segments:True to avoid fragmentation.  See documentation for Memory Management  (https://pytorch.org/docs/stable/notes/cuda.html#environment-variables)\n"
     ]
    },
    {
     "name": "stderr",
     "output_type": "stream",
     "text": [
      "Epoch 2/4 [Train]:  12%|█▏        | 16/129 [00:05<00:40,  2.76batch/s]"
     ]
    },
    {
     "name": "stdout",
     "output_type": "stream",
     "text": [
      "\n",
      "Error in training batch: CUDA out of memory. Tried to allocate 188.00 MiB. GPU 0 has a total capacity of 5.77 GiB of which 86.31 MiB is free. Including non-PyTorch memory, this process has 5.67 GiB memory in use. Of the allocated memory 4.07 GiB is allocated by PyTorch, and 1.49 GiB is reserved by PyTorch but unallocated. If reserved but unallocated memory is large try setting PYTORCH_CUDA_ALLOC_CONF=expandable_segments:True to avoid fragmentation.  See documentation for Memory Management  (https://pytorch.org/docs/stable/notes/cuda.html#environment-variables)\n"
     ]
    },
    {
     "name": "stderr",
     "output_type": "stream",
     "text": [
      "Epoch 2/4 [Train]:  13%|█▎        | 17/129 [00:05<00:40,  2.77batch/s]"
     ]
    },
    {
     "name": "stdout",
     "output_type": "stream",
     "text": [
      "\n",
      "Error in training batch: CUDA out of memory. Tried to allocate 188.00 MiB. GPU 0 has a total capacity of 5.77 GiB of which 86.31 MiB is free. Including non-PyTorch memory, this process has 5.67 GiB memory in use. Of the allocated memory 4.07 GiB is allocated by PyTorch, and 1.49 GiB is reserved by PyTorch but unallocated. If reserved but unallocated memory is large try setting PYTORCH_CUDA_ALLOC_CONF=expandable_segments:True to avoid fragmentation.  See documentation for Memory Management  (https://pytorch.org/docs/stable/notes/cuda.html#environment-variables)\n"
     ]
    },
    {
     "name": "stderr",
     "output_type": "stream",
     "text": [
      "Epoch 2/4 [Train]:  14%|█▍        | 18/129 [00:06<00:39,  2.80batch/s]"
     ]
    },
    {
     "name": "stdout",
     "output_type": "stream",
     "text": [
      "\n",
      "Error in training batch: CUDA out of memory. Tried to allocate 188.00 MiB. GPU 0 has a total capacity of 5.77 GiB of which 86.31 MiB is free. Including non-PyTorch memory, this process has 5.67 GiB memory in use. Of the allocated memory 4.07 GiB is allocated by PyTorch, and 1.49 GiB is reserved by PyTorch but unallocated. If reserved but unallocated memory is large try setting PYTORCH_CUDA_ALLOC_CONF=expandable_segments:True to avoid fragmentation.  See documentation for Memory Management  (https://pytorch.org/docs/stable/notes/cuda.html#environment-variables)\n"
     ]
    },
    {
     "name": "stderr",
     "output_type": "stream",
     "text": [
      "Epoch 2/4 [Train]:  15%|█▍        | 19/129 [00:06<00:39,  2.78batch/s]"
     ]
    },
    {
     "name": "stdout",
     "output_type": "stream",
     "text": [
      "\n",
      "Error in training batch: CUDA out of memory. Tried to allocate 188.00 MiB. GPU 0 has a total capacity of 5.77 GiB of which 86.31 MiB is free. Including non-PyTorch memory, this process has 5.67 GiB memory in use. Of the allocated memory 4.07 GiB is allocated by PyTorch, and 1.49 GiB is reserved by PyTorch but unallocated. If reserved but unallocated memory is large try setting PYTORCH_CUDA_ALLOC_CONF=expandable_segments:True to avoid fragmentation.  See documentation for Memory Management  (https://pytorch.org/docs/stable/notes/cuda.html#environment-variables)\n"
     ]
    },
    {
     "name": "stderr",
     "output_type": "stream",
     "text": [
      "Epoch 2/4 [Train]:  16%|█▌        | 20/129 [00:06<00:38,  2.82batch/s]"
     ]
    },
    {
     "name": "stdout",
     "output_type": "stream",
     "text": [
      "\n",
      "Error in training batch: CUDA out of memory. Tried to allocate 188.00 MiB. GPU 0 has a total capacity of 5.77 GiB of which 86.31 MiB is free. Including non-PyTorch memory, this process has 5.67 GiB memory in use. Of the allocated memory 4.07 GiB is allocated by PyTorch, and 1.49 GiB is reserved by PyTorch but unallocated. If reserved but unallocated memory is large try setting PYTORCH_CUDA_ALLOC_CONF=expandable_segments:True to avoid fragmentation.  See documentation for Memory Management  (https://pytorch.org/docs/stable/notes/cuda.html#environment-variables)\n"
     ]
    },
    {
     "name": "stderr",
     "output_type": "stream",
     "text": [
      "Epoch 2/4 [Train]:  16%|█▋        | 21/129 [00:07<00:38,  2.79batch/s]"
     ]
    },
    {
     "name": "stdout",
     "output_type": "stream",
     "text": [
      "\n",
      "Error in training batch: CUDA out of memory. Tried to allocate 188.00 MiB. GPU 0 has a total capacity of 5.77 GiB of which 86.31 MiB is free. Including non-PyTorch memory, this process has 5.67 GiB memory in use. Of the allocated memory 4.07 GiB is allocated by PyTorch, and 1.49 GiB is reserved by PyTorch but unallocated. If reserved but unallocated memory is large try setting PYTORCH_CUDA_ALLOC_CONF=expandable_segments:True to avoid fragmentation.  See documentation for Memory Management  (https://pytorch.org/docs/stable/notes/cuda.html#environment-variables)\n"
     ]
    },
    {
     "name": "stderr",
     "output_type": "stream",
     "text": [
      "Epoch 2/4 [Train]:  17%|█▋        | 22/129 [00:07<00:38,  2.77batch/s]"
     ]
    },
    {
     "name": "stdout",
     "output_type": "stream",
     "text": [
      "\n",
      "Error in training batch: CUDA out of memory. Tried to allocate 188.00 MiB. GPU 0 has a total capacity of 5.77 GiB of which 86.31 MiB is free. Including non-PyTorch memory, this process has 5.67 GiB memory in use. Of the allocated memory 4.07 GiB is allocated by PyTorch, and 1.49 GiB is reserved by PyTorch but unallocated. If reserved but unallocated memory is large try setting PYTORCH_CUDA_ALLOC_CONF=expandable_segments:True to avoid fragmentation.  See documentation for Memory Management  (https://pytorch.org/docs/stable/notes/cuda.html#environment-variables)\n"
     ]
    },
    {
     "name": "stderr",
     "output_type": "stream",
     "text": [
      "Epoch 2/4 [Train]:  18%|█▊        | 23/129 [00:07<00:37,  2.79batch/s]"
     ]
    },
    {
     "name": "stdout",
     "output_type": "stream",
     "text": [
      "\n",
      "Error in training batch: CUDA out of memory. Tried to allocate 188.00 MiB. GPU 0 has a total capacity of 5.77 GiB of which 86.31 MiB is free. Including non-PyTorch memory, this process has 5.67 GiB memory in use. Of the allocated memory 4.07 GiB is allocated by PyTorch, and 1.49 GiB is reserved by PyTorch but unallocated. If reserved but unallocated memory is large try setting PYTORCH_CUDA_ALLOC_CONF=expandable_segments:True to avoid fragmentation.  See documentation for Memory Management  (https://pytorch.org/docs/stable/notes/cuda.html#environment-variables)\n"
     ]
    },
    {
     "name": "stderr",
     "output_type": "stream",
     "text": [
      "Epoch 2/4 [Train]:  19%|█▊        | 24/129 [00:08<00:37,  2.80batch/s]"
     ]
    },
    {
     "name": "stdout",
     "output_type": "stream",
     "text": [
      "\n",
      "Error in training batch: CUDA out of memory. Tried to allocate 188.00 MiB. GPU 0 has a total capacity of 5.77 GiB of which 86.31 MiB is free. Including non-PyTorch memory, this process has 5.67 GiB memory in use. Of the allocated memory 4.07 GiB is allocated by PyTorch, and 1.49 GiB is reserved by PyTorch but unallocated. If reserved but unallocated memory is large try setting PYTORCH_CUDA_ALLOC_CONF=expandable_segments:True to avoid fragmentation.  See documentation for Memory Management  (https://pytorch.org/docs/stable/notes/cuda.html#environment-variables)\n"
     ]
    },
    {
     "name": "stderr",
     "output_type": "stream",
     "text": [
      "Epoch 2/4 [Train]:  19%|█▉        | 25/129 [00:08<00:37,  2.78batch/s]"
     ]
    },
    {
     "name": "stdout",
     "output_type": "stream",
     "text": [
      "\n",
      "Error in training batch: CUDA out of memory. Tried to allocate 188.00 MiB. GPU 0 has a total capacity of 5.77 GiB of which 86.31 MiB is free. Including non-PyTorch memory, this process has 5.67 GiB memory in use. Of the allocated memory 4.07 GiB is allocated by PyTorch, and 1.49 GiB is reserved by PyTorch but unallocated. If reserved but unallocated memory is large try setting PYTORCH_CUDA_ALLOC_CONF=expandable_segments:True to avoid fragmentation.  See documentation for Memory Management  (https://pytorch.org/docs/stable/notes/cuda.html#environment-variables)\n"
     ]
    },
    {
     "name": "stderr",
     "output_type": "stream",
     "text": [
      "Epoch 2/4 [Train]:  20%|██        | 26/129 [00:09<00:37,  2.77batch/s]"
     ]
    },
    {
     "name": "stdout",
     "output_type": "stream",
     "text": [
      "\n",
      "Error in training batch: CUDA out of memory. Tried to allocate 188.00 MiB. GPU 0 has a total capacity of 5.77 GiB of which 86.31 MiB is free. Including non-PyTorch memory, this process has 5.67 GiB memory in use. Of the allocated memory 4.07 GiB is allocated by PyTorch, and 1.49 GiB is reserved by PyTorch but unallocated. If reserved but unallocated memory is large try setting PYTORCH_CUDA_ALLOC_CONF=expandable_segments:True to avoid fragmentation.  See documentation for Memory Management  (https://pytorch.org/docs/stable/notes/cuda.html#environment-variables)\n"
     ]
    },
    {
     "name": "stderr",
     "output_type": "stream",
     "text": [
      "Epoch 2/4 [Train]:  21%|██        | 27/129 [00:09<00:36,  2.80batch/s]"
     ]
    },
    {
     "name": "stdout",
     "output_type": "stream",
     "text": [
      "\n",
      "Error in training batch: CUDA out of memory. Tried to allocate 188.00 MiB. GPU 0 has a total capacity of 5.77 GiB of which 86.31 MiB is free. Including non-PyTorch memory, this process has 5.67 GiB memory in use. Of the allocated memory 4.07 GiB is allocated by PyTorch, and 1.49 GiB is reserved by PyTorch but unallocated. If reserved but unallocated memory is large try setting PYTORCH_CUDA_ALLOC_CONF=expandable_segments:True to avoid fragmentation.  See documentation for Memory Management  (https://pytorch.org/docs/stable/notes/cuda.html#environment-variables)\n"
     ]
    },
    {
     "name": "stderr",
     "output_type": "stream",
     "text": [
      "Epoch 2/4 [Train]:  22%|██▏       | 28/129 [00:09<00:36,  2.79batch/s]"
     ]
    },
    {
     "name": "stdout",
     "output_type": "stream",
     "text": [
      "\n",
      "Error in training batch: CUDA out of memory. Tried to allocate 188.00 MiB. GPU 0 has a total capacity of 5.77 GiB of which 86.31 MiB is free. Including non-PyTorch memory, this process has 5.67 GiB memory in use. Of the allocated memory 4.07 GiB is allocated by PyTorch, and 1.49 GiB is reserved by PyTorch but unallocated. If reserved but unallocated memory is large try setting PYTORCH_CUDA_ALLOC_CONF=expandable_segments:True to avoid fragmentation.  See documentation for Memory Management  (https://pytorch.org/docs/stable/notes/cuda.html#environment-variables)\n"
     ]
    },
    {
     "name": "stderr",
     "output_type": "stream",
     "text": [
      "Epoch 2/4 [Train]:  22%|██▏       | 29/129 [00:10<00:35,  2.79batch/s]"
     ]
    },
    {
     "name": "stdout",
     "output_type": "stream",
     "text": [
      "\n",
      "Error in training batch: CUDA out of memory. Tried to allocate 188.00 MiB. GPU 0 has a total capacity of 5.77 GiB of which 86.31 MiB is free. Including non-PyTorch memory, this process has 5.67 GiB memory in use. Of the allocated memory 4.07 GiB is allocated by PyTorch, and 1.49 GiB is reserved by PyTorch but unallocated. If reserved but unallocated memory is large try setting PYTORCH_CUDA_ALLOC_CONF=expandable_segments:True to avoid fragmentation.  See documentation for Memory Management  (https://pytorch.org/docs/stable/notes/cuda.html#environment-variables)\n"
     ]
    },
    {
     "name": "stderr",
     "output_type": "stream",
     "text": [
      "Epoch 2/4 [Train]:  23%|██▎       | 30/129 [00:10<00:35,  2.78batch/s]"
     ]
    },
    {
     "name": "stdout",
     "output_type": "stream",
     "text": [
      "\n",
      "Error in training batch: CUDA out of memory. Tried to allocate 188.00 MiB. GPU 0 has a total capacity of 5.77 GiB of which 86.31 MiB is free. Including non-PyTorch memory, this process has 5.67 GiB memory in use. Of the allocated memory 4.07 GiB is allocated by PyTorch, and 1.49 GiB is reserved by PyTorch but unallocated. If reserved but unallocated memory is large try setting PYTORCH_CUDA_ALLOC_CONF=expandable_segments:True to avoid fragmentation.  See documentation for Memory Management  (https://pytorch.org/docs/stable/notes/cuda.html#environment-variables)\n"
     ]
    },
    {
     "name": "stderr",
     "output_type": "stream",
     "text": [
      "Epoch 2/4 [Train]:  24%|██▍       | 31/129 [00:10<00:35,  2.77batch/s]"
     ]
    },
    {
     "name": "stdout",
     "output_type": "stream",
     "text": [
      "\n",
      "Error in training batch: CUDA out of memory. Tried to allocate 188.00 MiB. GPU 0 has a total capacity of 5.77 GiB of which 86.31 MiB is free. Including non-PyTorch memory, this process has 5.67 GiB memory in use. Of the allocated memory 4.07 GiB is allocated by PyTorch, and 1.49 GiB is reserved by PyTorch but unallocated. If reserved but unallocated memory is large try setting PYTORCH_CUDA_ALLOC_CONF=expandable_segments:True to avoid fragmentation.  See documentation for Memory Management  (https://pytorch.org/docs/stable/notes/cuda.html#environment-variables)\n"
     ]
    },
    {
     "name": "stderr",
     "output_type": "stream",
     "text": [
      "Epoch 2/4 [Train]:  25%|██▍       | 32/129 [00:11<00:35,  2.75batch/s]"
     ]
    },
    {
     "name": "stdout",
     "output_type": "stream",
     "text": [
      "\n",
      "Error in training batch: CUDA out of memory. Tried to allocate 188.00 MiB. GPU 0 has a total capacity of 5.77 GiB of which 86.31 MiB is free. Including non-PyTorch memory, this process has 5.67 GiB memory in use. Of the allocated memory 4.07 GiB is allocated by PyTorch, and 1.49 GiB is reserved by PyTorch but unallocated. If reserved but unallocated memory is large try setting PYTORCH_CUDA_ALLOC_CONF=expandable_segments:True to avoid fragmentation.  See documentation for Memory Management  (https://pytorch.org/docs/stable/notes/cuda.html#environment-variables)\n"
     ]
    },
    {
     "name": "stderr",
     "output_type": "stream",
     "text": [
      "Epoch 2/4 [Train]:  26%|██▌       | 33/129 [00:11<00:34,  2.79batch/s]"
     ]
    },
    {
     "name": "stdout",
     "output_type": "stream",
     "text": [
      "\n",
      "Error in training batch: CUDA out of memory. Tried to allocate 188.00 MiB. GPU 0 has a total capacity of 5.77 GiB of which 86.31 MiB is free. Including non-PyTorch memory, this process has 5.67 GiB memory in use. Of the allocated memory 4.07 GiB is allocated by PyTorch, and 1.49 GiB is reserved by PyTorch but unallocated. If reserved but unallocated memory is large try setting PYTORCH_CUDA_ALLOC_CONF=expandable_segments:True to avoid fragmentation.  See documentation for Memory Management  (https://pytorch.org/docs/stable/notes/cuda.html#environment-variables)\n"
     ]
    },
    {
     "name": "stderr",
     "output_type": "stream",
     "text": [
      "Epoch 2/4 [Train]:  26%|██▋       | 34/129 [00:11<00:34,  2.79batch/s]"
     ]
    },
    {
     "name": "stdout",
     "output_type": "stream",
     "text": [
      "\n",
      "Error in training batch: CUDA out of memory. Tried to allocate 188.00 MiB. GPU 0 has a total capacity of 5.77 GiB of which 86.31 MiB is free. Including non-PyTorch memory, this process has 5.67 GiB memory in use. Of the allocated memory 4.07 GiB is allocated by PyTorch, and 1.49 GiB is reserved by PyTorch but unallocated. If reserved but unallocated memory is large try setting PYTORCH_CUDA_ALLOC_CONF=expandable_segments:True to avoid fragmentation.  See documentation for Memory Management  (https://pytorch.org/docs/stable/notes/cuda.html#environment-variables)\n"
     ]
    },
    {
     "name": "stderr",
     "output_type": "stream",
     "text": [
      "Epoch 2/4 [Train]:  27%|██▋       | 35/129 [00:12<00:33,  2.78batch/s]"
     ]
    },
    {
     "name": "stdout",
     "output_type": "stream",
     "text": [
      "\n",
      "Error in training batch: CUDA out of memory. Tried to allocate 188.00 MiB. GPU 0 has a total capacity of 5.77 GiB of which 86.31 MiB is free. Including non-PyTorch memory, this process has 5.67 GiB memory in use. Of the allocated memory 4.07 GiB is allocated by PyTorch, and 1.49 GiB is reserved by PyTorch but unallocated. If reserved but unallocated memory is large try setting PYTORCH_CUDA_ALLOC_CONF=expandable_segments:True to avoid fragmentation.  See documentation for Memory Management  (https://pytorch.org/docs/stable/notes/cuda.html#environment-variables)\n"
     ]
    },
    {
     "name": "stderr",
     "output_type": "stream",
     "text": [
      "Epoch 2/4 [Train]:  28%|██▊       | 36/129 [00:12<00:33,  2.80batch/s]"
     ]
    },
    {
     "name": "stdout",
     "output_type": "stream",
     "text": [
      "\n",
      "Error in training batch: CUDA out of memory. Tried to allocate 188.00 MiB. GPU 0 has a total capacity of 5.77 GiB of which 86.31 MiB is free. Including non-PyTorch memory, this process has 5.67 GiB memory in use. Of the allocated memory 4.07 GiB is allocated by PyTorch, and 1.49 GiB is reserved by PyTorch but unallocated. If reserved but unallocated memory is large try setting PYTORCH_CUDA_ALLOC_CONF=expandable_segments:True to avoid fragmentation.  See documentation for Memory Management  (https://pytorch.org/docs/stable/notes/cuda.html#environment-variables)\n"
     ]
    },
    {
     "name": "stderr",
     "output_type": "stream",
     "text": [
      "Epoch 2/4 [Train]:  29%|██▊       | 37/129 [00:13<00:33,  2.77batch/s]"
     ]
    },
    {
     "name": "stdout",
     "output_type": "stream",
     "text": [
      "\n",
      "Error in training batch: CUDA out of memory. Tried to allocate 188.00 MiB. GPU 0 has a total capacity of 5.77 GiB of which 86.31 MiB is free. Including non-PyTorch memory, this process has 5.67 GiB memory in use. Of the allocated memory 4.07 GiB is allocated by PyTorch, and 1.49 GiB is reserved by PyTorch but unallocated. If reserved but unallocated memory is large try setting PYTORCH_CUDA_ALLOC_CONF=expandable_segments:True to avoid fragmentation.  See documentation for Memory Management  (https://pytorch.org/docs/stable/notes/cuda.html#environment-variables)\n"
     ]
    },
    {
     "name": "stderr",
     "output_type": "stream",
     "text": [
      "Epoch 2/4 [Train]:  29%|██▉       | 38/129 [00:13<00:32,  2.78batch/s]"
     ]
    },
    {
     "name": "stdout",
     "output_type": "stream",
     "text": [
      "\n",
      "Error in training batch: CUDA out of memory. Tried to allocate 188.00 MiB. GPU 0 has a total capacity of 5.77 GiB of which 86.31 MiB is free. Including non-PyTorch memory, this process has 5.67 GiB memory in use. Of the allocated memory 4.07 GiB is allocated by PyTorch, and 1.49 GiB is reserved by PyTorch but unallocated. If reserved but unallocated memory is large try setting PYTORCH_CUDA_ALLOC_CONF=expandable_segments:True to avoid fragmentation.  See documentation for Memory Management  (https://pytorch.org/docs/stable/notes/cuda.html#environment-variables)\n"
     ]
    },
    {
     "name": "stderr",
     "output_type": "stream",
     "text": [
      "Epoch 2/4 [Train]:  30%|███       | 39/129 [00:13<00:32,  2.78batch/s]"
     ]
    },
    {
     "name": "stdout",
     "output_type": "stream",
     "text": [
      "\n",
      "Error in training batch: CUDA out of memory. Tried to allocate 188.00 MiB. GPU 0 has a total capacity of 5.77 GiB of which 86.31 MiB is free. Including non-PyTorch memory, this process has 5.67 GiB memory in use. Of the allocated memory 4.07 GiB is allocated by PyTorch, and 1.49 GiB is reserved by PyTorch but unallocated. If reserved but unallocated memory is large try setting PYTORCH_CUDA_ALLOC_CONF=expandable_segments:True to avoid fragmentation.  See documentation for Memory Management  (https://pytorch.org/docs/stable/notes/cuda.html#environment-variables)\n"
     ]
    },
    {
     "name": "stderr",
     "output_type": "stream",
     "text": [
      "Epoch 2/4 [Train]:  31%|███       | 40/129 [00:14<00:32,  2.78batch/s]"
     ]
    },
    {
     "name": "stdout",
     "output_type": "stream",
     "text": [
      "\n",
      "Error in training batch: CUDA out of memory. Tried to allocate 188.00 MiB. GPU 0 has a total capacity of 5.77 GiB of which 86.31 MiB is free. Including non-PyTorch memory, this process has 5.67 GiB memory in use. Of the allocated memory 4.07 GiB is allocated by PyTorch, and 1.49 GiB is reserved by PyTorch but unallocated. If reserved but unallocated memory is large try setting PYTORCH_CUDA_ALLOC_CONF=expandable_segments:True to avoid fragmentation.  See documentation for Memory Management  (https://pytorch.org/docs/stable/notes/cuda.html#environment-variables)\n"
     ]
    },
    {
     "name": "stderr",
     "output_type": "stream",
     "text": [
      "Epoch 2/4 [Train]:  32%|███▏      | 41/129 [00:14<00:31,  2.79batch/s]"
     ]
    },
    {
     "name": "stdout",
     "output_type": "stream",
     "text": [
      "\n",
      "Error in training batch: CUDA out of memory. Tried to allocate 188.00 MiB. GPU 0 has a total capacity of 5.77 GiB of which 86.31 MiB is free. Including non-PyTorch memory, this process has 5.67 GiB memory in use. Of the allocated memory 4.07 GiB is allocated by PyTorch, and 1.49 GiB is reserved by PyTorch but unallocated. If reserved but unallocated memory is large try setting PYTORCH_CUDA_ALLOC_CONF=expandable_segments:True to avoid fragmentation.  See documentation for Memory Management  (https://pytorch.org/docs/stable/notes/cuda.html#environment-variables)\n"
     ]
    },
    {
     "name": "stderr",
     "output_type": "stream",
     "text": [
      "Epoch 2/4 [Train]:  33%|███▎      | 42/129 [00:14<00:31,  2.77batch/s]"
     ]
    },
    {
     "name": "stdout",
     "output_type": "stream",
     "text": [
      "\n",
      "Error in training batch: CUDA out of memory. Tried to allocate 188.00 MiB. GPU 0 has a total capacity of 5.77 GiB of which 86.31 MiB is free. Including non-PyTorch memory, this process has 5.67 GiB memory in use. Of the allocated memory 4.07 GiB is allocated by PyTorch, and 1.49 GiB is reserved by PyTorch but unallocated. If reserved but unallocated memory is large try setting PYTORCH_CUDA_ALLOC_CONF=expandable_segments:True to avoid fragmentation.  See documentation for Memory Management  (https://pytorch.org/docs/stable/notes/cuda.html#environment-variables)\n"
     ]
    },
    {
     "name": "stderr",
     "output_type": "stream",
     "text": [
      "Epoch 2/4 [Train]:  33%|███▎      | 43/129 [00:15<00:30,  2.80batch/s]"
     ]
    },
    {
     "name": "stdout",
     "output_type": "stream",
     "text": [
      "\n",
      "Error in training batch: CUDA out of memory. Tried to allocate 188.00 MiB. GPU 0 has a total capacity of 5.77 GiB of which 86.31 MiB is free. Including non-PyTorch memory, this process has 5.67 GiB memory in use. Of the allocated memory 4.07 GiB is allocated by PyTorch, and 1.49 GiB is reserved by PyTorch but unallocated. If reserved but unallocated memory is large try setting PYTORCH_CUDA_ALLOC_CONF=expandable_segments:True to avoid fragmentation.  See documentation for Memory Management  (https://pytorch.org/docs/stable/notes/cuda.html#environment-variables)\n"
     ]
    },
    {
     "name": "stderr",
     "output_type": "stream",
     "text": [
      "Epoch 2/4 [Train]:  34%|███▍      | 44/129 [00:15<00:30,  2.80batch/s]"
     ]
    },
    {
     "name": "stdout",
     "output_type": "stream",
     "text": [
      "\n",
      "Error in training batch: CUDA out of memory. Tried to allocate 188.00 MiB. GPU 0 has a total capacity of 5.77 GiB of which 86.31 MiB is free. Including non-PyTorch memory, this process has 5.67 GiB memory in use. Of the allocated memory 4.07 GiB is allocated by PyTorch, and 1.49 GiB is reserved by PyTorch but unallocated. If reserved but unallocated memory is large try setting PYTORCH_CUDA_ALLOC_CONF=expandable_segments:True to avoid fragmentation.  See documentation for Memory Management  (https://pytorch.org/docs/stable/notes/cuda.html#environment-variables)\n"
     ]
    },
    {
     "name": "stderr",
     "output_type": "stream",
     "text": [
      "Epoch 2/4 [Train]:  35%|███▍      | 45/129 [00:15<00:30,  2.78batch/s]"
     ]
    },
    {
     "name": "stdout",
     "output_type": "stream",
     "text": [
      "\n",
      "Error in training batch: CUDA out of memory. Tried to allocate 188.00 MiB. GPU 0 has a total capacity of 5.77 GiB of which 86.31 MiB is free. Including non-PyTorch memory, this process has 5.67 GiB memory in use. Of the allocated memory 4.07 GiB is allocated by PyTorch, and 1.49 GiB is reserved by PyTorch but unallocated. If reserved but unallocated memory is large try setting PYTORCH_CUDA_ALLOC_CONF=expandable_segments:True to avoid fragmentation.  See documentation for Memory Management  (https://pytorch.org/docs/stable/notes/cuda.html#environment-variables)\n"
     ]
    },
    {
     "name": "stderr",
     "output_type": "stream",
     "text": [
      "Epoch 2/4 [Train]:  36%|███▌      | 46/129 [00:16<00:29,  2.78batch/s]"
     ]
    },
    {
     "name": "stdout",
     "output_type": "stream",
     "text": [
      "\n",
      "Error in training batch: CUDA out of memory. Tried to allocate 188.00 MiB. GPU 0 has a total capacity of 5.77 GiB of which 86.31 MiB is free. Including non-PyTorch memory, this process has 5.67 GiB memory in use. Of the allocated memory 4.07 GiB is allocated by PyTorch, and 1.49 GiB is reserved by PyTorch but unallocated. If reserved but unallocated memory is large try setting PYTORCH_CUDA_ALLOC_CONF=expandable_segments:True to avoid fragmentation.  See documentation for Memory Management  (https://pytorch.org/docs/stable/notes/cuda.html#environment-variables)\n"
     ]
    },
    {
     "name": "stderr",
     "output_type": "stream",
     "text": [
      "Epoch 2/4 [Train]:  36%|███▋      | 47/129 [00:16<00:29,  2.76batch/s]"
     ]
    },
    {
     "name": "stdout",
     "output_type": "stream",
     "text": [
      "\n",
      "Error in training batch: CUDA out of memory. Tried to allocate 188.00 MiB. GPU 0 has a total capacity of 5.77 GiB of which 86.31 MiB is free. Including non-PyTorch memory, this process has 5.67 GiB memory in use. Of the allocated memory 4.07 GiB is allocated by PyTorch, and 1.49 GiB is reserved by PyTorch but unallocated. If reserved but unallocated memory is large try setting PYTORCH_CUDA_ALLOC_CONF=expandable_segments:True to avoid fragmentation.  See documentation for Memory Management  (https://pytorch.org/docs/stable/notes/cuda.html#environment-variables)\n"
     ]
    },
    {
     "name": "stderr",
     "output_type": "stream",
     "text": [
      "Epoch 2/4 [Train]:  37%|███▋      | 48/129 [00:16<00:28,  2.82batch/s]"
     ]
    },
    {
     "name": "stdout",
     "output_type": "stream",
     "text": [
      "\n",
      "Error in training batch: CUDA out of memory. Tried to allocate 188.00 MiB. GPU 0 has a total capacity of 5.77 GiB of which 86.31 MiB is free. Including non-PyTorch memory, this process has 5.67 GiB memory in use. Of the allocated memory 4.07 GiB is allocated by PyTorch, and 1.49 GiB is reserved by PyTorch but unallocated. If reserved but unallocated memory is large try setting PYTORCH_CUDA_ALLOC_CONF=expandable_segments:True to avoid fragmentation.  See documentation for Memory Management  (https://pytorch.org/docs/stable/notes/cuda.html#environment-variables)\n"
     ]
    },
    {
     "name": "stderr",
     "output_type": "stream",
     "text": [
      "Epoch 2/4 [Train]:  38%|███▊      | 49/129 [00:17<00:28,  2.79batch/s]"
     ]
    },
    {
     "name": "stdout",
     "output_type": "stream",
     "text": [
      "\n",
      "Error in training batch: CUDA out of memory. Tried to allocate 188.00 MiB. GPU 0 has a total capacity of 5.77 GiB of which 86.31 MiB is free. Including non-PyTorch memory, this process has 5.67 GiB memory in use. Of the allocated memory 4.07 GiB is allocated by PyTorch, and 1.49 GiB is reserved by PyTorch but unallocated. If reserved but unallocated memory is large try setting PYTORCH_CUDA_ALLOC_CONF=expandable_segments:True to avoid fragmentation.  See documentation for Memory Management  (https://pytorch.org/docs/stable/notes/cuda.html#environment-variables)\n"
     ]
    },
    {
     "name": "stderr",
     "output_type": "stream",
     "text": [
      "Epoch 2/4 [Train]:  39%|███▉      | 50/129 [00:17<00:28,  2.80batch/s]"
     ]
    },
    {
     "name": "stdout",
     "output_type": "stream",
     "text": [
      "\n",
      "Error in training batch: CUDA out of memory. Tried to allocate 188.00 MiB. GPU 0 has a total capacity of 5.77 GiB of which 86.31 MiB is free. Including non-PyTorch memory, this process has 5.67 GiB memory in use. Of the allocated memory 4.07 GiB is allocated by PyTorch, and 1.49 GiB is reserved by PyTorch but unallocated. If reserved but unallocated memory is large try setting PYTORCH_CUDA_ALLOC_CONF=expandable_segments:True to avoid fragmentation.  See documentation for Memory Management  (https://pytorch.org/docs/stable/notes/cuda.html#environment-variables)\n"
     ]
    },
    {
     "name": "stderr",
     "output_type": "stream",
     "text": [
      "Epoch 2/4 [Train]:  40%|███▉      | 51/129 [00:18<00:28,  2.77batch/s]"
     ]
    },
    {
     "name": "stdout",
     "output_type": "stream",
     "text": [
      "\n",
      "Error in training batch: CUDA out of memory. Tried to allocate 188.00 MiB. GPU 0 has a total capacity of 5.77 GiB of which 86.31 MiB is free. Including non-PyTorch memory, this process has 5.67 GiB memory in use. Of the allocated memory 4.07 GiB is allocated by PyTorch, and 1.49 GiB is reserved by PyTorch but unallocated. If reserved but unallocated memory is large try setting PYTORCH_CUDA_ALLOC_CONF=expandable_segments:True to avoid fragmentation.  See documentation for Memory Management  (https://pytorch.org/docs/stable/notes/cuda.html#environment-variables)\n"
     ]
    },
    {
     "name": "stderr",
     "output_type": "stream",
     "text": [
      "Epoch 2/4 [Train]:  40%|████      | 52/129 [00:18<00:27,  2.81batch/s]"
     ]
    },
    {
     "name": "stdout",
     "output_type": "stream",
     "text": [
      "\n",
      "Error in training batch: CUDA out of memory. Tried to allocate 188.00 MiB. GPU 0 has a total capacity of 5.77 GiB of which 86.31 MiB is free. Including non-PyTorch memory, this process has 5.67 GiB memory in use. Of the allocated memory 4.07 GiB is allocated by PyTorch, and 1.49 GiB is reserved by PyTorch but unallocated. If reserved but unallocated memory is large try setting PYTORCH_CUDA_ALLOC_CONF=expandable_segments:True to avoid fragmentation.  See documentation for Memory Management  (https://pytorch.org/docs/stable/notes/cuda.html#environment-variables)\n"
     ]
    },
    {
     "name": "stderr",
     "output_type": "stream",
     "text": [
      "Epoch 2/4 [Train]:  41%|████      | 53/129 [00:18<00:26,  2.82batch/s]"
     ]
    },
    {
     "name": "stdout",
     "output_type": "stream",
     "text": [
      "\n",
      "Error in training batch: CUDA out of memory. Tried to allocate 188.00 MiB. GPU 0 has a total capacity of 5.77 GiB of which 86.31 MiB is free. Including non-PyTorch memory, this process has 5.67 GiB memory in use. Of the allocated memory 4.07 GiB is allocated by PyTorch, and 1.49 GiB is reserved by PyTorch but unallocated. If reserved but unallocated memory is large try setting PYTORCH_CUDA_ALLOC_CONF=expandable_segments:True to avoid fragmentation.  See documentation for Memory Management  (https://pytorch.org/docs/stable/notes/cuda.html#environment-variables)\n"
     ]
    },
    {
     "name": "stderr",
     "output_type": "stream",
     "text": [
      "Epoch 2/4 [Train]:  42%|████▏     | 54/129 [00:19<00:26,  2.80batch/s]"
     ]
    },
    {
     "name": "stdout",
     "output_type": "stream",
     "text": [
      "\n",
      "Error in training batch: CUDA out of memory. Tried to allocate 188.00 MiB. GPU 0 has a total capacity of 5.77 GiB of which 86.31 MiB is free. Including non-PyTorch memory, this process has 5.67 GiB memory in use. Of the allocated memory 4.07 GiB is allocated by PyTorch, and 1.49 GiB is reserved by PyTorch but unallocated. If reserved but unallocated memory is large try setting PYTORCH_CUDA_ALLOC_CONF=expandable_segments:True to avoid fragmentation.  See documentation for Memory Management  (https://pytorch.org/docs/stable/notes/cuda.html#environment-variables)\n"
     ]
    },
    {
     "name": "stderr",
     "output_type": "stream",
     "text": [
      "Epoch 2/4 [Train]:  43%|████▎     | 55/129 [00:19<00:26,  2.78batch/s]"
     ]
    },
    {
     "name": "stdout",
     "output_type": "stream",
     "text": [
      "\n",
      "Error in training batch: CUDA out of memory. Tried to allocate 188.00 MiB. GPU 0 has a total capacity of 5.77 GiB of which 86.31 MiB is free. Including non-PyTorch memory, this process has 5.67 GiB memory in use. Of the allocated memory 4.07 GiB is allocated by PyTorch, and 1.49 GiB is reserved by PyTorch but unallocated. If reserved but unallocated memory is large try setting PYTORCH_CUDA_ALLOC_CONF=expandable_segments:True to avoid fragmentation.  See documentation for Memory Management  (https://pytorch.org/docs/stable/notes/cuda.html#environment-variables)\n"
     ]
    },
    {
     "name": "stderr",
     "output_type": "stream",
     "text": [
      "Epoch 2/4 [Train]:  43%|████▎     | 56/129 [00:19<00:26,  2.78batch/s]"
     ]
    },
    {
     "name": "stdout",
     "output_type": "stream",
     "text": [
      "\n",
      "Error in training batch: CUDA out of memory. Tried to allocate 188.00 MiB. GPU 0 has a total capacity of 5.77 GiB of which 86.31 MiB is free. Including non-PyTorch memory, this process has 5.67 GiB memory in use. Of the allocated memory 4.07 GiB is allocated by PyTorch, and 1.49 GiB is reserved by PyTorch but unallocated. If reserved but unallocated memory is large try setting PYTORCH_CUDA_ALLOC_CONF=expandable_segments:True to avoid fragmentation.  See documentation for Memory Management  (https://pytorch.org/docs/stable/notes/cuda.html#environment-variables)\n"
     ]
    },
    {
     "name": "stderr",
     "output_type": "stream",
     "text": [
      "Epoch 2/4 [Train]:  44%|████▍     | 57/129 [00:20<00:25,  2.82batch/s]"
     ]
    },
    {
     "name": "stdout",
     "output_type": "stream",
     "text": [
      "\n",
      "Error in training batch: CUDA out of memory. Tried to allocate 188.00 MiB. GPU 0 has a total capacity of 5.77 GiB of which 86.31 MiB is free. Including non-PyTorch memory, this process has 5.67 GiB memory in use. Of the allocated memory 4.07 GiB is allocated by PyTorch, and 1.49 GiB is reserved by PyTorch but unallocated. If reserved but unallocated memory is large try setting PYTORCH_CUDA_ALLOC_CONF=expandable_segments:True to avoid fragmentation.  See documentation for Memory Management  (https://pytorch.org/docs/stable/notes/cuda.html#environment-variables)\n"
     ]
    },
    {
     "name": "stderr",
     "output_type": "stream",
     "text": [
      "Epoch 2/4 [Train]:  45%|████▍     | 58/129 [00:20<00:25,  2.81batch/s]"
     ]
    },
    {
     "name": "stdout",
     "output_type": "stream",
     "text": [
      "\n",
      "Error in training batch: CUDA out of memory. Tried to allocate 188.00 MiB. GPU 0 has a total capacity of 5.77 GiB of which 86.31 MiB is free. Including non-PyTorch memory, this process has 5.67 GiB memory in use. Of the allocated memory 4.07 GiB is allocated by PyTorch, and 1.49 GiB is reserved by PyTorch but unallocated. If reserved but unallocated memory is large try setting PYTORCH_CUDA_ALLOC_CONF=expandable_segments:True to avoid fragmentation.  See documentation for Memory Management  (https://pytorch.org/docs/stable/notes/cuda.html#environment-variables)\n"
     ]
    },
    {
     "name": "stderr",
     "output_type": "stream",
     "text": [
      "Epoch 2/4 [Train]:  46%|████▌     | 59/129 [00:20<00:24,  2.82batch/s]"
     ]
    },
    {
     "name": "stdout",
     "output_type": "stream",
     "text": [
      "\n",
      "Error in training batch: CUDA out of memory. Tried to allocate 188.00 MiB. GPU 0 has a total capacity of 5.77 GiB of which 86.31 MiB is free. Including non-PyTorch memory, this process has 5.67 GiB memory in use. Of the allocated memory 4.07 GiB is allocated by PyTorch, and 1.49 GiB is reserved by PyTorch but unallocated. If reserved but unallocated memory is large try setting PYTORCH_CUDA_ALLOC_CONF=expandable_segments:True to avoid fragmentation.  See documentation for Memory Management  (https://pytorch.org/docs/stable/notes/cuda.html#environment-variables)\n"
     ]
    },
    {
     "name": "stderr",
     "output_type": "stream",
     "text": [
      "Epoch 2/4 [Train]:  47%|████▋     | 60/129 [00:21<00:24,  2.81batch/s]"
     ]
    },
    {
     "name": "stdout",
     "output_type": "stream",
     "text": [
      "\n",
      "Error in training batch: CUDA out of memory. Tried to allocate 188.00 MiB. GPU 0 has a total capacity of 5.77 GiB of which 86.31 MiB is free. Including non-PyTorch memory, this process has 5.67 GiB memory in use. Of the allocated memory 4.07 GiB is allocated by PyTorch, and 1.49 GiB is reserved by PyTorch but unallocated. If reserved but unallocated memory is large try setting PYTORCH_CUDA_ALLOC_CONF=expandable_segments:True to avoid fragmentation.  See documentation for Memory Management  (https://pytorch.org/docs/stable/notes/cuda.html#environment-variables)\n"
     ]
    },
    {
     "name": "stderr",
     "output_type": "stream",
     "text": [
      "Epoch 2/4 [Train]:  47%|████▋     | 61/129 [00:21<00:24,  2.78batch/s]"
     ]
    },
    {
     "name": "stdout",
     "output_type": "stream",
     "text": [
      "\n",
      "Error in training batch: CUDA out of memory. Tried to allocate 188.00 MiB. GPU 0 has a total capacity of 5.77 GiB of which 86.31 MiB is free. Including non-PyTorch memory, this process has 5.67 GiB memory in use. Of the allocated memory 4.07 GiB is allocated by PyTorch, and 1.49 GiB is reserved by PyTorch but unallocated. If reserved but unallocated memory is large try setting PYTORCH_CUDA_ALLOC_CONF=expandable_segments:True to avoid fragmentation.  See documentation for Memory Management  (https://pytorch.org/docs/stable/notes/cuda.html#environment-variables)\n"
     ]
    },
    {
     "name": "stderr",
     "output_type": "stream",
     "text": [
      "Epoch 2/4 [Train]:  48%|████▊     | 62/129 [00:21<00:23,  2.82batch/s]"
     ]
    },
    {
     "name": "stdout",
     "output_type": "stream",
     "text": [
      "\n",
      "Error in training batch: CUDA out of memory. Tried to allocate 188.00 MiB. GPU 0 has a total capacity of 5.77 GiB of which 86.31 MiB is free. Including non-PyTorch memory, this process has 5.67 GiB memory in use. Of the allocated memory 4.07 GiB is allocated by PyTorch, and 1.49 GiB is reserved by PyTorch but unallocated. If reserved but unallocated memory is large try setting PYTORCH_CUDA_ALLOC_CONF=expandable_segments:True to avoid fragmentation.  See documentation for Memory Management  (https://pytorch.org/docs/stable/notes/cuda.html#environment-variables)\n"
     ]
    },
    {
     "name": "stderr",
     "output_type": "stream",
     "text": [
      "Epoch 2/4 [Train]:  49%|████▉     | 63/129 [00:22<00:23,  2.82batch/s]"
     ]
    },
    {
     "name": "stdout",
     "output_type": "stream",
     "text": [
      "\n",
      "Error in training batch: CUDA out of memory. Tried to allocate 188.00 MiB. GPU 0 has a total capacity of 5.77 GiB of which 86.31 MiB is free. Including non-PyTorch memory, this process has 5.67 GiB memory in use. Of the allocated memory 4.07 GiB is allocated by PyTorch, and 1.49 GiB is reserved by PyTorch but unallocated. If reserved but unallocated memory is large try setting PYTORCH_CUDA_ALLOC_CONF=expandable_segments:True to avoid fragmentation.  See documentation for Memory Management  (https://pytorch.org/docs/stable/notes/cuda.html#environment-variables)\n"
     ]
    },
    {
     "name": "stderr",
     "output_type": "stream",
     "text": [
      "Epoch 2/4 [Train]:  50%|████▉     | 64/129 [00:22<00:23,  2.81batch/s]"
     ]
    },
    {
     "name": "stdout",
     "output_type": "stream",
     "text": [
      "\n",
      "Error in training batch: CUDA out of memory. Tried to allocate 188.00 MiB. GPU 0 has a total capacity of 5.77 GiB of which 86.31 MiB is free. Including non-PyTorch memory, this process has 5.67 GiB memory in use. Of the allocated memory 4.07 GiB is allocated by PyTorch, and 1.49 GiB is reserved by PyTorch but unallocated. If reserved but unallocated memory is large try setting PYTORCH_CUDA_ALLOC_CONF=expandable_segments:True to avoid fragmentation.  See documentation for Memory Management  (https://pytorch.org/docs/stable/notes/cuda.html#environment-variables)\n"
     ]
    },
    {
     "name": "stderr",
     "output_type": "stream",
     "text": [
      "Epoch 2/4 [Train]:  50%|█████     | 65/129 [00:23<00:23,  2.78batch/s]"
     ]
    },
    {
     "name": "stdout",
     "output_type": "stream",
     "text": [
      "\n",
      "Error in training batch: CUDA out of memory. Tried to allocate 188.00 MiB. GPU 0 has a total capacity of 5.77 GiB of which 86.31 MiB is free. Including non-PyTorch memory, this process has 5.67 GiB memory in use. Of the allocated memory 4.07 GiB is allocated by PyTorch, and 1.49 GiB is reserved by PyTorch but unallocated. If reserved but unallocated memory is large try setting PYTORCH_CUDA_ALLOC_CONF=expandable_segments:True to avoid fragmentation.  See documentation for Memory Management  (https://pytorch.org/docs/stable/notes/cuda.html#environment-variables)\n"
     ]
    },
    {
     "name": "stderr",
     "output_type": "stream",
     "text": [
      "Epoch 2/4 [Train]:  51%|█████     | 66/129 [00:23<00:22,  2.80batch/s]"
     ]
    },
    {
     "name": "stdout",
     "output_type": "stream",
     "text": [
      "\n",
      "Error in training batch: CUDA out of memory. Tried to allocate 188.00 MiB. GPU 0 has a total capacity of 5.77 GiB of which 86.31 MiB is free. Including non-PyTorch memory, this process has 5.67 GiB memory in use. Of the allocated memory 4.07 GiB is allocated by PyTorch, and 1.49 GiB is reserved by PyTorch but unallocated. If reserved but unallocated memory is large try setting PYTORCH_CUDA_ALLOC_CONF=expandable_segments:True to avoid fragmentation.  See documentation for Memory Management  (https://pytorch.org/docs/stable/notes/cuda.html#environment-variables)\n"
     ]
    },
    {
     "name": "stderr",
     "output_type": "stream",
     "text": [
      "Epoch 2/4 [Train]:  52%|█████▏    | 67/129 [00:23<00:22,  2.78batch/s]"
     ]
    },
    {
     "name": "stdout",
     "output_type": "stream",
     "text": [
      "\n",
      "Error in training batch: CUDA out of memory. Tried to allocate 188.00 MiB. GPU 0 has a total capacity of 5.77 GiB of which 86.31 MiB is free. Including non-PyTorch memory, this process has 5.67 GiB memory in use. Of the allocated memory 4.07 GiB is allocated by PyTorch, and 1.49 GiB is reserved by PyTorch but unallocated. If reserved but unallocated memory is large try setting PYTORCH_CUDA_ALLOC_CONF=expandable_segments:True to avoid fragmentation.  See documentation for Memory Management  (https://pytorch.org/docs/stable/notes/cuda.html#environment-variables)\n"
     ]
    },
    {
     "name": "stderr",
     "output_type": "stream",
     "text": [
      "Epoch 2/4 [Train]:  53%|█████▎    | 68/129 [00:24<00:21,  2.79batch/s]"
     ]
    },
    {
     "name": "stdout",
     "output_type": "stream",
     "text": [
      "\n",
      "Error in training batch: CUDA out of memory. Tried to allocate 188.00 MiB. GPU 0 has a total capacity of 5.77 GiB of which 86.31 MiB is free. Including non-PyTorch memory, this process has 5.67 GiB memory in use. Of the allocated memory 4.07 GiB is allocated by PyTorch, and 1.49 GiB is reserved by PyTorch but unallocated. If reserved but unallocated memory is large try setting PYTORCH_CUDA_ALLOC_CONF=expandable_segments:True to avoid fragmentation.  See documentation for Memory Management  (https://pytorch.org/docs/stable/notes/cuda.html#environment-variables)\n"
     ]
    },
    {
     "name": "stderr",
     "output_type": "stream",
     "text": [
      "Epoch 2/4 [Train]:  53%|█████▎    | 69/129 [00:24<00:21,  2.77batch/s]"
     ]
    },
    {
     "name": "stdout",
     "output_type": "stream",
     "text": [
      "\n",
      "Error in training batch: CUDA out of memory. Tried to allocate 188.00 MiB. GPU 0 has a total capacity of 5.77 GiB of which 86.31 MiB is free. Including non-PyTorch memory, this process has 5.67 GiB memory in use. Of the allocated memory 4.07 GiB is allocated by PyTorch, and 1.49 GiB is reserved by PyTorch but unallocated. If reserved but unallocated memory is large try setting PYTORCH_CUDA_ALLOC_CONF=expandable_segments:True to avoid fragmentation.  See documentation for Memory Management  (https://pytorch.org/docs/stable/notes/cuda.html#environment-variables)\n"
     ]
    },
    {
     "name": "stderr",
     "output_type": "stream",
     "text": [
      "Epoch 2/4 [Train]:  54%|█████▍    | 70/129 [00:24<00:21,  2.78batch/s]"
     ]
    },
    {
     "name": "stdout",
     "output_type": "stream",
     "text": [
      "\n",
      "Error in training batch: CUDA out of memory. Tried to allocate 188.00 MiB. GPU 0 has a total capacity of 5.77 GiB of which 86.31 MiB is free. Including non-PyTorch memory, this process has 5.67 GiB memory in use. Of the allocated memory 4.07 GiB is allocated by PyTorch, and 1.49 GiB is reserved by PyTorch but unallocated. If reserved but unallocated memory is large try setting PYTORCH_CUDA_ALLOC_CONF=expandable_segments:True to avoid fragmentation.  See documentation for Memory Management  (https://pytorch.org/docs/stable/notes/cuda.html#environment-variables)\n"
     ]
    },
    {
     "name": "stderr",
     "output_type": "stream",
     "text": [
      "Epoch 2/4 [Train]:  55%|█████▌    | 71/129 [00:25<00:20,  2.79batch/s]"
     ]
    },
    {
     "name": "stdout",
     "output_type": "stream",
     "text": [
      "\n",
      "Error in training batch: CUDA out of memory. Tried to allocate 188.00 MiB. GPU 0 has a total capacity of 5.77 GiB of which 86.31 MiB is free. Including non-PyTorch memory, this process has 5.67 GiB memory in use. Of the allocated memory 4.07 GiB is allocated by PyTorch, and 1.49 GiB is reserved by PyTorch but unallocated. If reserved but unallocated memory is large try setting PYTORCH_CUDA_ALLOC_CONF=expandable_segments:True to avoid fragmentation.  See documentation for Memory Management  (https://pytorch.org/docs/stable/notes/cuda.html#environment-variables)\n"
     ]
    },
    {
     "name": "stderr",
     "output_type": "stream",
     "text": [
      "Epoch 2/4 [Train]:  56%|█████▌    | 72/129 [00:25<00:20,  2.82batch/s]"
     ]
    },
    {
     "name": "stdout",
     "output_type": "stream",
     "text": [
      "\n",
      "Error in training batch: CUDA out of memory. Tried to allocate 188.00 MiB. GPU 0 has a total capacity of 5.77 GiB of which 86.31 MiB is free. Including non-PyTorch memory, this process has 5.67 GiB memory in use. Of the allocated memory 4.07 GiB is allocated by PyTorch, and 1.49 GiB is reserved by PyTorch but unallocated. If reserved but unallocated memory is large try setting PYTORCH_CUDA_ALLOC_CONF=expandable_segments:True to avoid fragmentation.  See documentation for Memory Management  (https://pytorch.org/docs/stable/notes/cuda.html#environment-variables)\n"
     ]
    },
    {
     "name": "stderr",
     "output_type": "stream",
     "text": [
      "Epoch 2/4 [Train]:  57%|█████▋    | 73/129 [00:25<00:20,  2.78batch/s]"
     ]
    },
    {
     "name": "stdout",
     "output_type": "stream",
     "text": [
      "\n",
      "Error in training batch: CUDA out of memory. Tried to allocate 188.00 MiB. GPU 0 has a total capacity of 5.77 GiB of which 86.31 MiB is free. Including non-PyTorch memory, this process has 5.67 GiB memory in use. Of the allocated memory 4.07 GiB is allocated by PyTorch, and 1.49 GiB is reserved by PyTorch but unallocated. If reserved but unallocated memory is large try setting PYTORCH_CUDA_ALLOC_CONF=expandable_segments:True to avoid fragmentation.  See documentation for Memory Management  (https://pytorch.org/docs/stable/notes/cuda.html#environment-variables)\n"
     ]
    },
    {
     "name": "stderr",
     "output_type": "stream",
     "text": [
      "Epoch 2/4 [Train]:  57%|█████▋    | 74/129 [00:26<00:19,  2.78batch/s]"
     ]
    },
    {
     "name": "stdout",
     "output_type": "stream",
     "text": [
      "\n",
      "Error in training batch: CUDA out of memory. Tried to allocate 188.00 MiB. GPU 0 has a total capacity of 5.77 GiB of which 86.31 MiB is free. Including non-PyTorch memory, this process has 5.67 GiB memory in use. Of the allocated memory 4.07 GiB is allocated by PyTorch, and 1.49 GiB is reserved by PyTorch but unallocated. If reserved but unallocated memory is large try setting PYTORCH_CUDA_ALLOC_CONF=expandable_segments:True to avoid fragmentation.  See documentation for Memory Management  (https://pytorch.org/docs/stable/notes/cuda.html#environment-variables)\n"
     ]
    },
    {
     "name": "stderr",
     "output_type": "stream",
     "text": [
      "Epoch 2/4 [Train]:  58%|█████▊    | 75/129 [00:26<00:19,  2.77batch/s]"
     ]
    },
    {
     "name": "stdout",
     "output_type": "stream",
     "text": [
      "\n",
      "Error in training batch: CUDA out of memory. Tried to allocate 188.00 MiB. GPU 0 has a total capacity of 5.77 GiB of which 86.31 MiB is free. Including non-PyTorch memory, this process has 5.67 GiB memory in use. Of the allocated memory 4.07 GiB is allocated by PyTorch, and 1.49 GiB is reserved by PyTorch but unallocated. If reserved but unallocated memory is large try setting PYTORCH_CUDA_ALLOC_CONF=expandable_segments:True to avoid fragmentation.  See documentation for Memory Management  (https://pytorch.org/docs/stable/notes/cuda.html#environment-variables)\n"
     ]
    },
    {
     "name": "stderr",
     "output_type": "stream",
     "text": [
      "Epoch 2/4 [Train]:  59%|█████▉    | 76/129 [00:26<00:18,  2.82batch/s]"
     ]
    },
    {
     "name": "stdout",
     "output_type": "stream",
     "text": [
      "\n",
      "Error in training batch: CUDA out of memory. Tried to allocate 188.00 MiB. GPU 0 has a total capacity of 5.77 GiB of which 86.31 MiB is free. Including non-PyTorch memory, this process has 5.67 GiB memory in use. Of the allocated memory 4.07 GiB is allocated by PyTorch, and 1.49 GiB is reserved by PyTorch but unallocated. If reserved but unallocated memory is large try setting PYTORCH_CUDA_ALLOC_CONF=expandable_segments:True to avoid fragmentation.  See documentation for Memory Management  (https://pytorch.org/docs/stable/notes/cuda.html#environment-variables)\n"
     ]
    },
    {
     "name": "stderr",
     "output_type": "stream",
     "text": [
      "Epoch 2/4 [Train]:  60%|█████▉    | 77/129 [00:27<00:18,  2.84batch/s]"
     ]
    },
    {
     "name": "stdout",
     "output_type": "stream",
     "text": [
      "\n",
      "Error in training batch: CUDA out of memory. Tried to allocate 188.00 MiB. GPU 0 has a total capacity of 5.77 GiB of which 86.31 MiB is free. Including non-PyTorch memory, this process has 5.67 GiB memory in use. Of the allocated memory 4.07 GiB is allocated by PyTorch, and 1.49 GiB is reserved by PyTorch but unallocated. If reserved but unallocated memory is large try setting PYTORCH_CUDA_ALLOC_CONF=expandable_segments:True to avoid fragmentation.  See documentation for Memory Management  (https://pytorch.org/docs/stable/notes/cuda.html#environment-variables)\n"
     ]
    },
    {
     "name": "stderr",
     "output_type": "stream",
     "text": [
      "Epoch 2/4 [Train]:  60%|██████    | 78/129 [00:27<00:18,  2.81batch/s]"
     ]
    },
    {
     "name": "stdout",
     "output_type": "stream",
     "text": [
      "\n",
      "Error in training batch: CUDA out of memory. Tried to allocate 188.00 MiB. GPU 0 has a total capacity of 5.77 GiB of which 86.31 MiB is free. Including non-PyTorch memory, this process has 5.67 GiB memory in use. Of the allocated memory 4.07 GiB is allocated by PyTorch, and 1.49 GiB is reserved by PyTorch but unallocated. If reserved but unallocated memory is large try setting PYTORCH_CUDA_ALLOC_CONF=expandable_segments:True to avoid fragmentation.  See documentation for Memory Management  (https://pytorch.org/docs/stable/notes/cuda.html#environment-variables)\n"
     ]
    },
    {
     "name": "stderr",
     "output_type": "stream",
     "text": [
      "Epoch 2/4 [Train]:  61%|██████    | 79/129 [00:28<00:18,  2.78batch/s]"
     ]
    },
    {
     "name": "stdout",
     "output_type": "stream",
     "text": [
      "\n",
      "Error in training batch: CUDA out of memory. Tried to allocate 188.00 MiB. GPU 0 has a total capacity of 5.77 GiB of which 86.31 MiB is free. Including non-PyTorch memory, this process has 5.67 GiB memory in use. Of the allocated memory 4.07 GiB is allocated by PyTorch, and 1.49 GiB is reserved by PyTorch but unallocated. If reserved but unallocated memory is large try setting PYTORCH_CUDA_ALLOC_CONF=expandable_segments:True to avoid fragmentation.  See documentation for Memory Management  (https://pytorch.org/docs/stable/notes/cuda.html#environment-variables)\n"
     ]
    },
    {
     "name": "stderr",
     "output_type": "stream",
     "text": [
      "Epoch 2/4 [Train]:  62%|██████▏   | 80/129 [00:28<00:17,  2.77batch/s]"
     ]
    },
    {
     "name": "stdout",
     "output_type": "stream",
     "text": [
      "\n",
      "Error in training batch: CUDA out of memory. Tried to allocate 188.00 MiB. GPU 0 has a total capacity of 5.77 GiB of which 86.31 MiB is free. Including non-PyTorch memory, this process has 5.67 GiB memory in use. Of the allocated memory 4.07 GiB is allocated by PyTorch, and 1.49 GiB is reserved by PyTorch but unallocated. If reserved but unallocated memory is large try setting PYTORCH_CUDA_ALLOC_CONF=expandable_segments:True to avoid fragmentation.  See documentation for Memory Management  (https://pytorch.org/docs/stable/notes/cuda.html#environment-variables)\n"
     ]
    },
    {
     "name": "stderr",
     "output_type": "stream",
     "text": [
      "Epoch 2/4 [Train]:  63%|██████▎   | 81/129 [00:28<00:17,  2.79batch/s]"
     ]
    },
    {
     "name": "stdout",
     "output_type": "stream",
     "text": [
      "\n",
      "Error in training batch: CUDA out of memory. Tried to allocate 188.00 MiB. GPU 0 has a total capacity of 5.77 GiB of which 86.31 MiB is free. Including non-PyTorch memory, this process has 5.67 GiB memory in use. Of the allocated memory 4.07 GiB is allocated by PyTorch, and 1.49 GiB is reserved by PyTorch but unallocated. If reserved but unallocated memory is large try setting PYTORCH_CUDA_ALLOC_CONF=expandable_segments:True to avoid fragmentation.  See documentation for Memory Management  (https://pytorch.org/docs/stable/notes/cuda.html#environment-variables)\n"
     ]
    },
    {
     "name": "stderr",
     "output_type": "stream",
     "text": [
      "Epoch 2/4 [Train]:  64%|██████▎   | 82/129 [00:29<00:16,  2.79batch/s]"
     ]
    },
    {
     "name": "stdout",
     "output_type": "stream",
     "text": [
      "\n",
      "Error in training batch: CUDA out of memory. Tried to allocate 188.00 MiB. GPU 0 has a total capacity of 5.77 GiB of which 86.31 MiB is free. Including non-PyTorch memory, this process has 5.67 GiB memory in use. Of the allocated memory 4.07 GiB is allocated by PyTorch, and 1.49 GiB is reserved by PyTorch but unallocated. If reserved but unallocated memory is large try setting PYTORCH_CUDA_ALLOC_CONF=expandable_segments:True to avoid fragmentation.  See documentation for Memory Management  (https://pytorch.org/docs/stable/notes/cuda.html#environment-variables)\n"
     ]
    },
    {
     "name": "stderr",
     "output_type": "stream",
     "text": [
      "Epoch 2/4 [Train]:  64%|██████▍   | 83/129 [00:29<00:16,  2.78batch/s]"
     ]
    },
    {
     "name": "stdout",
     "output_type": "stream",
     "text": [
      "\n",
      "Error in training batch: CUDA out of memory. Tried to allocate 188.00 MiB. GPU 0 has a total capacity of 5.77 GiB of which 86.31 MiB is free. Including non-PyTorch memory, this process has 5.67 GiB memory in use. Of the allocated memory 4.07 GiB is allocated by PyTorch, and 1.49 GiB is reserved by PyTorch but unallocated. If reserved but unallocated memory is large try setting PYTORCH_CUDA_ALLOC_CONF=expandable_segments:True to avoid fragmentation.  See documentation for Memory Management  (https://pytorch.org/docs/stable/notes/cuda.html#environment-variables)\n"
     ]
    },
    {
     "name": "stderr",
     "output_type": "stream",
     "text": [
      "Epoch 2/4 [Train]:  65%|██████▌   | 84/129 [00:29<00:16,  2.80batch/s]"
     ]
    },
    {
     "name": "stdout",
     "output_type": "stream",
     "text": [
      "\n",
      "Error in training batch: CUDA out of memory. Tried to allocate 188.00 MiB. GPU 0 has a total capacity of 5.77 GiB of which 86.31 MiB is free. Including non-PyTorch memory, this process has 5.67 GiB memory in use. Of the allocated memory 4.07 GiB is allocated by PyTorch, and 1.49 GiB is reserved by PyTorch but unallocated. If reserved but unallocated memory is large try setting PYTORCH_CUDA_ALLOC_CONF=expandable_segments:True to avoid fragmentation.  See documentation for Memory Management  (https://pytorch.org/docs/stable/notes/cuda.html#environment-variables)\n"
     ]
    },
    {
     "name": "stderr",
     "output_type": "stream",
     "text": [
      "Epoch 2/4 [Train]:  66%|██████▌   | 85/129 [00:30<00:15,  2.81batch/s]"
     ]
    },
    {
     "name": "stdout",
     "output_type": "stream",
     "text": [
      "\n",
      "Error in training batch: CUDA out of memory. Tried to allocate 188.00 MiB. GPU 0 has a total capacity of 5.77 GiB of which 86.31 MiB is free. Including non-PyTorch memory, this process has 5.67 GiB memory in use. Of the allocated memory 4.07 GiB is allocated by PyTorch, and 1.49 GiB is reserved by PyTorch but unallocated. If reserved but unallocated memory is large try setting PYTORCH_CUDA_ALLOC_CONF=expandable_segments:True to avoid fragmentation.  See documentation for Memory Management  (https://pytorch.org/docs/stable/notes/cuda.html#environment-variables)\n"
     ]
    },
    {
     "name": "stderr",
     "output_type": "stream",
     "text": [
      "Epoch 2/4 [Train]:  67%|██████▋   | 86/129 [00:30<00:15,  2.83batch/s]"
     ]
    },
    {
     "name": "stdout",
     "output_type": "stream",
     "text": [
      "\n",
      "Error in training batch: CUDA out of memory. Tried to allocate 188.00 MiB. GPU 0 has a total capacity of 5.77 GiB of which 86.31 MiB is free. Including non-PyTorch memory, this process has 5.67 GiB memory in use. Of the allocated memory 4.07 GiB is allocated by PyTorch, and 1.49 GiB is reserved by PyTorch but unallocated. If reserved but unallocated memory is large try setting PYTORCH_CUDA_ALLOC_CONF=expandable_segments:True to avoid fragmentation.  See documentation for Memory Management  (https://pytorch.org/docs/stable/notes/cuda.html#environment-variables)\n"
     ]
    },
    {
     "name": "stderr",
     "output_type": "stream",
     "text": [
      "Epoch 2/4 [Train]:  67%|██████▋   | 87/129 [00:30<00:14,  2.83batch/s]"
     ]
    },
    {
     "name": "stdout",
     "output_type": "stream",
     "text": [
      "\n",
      "Error in training batch: CUDA out of memory. Tried to allocate 188.00 MiB. GPU 0 has a total capacity of 5.77 GiB of which 86.31 MiB is free. Including non-PyTorch memory, this process has 5.67 GiB memory in use. Of the allocated memory 4.07 GiB is allocated by PyTorch, and 1.49 GiB is reserved by PyTorch but unallocated. If reserved but unallocated memory is large try setting PYTORCH_CUDA_ALLOC_CONF=expandable_segments:True to avoid fragmentation.  See documentation for Memory Management  (https://pytorch.org/docs/stable/notes/cuda.html#environment-variables)\n"
     ]
    },
    {
     "name": "stderr",
     "output_type": "stream",
     "text": [
      "Epoch 2/4 [Train]:  68%|██████▊   | 88/129 [00:31<00:14,  2.82batch/s]"
     ]
    },
    {
     "name": "stdout",
     "output_type": "stream",
     "text": [
      "\n",
      "Error in training batch: CUDA out of memory. Tried to allocate 188.00 MiB. GPU 0 has a total capacity of 5.77 GiB of which 86.31 MiB is free. Including non-PyTorch memory, this process has 5.67 GiB memory in use. Of the allocated memory 4.07 GiB is allocated by PyTorch, and 1.49 GiB is reserved by PyTorch but unallocated. If reserved but unallocated memory is large try setting PYTORCH_CUDA_ALLOC_CONF=expandable_segments:True to avoid fragmentation.  See documentation for Memory Management  (https://pytorch.org/docs/stable/notes/cuda.html#environment-variables)\n"
     ]
    },
    {
     "name": "stderr",
     "output_type": "stream",
     "text": [
      "Epoch 2/4 [Train]:  69%|██████▉   | 89/129 [00:31<00:14,  2.79batch/s]"
     ]
    },
    {
     "name": "stdout",
     "output_type": "stream",
     "text": [
      "\n",
      "Error in training batch: CUDA out of memory. Tried to allocate 188.00 MiB. GPU 0 has a total capacity of 5.77 GiB of which 86.31 MiB is free. Including non-PyTorch memory, this process has 5.67 GiB memory in use. Of the allocated memory 4.07 GiB is allocated by PyTorch, and 1.49 GiB is reserved by PyTorch but unallocated. If reserved but unallocated memory is large try setting PYTORCH_CUDA_ALLOC_CONF=expandable_segments:True to avoid fragmentation.  See documentation for Memory Management  (https://pytorch.org/docs/stable/notes/cuda.html#environment-variables)\n"
     ]
    },
    {
     "name": "stderr",
     "output_type": "stream",
     "text": [
      "Epoch 2/4 [Train]:  70%|██████▉   | 90/129 [00:31<00:13,  2.81batch/s]"
     ]
    },
    {
     "name": "stdout",
     "output_type": "stream",
     "text": [
      "\n",
      "Error in training batch: CUDA out of memory. Tried to allocate 188.00 MiB. GPU 0 has a total capacity of 5.77 GiB of which 86.31 MiB is free. Including non-PyTorch memory, this process has 5.67 GiB memory in use. Of the allocated memory 4.07 GiB is allocated by PyTorch, and 1.49 GiB is reserved by PyTorch but unallocated. If reserved but unallocated memory is large try setting PYTORCH_CUDA_ALLOC_CONF=expandable_segments:True to avoid fragmentation.  See documentation for Memory Management  (https://pytorch.org/docs/stable/notes/cuda.html#environment-variables)\n"
     ]
    },
    {
     "name": "stderr",
     "output_type": "stream",
     "text": [
      "Epoch 2/4 [Train]:  71%|███████   | 91/129 [00:32<00:13,  2.81batch/s]"
     ]
    },
    {
     "name": "stdout",
     "output_type": "stream",
     "text": [
      "\n",
      "Error in training batch: CUDA out of memory. Tried to allocate 188.00 MiB. GPU 0 has a total capacity of 5.77 GiB of which 86.31 MiB is free. Including non-PyTorch memory, this process has 5.67 GiB memory in use. Of the allocated memory 4.07 GiB is allocated by PyTorch, and 1.49 GiB is reserved by PyTorch but unallocated. If reserved but unallocated memory is large try setting PYTORCH_CUDA_ALLOC_CONF=expandable_segments:True to avoid fragmentation.  See documentation for Memory Management  (https://pytorch.org/docs/stable/notes/cuda.html#environment-variables)\n"
     ]
    },
    {
     "name": "stderr",
     "output_type": "stream",
     "text": [
      "Epoch 2/4 [Train]:  71%|███████▏  | 92/129 [00:32<00:13,  2.79batch/s]"
     ]
    },
    {
     "name": "stdout",
     "output_type": "stream",
     "text": [
      "\n",
      "Error in training batch: CUDA out of memory. Tried to allocate 188.00 MiB. GPU 0 has a total capacity of 5.77 GiB of which 86.31 MiB is free. Including non-PyTorch memory, this process has 5.67 GiB memory in use. Of the allocated memory 4.07 GiB is allocated by PyTorch, and 1.49 GiB is reserved by PyTorch but unallocated. If reserved but unallocated memory is large try setting PYTORCH_CUDA_ALLOC_CONF=expandable_segments:True to avoid fragmentation.  See documentation for Memory Management  (https://pytorch.org/docs/stable/notes/cuda.html#environment-variables)\n"
     ]
    },
    {
     "name": "stderr",
     "output_type": "stream",
     "text": [
      "Epoch 2/4 [Train]:  72%|███████▏  | 93/129 [00:33<00:12,  2.78batch/s]"
     ]
    },
    {
     "name": "stdout",
     "output_type": "stream",
     "text": [
      "\n",
      "Error in training batch: CUDA out of memory. Tried to allocate 188.00 MiB. GPU 0 has a total capacity of 5.77 GiB of which 86.31 MiB is free. Including non-PyTorch memory, this process has 5.67 GiB memory in use. Of the allocated memory 4.07 GiB is allocated by PyTorch, and 1.49 GiB is reserved by PyTorch but unallocated. If reserved but unallocated memory is large try setting PYTORCH_CUDA_ALLOC_CONF=expandable_segments:True to avoid fragmentation.  See documentation for Memory Management  (https://pytorch.org/docs/stable/notes/cuda.html#environment-variables)\n"
     ]
    },
    {
     "name": "stderr",
     "output_type": "stream",
     "text": [
      "Epoch 2/4 [Train]:  73%|███████▎  | 94/129 [00:33<00:12,  2.81batch/s]"
     ]
    },
    {
     "name": "stdout",
     "output_type": "stream",
     "text": [
      "\n",
      "Error in training batch: CUDA out of memory. Tried to allocate 188.00 MiB. GPU 0 has a total capacity of 5.77 GiB of which 86.31 MiB is free. Including non-PyTorch memory, this process has 5.67 GiB memory in use. Of the allocated memory 4.07 GiB is allocated by PyTorch, and 1.49 GiB is reserved by PyTorch but unallocated. If reserved but unallocated memory is large try setting PYTORCH_CUDA_ALLOC_CONF=expandable_segments:True to avoid fragmentation.  See documentation for Memory Management  (https://pytorch.org/docs/stable/notes/cuda.html#environment-variables)\n"
     ]
    },
    {
     "name": "stderr",
     "output_type": "stream",
     "text": [
      "Epoch 2/4 [Train]:  74%|███████▎  | 95/129 [00:33<00:12,  2.81batch/s]"
     ]
    },
    {
     "name": "stdout",
     "output_type": "stream",
     "text": [
      "\n",
      "Error in training batch: CUDA out of memory. Tried to allocate 188.00 MiB. GPU 0 has a total capacity of 5.77 GiB of which 86.31 MiB is free. Including non-PyTorch memory, this process has 5.67 GiB memory in use. Of the allocated memory 4.07 GiB is allocated by PyTorch, and 1.49 GiB is reserved by PyTorch but unallocated. If reserved but unallocated memory is large try setting PYTORCH_CUDA_ALLOC_CONF=expandable_segments:True to avoid fragmentation.  See documentation for Memory Management  (https://pytorch.org/docs/stable/notes/cuda.html#environment-variables)\n"
     ]
    },
    {
     "name": "stderr",
     "output_type": "stream",
     "text": [
      "Epoch 2/4 [Train]:  74%|███████▍  | 96/129 [00:34<00:11,  2.81batch/s]"
     ]
    },
    {
     "name": "stdout",
     "output_type": "stream",
     "text": [
      "\n",
      "Error in training batch: CUDA out of memory. Tried to allocate 188.00 MiB. GPU 0 has a total capacity of 5.77 GiB of which 86.31 MiB is free. Including non-PyTorch memory, this process has 5.67 GiB memory in use. Of the allocated memory 4.07 GiB is allocated by PyTorch, and 1.49 GiB is reserved by PyTorch but unallocated. If reserved but unallocated memory is large try setting PYTORCH_CUDA_ALLOC_CONF=expandable_segments:True to avoid fragmentation.  See documentation for Memory Management  (https://pytorch.org/docs/stable/notes/cuda.html#environment-variables)\n"
     ]
    },
    {
     "name": "stderr",
     "output_type": "stream",
     "text": [
      "Epoch 2/4 [Train]:  75%|███████▌  | 97/129 [00:34<00:11,  2.83batch/s]"
     ]
    },
    {
     "name": "stdout",
     "output_type": "stream",
     "text": [
      "\n",
      "Error in training batch: CUDA out of memory. Tried to allocate 188.00 MiB. GPU 0 has a total capacity of 5.77 GiB of which 86.31 MiB is free. Including non-PyTorch memory, this process has 5.67 GiB memory in use. Of the allocated memory 4.07 GiB is allocated by PyTorch, and 1.49 GiB is reserved by PyTorch but unallocated. If reserved but unallocated memory is large try setting PYTORCH_CUDA_ALLOC_CONF=expandable_segments:True to avoid fragmentation.  See documentation for Memory Management  (https://pytorch.org/docs/stable/notes/cuda.html#environment-variables)\n"
     ]
    },
    {
     "name": "stderr",
     "output_type": "stream",
     "text": [
      "Epoch 2/4 [Train]:  76%|███████▌  | 98/129 [00:34<00:11,  2.77batch/s]"
     ]
    },
    {
     "name": "stdout",
     "output_type": "stream",
     "text": [
      "\n",
      "Error in training batch: CUDA out of memory. Tried to allocate 188.00 MiB. GPU 0 has a total capacity of 5.77 GiB of which 86.31 MiB is free. Including non-PyTorch memory, this process has 5.67 GiB memory in use. Of the allocated memory 4.07 GiB is allocated by PyTorch, and 1.49 GiB is reserved by PyTorch but unallocated. If reserved but unallocated memory is large try setting PYTORCH_CUDA_ALLOC_CONF=expandable_segments:True to avoid fragmentation.  See documentation for Memory Management  (https://pytorch.org/docs/stable/notes/cuda.html#environment-variables)\n"
     ]
    },
    {
     "name": "stderr",
     "output_type": "stream",
     "text": [
      "Epoch 2/4 [Train]:  77%|███████▋  | 99/129 [00:35<00:10,  2.79batch/s]"
     ]
    },
    {
     "name": "stdout",
     "output_type": "stream",
     "text": [
      "\n",
      "Error in training batch: CUDA out of memory. Tried to allocate 188.00 MiB. GPU 0 has a total capacity of 5.77 GiB of which 86.31 MiB is free. Including non-PyTorch memory, this process has 5.67 GiB memory in use. Of the allocated memory 4.07 GiB is allocated by PyTorch, and 1.49 GiB is reserved by PyTorch but unallocated. If reserved but unallocated memory is large try setting PYTORCH_CUDA_ALLOC_CONF=expandable_segments:True to avoid fragmentation.  See documentation for Memory Management  (https://pytorch.org/docs/stable/notes/cuda.html#environment-variables)\n"
     ]
    },
    {
     "name": "stderr",
     "output_type": "stream",
     "text": [
      "Epoch 2/4 [Train]:  78%|███████▊  | 100/129 [00:35<00:10,  2.81batch/s]"
     ]
    },
    {
     "name": "stdout",
     "output_type": "stream",
     "text": [
      "\n",
      "Error in training batch: CUDA out of memory. Tried to allocate 188.00 MiB. GPU 0 has a total capacity of 5.77 GiB of which 86.31 MiB is free. Including non-PyTorch memory, this process has 5.67 GiB memory in use. Of the allocated memory 4.07 GiB is allocated by PyTorch, and 1.49 GiB is reserved by PyTorch but unallocated. If reserved but unallocated memory is large try setting PYTORCH_CUDA_ALLOC_CONF=expandable_segments:True to avoid fragmentation.  See documentation for Memory Management  (https://pytorch.org/docs/stable/notes/cuda.html#environment-variables)\n"
     ]
    },
    {
     "name": "stderr",
     "output_type": "stream",
     "text": [
      "Epoch 2/4 [Train]:  78%|███████▊  | 101/129 [00:35<00:10,  2.79batch/s]"
     ]
    },
    {
     "name": "stdout",
     "output_type": "stream",
     "text": [
      "\n",
      "Error in training batch: CUDA out of memory. Tried to allocate 188.00 MiB. GPU 0 has a total capacity of 5.77 GiB of which 86.31 MiB is free. Including non-PyTorch memory, this process has 5.67 GiB memory in use. Of the allocated memory 4.07 GiB is allocated by PyTorch, and 1.49 GiB is reserved by PyTorch but unallocated. If reserved but unallocated memory is large try setting PYTORCH_CUDA_ALLOC_CONF=expandable_segments:True to avoid fragmentation.  See documentation for Memory Management  (https://pytorch.org/docs/stable/notes/cuda.html#environment-variables)\n"
     ]
    },
    {
     "name": "stderr",
     "output_type": "stream",
     "text": [
      "Epoch 2/4 [Train]:  79%|███████▉  | 102/129 [00:36<00:09,  2.77batch/s]"
     ]
    },
    {
     "name": "stdout",
     "output_type": "stream",
     "text": [
      "\n",
      "Error in training batch: CUDA out of memory. Tried to allocate 188.00 MiB. GPU 0 has a total capacity of 5.77 GiB of which 86.31 MiB is free. Including non-PyTorch memory, this process has 5.67 GiB memory in use. Of the allocated memory 4.07 GiB is allocated by PyTorch, and 1.49 GiB is reserved by PyTorch but unallocated. If reserved but unallocated memory is large try setting PYTORCH_CUDA_ALLOC_CONF=expandable_segments:True to avoid fragmentation.  See documentation for Memory Management  (https://pytorch.org/docs/stable/notes/cuda.html#environment-variables)\n"
     ]
    },
    {
     "name": "stderr",
     "output_type": "stream",
     "text": [
      "Epoch 2/4 [Train]:  80%|███████▉  | 103/129 [00:36<00:09,  2.80batch/s]"
     ]
    },
    {
     "name": "stdout",
     "output_type": "stream",
     "text": [
      "\n",
      "Error in training batch: CUDA out of memory. Tried to allocate 188.00 MiB. GPU 0 has a total capacity of 5.77 GiB of which 86.31 MiB is free. Including non-PyTorch memory, this process has 5.67 GiB memory in use. Of the allocated memory 4.07 GiB is allocated by PyTorch, and 1.49 GiB is reserved by PyTorch but unallocated. If reserved but unallocated memory is large try setting PYTORCH_CUDA_ALLOC_CONF=expandable_segments:True to avoid fragmentation.  See documentation for Memory Management  (https://pytorch.org/docs/stable/notes/cuda.html#environment-variables)\n"
     ]
    },
    {
     "name": "stderr",
     "output_type": "stream",
     "text": [
      "Epoch 2/4 [Train]:  81%|████████  | 104/129 [00:36<00:08,  2.81batch/s]"
     ]
    },
    {
     "name": "stdout",
     "output_type": "stream",
     "text": [
      "\n",
      "Error in training batch: CUDA out of memory. Tried to allocate 188.00 MiB. GPU 0 has a total capacity of 5.77 GiB of which 86.31 MiB is free. Including non-PyTorch memory, this process has 5.67 GiB memory in use. Of the allocated memory 4.07 GiB is allocated by PyTorch, and 1.49 GiB is reserved by PyTorch but unallocated. If reserved but unallocated memory is large try setting PYTORCH_CUDA_ALLOC_CONF=expandable_segments:True to avoid fragmentation.  See documentation for Memory Management  (https://pytorch.org/docs/stable/notes/cuda.html#environment-variables)\n"
     ]
    },
    {
     "name": "stderr",
     "output_type": "stream",
     "text": [
      "Epoch 2/4 [Train]:  81%|████████▏ | 105/129 [00:37<00:08,  2.79batch/s]"
     ]
    },
    {
     "name": "stdout",
     "output_type": "stream",
     "text": [
      "\n",
      "Error in training batch: CUDA out of memory. Tried to allocate 188.00 MiB. GPU 0 has a total capacity of 5.77 GiB of which 86.31 MiB is free. Including non-PyTorch memory, this process has 5.67 GiB memory in use. Of the allocated memory 4.07 GiB is allocated by PyTorch, and 1.49 GiB is reserved by PyTorch but unallocated. If reserved but unallocated memory is large try setting PYTORCH_CUDA_ALLOC_CONF=expandable_segments:True to avoid fragmentation.  See documentation for Memory Management  (https://pytorch.org/docs/stable/notes/cuda.html#environment-variables)\n"
     ]
    },
    {
     "name": "stderr",
     "output_type": "stream",
     "text": [
      "Epoch 2/4 [Train]:  82%|████████▏ | 106/129 [00:37<00:08,  2.80batch/s]"
     ]
    },
    {
     "name": "stdout",
     "output_type": "stream",
     "text": [
      "\n",
      "Error in training batch: CUDA out of memory. Tried to allocate 188.00 MiB. GPU 0 has a total capacity of 5.77 GiB of which 86.31 MiB is free. Including non-PyTorch memory, this process has 5.67 GiB memory in use. Of the allocated memory 4.07 GiB is allocated by PyTorch, and 1.49 GiB is reserved by PyTorch but unallocated. If reserved but unallocated memory is large try setting PYTORCH_CUDA_ALLOC_CONF=expandable_segments:True to avoid fragmentation.  See documentation for Memory Management  (https://pytorch.org/docs/stable/notes/cuda.html#environment-variables)\n"
     ]
    },
    {
     "name": "stderr",
     "output_type": "stream",
     "text": [
      "Epoch 2/4 [Train]:  83%|████████▎ | 107/129 [00:38<00:07,  2.78batch/s]"
     ]
    },
    {
     "name": "stdout",
     "output_type": "stream",
     "text": [
      "\n",
      "Error in training batch: CUDA out of memory. Tried to allocate 188.00 MiB. GPU 0 has a total capacity of 5.77 GiB of which 86.31 MiB is free. Including non-PyTorch memory, this process has 5.67 GiB memory in use. Of the allocated memory 4.07 GiB is allocated by PyTorch, and 1.49 GiB is reserved by PyTorch but unallocated. If reserved but unallocated memory is large try setting PYTORCH_CUDA_ALLOC_CONF=expandable_segments:True to avoid fragmentation.  See documentation for Memory Management  (https://pytorch.org/docs/stable/notes/cuda.html#environment-variables)\n"
     ]
    },
    {
     "name": "stderr",
     "output_type": "stream",
     "text": [
      "Epoch 2/4 [Train]:  84%|████████▎ | 108/129 [00:38<00:07,  2.77batch/s]"
     ]
    },
    {
     "name": "stdout",
     "output_type": "stream",
     "text": [
      "\n",
      "Error in training batch: CUDA out of memory. Tried to allocate 188.00 MiB. GPU 0 has a total capacity of 5.77 GiB of which 86.31 MiB is free. Including non-PyTorch memory, this process has 5.67 GiB memory in use. Of the allocated memory 4.07 GiB is allocated by PyTorch, and 1.49 GiB is reserved by PyTorch but unallocated. If reserved but unallocated memory is large try setting PYTORCH_CUDA_ALLOC_CONF=expandable_segments:True to avoid fragmentation.  See documentation for Memory Management  (https://pytorch.org/docs/stable/notes/cuda.html#environment-variables)\n"
     ]
    },
    {
     "name": "stderr",
     "output_type": "stream",
     "text": [
      "Epoch 2/4 [Train]:  84%|████████▍ | 109/129 [00:38<00:07,  2.82batch/s]"
     ]
    },
    {
     "name": "stdout",
     "output_type": "stream",
     "text": [
      "\n",
      "Error in training batch: CUDA out of memory. Tried to allocate 188.00 MiB. GPU 0 has a total capacity of 5.77 GiB of which 86.31 MiB is free. Including non-PyTorch memory, this process has 5.67 GiB memory in use. Of the allocated memory 4.07 GiB is allocated by PyTorch, and 1.49 GiB is reserved by PyTorch but unallocated. If reserved but unallocated memory is large try setting PYTORCH_CUDA_ALLOC_CONF=expandable_segments:True to avoid fragmentation.  See documentation for Memory Management  (https://pytorch.org/docs/stable/notes/cuda.html#environment-variables)\n"
     ]
    },
    {
     "name": "stderr",
     "output_type": "stream",
     "text": [
      "Epoch 2/4 [Train]:  85%|████████▌ | 110/129 [00:39<00:06,  2.81batch/s]"
     ]
    },
    {
     "name": "stdout",
     "output_type": "stream",
     "text": [
      "\n",
      "Error in training batch: CUDA out of memory. Tried to allocate 188.00 MiB. GPU 0 has a total capacity of 5.77 GiB of which 86.31 MiB is free. Including non-PyTorch memory, this process has 5.67 GiB memory in use. Of the allocated memory 4.07 GiB is allocated by PyTorch, and 1.49 GiB is reserved by PyTorch but unallocated. If reserved but unallocated memory is large try setting PYTORCH_CUDA_ALLOC_CONF=expandable_segments:True to avoid fragmentation.  See documentation for Memory Management  (https://pytorch.org/docs/stable/notes/cuda.html#environment-variables)\n"
     ]
    },
    {
     "name": "stderr",
     "output_type": "stream",
     "text": [
      "Epoch 2/4 [Train]:  86%|████████▌ | 111/129 [00:39<00:06,  2.78batch/s]"
     ]
    },
    {
     "name": "stdout",
     "output_type": "stream",
     "text": [
      "\n",
      "Error in training batch: CUDA out of memory. Tried to allocate 188.00 MiB. GPU 0 has a total capacity of 5.77 GiB of which 86.31 MiB is free. Including non-PyTorch memory, this process has 5.67 GiB memory in use. Of the allocated memory 4.07 GiB is allocated by PyTorch, and 1.49 GiB is reserved by PyTorch but unallocated. If reserved but unallocated memory is large try setting PYTORCH_CUDA_ALLOC_CONF=expandable_segments:True to avoid fragmentation.  See documentation for Memory Management  (https://pytorch.org/docs/stable/notes/cuda.html#environment-variables)\n"
     ]
    },
    {
     "name": "stderr",
     "output_type": "stream",
     "text": [
      "Epoch 2/4 [Train]:  87%|████████▋ | 112/129 [00:39<00:06,  2.78batch/s]"
     ]
    },
    {
     "name": "stdout",
     "output_type": "stream",
     "text": [
      "\n",
      "Error in training batch: CUDA out of memory. Tried to allocate 188.00 MiB. GPU 0 has a total capacity of 5.77 GiB of which 86.31 MiB is free. Including non-PyTorch memory, this process has 5.67 GiB memory in use. Of the allocated memory 4.07 GiB is allocated by PyTorch, and 1.49 GiB is reserved by PyTorch but unallocated. If reserved but unallocated memory is large try setting PYTORCH_CUDA_ALLOC_CONF=expandable_segments:True to avoid fragmentation.  See documentation for Memory Management  (https://pytorch.org/docs/stable/notes/cuda.html#environment-variables)\n"
     ]
    },
    {
     "name": "stderr",
     "output_type": "stream",
     "text": [
      "Epoch 2/4 [Train]:  88%|████████▊ | 113/129 [00:40<00:05,  2.79batch/s]"
     ]
    },
    {
     "name": "stdout",
     "output_type": "stream",
     "text": [
      "\n",
      "Error in training batch: CUDA out of memory. Tried to allocate 188.00 MiB. GPU 0 has a total capacity of 5.77 GiB of which 86.31 MiB is free. Including non-PyTorch memory, this process has 5.67 GiB memory in use. Of the allocated memory 4.07 GiB is allocated by PyTorch, and 1.49 GiB is reserved by PyTorch but unallocated. If reserved but unallocated memory is large try setting PYTORCH_CUDA_ALLOC_CONF=expandable_segments:True to avoid fragmentation.  See documentation for Memory Management  (https://pytorch.org/docs/stable/notes/cuda.html#environment-variables)\n"
     ]
    },
    {
     "name": "stderr",
     "output_type": "stream",
     "text": [
      "Epoch 2/4 [Train]:  88%|████████▊ | 114/129 [00:40<00:05,  2.80batch/s]"
     ]
    },
    {
     "name": "stdout",
     "output_type": "stream",
     "text": [
      "\n",
      "Error in training batch: CUDA out of memory. Tried to allocate 188.00 MiB. GPU 0 has a total capacity of 5.77 GiB of which 86.31 MiB is free. Including non-PyTorch memory, this process has 5.67 GiB memory in use. Of the allocated memory 4.07 GiB is allocated by PyTorch, and 1.49 GiB is reserved by PyTorch but unallocated. If reserved but unallocated memory is large try setting PYTORCH_CUDA_ALLOC_CONF=expandable_segments:True to avoid fragmentation.  See documentation for Memory Management  (https://pytorch.org/docs/stable/notes/cuda.html#environment-variables)\n"
     ]
    },
    {
     "name": "stderr",
     "output_type": "stream",
     "text": [
      "Epoch 2/4 [Train]:  89%|████████▉ | 115/129 [00:40<00:04,  2.82batch/s]"
     ]
    },
    {
     "name": "stdout",
     "output_type": "stream",
     "text": [
      "\n",
      "Error in training batch: CUDA out of memory. Tried to allocate 188.00 MiB. GPU 0 has a total capacity of 5.77 GiB of which 86.31 MiB is free. Including non-PyTorch memory, this process has 5.67 GiB memory in use. Of the allocated memory 4.07 GiB is allocated by PyTorch, and 1.49 GiB is reserved by PyTorch but unallocated. If reserved but unallocated memory is large try setting PYTORCH_CUDA_ALLOC_CONF=expandable_segments:True to avoid fragmentation.  See documentation for Memory Management  (https://pytorch.org/docs/stable/notes/cuda.html#environment-variables)\n"
     ]
    },
    {
     "name": "stderr",
     "output_type": "stream",
     "text": [
      "Epoch 2/4 [Train]:  90%|████████▉ | 116/129 [00:41<00:04,  2.79batch/s]"
     ]
    },
    {
     "name": "stdout",
     "output_type": "stream",
     "text": [
      "\n",
      "Error in training batch: CUDA out of memory. Tried to allocate 188.00 MiB. GPU 0 has a total capacity of 5.77 GiB of which 86.31 MiB is free. Including non-PyTorch memory, this process has 5.67 GiB memory in use. Of the allocated memory 4.07 GiB is allocated by PyTorch, and 1.49 GiB is reserved by PyTorch but unallocated. If reserved but unallocated memory is large try setting PYTORCH_CUDA_ALLOC_CONF=expandable_segments:True to avoid fragmentation.  See documentation for Memory Management  (https://pytorch.org/docs/stable/notes/cuda.html#environment-variables)\n"
     ]
    },
    {
     "name": "stderr",
     "output_type": "stream",
     "text": [
      "Epoch 2/4 [Train]:  91%|█████████ | 117/129 [00:41<00:04,  2.77batch/s]"
     ]
    },
    {
     "name": "stdout",
     "output_type": "stream",
     "text": [
      "\n",
      "Error in training batch: CUDA out of memory. Tried to allocate 188.00 MiB. GPU 0 has a total capacity of 5.77 GiB of which 86.31 MiB is free. Including non-PyTorch memory, this process has 5.67 GiB memory in use. Of the allocated memory 4.07 GiB is allocated by PyTorch, and 1.49 GiB is reserved by PyTorch but unallocated. If reserved but unallocated memory is large try setting PYTORCH_CUDA_ALLOC_CONF=expandable_segments:True to avoid fragmentation.  See documentation for Memory Management  (https://pytorch.org/docs/stable/notes/cuda.html#environment-variables)\n"
     ]
    },
    {
     "name": "stderr",
     "output_type": "stream",
     "text": [
      "Epoch 2/4 [Train]:  91%|█████████▏| 118/129 [00:41<00:03,  2.81batch/s]"
     ]
    },
    {
     "name": "stdout",
     "output_type": "stream",
     "text": [
      "\n",
      "Error in training batch: CUDA out of memory. Tried to allocate 188.00 MiB. GPU 0 has a total capacity of 5.77 GiB of which 86.31 MiB is free. Including non-PyTorch memory, this process has 5.67 GiB memory in use. Of the allocated memory 4.07 GiB is allocated by PyTorch, and 1.49 GiB is reserved by PyTorch but unallocated. If reserved but unallocated memory is large try setting PYTORCH_CUDA_ALLOC_CONF=expandable_segments:True to avoid fragmentation.  See documentation for Memory Management  (https://pytorch.org/docs/stable/notes/cuda.html#environment-variables)\n"
     ]
    },
    {
     "name": "stderr",
     "output_type": "stream",
     "text": [
      "Epoch 2/4 [Train]:  92%|█████████▏| 119/129 [00:42<00:03,  2.83batch/s]"
     ]
    },
    {
     "name": "stdout",
     "output_type": "stream",
     "text": [
      "\n",
      "Error in training batch: CUDA out of memory. Tried to allocate 188.00 MiB. GPU 0 has a total capacity of 5.77 GiB of which 86.31 MiB is free. Including non-PyTorch memory, this process has 5.67 GiB memory in use. Of the allocated memory 4.07 GiB is allocated by PyTorch, and 1.49 GiB is reserved by PyTorch but unallocated. If reserved but unallocated memory is large try setting PYTORCH_CUDA_ALLOC_CONF=expandable_segments:True to avoid fragmentation.  See documentation for Memory Management  (https://pytorch.org/docs/stable/notes/cuda.html#environment-variables)\n"
     ]
    },
    {
     "name": "stderr",
     "output_type": "stream",
     "text": [
      "Epoch 2/4 [Train]:  93%|█████████▎| 120/129 [00:42<00:03,  2.80batch/s]"
     ]
    },
    {
     "name": "stdout",
     "output_type": "stream",
     "text": [
      "\n",
      "Error in training batch: CUDA out of memory. Tried to allocate 188.00 MiB. GPU 0 has a total capacity of 5.77 GiB of which 86.31 MiB is free. Including non-PyTorch memory, this process has 5.67 GiB memory in use. Of the allocated memory 4.07 GiB is allocated by PyTorch, and 1.49 GiB is reserved by PyTorch but unallocated. If reserved but unallocated memory is large try setting PYTORCH_CUDA_ALLOC_CONF=expandable_segments:True to avoid fragmentation.  See documentation for Memory Management  (https://pytorch.org/docs/stable/notes/cuda.html#environment-variables)\n"
     ]
    },
    {
     "name": "stderr",
     "output_type": "stream",
     "text": [
      "Epoch 2/4 [Train]:  94%|█████████▍| 121/129 [00:43<00:02,  2.79batch/s]"
     ]
    },
    {
     "name": "stdout",
     "output_type": "stream",
     "text": [
      "\n",
      "Error in training batch: CUDA out of memory. Tried to allocate 188.00 MiB. GPU 0 has a total capacity of 5.77 GiB of which 86.31 MiB is free. Including non-PyTorch memory, this process has 5.67 GiB memory in use. Of the allocated memory 4.07 GiB is allocated by PyTorch, and 1.49 GiB is reserved by PyTorch but unallocated. If reserved but unallocated memory is large try setting PYTORCH_CUDA_ALLOC_CONF=expandable_segments:True to avoid fragmentation.  See documentation for Memory Management  (https://pytorch.org/docs/stable/notes/cuda.html#environment-variables)\n"
     ]
    },
    {
     "name": "stderr",
     "output_type": "stream",
     "text": [
      "Epoch 2/4 [Train]:  95%|█████████▍| 122/129 [00:43<00:02,  2.77batch/s]"
     ]
    },
    {
     "name": "stdout",
     "output_type": "stream",
     "text": [
      "\n",
      "Error in training batch: CUDA out of memory. Tried to allocate 188.00 MiB. GPU 0 has a total capacity of 5.77 GiB of which 86.31 MiB is free. Including non-PyTorch memory, this process has 5.67 GiB memory in use. Of the allocated memory 4.07 GiB is allocated by PyTorch, and 1.49 GiB is reserved by PyTorch but unallocated. If reserved but unallocated memory is large try setting PYTORCH_CUDA_ALLOC_CONF=expandable_segments:True to avoid fragmentation.  See documentation for Memory Management  (https://pytorch.org/docs/stable/notes/cuda.html#environment-variables)\n"
     ]
    },
    {
     "name": "stderr",
     "output_type": "stream",
     "text": [
      "Epoch 2/4 [Train]:  95%|█████████▌| 123/129 [00:43<00:02,  2.80batch/s]"
     ]
    },
    {
     "name": "stdout",
     "output_type": "stream",
     "text": [
      "\n",
      "Error in training batch: CUDA out of memory. Tried to allocate 188.00 MiB. GPU 0 has a total capacity of 5.77 GiB of which 86.31 MiB is free. Including non-PyTorch memory, this process has 5.67 GiB memory in use. Of the allocated memory 4.07 GiB is allocated by PyTorch, and 1.49 GiB is reserved by PyTorch but unallocated. If reserved but unallocated memory is large try setting PYTORCH_CUDA_ALLOC_CONF=expandable_segments:True to avoid fragmentation.  See documentation for Memory Management  (https://pytorch.org/docs/stable/notes/cuda.html#environment-variables)\n"
     ]
    },
    {
     "name": "stderr",
     "output_type": "stream",
     "text": [
      "Epoch 2/4 [Train]:  96%|█████████▌| 124/129 [00:44<00:01,  2.82batch/s]"
     ]
    },
    {
     "name": "stdout",
     "output_type": "stream",
     "text": [
      "\n",
      "Error in training batch: CUDA out of memory. Tried to allocate 188.00 MiB. GPU 0 has a total capacity of 5.77 GiB of which 86.31 MiB is free. Including non-PyTorch memory, this process has 5.67 GiB memory in use. Of the allocated memory 4.07 GiB is allocated by PyTorch, and 1.49 GiB is reserved by PyTorch but unallocated. If reserved but unallocated memory is large try setting PYTORCH_CUDA_ALLOC_CONF=expandable_segments:True to avoid fragmentation.  See documentation for Memory Management  (https://pytorch.org/docs/stable/notes/cuda.html#environment-variables)\n"
     ]
    },
    {
     "name": "stderr",
     "output_type": "stream",
     "text": [
      "Epoch 2/4 [Train]:  97%|█████████▋| 125/129 [00:44<00:01,  2.79batch/s]"
     ]
    },
    {
     "name": "stdout",
     "output_type": "stream",
     "text": [
      "\n",
      "Error in training batch: CUDA out of memory. Tried to allocate 188.00 MiB. GPU 0 has a total capacity of 5.77 GiB of which 86.31 MiB is free. Including non-PyTorch memory, this process has 5.67 GiB memory in use. Of the allocated memory 4.07 GiB is allocated by PyTorch, and 1.49 GiB is reserved by PyTorch but unallocated. If reserved but unallocated memory is large try setting PYTORCH_CUDA_ALLOC_CONF=expandable_segments:True to avoid fragmentation.  See documentation for Memory Management  (https://pytorch.org/docs/stable/notes/cuda.html#environment-variables)\n"
     ]
    },
    {
     "name": "stderr",
     "output_type": "stream",
     "text": [
      "Epoch 2/4 [Train]:  98%|█████████▊| 126/129 [00:44<00:01,  2.78batch/s]"
     ]
    },
    {
     "name": "stdout",
     "output_type": "stream",
     "text": [
      "\n",
      "Error in training batch: CUDA out of memory. Tried to allocate 188.00 MiB. GPU 0 has a total capacity of 5.77 GiB of which 86.31 MiB is free. Including non-PyTorch memory, this process has 5.67 GiB memory in use. Of the allocated memory 4.07 GiB is allocated by PyTorch, and 1.49 GiB is reserved by PyTorch but unallocated. If reserved but unallocated memory is large try setting PYTORCH_CUDA_ALLOC_CONF=expandable_segments:True to avoid fragmentation.  See documentation for Memory Management  (https://pytorch.org/docs/stable/notes/cuda.html#environment-variables)\n"
     ]
    },
    {
     "name": "stderr",
     "output_type": "stream",
     "text": [
      "Epoch 2/4 [Train]:  98%|█████████▊| 127/129 [00:45<00:00,  2.77batch/s]"
     ]
    },
    {
     "name": "stdout",
     "output_type": "stream",
     "text": [
      "\n",
      "Error in training batch: CUDA out of memory. Tried to allocate 188.00 MiB. GPU 0 has a total capacity of 5.77 GiB of which 86.31 MiB is free. Including non-PyTorch memory, this process has 5.67 GiB memory in use. Of the allocated memory 4.07 GiB is allocated by PyTorch, and 1.49 GiB is reserved by PyTorch but unallocated. If reserved but unallocated memory is large try setting PYTORCH_CUDA_ALLOC_CONF=expandable_segments:True to avoid fragmentation.  See documentation for Memory Management  (https://pytorch.org/docs/stable/notes/cuda.html#environment-variables)\n"
     ]
    },
    {
     "name": "stderr",
     "output_type": "stream",
     "text": [
      "Epoch 2/4 [Train]:  99%|█████████▉| 128/129 [00:45<00:00,  2.79batch/s]"
     ]
    },
    {
     "name": "stdout",
     "output_type": "stream",
     "text": [
      "\n",
      "Error in training batch: CUDA out of memory. Tried to allocate 188.00 MiB. GPU 0 has a total capacity of 5.77 GiB of which 86.31 MiB is free. Including non-PyTorch memory, this process has 5.67 GiB memory in use. Of the allocated memory 4.07 GiB is allocated by PyTorch, and 1.49 GiB is reserved by PyTorch but unallocated. If reserved but unallocated memory is large try setting PYTORCH_CUDA_ALLOC_CONF=expandable_segments:True to avoid fragmentation.  See documentation for Memory Management  (https://pytorch.org/docs/stable/notes/cuda.html#environment-variables)\n"
     ]
    },
    {
     "name": "stderr",
     "output_type": "stream",
     "text": [
      "Epoch 2/4 [Train]: 100%|██████████| 129/129 [00:45<00:00,  2.81batch/s, loss=0.4848]\n"
     ]
    },
    {
     "name": "stdout",
     "output_type": "stream",
     "text": [
      "Epoch 2/4 [Train] Completed - Train Loss: 0.9847 | Train Accuracy: 0.6061\n"
     ]
    },
    {
     "name": "stderr",
     "output_type": "stream",
     "text": [
      "Epoch 2/4 [Validation]: 100%|██████████| 32/32 [00:03<00:00,  8.82batch/s, loss=1.3195]\n"
     ]
    },
    {
     "name": "stdout",
     "output_type": "stream",
     "text": [
      "Epoch 2/4 [Validation] Completed - Validation Loss: 0.9818 | Validation Accuracy: 0.6074\n",
      "\n",
      "--- Epoch 3/4 ---\n"
     ]
    },
    {
     "name": "stderr",
     "output_type": "stream",
     "text": [
      "Epoch 3/4 [Train]:   2%|▏         | 2/129 [00:00<00:28,  4.52batch/s]"
     ]
    },
    {
     "name": "stdout",
     "output_type": "stream",
     "text": [
      "\n",
      "Error in training batch: CUDA out of memory. Tried to allocate 188.00 MiB. GPU 0 has a total capacity of 5.77 GiB of which 84.31 MiB is free. Including non-PyTorch memory, this process has 5.67 GiB memory in use. Of the allocated memory 4.07 GiB is allocated by PyTorch, and 1.49 GiB is reserved by PyTorch but unallocated. If reserved but unallocated memory is large try setting PYTORCH_CUDA_ALLOC_CONF=expandable_segments:True to avoid fragmentation.  See documentation for Memory Management  (https://pytorch.org/docs/stable/notes/cuda.html#environment-variables)\n",
      "\n",
      "Error in training batch: CUDA out of memory. Tried to allocate 188.00 MiB. GPU 0 has a total capacity of 5.77 GiB of which 84.31 MiB is free. Including non-PyTorch memory, this process has 5.67 GiB memory in use. Of the allocated memory 4.07 GiB is allocated by PyTorch, and 1.49 GiB is reserved by PyTorch but unallocated. If reserved but unallocated memory is large try setting PYTORCH_CUDA_ALLOC_CONF=expandable_segments:True to avoid fragmentation.  See documentation for Memory Management  (https://pytorch.org/docs/stable/notes/cuda.html#environment-variables)\n"
     ]
    },
    {
     "name": "stderr",
     "output_type": "stream",
     "text": [
      "Epoch 3/4 [Train]:   2%|▏         | 3/129 [00:00<00:35,  3.57batch/s]"
     ]
    },
    {
     "name": "stdout",
     "output_type": "stream",
     "text": [
      "\n",
      "Error in training batch: CUDA out of memory. Tried to allocate 188.00 MiB. GPU 0 has a total capacity of 5.77 GiB of which 84.31 MiB is free. Including non-PyTorch memory, this process has 5.67 GiB memory in use. Of the allocated memory 4.07 GiB is allocated by PyTorch, and 1.49 GiB is reserved by PyTorch but unallocated. If reserved but unallocated memory is large try setting PYTORCH_CUDA_ALLOC_CONF=expandable_segments:True to avoid fragmentation.  See documentation for Memory Management  (https://pytorch.org/docs/stable/notes/cuda.html#environment-variables)\n"
     ]
    },
    {
     "name": "stderr",
     "output_type": "stream",
     "text": [
      "Epoch 3/4 [Train]:   3%|▎         | 4/129 [00:01<00:38,  3.26batch/s]"
     ]
    },
    {
     "name": "stdout",
     "output_type": "stream",
     "text": [
      "\n",
      "Error in training batch: CUDA out of memory. Tried to allocate 188.00 MiB. GPU 0 has a total capacity of 5.77 GiB of which 84.31 MiB is free. Including non-PyTorch memory, this process has 5.67 GiB memory in use. Of the allocated memory 4.07 GiB is allocated by PyTorch, and 1.49 GiB is reserved by PyTorch but unallocated. If reserved but unallocated memory is large try setting PYTORCH_CUDA_ALLOC_CONF=expandable_segments:True to avoid fragmentation.  See documentation for Memory Management  (https://pytorch.org/docs/stable/notes/cuda.html#environment-variables)\n"
     ]
    },
    {
     "name": "stderr",
     "output_type": "stream",
     "text": [
      "Epoch 3/4 [Train]:   4%|▍         | 5/129 [00:01<00:40,  3.03batch/s]"
     ]
    },
    {
     "name": "stdout",
     "output_type": "stream",
     "text": [
      "\n",
      "Error in training batch: CUDA out of memory. Tried to allocate 188.00 MiB. GPU 0 has a total capacity of 5.77 GiB of which 84.31 MiB is free. Including non-PyTorch memory, this process has 5.67 GiB memory in use. Of the allocated memory 4.07 GiB is allocated by PyTorch, and 1.49 GiB is reserved by PyTorch but unallocated. If reserved but unallocated memory is large try setting PYTORCH_CUDA_ALLOC_CONF=expandable_segments:True to avoid fragmentation.  See documentation for Memory Management  (https://pytorch.org/docs/stable/notes/cuda.html#environment-variables)\n"
     ]
    },
    {
     "name": "stderr",
     "output_type": "stream",
     "text": [
      "Epoch 3/4 [Train]:   5%|▍         | 6/129 [00:01<00:41,  2.95batch/s]"
     ]
    },
    {
     "name": "stdout",
     "output_type": "stream",
     "text": [
      "\n",
      "Error in training batch: CUDA out of memory. Tried to allocate 188.00 MiB. GPU 0 has a total capacity of 5.77 GiB of which 84.31 MiB is free. Including non-PyTorch memory, this process has 5.67 GiB memory in use. Of the allocated memory 4.07 GiB is allocated by PyTorch, and 1.49 GiB is reserved by PyTorch but unallocated. If reserved but unallocated memory is large try setting PYTORCH_CUDA_ALLOC_CONF=expandable_segments:True to avoid fragmentation.  See documentation for Memory Management  (https://pytorch.org/docs/stable/notes/cuda.html#environment-variables)\n"
     ]
    },
    {
     "name": "stderr",
     "output_type": "stream",
     "text": [
      "Epoch 3/4 [Train]:   5%|▌         | 7/129 [00:02<00:42,  2.88batch/s]"
     ]
    },
    {
     "name": "stdout",
     "output_type": "stream",
     "text": [
      "\n",
      "Error in training batch: CUDA out of memory. Tried to allocate 188.00 MiB. GPU 0 has a total capacity of 5.77 GiB of which 84.31 MiB is free. Including non-PyTorch memory, this process has 5.67 GiB memory in use. Of the allocated memory 4.07 GiB is allocated by PyTorch, and 1.49 GiB is reserved by PyTorch but unallocated. If reserved but unallocated memory is large try setting PYTORCH_CUDA_ALLOC_CONF=expandable_segments:True to avoid fragmentation.  See documentation for Memory Management  (https://pytorch.org/docs/stable/notes/cuda.html#environment-variables)\n"
     ]
    },
    {
     "name": "stderr",
     "output_type": "stream",
     "text": [
      "Epoch 3/4 [Train]:   6%|▌         | 8/129 [00:02<00:41,  2.89batch/s]"
     ]
    },
    {
     "name": "stdout",
     "output_type": "stream",
     "text": [
      "\n",
      "Error in training batch: CUDA out of memory. Tried to allocate 188.00 MiB. GPU 0 has a total capacity of 5.77 GiB of which 84.31 MiB is free. Including non-PyTorch memory, this process has 5.67 GiB memory in use. Of the allocated memory 4.07 GiB is allocated by PyTorch, and 1.49 GiB is reserved by PyTorch but unallocated. If reserved but unallocated memory is large try setting PYTORCH_CUDA_ALLOC_CONF=expandable_segments:True to avoid fragmentation.  See documentation for Memory Management  (https://pytorch.org/docs/stable/notes/cuda.html#environment-variables)\n"
     ]
    },
    {
     "name": "stderr",
     "output_type": "stream",
     "text": [
      "Epoch 3/4 [Train]:   7%|▋         | 9/129 [00:02<00:41,  2.89batch/s]"
     ]
    },
    {
     "name": "stdout",
     "output_type": "stream",
     "text": [
      "\n",
      "Error in training batch: CUDA out of memory. Tried to allocate 188.00 MiB. GPU 0 has a total capacity of 5.77 GiB of which 84.31 MiB is free. Including non-PyTorch memory, this process has 5.67 GiB memory in use. Of the allocated memory 4.07 GiB is allocated by PyTorch, and 1.49 GiB is reserved by PyTorch but unallocated. If reserved but unallocated memory is large try setting PYTORCH_CUDA_ALLOC_CONF=expandable_segments:True to avoid fragmentation.  See documentation for Memory Management  (https://pytorch.org/docs/stable/notes/cuda.html#environment-variables)\n"
     ]
    },
    {
     "name": "stderr",
     "output_type": "stream",
     "text": [
      "Epoch 3/4 [Train]:   8%|▊         | 10/129 [00:03<00:41,  2.84batch/s]"
     ]
    },
    {
     "name": "stdout",
     "output_type": "stream",
     "text": [
      "\n",
      "Error in training batch: CUDA out of memory. Tried to allocate 188.00 MiB. GPU 0 has a total capacity of 5.77 GiB of which 84.31 MiB is free. Including non-PyTorch memory, this process has 5.67 GiB memory in use. Of the allocated memory 4.07 GiB is allocated by PyTorch, and 1.49 GiB is reserved by PyTorch but unallocated. If reserved but unallocated memory is large try setting PYTORCH_CUDA_ALLOC_CONF=expandable_segments:True to avoid fragmentation.  See documentation for Memory Management  (https://pytorch.org/docs/stable/notes/cuda.html#environment-variables)\n"
     ]
    },
    {
     "name": "stderr",
     "output_type": "stream",
     "text": [
      "Epoch 3/4 [Train]:   9%|▊         | 11/129 [00:03<00:42,  2.80batch/s]"
     ]
    },
    {
     "name": "stdout",
     "output_type": "stream",
     "text": [
      "\n",
      "Error in training batch: CUDA out of memory. Tried to allocate 188.00 MiB. GPU 0 has a total capacity of 5.77 GiB of which 84.31 MiB is free. Including non-PyTorch memory, this process has 5.67 GiB memory in use. Of the allocated memory 4.07 GiB is allocated by PyTorch, and 1.49 GiB is reserved by PyTorch but unallocated. If reserved but unallocated memory is large try setting PYTORCH_CUDA_ALLOC_CONF=expandable_segments:True to avoid fragmentation.  See documentation for Memory Management  (https://pytorch.org/docs/stable/notes/cuda.html#environment-variables)\n"
     ]
    },
    {
     "name": "stderr",
     "output_type": "stream",
     "text": [
      "Epoch 3/4 [Train]:   9%|▉         | 12/129 [00:04<00:42,  2.78batch/s]"
     ]
    },
    {
     "name": "stdout",
     "output_type": "stream",
     "text": [
      "\n",
      "Error in training batch: CUDA out of memory. Tried to allocate 188.00 MiB. GPU 0 has a total capacity of 5.77 GiB of which 84.31 MiB is free. Including non-PyTorch memory, this process has 5.67 GiB memory in use. Of the allocated memory 4.07 GiB is allocated by PyTorch, and 1.49 GiB is reserved by PyTorch but unallocated. If reserved but unallocated memory is large try setting PYTORCH_CUDA_ALLOC_CONF=expandable_segments:True to avoid fragmentation.  See documentation for Memory Management  (https://pytorch.org/docs/stable/notes/cuda.html#environment-variables)\n"
     ]
    },
    {
     "name": "stderr",
     "output_type": "stream",
     "text": [
      "Epoch 3/4 [Train]:  10%|█         | 13/129 [00:04<00:41,  2.81batch/s]"
     ]
    },
    {
     "name": "stdout",
     "output_type": "stream",
     "text": [
      "\n",
      "Error in training batch: CUDA out of memory. Tried to allocate 188.00 MiB. GPU 0 has a total capacity of 5.77 GiB of which 84.31 MiB is free. Including non-PyTorch memory, this process has 5.67 GiB memory in use. Of the allocated memory 4.07 GiB is allocated by PyTorch, and 1.49 GiB is reserved by PyTorch but unallocated. If reserved but unallocated memory is large try setting PYTORCH_CUDA_ALLOC_CONF=expandable_segments:True to avoid fragmentation.  See documentation for Memory Management  (https://pytorch.org/docs/stable/notes/cuda.html#environment-variables)\n"
     ]
    },
    {
     "name": "stderr",
     "output_type": "stream",
     "text": [
      "Epoch 3/4 [Train]:  11%|█         | 14/129 [00:04<00:41,  2.80batch/s]"
     ]
    },
    {
     "name": "stdout",
     "output_type": "stream",
     "text": [
      "\n",
      "Error in training batch: CUDA out of memory. Tried to allocate 188.00 MiB. GPU 0 has a total capacity of 5.77 GiB of which 84.31 MiB is free. Including non-PyTorch memory, this process has 5.67 GiB memory in use. Of the allocated memory 4.07 GiB is allocated by PyTorch, and 1.49 GiB is reserved by PyTorch but unallocated. If reserved but unallocated memory is large try setting PYTORCH_CUDA_ALLOC_CONF=expandable_segments:True to avoid fragmentation.  See documentation for Memory Management  (https://pytorch.org/docs/stable/notes/cuda.html#environment-variables)\n"
     ]
    },
    {
     "name": "stderr",
     "output_type": "stream",
     "text": [
      "Epoch 3/4 [Train]:  12%|█▏        | 15/129 [00:05<00:40,  2.79batch/s]"
     ]
    },
    {
     "name": "stdout",
     "output_type": "stream",
     "text": [
      "\n",
      "Error in training batch: CUDA out of memory. Tried to allocate 188.00 MiB. GPU 0 has a total capacity of 5.77 GiB of which 84.31 MiB is free. Including non-PyTorch memory, this process has 5.67 GiB memory in use. Of the allocated memory 4.07 GiB is allocated by PyTorch, and 1.49 GiB is reserved by PyTorch but unallocated. If reserved but unallocated memory is large try setting PYTORCH_CUDA_ALLOC_CONF=expandable_segments:True to avoid fragmentation.  See documentation for Memory Management  (https://pytorch.org/docs/stable/notes/cuda.html#environment-variables)\n"
     ]
    },
    {
     "name": "stderr",
     "output_type": "stream",
     "text": [
      "Epoch 3/4 [Train]:  12%|█▏        | 16/129 [00:05<00:40,  2.81batch/s]"
     ]
    },
    {
     "name": "stdout",
     "output_type": "stream",
     "text": [
      "\n",
      "Error in training batch: CUDA out of memory. Tried to allocate 188.00 MiB. GPU 0 has a total capacity of 5.77 GiB of which 84.31 MiB is free. Including non-PyTorch memory, this process has 5.67 GiB memory in use. Of the allocated memory 4.07 GiB is allocated by PyTorch, and 1.49 GiB is reserved by PyTorch but unallocated. If reserved but unallocated memory is large try setting PYTORCH_CUDA_ALLOC_CONF=expandable_segments:True to avoid fragmentation.  See documentation for Memory Management  (https://pytorch.org/docs/stable/notes/cuda.html#environment-variables)\n"
     ]
    },
    {
     "name": "stderr",
     "output_type": "stream",
     "text": [
      "Epoch 3/4 [Train]:  13%|█▎        | 17/129 [00:05<00:39,  2.82batch/s]"
     ]
    },
    {
     "name": "stdout",
     "output_type": "stream",
     "text": [
      "\n",
      "Error in training batch: CUDA out of memory. Tried to allocate 188.00 MiB. GPU 0 has a total capacity of 5.77 GiB of which 84.31 MiB is free. Including non-PyTorch memory, this process has 5.67 GiB memory in use. Of the allocated memory 4.07 GiB is allocated by PyTorch, and 1.49 GiB is reserved by PyTorch but unallocated. If reserved but unallocated memory is large try setting PYTORCH_CUDA_ALLOC_CONF=expandable_segments:True to avoid fragmentation.  See documentation for Memory Management  (https://pytorch.org/docs/stable/notes/cuda.html#environment-variables)\n"
     ]
    },
    {
     "name": "stderr",
     "output_type": "stream",
     "text": [
      "Epoch 3/4 [Train]:  14%|█▍        | 18/129 [00:06<00:39,  2.84batch/s]"
     ]
    },
    {
     "name": "stdout",
     "output_type": "stream",
     "text": [
      "\n",
      "Error in training batch: CUDA out of memory. Tried to allocate 188.00 MiB. GPU 0 has a total capacity of 5.77 GiB of which 84.31 MiB is free. Including non-PyTorch memory, this process has 5.67 GiB memory in use. Of the allocated memory 4.07 GiB is allocated by PyTorch, and 1.49 GiB is reserved by PyTorch but unallocated. If reserved but unallocated memory is large try setting PYTORCH_CUDA_ALLOC_CONF=expandable_segments:True to avoid fragmentation.  See documentation for Memory Management  (https://pytorch.org/docs/stable/notes/cuda.html#environment-variables)\n"
     ]
    },
    {
     "name": "stderr",
     "output_type": "stream",
     "text": [
      "Epoch 3/4 [Train]:  15%|█▍        | 19/129 [00:06<00:38,  2.83batch/s]"
     ]
    },
    {
     "name": "stdout",
     "output_type": "stream",
     "text": [
      "\n",
      "Error in training batch: CUDA out of memory. Tried to allocate 188.00 MiB. GPU 0 has a total capacity of 5.77 GiB of which 84.31 MiB is free. Including non-PyTorch memory, this process has 5.67 GiB memory in use. Of the allocated memory 4.07 GiB is allocated by PyTorch, and 1.49 GiB is reserved by PyTorch but unallocated. If reserved but unallocated memory is large try setting PYTORCH_CUDA_ALLOC_CONF=expandable_segments:True to avoid fragmentation.  See documentation for Memory Management  (https://pytorch.org/docs/stable/notes/cuda.html#environment-variables)\n"
     ]
    },
    {
     "name": "stderr",
     "output_type": "stream",
     "text": [
      "Epoch 3/4 [Train]:  16%|█▌        | 20/129 [00:06<00:38,  2.82batch/s]"
     ]
    },
    {
     "name": "stdout",
     "output_type": "stream",
     "text": [
      "\n",
      "Error in training batch: CUDA out of memory. Tried to allocate 188.00 MiB. GPU 0 has a total capacity of 5.77 GiB of which 84.31 MiB is free. Including non-PyTorch memory, this process has 5.67 GiB memory in use. Of the allocated memory 4.07 GiB is allocated by PyTorch, and 1.49 GiB is reserved by PyTorch but unallocated. If reserved but unallocated memory is large try setting PYTORCH_CUDA_ALLOC_CONF=expandable_segments:True to avoid fragmentation.  See documentation for Memory Management  (https://pytorch.org/docs/stable/notes/cuda.html#environment-variables)\n"
     ]
    },
    {
     "name": "stderr",
     "output_type": "stream",
     "text": [
      "Epoch 3/4 [Train]:  16%|█▋        | 21/129 [00:07<00:38,  2.78batch/s]"
     ]
    },
    {
     "name": "stdout",
     "output_type": "stream",
     "text": [
      "\n",
      "Error in training batch: CUDA out of memory. Tried to allocate 188.00 MiB. GPU 0 has a total capacity of 5.77 GiB of which 84.31 MiB is free. Including non-PyTorch memory, this process has 5.67 GiB memory in use. Of the allocated memory 4.07 GiB is allocated by PyTorch, and 1.49 GiB is reserved by PyTorch but unallocated. If reserved but unallocated memory is large try setting PYTORCH_CUDA_ALLOC_CONF=expandable_segments:True to avoid fragmentation.  See documentation for Memory Management  (https://pytorch.org/docs/stable/notes/cuda.html#environment-variables)\n"
     ]
    },
    {
     "name": "stderr",
     "output_type": "stream",
     "text": [
      "Epoch 3/4 [Train]:  17%|█▋        | 22/129 [00:07<00:38,  2.81batch/s]"
     ]
    },
    {
     "name": "stdout",
     "output_type": "stream",
     "text": [
      "\n",
      "Error in training batch: CUDA out of memory. Tried to allocate 188.00 MiB. GPU 0 has a total capacity of 5.77 GiB of which 84.31 MiB is free. Including non-PyTorch memory, this process has 5.67 GiB memory in use. Of the allocated memory 4.07 GiB is allocated by PyTorch, and 1.49 GiB is reserved by PyTorch but unallocated. If reserved but unallocated memory is large try setting PYTORCH_CUDA_ALLOC_CONF=expandable_segments:True to avoid fragmentation.  See documentation for Memory Management  (https://pytorch.org/docs/stable/notes/cuda.html#environment-variables)\n"
     ]
    },
    {
     "name": "stderr",
     "output_type": "stream",
     "text": [
      "Epoch 3/4 [Train]:  18%|█▊        | 23/129 [00:07<00:37,  2.80batch/s]"
     ]
    },
    {
     "name": "stdout",
     "output_type": "stream",
     "text": [
      "\n",
      "Error in training batch: CUDA out of memory. Tried to allocate 188.00 MiB. GPU 0 has a total capacity of 5.77 GiB of which 84.31 MiB is free. Including non-PyTorch memory, this process has 5.67 GiB memory in use. Of the allocated memory 4.07 GiB is allocated by PyTorch, and 1.49 GiB is reserved by PyTorch but unallocated. If reserved but unallocated memory is large try setting PYTORCH_CUDA_ALLOC_CONF=expandable_segments:True to avoid fragmentation.  See documentation for Memory Management  (https://pytorch.org/docs/stable/notes/cuda.html#environment-variables)\n"
     ]
    },
    {
     "name": "stderr",
     "output_type": "stream",
     "text": [
      "Epoch 3/4 [Train]:  19%|█▊        | 24/129 [00:08<00:37,  2.79batch/s]"
     ]
    },
    {
     "name": "stdout",
     "output_type": "stream",
     "text": [
      "\n",
      "Error in training batch: CUDA out of memory. Tried to allocate 188.00 MiB. GPU 0 has a total capacity of 5.77 GiB of which 84.31 MiB is free. Including non-PyTorch memory, this process has 5.67 GiB memory in use. Of the allocated memory 4.07 GiB is allocated by PyTorch, and 1.49 GiB is reserved by PyTorch but unallocated. If reserved but unallocated memory is large try setting PYTORCH_CUDA_ALLOC_CONF=expandable_segments:True to avoid fragmentation.  See documentation for Memory Management  (https://pytorch.org/docs/stable/notes/cuda.html#environment-variables)\n"
     ]
    },
    {
     "name": "stderr",
     "output_type": "stream",
     "text": [
      "Epoch 3/4 [Train]:  19%|█▉        | 25/129 [00:08<00:37,  2.78batch/s]"
     ]
    },
    {
     "name": "stdout",
     "output_type": "stream",
     "text": [
      "\n",
      "Error in training batch: CUDA out of memory. Tried to allocate 188.00 MiB. GPU 0 has a total capacity of 5.77 GiB of which 84.31 MiB is free. Including non-PyTorch memory, this process has 5.67 GiB memory in use. Of the allocated memory 4.07 GiB is allocated by PyTorch, and 1.49 GiB is reserved by PyTorch but unallocated. If reserved but unallocated memory is large try setting PYTORCH_CUDA_ALLOC_CONF=expandable_segments:True to avoid fragmentation.  See documentation for Memory Management  (https://pytorch.org/docs/stable/notes/cuda.html#environment-variables)\n"
     ]
    },
    {
     "name": "stderr",
     "output_type": "stream",
     "text": [
      "Epoch 3/4 [Train]:  20%|██        | 26/129 [00:09<00:36,  2.79batch/s]"
     ]
    },
    {
     "name": "stdout",
     "output_type": "stream",
     "text": [
      "\n",
      "Error in training batch: CUDA out of memory. Tried to allocate 188.00 MiB. GPU 0 has a total capacity of 5.77 GiB of which 84.31 MiB is free. Including non-PyTorch memory, this process has 5.67 GiB memory in use. Of the allocated memory 4.07 GiB is allocated by PyTorch, and 1.49 GiB is reserved by PyTorch but unallocated. If reserved but unallocated memory is large try setting PYTORCH_CUDA_ALLOC_CONF=expandable_segments:True to avoid fragmentation.  See documentation for Memory Management  (https://pytorch.org/docs/stable/notes/cuda.html#environment-variables)\n"
     ]
    },
    {
     "name": "stderr",
     "output_type": "stream",
     "text": [
      "Epoch 3/4 [Train]:  21%|██        | 27/129 [00:09<00:36,  2.82batch/s]"
     ]
    },
    {
     "name": "stdout",
     "output_type": "stream",
     "text": [
      "\n",
      "Error in training batch: CUDA out of memory. Tried to allocate 188.00 MiB. GPU 0 has a total capacity of 5.77 GiB of which 84.31 MiB is free. Including non-PyTorch memory, this process has 5.67 GiB memory in use. Of the allocated memory 4.07 GiB is allocated by PyTorch, and 1.49 GiB is reserved by PyTorch but unallocated. If reserved but unallocated memory is large try setting PYTORCH_CUDA_ALLOC_CONF=expandable_segments:True to avoid fragmentation.  See documentation for Memory Management  (https://pytorch.org/docs/stable/notes/cuda.html#environment-variables)\n"
     ]
    },
    {
     "name": "stderr",
     "output_type": "stream",
     "text": [
      "Epoch 3/4 [Train]:  22%|██▏       | 28/129 [00:09<00:35,  2.82batch/s]"
     ]
    },
    {
     "name": "stdout",
     "output_type": "stream",
     "text": [
      "\n",
      "Error in training batch: CUDA out of memory. Tried to allocate 188.00 MiB. GPU 0 has a total capacity of 5.77 GiB of which 84.31 MiB is free. Including non-PyTorch memory, this process has 5.67 GiB memory in use. Of the allocated memory 4.07 GiB is allocated by PyTorch, and 1.49 GiB is reserved by PyTorch but unallocated. If reserved but unallocated memory is large try setting PYTORCH_CUDA_ALLOC_CONF=expandable_segments:True to avoid fragmentation.  See documentation for Memory Management  (https://pytorch.org/docs/stable/notes/cuda.html#environment-variables)\n"
     ]
    },
    {
     "name": "stderr",
     "output_type": "stream",
     "text": [
      "Epoch 3/4 [Train]:  22%|██▏       | 29/129 [00:10<00:35,  2.83batch/s]"
     ]
    },
    {
     "name": "stdout",
     "output_type": "stream",
     "text": [
      "\n",
      "Error in training batch: CUDA out of memory. Tried to allocate 188.00 MiB. GPU 0 has a total capacity of 5.77 GiB of which 84.31 MiB is free. Including non-PyTorch memory, this process has 5.67 GiB memory in use. Of the allocated memory 4.07 GiB is allocated by PyTorch, and 1.49 GiB is reserved by PyTorch but unallocated. If reserved but unallocated memory is large try setting PYTORCH_CUDA_ALLOC_CONF=expandable_segments:True to avoid fragmentation.  See documentation for Memory Management  (https://pytorch.org/docs/stable/notes/cuda.html#environment-variables)\n"
     ]
    },
    {
     "name": "stderr",
     "output_type": "stream",
     "text": [
      "Epoch 3/4 [Train]:  23%|██▎       | 30/129 [00:10<00:35,  2.80batch/s]"
     ]
    },
    {
     "name": "stdout",
     "output_type": "stream",
     "text": [
      "\n",
      "Error in training batch: CUDA out of memory. Tried to allocate 188.00 MiB. GPU 0 has a total capacity of 5.77 GiB of which 84.31 MiB is free. Including non-PyTorch memory, this process has 5.67 GiB memory in use. Of the allocated memory 4.07 GiB is allocated by PyTorch, and 1.49 GiB is reserved by PyTorch but unallocated. If reserved but unallocated memory is large try setting PYTORCH_CUDA_ALLOC_CONF=expandable_segments:True to avoid fragmentation.  See documentation for Memory Management  (https://pytorch.org/docs/stable/notes/cuda.html#environment-variables)\n"
     ]
    },
    {
     "name": "stderr",
     "output_type": "stream",
     "text": [
      "Epoch 3/4 [Train]:  24%|██▍       | 31/129 [00:10<00:34,  2.85batch/s]"
     ]
    },
    {
     "name": "stdout",
     "output_type": "stream",
     "text": [
      "\n",
      "Error in training batch: CUDA out of memory. Tried to allocate 188.00 MiB. GPU 0 has a total capacity of 5.77 GiB of which 84.31 MiB is free. Including non-PyTorch memory, this process has 5.67 GiB memory in use. Of the allocated memory 4.07 GiB is allocated by PyTorch, and 1.49 GiB is reserved by PyTorch but unallocated. If reserved but unallocated memory is large try setting PYTORCH_CUDA_ALLOC_CONF=expandable_segments:True to avoid fragmentation.  See documentation for Memory Management  (https://pytorch.org/docs/stable/notes/cuda.html#environment-variables)\n"
     ]
    },
    {
     "name": "stderr",
     "output_type": "stream",
     "text": [
      "Epoch 3/4 [Train]:  25%|██▍       | 32/129 [00:11<00:34,  2.81batch/s]"
     ]
    },
    {
     "name": "stdout",
     "output_type": "stream",
     "text": [
      "\n",
      "Error in training batch: CUDA out of memory. Tried to allocate 188.00 MiB. GPU 0 has a total capacity of 5.77 GiB of which 84.31 MiB is free. Including non-PyTorch memory, this process has 5.67 GiB memory in use. Of the allocated memory 4.07 GiB is allocated by PyTorch, and 1.49 GiB is reserved by PyTorch but unallocated. If reserved but unallocated memory is large try setting PYTORCH_CUDA_ALLOC_CONF=expandable_segments:True to avoid fragmentation.  See documentation for Memory Management  (https://pytorch.org/docs/stable/notes/cuda.html#environment-variables)\n"
     ]
    },
    {
     "name": "stderr",
     "output_type": "stream",
     "text": [
      "Epoch 3/4 [Train]:  26%|██▌       | 33/129 [00:11<00:34,  2.79batch/s]"
     ]
    },
    {
     "name": "stdout",
     "output_type": "stream",
     "text": [
      "\n",
      "Error in training batch: CUDA out of memory. Tried to allocate 188.00 MiB. GPU 0 has a total capacity of 5.77 GiB of which 84.31 MiB is free. Including non-PyTorch memory, this process has 5.67 GiB memory in use. Of the allocated memory 4.07 GiB is allocated by PyTorch, and 1.49 GiB is reserved by PyTorch but unallocated. If reserved but unallocated memory is large try setting PYTORCH_CUDA_ALLOC_CONF=expandable_segments:True to avoid fragmentation.  See documentation for Memory Management  (https://pytorch.org/docs/stable/notes/cuda.html#environment-variables)\n"
     ]
    },
    {
     "name": "stderr",
     "output_type": "stream",
     "text": [
      "Epoch 3/4 [Train]:  26%|██▋       | 34/129 [00:11<00:33,  2.80batch/s]"
     ]
    },
    {
     "name": "stdout",
     "output_type": "stream",
     "text": [
      "\n",
      "Error in training batch: CUDA out of memory. Tried to allocate 188.00 MiB. GPU 0 has a total capacity of 5.77 GiB of which 84.31 MiB is free. Including non-PyTorch memory, this process has 5.67 GiB memory in use. Of the allocated memory 4.07 GiB is allocated by PyTorch, and 1.49 GiB is reserved by PyTorch but unallocated. If reserved but unallocated memory is large try setting PYTORCH_CUDA_ALLOC_CONF=expandable_segments:True to avoid fragmentation.  See documentation for Memory Management  (https://pytorch.org/docs/stable/notes/cuda.html#environment-variables)\n"
     ]
    },
    {
     "name": "stderr",
     "output_type": "stream",
     "text": [
      "Epoch 3/4 [Train]:  27%|██▋       | 35/129 [00:12<00:33,  2.81batch/s]"
     ]
    },
    {
     "name": "stdout",
     "output_type": "stream",
     "text": [
      "\n",
      "Error in training batch: CUDA out of memory. Tried to allocate 188.00 MiB. GPU 0 has a total capacity of 5.77 GiB of which 84.31 MiB is free. Including non-PyTorch memory, this process has 5.67 GiB memory in use. Of the allocated memory 4.07 GiB is allocated by PyTorch, and 1.49 GiB is reserved by PyTorch but unallocated. If reserved but unallocated memory is large try setting PYTORCH_CUDA_ALLOC_CONF=expandable_segments:True to avoid fragmentation.  See documentation for Memory Management  (https://pytorch.org/docs/stable/notes/cuda.html#environment-variables)\n"
     ]
    },
    {
     "name": "stderr",
     "output_type": "stream",
     "text": [
      "Epoch 3/4 [Train]:  28%|██▊       | 36/129 [00:12<00:33,  2.81batch/s]"
     ]
    },
    {
     "name": "stdout",
     "output_type": "stream",
     "text": [
      "\n",
      "Error in training batch: CUDA out of memory. Tried to allocate 188.00 MiB. GPU 0 has a total capacity of 5.77 GiB of which 84.31 MiB is free. Including non-PyTorch memory, this process has 5.67 GiB memory in use. Of the allocated memory 4.07 GiB is allocated by PyTorch, and 1.49 GiB is reserved by PyTorch but unallocated. If reserved but unallocated memory is large try setting PYTORCH_CUDA_ALLOC_CONF=expandable_segments:True to avoid fragmentation.  See documentation for Memory Management  (https://pytorch.org/docs/stable/notes/cuda.html#environment-variables)\n"
     ]
    },
    {
     "name": "stderr",
     "output_type": "stream",
     "text": [
      "Epoch 3/4 [Train]:  29%|██▊       | 37/129 [00:12<00:32,  2.79batch/s]"
     ]
    },
    {
     "name": "stdout",
     "output_type": "stream",
     "text": [
      "\n",
      "Error in training batch: CUDA out of memory. Tried to allocate 188.00 MiB. GPU 0 has a total capacity of 5.77 GiB of which 84.31 MiB is free. Including non-PyTorch memory, this process has 5.67 GiB memory in use. Of the allocated memory 4.07 GiB is allocated by PyTorch, and 1.49 GiB is reserved by PyTorch but unallocated. If reserved but unallocated memory is large try setting PYTORCH_CUDA_ALLOC_CONF=expandable_segments:True to avoid fragmentation.  See documentation for Memory Management  (https://pytorch.org/docs/stable/notes/cuda.html#environment-variables)\n"
     ]
    },
    {
     "name": "stderr",
     "output_type": "stream",
     "text": [
      "Epoch 3/4 [Train]:  29%|██▉       | 38/129 [00:13<00:32,  2.80batch/s]"
     ]
    },
    {
     "name": "stdout",
     "output_type": "stream",
     "text": [
      "\n",
      "Error in training batch: CUDA out of memory. Tried to allocate 188.00 MiB. GPU 0 has a total capacity of 5.77 GiB of which 84.31 MiB is free. Including non-PyTorch memory, this process has 5.67 GiB memory in use. Of the allocated memory 4.07 GiB is allocated by PyTorch, and 1.49 GiB is reserved by PyTorch but unallocated. If reserved but unallocated memory is large try setting PYTORCH_CUDA_ALLOC_CONF=expandable_segments:True to avoid fragmentation.  See documentation for Memory Management  (https://pytorch.org/docs/stable/notes/cuda.html#environment-variables)\n"
     ]
    },
    {
     "name": "stderr",
     "output_type": "stream",
     "text": [
      "Epoch 3/4 [Train]:  30%|███       | 39/129 [00:13<00:32,  2.79batch/s]"
     ]
    },
    {
     "name": "stdout",
     "output_type": "stream",
     "text": [
      "\n",
      "Error in training batch: CUDA out of memory. Tried to allocate 188.00 MiB. GPU 0 has a total capacity of 5.77 GiB of which 84.31 MiB is free. Including non-PyTorch memory, this process has 5.67 GiB memory in use. Of the allocated memory 4.07 GiB is allocated by PyTorch, and 1.49 GiB is reserved by PyTorch but unallocated. If reserved but unallocated memory is large try setting PYTORCH_CUDA_ALLOC_CONF=expandable_segments:True to avoid fragmentation.  See documentation for Memory Management  (https://pytorch.org/docs/stable/notes/cuda.html#environment-variables)\n"
     ]
    },
    {
     "name": "stderr",
     "output_type": "stream",
     "text": [
      "Epoch 3/4 [Train]:  31%|███       | 40/129 [00:14<00:31,  2.83batch/s]"
     ]
    },
    {
     "name": "stdout",
     "output_type": "stream",
     "text": [
      "\n",
      "Error in training batch: CUDA out of memory. Tried to allocate 188.00 MiB. GPU 0 has a total capacity of 5.77 GiB of which 84.31 MiB is free. Including non-PyTorch memory, this process has 5.67 GiB memory in use. Of the allocated memory 4.07 GiB is allocated by PyTorch, and 1.49 GiB is reserved by PyTorch but unallocated. If reserved but unallocated memory is large try setting PYTORCH_CUDA_ALLOC_CONF=expandable_segments:True to avoid fragmentation.  See documentation for Memory Management  (https://pytorch.org/docs/stable/notes/cuda.html#environment-variables)\n"
     ]
    },
    {
     "name": "stderr",
     "output_type": "stream",
     "text": [
      "Epoch 3/4 [Train]:  32%|███▏      | 41/129 [00:14<00:31,  2.81batch/s]"
     ]
    },
    {
     "name": "stdout",
     "output_type": "stream",
     "text": [
      "\n",
      "Error in training batch: CUDA out of memory. Tried to allocate 188.00 MiB. GPU 0 has a total capacity of 5.77 GiB of which 84.31 MiB is free. Including non-PyTorch memory, this process has 5.67 GiB memory in use. Of the allocated memory 4.07 GiB is allocated by PyTorch, and 1.49 GiB is reserved by PyTorch but unallocated. If reserved but unallocated memory is large try setting PYTORCH_CUDA_ALLOC_CONF=expandable_segments:True to avoid fragmentation.  See documentation for Memory Management  (https://pytorch.org/docs/stable/notes/cuda.html#environment-variables)\n"
     ]
    },
    {
     "name": "stderr",
     "output_type": "stream",
     "text": [
      "Epoch 3/4 [Train]:  33%|███▎      | 42/129 [00:14<00:30,  2.82batch/s]"
     ]
    },
    {
     "name": "stdout",
     "output_type": "stream",
     "text": [
      "\n",
      "Error in training batch: CUDA out of memory. Tried to allocate 188.00 MiB. GPU 0 has a total capacity of 5.77 GiB of which 84.31 MiB is free. Including non-PyTorch memory, this process has 5.67 GiB memory in use. Of the allocated memory 4.07 GiB is allocated by PyTorch, and 1.49 GiB is reserved by PyTorch but unallocated. If reserved but unallocated memory is large try setting PYTORCH_CUDA_ALLOC_CONF=expandable_segments:True to avoid fragmentation.  See documentation for Memory Management  (https://pytorch.org/docs/stable/notes/cuda.html#environment-variables)\n"
     ]
    },
    {
     "name": "stderr",
     "output_type": "stream",
     "text": [
      "Epoch 3/4 [Train]:  33%|███▎      | 43/129 [00:15<00:30,  2.82batch/s]"
     ]
    },
    {
     "name": "stdout",
     "output_type": "stream",
     "text": [
      "\n",
      "Error in training batch: CUDA out of memory. Tried to allocate 188.00 MiB. GPU 0 has a total capacity of 5.77 GiB of which 84.31 MiB is free. Including non-PyTorch memory, this process has 5.67 GiB memory in use. Of the allocated memory 4.07 GiB is allocated by PyTorch, and 1.49 GiB is reserved by PyTorch but unallocated. If reserved but unallocated memory is large try setting PYTORCH_CUDA_ALLOC_CONF=expandable_segments:True to avoid fragmentation.  See documentation for Memory Management  (https://pytorch.org/docs/stable/notes/cuda.html#environment-variables)\n"
     ]
    },
    {
     "name": "stderr",
     "output_type": "stream",
     "text": [
      "Epoch 3/4 [Train]:  34%|███▍      | 44/129 [00:15<00:30,  2.77batch/s]"
     ]
    },
    {
     "name": "stdout",
     "output_type": "stream",
     "text": [
      "\n",
      "Error in training batch: CUDA out of memory. Tried to allocate 188.00 MiB. GPU 0 has a total capacity of 5.77 GiB of which 84.31 MiB is free. Including non-PyTorch memory, this process has 5.67 GiB memory in use. Of the allocated memory 4.07 GiB is allocated by PyTorch, and 1.49 GiB is reserved by PyTorch but unallocated. If reserved but unallocated memory is large try setting PYTORCH_CUDA_ALLOC_CONF=expandable_segments:True to avoid fragmentation.  See documentation for Memory Management  (https://pytorch.org/docs/stable/notes/cuda.html#environment-variables)\n"
     ]
    },
    {
     "name": "stderr",
     "output_type": "stream",
     "text": [
      "Epoch 3/4 [Train]:  35%|███▍      | 45/129 [00:15<00:29,  2.83batch/s]"
     ]
    },
    {
     "name": "stdout",
     "output_type": "stream",
     "text": [
      "\n",
      "Error in training batch: CUDA out of memory. Tried to allocate 188.00 MiB. GPU 0 has a total capacity of 5.77 GiB of which 84.31 MiB is free. Including non-PyTorch memory, this process has 5.67 GiB memory in use. Of the allocated memory 4.07 GiB is allocated by PyTorch, and 1.49 GiB is reserved by PyTorch but unallocated. If reserved but unallocated memory is large try setting PYTORCH_CUDA_ALLOC_CONF=expandable_segments:True to avoid fragmentation.  See documentation for Memory Management  (https://pytorch.org/docs/stable/notes/cuda.html#environment-variables)\n"
     ]
    },
    {
     "name": "stderr",
     "output_type": "stream",
     "text": [
      "Epoch 3/4 [Train]:  36%|███▌      | 46/129 [00:16<00:29,  2.83batch/s]"
     ]
    },
    {
     "name": "stdout",
     "output_type": "stream",
     "text": [
      "\n",
      "Error in training batch: CUDA out of memory. Tried to allocate 188.00 MiB. GPU 0 has a total capacity of 5.77 GiB of which 84.31 MiB is free. Including non-PyTorch memory, this process has 5.67 GiB memory in use. Of the allocated memory 4.07 GiB is allocated by PyTorch, and 1.49 GiB is reserved by PyTorch but unallocated. If reserved but unallocated memory is large try setting PYTORCH_CUDA_ALLOC_CONF=expandable_segments:True to avoid fragmentation.  See documentation for Memory Management  (https://pytorch.org/docs/stable/notes/cuda.html#environment-variables)\n"
     ]
    },
    {
     "name": "stderr",
     "output_type": "stream",
     "text": [
      "Epoch 3/4 [Train]:  36%|███▋      | 47/129 [00:16<00:29,  2.82batch/s]"
     ]
    },
    {
     "name": "stdout",
     "output_type": "stream",
     "text": [
      "\n",
      "Error in training batch: CUDA out of memory. Tried to allocate 188.00 MiB. GPU 0 has a total capacity of 5.77 GiB of which 84.31 MiB is free. Including non-PyTorch memory, this process has 5.67 GiB memory in use. Of the allocated memory 4.07 GiB is allocated by PyTorch, and 1.49 GiB is reserved by PyTorch but unallocated. If reserved but unallocated memory is large try setting PYTORCH_CUDA_ALLOC_CONF=expandable_segments:True to avoid fragmentation.  See documentation for Memory Management  (https://pytorch.org/docs/stable/notes/cuda.html#environment-variables)\n"
     ]
    },
    {
     "name": "stderr",
     "output_type": "stream",
     "text": [
      "Epoch 3/4 [Train]:  37%|███▋      | 48/129 [00:16<00:29,  2.78batch/s]"
     ]
    },
    {
     "name": "stdout",
     "output_type": "stream",
     "text": [
      "\n",
      "Error in training batch: CUDA out of memory. Tried to allocate 188.00 MiB. GPU 0 has a total capacity of 5.77 GiB of which 84.31 MiB is free. Including non-PyTorch memory, this process has 5.67 GiB memory in use. Of the allocated memory 4.07 GiB is allocated by PyTorch, and 1.49 GiB is reserved by PyTorch but unallocated. If reserved but unallocated memory is large try setting PYTORCH_CUDA_ALLOC_CONF=expandable_segments:True to avoid fragmentation.  See documentation for Memory Management  (https://pytorch.org/docs/stable/notes/cuda.html#environment-variables)\n"
     ]
    },
    {
     "name": "stderr",
     "output_type": "stream",
     "text": [
      "Epoch 3/4 [Train]:  38%|███▊      | 49/129 [00:17<00:28,  2.81batch/s]"
     ]
    },
    {
     "name": "stdout",
     "output_type": "stream",
     "text": [
      "\n",
      "Error in training batch: CUDA out of memory. Tried to allocate 188.00 MiB. GPU 0 has a total capacity of 5.77 GiB of which 84.31 MiB is free. Including non-PyTorch memory, this process has 5.67 GiB memory in use. Of the allocated memory 4.07 GiB is allocated by PyTorch, and 1.49 GiB is reserved by PyTorch but unallocated. If reserved but unallocated memory is large try setting PYTORCH_CUDA_ALLOC_CONF=expandable_segments:True to avoid fragmentation.  See documentation for Memory Management  (https://pytorch.org/docs/stable/notes/cuda.html#environment-variables)\n"
     ]
    },
    {
     "name": "stderr",
     "output_type": "stream",
     "text": [
      "Epoch 3/4 [Train]:  39%|███▉      | 50/129 [00:17<00:28,  2.82batch/s]"
     ]
    },
    {
     "name": "stdout",
     "output_type": "stream",
     "text": [
      "\n",
      "Error in training batch: CUDA out of memory. Tried to allocate 188.00 MiB. GPU 0 has a total capacity of 5.77 GiB of which 84.31 MiB is free. Including non-PyTorch memory, this process has 5.67 GiB memory in use. Of the allocated memory 4.07 GiB is allocated by PyTorch, and 1.49 GiB is reserved by PyTorch but unallocated. If reserved but unallocated memory is large try setting PYTORCH_CUDA_ALLOC_CONF=expandable_segments:True to avoid fragmentation.  See documentation for Memory Management  (https://pytorch.org/docs/stable/notes/cuda.html#environment-variables)\n"
     ]
    },
    {
     "name": "stderr",
     "output_type": "stream",
     "text": [
      "Epoch 3/4 [Train]:  40%|███▉      | 51/129 [00:17<00:27,  2.81batch/s]"
     ]
    },
    {
     "name": "stdout",
     "output_type": "stream",
     "text": [
      "\n",
      "Error in training batch: CUDA out of memory. Tried to allocate 188.00 MiB. GPU 0 has a total capacity of 5.77 GiB of which 84.31 MiB is free. Including non-PyTorch memory, this process has 5.67 GiB memory in use. Of the allocated memory 4.07 GiB is allocated by PyTorch, and 1.49 GiB is reserved by PyTorch but unallocated. If reserved but unallocated memory is large try setting PYTORCH_CUDA_ALLOC_CONF=expandable_segments:True to avoid fragmentation.  See documentation for Memory Management  (https://pytorch.org/docs/stable/notes/cuda.html#environment-variables)\n"
     ]
    },
    {
     "name": "stderr",
     "output_type": "stream",
     "text": [
      "Epoch 3/4 [Train]:  40%|████      | 52/129 [00:18<00:27,  2.80batch/s]"
     ]
    },
    {
     "name": "stdout",
     "output_type": "stream",
     "text": [
      "\n",
      "Error in training batch: CUDA out of memory. Tried to allocate 188.00 MiB. GPU 0 has a total capacity of 5.77 GiB of which 84.31 MiB is free. Including non-PyTorch memory, this process has 5.67 GiB memory in use. Of the allocated memory 4.07 GiB is allocated by PyTorch, and 1.49 GiB is reserved by PyTorch but unallocated. If reserved but unallocated memory is large try setting PYTORCH_CUDA_ALLOC_CONF=expandable_segments:True to avoid fragmentation.  See documentation for Memory Management  (https://pytorch.org/docs/stable/notes/cuda.html#environment-variables)\n"
     ]
    },
    {
     "name": "stderr",
     "output_type": "stream",
     "text": [
      "Epoch 3/4 [Train]:  41%|████      | 53/129 [00:18<00:26,  2.82batch/s]"
     ]
    },
    {
     "name": "stdout",
     "output_type": "stream",
     "text": [
      "\n",
      "Error in training batch: CUDA out of memory. Tried to allocate 188.00 MiB. GPU 0 has a total capacity of 5.77 GiB of which 84.31 MiB is free. Including non-PyTorch memory, this process has 5.67 GiB memory in use. Of the allocated memory 4.07 GiB is allocated by PyTorch, and 1.49 GiB is reserved by PyTorch but unallocated. If reserved but unallocated memory is large try setting PYTORCH_CUDA_ALLOC_CONF=expandable_segments:True to avoid fragmentation.  See documentation for Memory Management  (https://pytorch.org/docs/stable/notes/cuda.html#environment-variables)\n"
     ]
    },
    {
     "name": "stderr",
     "output_type": "stream",
     "text": [
      "Epoch 3/4 [Train]:  42%|████▏     | 54/129 [00:18<00:26,  2.84batch/s]"
     ]
    },
    {
     "name": "stdout",
     "output_type": "stream",
     "text": [
      "\n",
      "Error in training batch: CUDA out of memory. Tried to allocate 188.00 MiB. GPU 0 has a total capacity of 5.77 GiB of which 84.31 MiB is free. Including non-PyTorch memory, this process has 5.67 GiB memory in use. Of the allocated memory 4.07 GiB is allocated by PyTorch, and 1.49 GiB is reserved by PyTorch but unallocated. If reserved but unallocated memory is large try setting PYTORCH_CUDA_ALLOC_CONF=expandable_segments:True to avoid fragmentation.  See documentation for Memory Management  (https://pytorch.org/docs/stable/notes/cuda.html#environment-variables)\n"
     ]
    },
    {
     "name": "stderr",
     "output_type": "stream",
     "text": [
      "Epoch 3/4 [Train]:  43%|████▎     | 55/129 [00:19<00:25,  2.86batch/s]"
     ]
    },
    {
     "name": "stdout",
     "output_type": "stream",
     "text": [
      "\n",
      "Error in training batch: CUDA out of memory. Tried to allocate 188.00 MiB. GPU 0 has a total capacity of 5.77 GiB of which 84.31 MiB is free. Including non-PyTorch memory, this process has 5.67 GiB memory in use. Of the allocated memory 4.07 GiB is allocated by PyTorch, and 1.49 GiB is reserved by PyTorch but unallocated. If reserved but unallocated memory is large try setting PYTORCH_CUDA_ALLOC_CONF=expandable_segments:True to avoid fragmentation.  See documentation for Memory Management  (https://pytorch.org/docs/stable/notes/cuda.html#environment-variables)\n"
     ]
    },
    {
     "name": "stderr",
     "output_type": "stream",
     "text": [
      "Epoch 3/4 [Train]:  43%|████▎     | 56/129 [00:19<00:25,  2.81batch/s]"
     ]
    },
    {
     "name": "stdout",
     "output_type": "stream",
     "text": [
      "\n",
      "Error in training batch: CUDA out of memory. Tried to allocate 188.00 MiB. GPU 0 has a total capacity of 5.77 GiB of which 84.31 MiB is free. Including non-PyTorch memory, this process has 5.67 GiB memory in use. Of the allocated memory 4.07 GiB is allocated by PyTorch, and 1.49 GiB is reserved by PyTorch but unallocated. If reserved but unallocated memory is large try setting PYTORCH_CUDA_ALLOC_CONF=expandable_segments:True to avoid fragmentation.  See documentation for Memory Management  (https://pytorch.org/docs/stable/notes/cuda.html#environment-variables)\n"
     ]
    },
    {
     "name": "stderr",
     "output_type": "stream",
     "text": [
      "Epoch 3/4 [Train]:  44%|████▍     | 57/129 [00:20<00:25,  2.79batch/s]"
     ]
    },
    {
     "name": "stdout",
     "output_type": "stream",
     "text": [
      "\n",
      "Error in training batch: CUDA out of memory. Tried to allocate 188.00 MiB. GPU 0 has a total capacity of 5.77 GiB of which 84.31 MiB is free. Including non-PyTorch memory, this process has 5.67 GiB memory in use. Of the allocated memory 4.07 GiB is allocated by PyTorch, and 1.49 GiB is reserved by PyTorch but unallocated. If reserved but unallocated memory is large try setting PYTORCH_CUDA_ALLOC_CONF=expandable_segments:True to avoid fragmentation.  See documentation for Memory Management  (https://pytorch.org/docs/stable/notes/cuda.html#environment-variables)\n"
     ]
    },
    {
     "name": "stderr",
     "output_type": "stream",
     "text": [
      "Epoch 3/4 [Train]:  45%|████▍     | 58/129 [00:20<00:25,  2.83batch/s]"
     ]
    },
    {
     "name": "stdout",
     "output_type": "stream",
     "text": [
      "\n",
      "Error in training batch: CUDA out of memory. Tried to allocate 188.00 MiB. GPU 0 has a total capacity of 5.77 GiB of which 84.31 MiB is free. Including non-PyTorch memory, this process has 5.67 GiB memory in use. Of the allocated memory 4.07 GiB is allocated by PyTorch, and 1.49 GiB is reserved by PyTorch but unallocated. If reserved but unallocated memory is large try setting PYTORCH_CUDA_ALLOC_CONF=expandable_segments:True to avoid fragmentation.  See documentation for Memory Management  (https://pytorch.org/docs/stable/notes/cuda.html#environment-variables)\n"
     ]
    },
    {
     "name": "stderr",
     "output_type": "stream",
     "text": [
      "Epoch 3/4 [Train]:  46%|████▌     | 59/129 [00:20<00:24,  2.82batch/s]"
     ]
    },
    {
     "name": "stdout",
     "output_type": "stream",
     "text": [
      "\n",
      "Error in training batch: CUDA out of memory. Tried to allocate 188.00 MiB. GPU 0 has a total capacity of 5.77 GiB of which 84.31 MiB is free. Including non-PyTorch memory, this process has 5.67 GiB memory in use. Of the allocated memory 4.07 GiB is allocated by PyTorch, and 1.49 GiB is reserved by PyTorch but unallocated. If reserved but unallocated memory is large try setting PYTORCH_CUDA_ALLOC_CONF=expandable_segments:True to avoid fragmentation.  See documentation for Memory Management  (https://pytorch.org/docs/stable/notes/cuda.html#environment-variables)\n"
     ]
    },
    {
     "name": "stderr",
     "output_type": "stream",
     "text": [
      "Epoch 3/4 [Train]:  47%|████▋     | 60/129 [00:21<00:24,  2.80batch/s]"
     ]
    },
    {
     "name": "stdout",
     "output_type": "stream",
     "text": [
      "\n",
      "Error in training batch: CUDA out of memory. Tried to allocate 188.00 MiB. GPU 0 has a total capacity of 5.77 GiB of which 84.31 MiB is free. Including non-PyTorch memory, this process has 5.67 GiB memory in use. Of the allocated memory 4.07 GiB is allocated by PyTorch, and 1.49 GiB is reserved by PyTorch but unallocated. If reserved but unallocated memory is large try setting PYTORCH_CUDA_ALLOC_CONF=expandable_segments:True to avoid fragmentation.  See documentation for Memory Management  (https://pytorch.org/docs/stable/notes/cuda.html#environment-variables)\n"
     ]
    },
    {
     "name": "stderr",
     "output_type": "stream",
     "text": [
      "Epoch 3/4 [Train]:  47%|████▋     | 61/129 [00:21<00:24,  2.80batch/s]"
     ]
    },
    {
     "name": "stdout",
     "output_type": "stream",
     "text": [
      "\n",
      "Error in training batch: CUDA out of memory. Tried to allocate 188.00 MiB. GPU 0 has a total capacity of 5.77 GiB of which 84.31 MiB is free. Including non-PyTorch memory, this process has 5.67 GiB memory in use. Of the allocated memory 4.07 GiB is allocated by PyTorch, and 1.49 GiB is reserved by PyTorch but unallocated. If reserved but unallocated memory is large try setting PYTORCH_CUDA_ALLOC_CONF=expandable_segments:True to avoid fragmentation.  See documentation for Memory Management  (https://pytorch.org/docs/stable/notes/cuda.html#environment-variables)\n"
     ]
    },
    {
     "name": "stderr",
     "output_type": "stream",
     "text": [
      "Epoch 3/4 [Train]:  48%|████▊     | 62/129 [00:21<00:24,  2.78batch/s]"
     ]
    },
    {
     "name": "stdout",
     "output_type": "stream",
     "text": [
      "\n",
      "Error in training batch: CUDA out of memory. Tried to allocate 188.00 MiB. GPU 0 has a total capacity of 5.77 GiB of which 84.31 MiB is free. Including non-PyTorch memory, this process has 5.67 GiB memory in use. Of the allocated memory 4.07 GiB is allocated by PyTorch, and 1.49 GiB is reserved by PyTorch but unallocated. If reserved but unallocated memory is large try setting PYTORCH_CUDA_ALLOC_CONF=expandable_segments:True to avoid fragmentation.  See documentation for Memory Management  (https://pytorch.org/docs/stable/notes/cuda.html#environment-variables)\n"
     ]
    },
    {
     "name": "stderr",
     "output_type": "stream",
     "text": [
      "Epoch 3/4 [Train]:  49%|████▉     | 63/129 [00:22<00:23,  2.84batch/s]"
     ]
    },
    {
     "name": "stdout",
     "output_type": "stream",
     "text": [
      "\n",
      "Error in training batch: CUDA out of memory. Tried to allocate 188.00 MiB. GPU 0 has a total capacity of 5.77 GiB of which 84.31 MiB is free. Including non-PyTorch memory, this process has 5.67 GiB memory in use. Of the allocated memory 4.07 GiB is allocated by PyTorch, and 1.49 GiB is reserved by PyTorch but unallocated. If reserved but unallocated memory is large try setting PYTORCH_CUDA_ALLOC_CONF=expandable_segments:True to avoid fragmentation.  See documentation for Memory Management  (https://pytorch.org/docs/stable/notes/cuda.html#environment-variables)\n"
     ]
    },
    {
     "name": "stderr",
     "output_type": "stream",
     "text": [
      "Epoch 3/4 [Train]:  50%|████▉     | 64/129 [00:22<00:23,  2.81batch/s]"
     ]
    },
    {
     "name": "stdout",
     "output_type": "stream",
     "text": [
      "\n",
      "Error in training batch: CUDA out of memory. Tried to allocate 188.00 MiB. GPU 0 has a total capacity of 5.77 GiB of which 84.31 MiB is free. Including non-PyTorch memory, this process has 5.67 GiB memory in use. Of the allocated memory 4.07 GiB is allocated by PyTorch, and 1.49 GiB is reserved by PyTorch but unallocated. If reserved but unallocated memory is large try setting PYTORCH_CUDA_ALLOC_CONF=expandable_segments:True to avoid fragmentation.  See documentation for Memory Management  (https://pytorch.org/docs/stable/notes/cuda.html#environment-variables)\n"
     ]
    },
    {
     "name": "stderr",
     "output_type": "stream",
     "text": [
      "Epoch 3/4 [Train]:  50%|█████     | 65/129 [00:22<00:22,  2.80batch/s]"
     ]
    },
    {
     "name": "stdout",
     "output_type": "stream",
     "text": [
      "\n",
      "Error in training batch: CUDA out of memory. Tried to allocate 188.00 MiB. GPU 0 has a total capacity of 5.77 GiB of which 84.31 MiB is free. Including non-PyTorch memory, this process has 5.67 GiB memory in use. Of the allocated memory 4.07 GiB is allocated by PyTorch, and 1.49 GiB is reserved by PyTorch but unallocated. If reserved but unallocated memory is large try setting PYTORCH_CUDA_ALLOC_CONF=expandable_segments:True to avoid fragmentation.  See documentation for Memory Management  (https://pytorch.org/docs/stable/notes/cuda.html#environment-variables)\n"
     ]
    },
    {
     "name": "stderr",
     "output_type": "stream",
     "text": [
      "Epoch 3/4 [Train]:  51%|█████     | 66/129 [00:23<00:22,  2.80batch/s]"
     ]
    },
    {
     "name": "stdout",
     "output_type": "stream",
     "text": [
      "\n",
      "Error in training batch: CUDA out of memory. Tried to allocate 188.00 MiB. GPU 0 has a total capacity of 5.77 GiB of which 84.31 MiB is free. Including non-PyTorch memory, this process has 5.67 GiB memory in use. Of the allocated memory 4.07 GiB is allocated by PyTorch, and 1.49 GiB is reserved by PyTorch but unallocated. If reserved but unallocated memory is large try setting PYTORCH_CUDA_ALLOC_CONF=expandable_segments:True to avoid fragmentation.  See documentation for Memory Management  (https://pytorch.org/docs/stable/notes/cuda.html#environment-variables)\n"
     ]
    },
    {
     "name": "stderr",
     "output_type": "stream",
     "text": [
      "Epoch 3/4 [Train]:  52%|█████▏    | 67/129 [00:23<00:22,  2.80batch/s]"
     ]
    },
    {
     "name": "stdout",
     "output_type": "stream",
     "text": [
      "\n",
      "Error in training batch: CUDA out of memory. Tried to allocate 188.00 MiB. GPU 0 has a total capacity of 5.77 GiB of which 84.31 MiB is free. Including non-PyTorch memory, this process has 5.67 GiB memory in use. Of the allocated memory 4.07 GiB is allocated by PyTorch, and 1.49 GiB is reserved by PyTorch but unallocated. If reserved but unallocated memory is large try setting PYTORCH_CUDA_ALLOC_CONF=expandable_segments:True to avoid fragmentation.  See documentation for Memory Management  (https://pytorch.org/docs/stable/notes/cuda.html#environment-variables)\n"
     ]
    },
    {
     "name": "stderr",
     "output_type": "stream",
     "text": [
      "Epoch 3/4 [Train]:  53%|█████▎    | 68/129 [00:23<00:21,  2.79batch/s]"
     ]
    },
    {
     "name": "stdout",
     "output_type": "stream",
     "text": [
      "\n",
      "Error in training batch: CUDA out of memory. Tried to allocate 188.00 MiB. GPU 0 has a total capacity of 5.77 GiB of which 84.31 MiB is free. Including non-PyTorch memory, this process has 5.67 GiB memory in use. Of the allocated memory 4.07 GiB is allocated by PyTorch, and 1.49 GiB is reserved by PyTorch but unallocated. If reserved but unallocated memory is large try setting PYTORCH_CUDA_ALLOC_CONF=expandable_segments:True to avoid fragmentation.  See documentation for Memory Management  (https://pytorch.org/docs/stable/notes/cuda.html#environment-variables)\n"
     ]
    },
    {
     "name": "stderr",
     "output_type": "stream",
     "text": [
      "Epoch 3/4 [Train]:  53%|█████▎    | 69/129 [00:24<00:21,  2.79batch/s]"
     ]
    },
    {
     "name": "stdout",
     "output_type": "stream",
     "text": [
      "\n",
      "Error in training batch: CUDA out of memory. Tried to allocate 188.00 MiB. GPU 0 has a total capacity of 5.77 GiB of which 84.31 MiB is free. Including non-PyTorch memory, this process has 5.67 GiB memory in use. Of the allocated memory 4.07 GiB is allocated by PyTorch, and 1.49 GiB is reserved by PyTorch but unallocated. If reserved but unallocated memory is large try setting PYTORCH_CUDA_ALLOC_CONF=expandable_segments:True to avoid fragmentation.  See documentation for Memory Management  (https://pytorch.org/docs/stable/notes/cuda.html#environment-variables)\n"
     ]
    },
    {
     "name": "stderr",
     "output_type": "stream",
     "text": [
      "Epoch 3/4 [Train]:  54%|█████▍    | 70/129 [00:24<00:21,  2.77batch/s]"
     ]
    },
    {
     "name": "stdout",
     "output_type": "stream",
     "text": [
      "\n",
      "Error in training batch: CUDA out of memory. Tried to allocate 188.00 MiB. GPU 0 has a total capacity of 5.77 GiB of which 84.31 MiB is free. Including non-PyTorch memory, this process has 5.67 GiB memory in use. Of the allocated memory 4.07 GiB is allocated by PyTorch, and 1.49 GiB is reserved by PyTorch but unallocated. If reserved but unallocated memory is large try setting PYTORCH_CUDA_ALLOC_CONF=expandable_segments:True to avoid fragmentation.  See documentation for Memory Management  (https://pytorch.org/docs/stable/notes/cuda.html#environment-variables)\n"
     ]
    },
    {
     "name": "stderr",
     "output_type": "stream",
     "text": [
      "Epoch 3/4 [Train]:  55%|█████▌    | 71/129 [00:25<00:20,  2.79batch/s]"
     ]
    },
    {
     "name": "stdout",
     "output_type": "stream",
     "text": [
      "\n",
      "Error in training batch: CUDA out of memory. Tried to allocate 188.00 MiB. GPU 0 has a total capacity of 5.77 GiB of which 84.31 MiB is free. Including non-PyTorch memory, this process has 5.67 GiB memory in use. Of the allocated memory 4.07 GiB is allocated by PyTorch, and 1.49 GiB is reserved by PyTorch but unallocated. If reserved but unallocated memory is large try setting PYTORCH_CUDA_ALLOC_CONF=expandable_segments:True to avoid fragmentation.  See documentation for Memory Management  (https://pytorch.org/docs/stable/notes/cuda.html#environment-variables)\n"
     ]
    },
    {
     "name": "stderr",
     "output_type": "stream",
     "text": [
      "Epoch 3/4 [Train]:  56%|█████▌    | 72/129 [00:25<00:20,  2.81batch/s]"
     ]
    },
    {
     "name": "stdout",
     "output_type": "stream",
     "text": [
      "\n",
      "Error in training batch: CUDA out of memory. Tried to allocate 188.00 MiB. GPU 0 has a total capacity of 5.77 GiB of which 84.31 MiB is free. Including non-PyTorch memory, this process has 5.67 GiB memory in use. Of the allocated memory 4.07 GiB is allocated by PyTorch, and 1.49 GiB is reserved by PyTorch but unallocated. If reserved but unallocated memory is large try setting PYTORCH_CUDA_ALLOC_CONF=expandable_segments:True to avoid fragmentation.  See documentation for Memory Management  (https://pytorch.org/docs/stable/notes/cuda.html#environment-variables)\n"
     ]
    },
    {
     "name": "stderr",
     "output_type": "stream",
     "text": [
      "Epoch 3/4 [Train]:  57%|█████▋    | 73/129 [00:25<00:19,  2.81batch/s]"
     ]
    },
    {
     "name": "stdout",
     "output_type": "stream",
     "text": [
      "\n",
      "Error in training batch: CUDA out of memory. Tried to allocate 188.00 MiB. GPU 0 has a total capacity of 5.77 GiB of which 84.31 MiB is free. Including non-PyTorch memory, this process has 5.67 GiB memory in use. Of the allocated memory 4.07 GiB is allocated by PyTorch, and 1.49 GiB is reserved by PyTorch but unallocated. If reserved but unallocated memory is large try setting PYTORCH_CUDA_ALLOC_CONF=expandable_segments:True to avoid fragmentation.  See documentation for Memory Management  (https://pytorch.org/docs/stable/notes/cuda.html#environment-variables)\n"
     ]
    },
    {
     "name": "stderr",
     "output_type": "stream",
     "text": [
      "Epoch 3/4 [Train]:  57%|█████▋    | 74/129 [00:26<00:19,  2.80batch/s]"
     ]
    },
    {
     "name": "stdout",
     "output_type": "stream",
     "text": [
      "\n",
      "Error in training batch: CUDA out of memory. Tried to allocate 188.00 MiB. GPU 0 has a total capacity of 5.77 GiB of which 84.31 MiB is free. Including non-PyTorch memory, this process has 5.67 GiB memory in use. Of the allocated memory 4.07 GiB is allocated by PyTorch, and 1.49 GiB is reserved by PyTorch but unallocated. If reserved but unallocated memory is large try setting PYTORCH_CUDA_ALLOC_CONF=expandable_segments:True to avoid fragmentation.  See documentation for Memory Management  (https://pytorch.org/docs/stable/notes/cuda.html#environment-variables)\n"
     ]
    },
    {
     "name": "stderr",
     "output_type": "stream",
     "text": [
      "Epoch 3/4 [Train]:  58%|█████▊    | 75/129 [00:26<00:19,  2.79batch/s]"
     ]
    },
    {
     "name": "stdout",
     "output_type": "stream",
     "text": [
      "\n",
      "Error in training batch: CUDA out of memory. Tried to allocate 188.00 MiB. GPU 0 has a total capacity of 5.77 GiB of which 84.31 MiB is free. Including non-PyTorch memory, this process has 5.67 GiB memory in use. Of the allocated memory 4.07 GiB is allocated by PyTorch, and 1.49 GiB is reserved by PyTorch but unallocated. If reserved but unallocated memory is large try setting PYTORCH_CUDA_ALLOC_CONF=expandable_segments:True to avoid fragmentation.  See documentation for Memory Management  (https://pytorch.org/docs/stable/notes/cuda.html#environment-variables)\n"
     ]
    },
    {
     "name": "stderr",
     "output_type": "stream",
     "text": [
      "Epoch 3/4 [Train]:  59%|█████▉    | 76/129 [00:26<00:19,  2.78batch/s]"
     ]
    },
    {
     "name": "stdout",
     "output_type": "stream",
     "text": [
      "\n",
      "Error in training batch: CUDA out of memory. Tried to allocate 188.00 MiB. GPU 0 has a total capacity of 5.77 GiB of which 84.31 MiB is free. Including non-PyTorch memory, this process has 5.67 GiB memory in use. Of the allocated memory 4.07 GiB is allocated by PyTorch, and 1.49 GiB is reserved by PyTorch but unallocated. If reserved but unallocated memory is large try setting PYTORCH_CUDA_ALLOC_CONF=expandable_segments:True to avoid fragmentation.  See documentation for Memory Management  (https://pytorch.org/docs/stable/notes/cuda.html#environment-variables)\n"
     ]
    },
    {
     "name": "stderr",
     "output_type": "stream",
     "text": [
      "Epoch 3/4 [Train]:  60%|█████▉    | 77/129 [00:27<00:18,  2.81batch/s]"
     ]
    },
    {
     "name": "stdout",
     "output_type": "stream",
     "text": [
      "\n",
      "Error in training batch: CUDA out of memory. Tried to allocate 188.00 MiB. GPU 0 has a total capacity of 5.77 GiB of which 84.31 MiB is free. Including non-PyTorch memory, this process has 5.67 GiB memory in use. Of the allocated memory 4.07 GiB is allocated by PyTorch, and 1.49 GiB is reserved by PyTorch but unallocated. If reserved but unallocated memory is large try setting PYTORCH_CUDA_ALLOC_CONF=expandable_segments:True to avoid fragmentation.  See documentation for Memory Management  (https://pytorch.org/docs/stable/notes/cuda.html#environment-variables)\n"
     ]
    },
    {
     "name": "stderr",
     "output_type": "stream",
     "text": [
      "Epoch 3/4 [Train]:  60%|██████    | 78/129 [00:27<00:18,  2.80batch/s]"
     ]
    },
    {
     "name": "stdout",
     "output_type": "stream",
     "text": [
      "\n",
      "Error in training batch: CUDA out of memory. Tried to allocate 188.00 MiB. GPU 0 has a total capacity of 5.77 GiB of which 84.31 MiB is free. Including non-PyTorch memory, this process has 5.67 GiB memory in use. Of the allocated memory 4.07 GiB is allocated by PyTorch, and 1.49 GiB is reserved by PyTorch but unallocated. If reserved but unallocated memory is large try setting PYTORCH_CUDA_ALLOC_CONF=expandable_segments:True to avoid fragmentation.  See documentation for Memory Management  (https://pytorch.org/docs/stable/notes/cuda.html#environment-variables)\n"
     ]
    },
    {
     "name": "stderr",
     "output_type": "stream",
     "text": [
      "Epoch 3/4 [Train]:  61%|██████    | 79/129 [00:27<00:18,  2.77batch/s]"
     ]
    },
    {
     "name": "stdout",
     "output_type": "stream",
     "text": [
      "\n",
      "Error in training batch: CUDA out of memory. Tried to allocate 188.00 MiB. GPU 0 has a total capacity of 5.77 GiB of which 84.31 MiB is free. Including non-PyTorch memory, this process has 5.67 GiB memory in use. Of the allocated memory 4.07 GiB is allocated by PyTorch, and 1.49 GiB is reserved by PyTorch but unallocated. If reserved but unallocated memory is large try setting PYTORCH_CUDA_ALLOC_CONF=expandable_segments:True to avoid fragmentation.  See documentation for Memory Management  (https://pytorch.org/docs/stable/notes/cuda.html#environment-variables)\n"
     ]
    },
    {
     "name": "stderr",
     "output_type": "stream",
     "text": [
      "Epoch 3/4 [Train]:  62%|██████▏   | 80/129 [00:28<00:17,  2.78batch/s]"
     ]
    },
    {
     "name": "stdout",
     "output_type": "stream",
     "text": [
      "\n",
      "Error in training batch: CUDA out of memory. Tried to allocate 188.00 MiB. GPU 0 has a total capacity of 5.77 GiB of which 84.31 MiB is free. Including non-PyTorch memory, this process has 5.67 GiB memory in use. Of the allocated memory 4.07 GiB is allocated by PyTorch, and 1.49 GiB is reserved by PyTorch but unallocated. If reserved but unallocated memory is large try setting PYTORCH_CUDA_ALLOC_CONF=expandable_segments:True to avoid fragmentation.  See documentation for Memory Management  (https://pytorch.org/docs/stable/notes/cuda.html#environment-variables)\n"
     ]
    },
    {
     "name": "stderr",
     "output_type": "stream",
     "text": [
      "Epoch 3/4 [Train]:  63%|██████▎   | 81/129 [00:28<00:17,  2.77batch/s]"
     ]
    },
    {
     "name": "stdout",
     "output_type": "stream",
     "text": [
      "\n",
      "Error in training batch: CUDA out of memory. Tried to allocate 188.00 MiB. GPU 0 has a total capacity of 5.77 GiB of which 84.31 MiB is free. Including non-PyTorch memory, this process has 5.67 GiB memory in use. Of the allocated memory 4.07 GiB is allocated by PyTorch, and 1.49 GiB is reserved by PyTorch but unallocated. If reserved but unallocated memory is large try setting PYTORCH_CUDA_ALLOC_CONF=expandable_segments:True to avoid fragmentation.  See documentation for Memory Management  (https://pytorch.org/docs/stable/notes/cuda.html#environment-variables)\n"
     ]
    },
    {
     "name": "stderr",
     "output_type": "stream",
     "text": [
      "Epoch 3/4 [Train]:  64%|██████▎   | 82/129 [00:29<00:16,  2.81batch/s]"
     ]
    },
    {
     "name": "stdout",
     "output_type": "stream",
     "text": [
      "\n",
      "Error in training batch: CUDA out of memory. Tried to allocate 188.00 MiB. GPU 0 has a total capacity of 5.77 GiB of which 84.31 MiB is free. Including non-PyTorch memory, this process has 5.67 GiB memory in use. Of the allocated memory 4.07 GiB is allocated by PyTorch, and 1.49 GiB is reserved by PyTorch but unallocated. If reserved but unallocated memory is large try setting PYTORCH_CUDA_ALLOC_CONF=expandable_segments:True to avoid fragmentation.  See documentation for Memory Management  (https://pytorch.org/docs/stable/notes/cuda.html#environment-variables)\n"
     ]
    },
    {
     "name": "stderr",
     "output_type": "stream",
     "text": [
      "Epoch 3/4 [Train]:  64%|██████▍   | 83/129 [00:29<00:16,  2.78batch/s]"
     ]
    },
    {
     "name": "stdout",
     "output_type": "stream",
     "text": [
      "\n",
      "Error in training batch: CUDA out of memory. Tried to allocate 188.00 MiB. GPU 0 has a total capacity of 5.77 GiB of which 84.31 MiB is free. Including non-PyTorch memory, this process has 5.67 GiB memory in use. Of the allocated memory 4.07 GiB is allocated by PyTorch, and 1.49 GiB is reserved by PyTorch but unallocated. If reserved but unallocated memory is large try setting PYTORCH_CUDA_ALLOC_CONF=expandable_segments:True to avoid fragmentation.  See documentation for Memory Management  (https://pytorch.org/docs/stable/notes/cuda.html#environment-variables)\n"
     ]
    },
    {
     "name": "stderr",
     "output_type": "stream",
     "text": [
      "Epoch 3/4 [Train]:  65%|██████▌   | 84/129 [00:29<00:16,  2.78batch/s]"
     ]
    },
    {
     "name": "stdout",
     "output_type": "stream",
     "text": [
      "\n",
      "Error in training batch: CUDA out of memory. Tried to allocate 188.00 MiB. GPU 0 has a total capacity of 5.77 GiB of which 84.31 MiB is free. Including non-PyTorch memory, this process has 5.67 GiB memory in use. Of the allocated memory 4.07 GiB is allocated by PyTorch, and 1.49 GiB is reserved by PyTorch but unallocated. If reserved but unallocated memory is large try setting PYTORCH_CUDA_ALLOC_CONF=expandable_segments:True to avoid fragmentation.  See documentation for Memory Management  (https://pytorch.org/docs/stable/notes/cuda.html#environment-variables)\n"
     ]
    },
    {
     "name": "stderr",
     "output_type": "stream",
     "text": [
      "Epoch 3/4 [Train]:  66%|██████▌   | 85/129 [00:30<00:15,  2.76batch/s]"
     ]
    },
    {
     "name": "stdout",
     "output_type": "stream",
     "text": [
      "\n",
      "Error in training batch: CUDA out of memory. Tried to allocate 188.00 MiB. GPU 0 has a total capacity of 5.77 GiB of which 84.31 MiB is free. Including non-PyTorch memory, this process has 5.67 GiB memory in use. Of the allocated memory 4.07 GiB is allocated by PyTorch, and 1.49 GiB is reserved by PyTorch but unallocated. If reserved but unallocated memory is large try setting PYTORCH_CUDA_ALLOC_CONF=expandable_segments:True to avoid fragmentation.  See documentation for Memory Management  (https://pytorch.org/docs/stable/notes/cuda.html#environment-variables)\n"
     ]
    },
    {
     "name": "stderr",
     "output_type": "stream",
     "text": [
      "Epoch 3/4 [Train]:  67%|██████▋   | 86/129 [00:30<00:15,  2.80batch/s]"
     ]
    },
    {
     "name": "stdout",
     "output_type": "stream",
     "text": [
      "\n",
      "Error in training batch: CUDA out of memory. Tried to allocate 188.00 MiB. GPU 0 has a total capacity of 5.77 GiB of which 84.31 MiB is free. Including non-PyTorch memory, this process has 5.67 GiB memory in use. Of the allocated memory 4.07 GiB is allocated by PyTorch, and 1.49 GiB is reserved by PyTorch but unallocated. If reserved but unallocated memory is large try setting PYTORCH_CUDA_ALLOC_CONF=expandable_segments:True to avoid fragmentation.  See documentation for Memory Management  (https://pytorch.org/docs/stable/notes/cuda.html#environment-variables)\n"
     ]
    },
    {
     "name": "stderr",
     "output_type": "stream",
     "text": [
      "Epoch 3/4 [Train]:  67%|██████▋   | 87/129 [00:30<00:15,  2.80batch/s]"
     ]
    },
    {
     "name": "stdout",
     "output_type": "stream",
     "text": [
      "\n",
      "Error in training batch: CUDA out of memory. Tried to allocate 188.00 MiB. GPU 0 has a total capacity of 5.77 GiB of which 84.31 MiB is free. Including non-PyTorch memory, this process has 5.67 GiB memory in use. Of the allocated memory 4.07 GiB is allocated by PyTorch, and 1.49 GiB is reserved by PyTorch but unallocated. If reserved but unallocated memory is large try setting PYTORCH_CUDA_ALLOC_CONF=expandable_segments:True to avoid fragmentation.  See documentation for Memory Management  (https://pytorch.org/docs/stable/notes/cuda.html#environment-variables)\n"
     ]
    },
    {
     "name": "stderr",
     "output_type": "stream",
     "text": [
      "Epoch 3/4 [Train]:  68%|██████▊   | 88/129 [00:31<00:14,  2.77batch/s]"
     ]
    },
    {
     "name": "stdout",
     "output_type": "stream",
     "text": [
      "\n",
      "Error in training batch: CUDA out of memory. Tried to allocate 188.00 MiB. GPU 0 has a total capacity of 5.77 GiB of which 84.31 MiB is free. Including non-PyTorch memory, this process has 5.67 GiB memory in use. Of the allocated memory 4.07 GiB is allocated by PyTorch, and 1.49 GiB is reserved by PyTorch but unallocated. If reserved but unallocated memory is large try setting PYTORCH_CUDA_ALLOC_CONF=expandable_segments:True to avoid fragmentation.  See documentation for Memory Management  (https://pytorch.org/docs/stable/notes/cuda.html#environment-variables)\n"
     ]
    },
    {
     "name": "stderr",
     "output_type": "stream",
     "text": [
      "Epoch 3/4 [Train]:  69%|██████▉   | 89/129 [00:31<00:14,  2.77batch/s]"
     ]
    },
    {
     "name": "stdout",
     "output_type": "stream",
     "text": [
      "\n",
      "Error in training batch: CUDA out of memory. Tried to allocate 188.00 MiB. GPU 0 has a total capacity of 5.77 GiB of which 84.31 MiB is free. Including non-PyTorch memory, this process has 5.67 GiB memory in use. Of the allocated memory 4.07 GiB is allocated by PyTorch, and 1.49 GiB is reserved by PyTorch but unallocated. If reserved but unallocated memory is large try setting PYTORCH_CUDA_ALLOC_CONF=expandable_segments:True to avoid fragmentation.  See documentation for Memory Management  (https://pytorch.org/docs/stable/notes/cuda.html#environment-variables)\n"
     ]
    },
    {
     "name": "stderr",
     "output_type": "stream",
     "text": [
      "Epoch 3/4 [Train]:  70%|██████▉   | 90/129 [00:31<00:14,  2.78batch/s]"
     ]
    },
    {
     "name": "stdout",
     "output_type": "stream",
     "text": [
      "\n",
      "Error in training batch: CUDA out of memory. Tried to allocate 188.00 MiB. GPU 0 has a total capacity of 5.77 GiB of which 84.31 MiB is free. Including non-PyTorch memory, this process has 5.67 GiB memory in use. Of the allocated memory 4.07 GiB is allocated by PyTorch, and 1.49 GiB is reserved by PyTorch but unallocated. If reserved but unallocated memory is large try setting PYTORCH_CUDA_ALLOC_CONF=expandable_segments:True to avoid fragmentation.  See documentation for Memory Management  (https://pytorch.org/docs/stable/notes/cuda.html#environment-variables)\n"
     ]
    },
    {
     "name": "stderr",
     "output_type": "stream",
     "text": [
      "Epoch 3/4 [Train]:  71%|███████   | 91/129 [00:32<00:13,  2.76batch/s]"
     ]
    },
    {
     "name": "stdout",
     "output_type": "stream",
     "text": [
      "\n",
      "Error in training batch: CUDA out of memory. Tried to allocate 188.00 MiB. GPU 0 has a total capacity of 5.77 GiB of which 84.31 MiB is free. Including non-PyTorch memory, this process has 5.67 GiB memory in use. Of the allocated memory 4.07 GiB is allocated by PyTorch, and 1.49 GiB is reserved by PyTorch but unallocated. If reserved but unallocated memory is large try setting PYTORCH_CUDA_ALLOC_CONF=expandable_segments:True to avoid fragmentation.  See documentation for Memory Management  (https://pytorch.org/docs/stable/notes/cuda.html#environment-variables)\n"
     ]
    },
    {
     "name": "stderr",
     "output_type": "stream",
     "text": [
      "Epoch 3/4 [Train]:  71%|███████▏  | 92/129 [00:32<00:13,  2.81batch/s]"
     ]
    },
    {
     "name": "stdout",
     "output_type": "stream",
     "text": [
      "\n",
      "Error in training batch: CUDA out of memory. Tried to allocate 188.00 MiB. GPU 0 has a total capacity of 5.77 GiB of which 84.31 MiB is free. Including non-PyTorch memory, this process has 5.67 GiB memory in use. Of the allocated memory 4.07 GiB is allocated by PyTorch, and 1.49 GiB is reserved by PyTorch but unallocated. If reserved but unallocated memory is large try setting PYTORCH_CUDA_ALLOC_CONF=expandable_segments:True to avoid fragmentation.  See documentation for Memory Management  (https://pytorch.org/docs/stable/notes/cuda.html#environment-variables)\n"
     ]
    },
    {
     "name": "stderr",
     "output_type": "stream",
     "text": [
      "Epoch 3/4 [Train]:  72%|███████▏  | 93/129 [00:32<00:12,  2.81batch/s]"
     ]
    },
    {
     "name": "stdout",
     "output_type": "stream",
     "text": [
      "\n",
      "Error in training batch: CUDA out of memory. Tried to allocate 188.00 MiB. GPU 0 has a total capacity of 5.77 GiB of which 84.31 MiB is free. Including non-PyTorch memory, this process has 5.67 GiB memory in use. Of the allocated memory 4.07 GiB is allocated by PyTorch, and 1.49 GiB is reserved by PyTorch but unallocated. If reserved but unallocated memory is large try setting PYTORCH_CUDA_ALLOC_CONF=expandable_segments:True to avoid fragmentation.  See documentation for Memory Management  (https://pytorch.org/docs/stable/notes/cuda.html#environment-variables)\n"
     ]
    },
    {
     "name": "stderr",
     "output_type": "stream",
     "text": [
      "Epoch 3/4 [Train]:  73%|███████▎  | 94/129 [00:33<00:12,  2.77batch/s]"
     ]
    },
    {
     "name": "stdout",
     "output_type": "stream",
     "text": [
      "\n",
      "Error in training batch: CUDA out of memory. Tried to allocate 188.00 MiB. GPU 0 has a total capacity of 5.77 GiB of which 84.31 MiB is free. Including non-PyTorch memory, this process has 5.67 GiB memory in use. Of the allocated memory 4.07 GiB is allocated by PyTorch, and 1.49 GiB is reserved by PyTorch but unallocated. If reserved but unallocated memory is large try setting PYTORCH_CUDA_ALLOC_CONF=expandable_segments:True to avoid fragmentation.  See documentation for Memory Management  (https://pytorch.org/docs/stable/notes/cuda.html#environment-variables)\n"
     ]
    },
    {
     "name": "stderr",
     "output_type": "stream",
     "text": [
      "Epoch 3/4 [Train]:  74%|███████▎  | 95/129 [00:33<00:12,  2.78batch/s]"
     ]
    },
    {
     "name": "stdout",
     "output_type": "stream",
     "text": [
      "\n",
      "Error in training batch: CUDA out of memory. Tried to allocate 188.00 MiB. GPU 0 has a total capacity of 5.77 GiB of which 84.31 MiB is free. Including non-PyTorch memory, this process has 5.67 GiB memory in use. Of the allocated memory 4.07 GiB is allocated by PyTorch, and 1.49 GiB is reserved by PyTorch but unallocated. If reserved but unallocated memory is large try setting PYTORCH_CUDA_ALLOC_CONF=expandable_segments:True to avoid fragmentation.  See documentation for Memory Management  (https://pytorch.org/docs/stable/notes/cuda.html#environment-variables)\n"
     ]
    },
    {
     "name": "stderr",
     "output_type": "stream",
     "text": [
      "Epoch 3/4 [Train]:  74%|███████▍  | 96/129 [00:34<00:11,  2.80batch/s]"
     ]
    },
    {
     "name": "stdout",
     "output_type": "stream",
     "text": [
      "\n",
      "Error in training batch: CUDA out of memory. Tried to allocate 188.00 MiB. GPU 0 has a total capacity of 5.77 GiB of which 84.31 MiB is free. Including non-PyTorch memory, this process has 5.67 GiB memory in use. Of the allocated memory 4.07 GiB is allocated by PyTorch, and 1.49 GiB is reserved by PyTorch but unallocated. If reserved but unallocated memory is large try setting PYTORCH_CUDA_ALLOC_CONF=expandable_segments:True to avoid fragmentation.  See documentation for Memory Management  (https://pytorch.org/docs/stable/notes/cuda.html#environment-variables)\n"
     ]
    },
    {
     "name": "stderr",
     "output_type": "stream",
     "text": [
      "Epoch 3/4 [Train]:  75%|███████▌  | 97/129 [00:34<00:11,  2.82batch/s]"
     ]
    },
    {
     "name": "stdout",
     "output_type": "stream",
     "text": [
      "\n",
      "Error in training batch: CUDA out of memory. Tried to allocate 188.00 MiB. GPU 0 has a total capacity of 5.77 GiB of which 84.31 MiB is free. Including non-PyTorch memory, this process has 5.67 GiB memory in use. Of the allocated memory 4.07 GiB is allocated by PyTorch, and 1.49 GiB is reserved by PyTorch but unallocated. If reserved but unallocated memory is large try setting PYTORCH_CUDA_ALLOC_CONF=expandable_segments:True to avoid fragmentation.  See documentation for Memory Management  (https://pytorch.org/docs/stable/notes/cuda.html#environment-variables)\n"
     ]
    },
    {
     "name": "stderr",
     "output_type": "stream",
     "text": [
      "Epoch 3/4 [Train]:  76%|███████▌  | 98/129 [00:34<00:10,  2.83batch/s]"
     ]
    },
    {
     "name": "stdout",
     "output_type": "stream",
     "text": [
      "\n",
      "Error in training batch: CUDA out of memory. Tried to allocate 188.00 MiB. GPU 0 has a total capacity of 5.77 GiB of which 84.31 MiB is free. Including non-PyTorch memory, this process has 5.67 GiB memory in use. Of the allocated memory 4.07 GiB is allocated by PyTorch, and 1.49 GiB is reserved by PyTorch but unallocated. If reserved but unallocated memory is large try setting PYTORCH_CUDA_ALLOC_CONF=expandable_segments:True to avoid fragmentation.  See documentation for Memory Management  (https://pytorch.org/docs/stable/notes/cuda.html#environment-variables)\n"
     ]
    },
    {
     "name": "stderr",
     "output_type": "stream",
     "text": [
      "Epoch 3/4 [Train]:  77%|███████▋  | 99/129 [00:35<00:10,  2.81batch/s]"
     ]
    },
    {
     "name": "stdout",
     "output_type": "stream",
     "text": [
      "\n",
      "Error in training batch: CUDA out of memory. Tried to allocate 188.00 MiB. GPU 0 has a total capacity of 5.77 GiB of which 84.31 MiB is free. Including non-PyTorch memory, this process has 5.67 GiB memory in use. Of the allocated memory 4.07 GiB is allocated by PyTorch, and 1.49 GiB is reserved by PyTorch but unallocated. If reserved but unallocated memory is large try setting PYTORCH_CUDA_ALLOC_CONF=expandable_segments:True to avoid fragmentation.  See documentation for Memory Management  (https://pytorch.org/docs/stable/notes/cuda.html#environment-variables)\n"
     ]
    },
    {
     "name": "stderr",
     "output_type": "stream",
     "text": [
      "Epoch 3/4 [Train]:  78%|███████▊  | 100/129 [00:35<00:10,  2.78batch/s]"
     ]
    },
    {
     "name": "stdout",
     "output_type": "stream",
     "text": [
      "\n",
      "Error in training batch: CUDA out of memory. Tried to allocate 188.00 MiB. GPU 0 has a total capacity of 5.77 GiB of which 84.31 MiB is free. Including non-PyTorch memory, this process has 5.67 GiB memory in use. Of the allocated memory 4.07 GiB is allocated by PyTorch, and 1.49 GiB is reserved by PyTorch but unallocated. If reserved but unallocated memory is large try setting PYTORCH_CUDA_ALLOC_CONF=expandable_segments:True to avoid fragmentation.  See documentation for Memory Management  (https://pytorch.org/docs/stable/notes/cuda.html#environment-variables)\n"
     ]
    },
    {
     "name": "stderr",
     "output_type": "stream",
     "text": [
      "Epoch 3/4 [Train]:  78%|███████▊  | 101/129 [00:35<00:09,  2.83batch/s]"
     ]
    },
    {
     "name": "stdout",
     "output_type": "stream",
     "text": [
      "\n",
      "Error in training batch: CUDA out of memory. Tried to allocate 188.00 MiB. GPU 0 has a total capacity of 5.77 GiB of which 84.31 MiB is free. Including non-PyTorch memory, this process has 5.67 GiB memory in use. Of the allocated memory 4.07 GiB is allocated by PyTorch, and 1.49 GiB is reserved by PyTorch but unallocated. If reserved but unallocated memory is large try setting PYTORCH_CUDA_ALLOC_CONF=expandable_segments:True to avoid fragmentation.  See documentation for Memory Management  (https://pytorch.org/docs/stable/notes/cuda.html#environment-variables)\n"
     ]
    },
    {
     "name": "stderr",
     "output_type": "stream",
     "text": [
      "Epoch 3/4 [Train]:  79%|███████▉  | 102/129 [00:36<00:09,  2.82batch/s]"
     ]
    },
    {
     "name": "stdout",
     "output_type": "stream",
     "text": [
      "\n",
      "Error in training batch: CUDA out of memory. Tried to allocate 188.00 MiB. GPU 0 has a total capacity of 5.77 GiB of which 84.31 MiB is free. Including non-PyTorch memory, this process has 5.67 GiB memory in use. Of the allocated memory 4.07 GiB is allocated by PyTorch, and 1.49 GiB is reserved by PyTorch but unallocated. If reserved but unallocated memory is large try setting PYTORCH_CUDA_ALLOC_CONF=expandable_segments:True to avoid fragmentation.  See documentation for Memory Management  (https://pytorch.org/docs/stable/notes/cuda.html#environment-variables)\n"
     ]
    },
    {
     "name": "stderr",
     "output_type": "stream",
     "text": [
      "Epoch 3/4 [Train]:  80%|███████▉  | 103/129 [00:36<00:09,  2.82batch/s]"
     ]
    },
    {
     "name": "stdout",
     "output_type": "stream",
     "text": [
      "\n",
      "Error in training batch: CUDA out of memory. Tried to allocate 188.00 MiB. GPU 0 has a total capacity of 5.77 GiB of which 84.31 MiB is free. Including non-PyTorch memory, this process has 5.67 GiB memory in use. Of the allocated memory 4.07 GiB is allocated by PyTorch, and 1.49 GiB is reserved by PyTorch but unallocated. If reserved but unallocated memory is large try setting PYTORCH_CUDA_ALLOC_CONF=expandable_segments:True to avoid fragmentation.  See documentation for Memory Management  (https://pytorch.org/docs/stable/notes/cuda.html#environment-variables)\n"
     ]
    },
    {
     "name": "stderr",
     "output_type": "stream",
     "text": [
      "Epoch 3/4 [Train]:  81%|████████  | 104/129 [00:36<00:08,  2.78batch/s]"
     ]
    },
    {
     "name": "stdout",
     "output_type": "stream",
     "text": [
      "\n",
      "Error in training batch: CUDA out of memory. Tried to allocate 188.00 MiB. GPU 0 has a total capacity of 5.77 GiB of which 84.31 MiB is free. Including non-PyTorch memory, this process has 5.67 GiB memory in use. Of the allocated memory 4.07 GiB is allocated by PyTorch, and 1.49 GiB is reserved by PyTorch but unallocated. If reserved but unallocated memory is large try setting PYTORCH_CUDA_ALLOC_CONF=expandable_segments:True to avoid fragmentation.  See documentation for Memory Management  (https://pytorch.org/docs/stable/notes/cuda.html#environment-variables)\n"
     ]
    },
    {
     "name": "stderr",
     "output_type": "stream",
     "text": [
      "Epoch 3/4 [Train]:  81%|████████▏ | 105/129 [00:37<00:08,  2.82batch/s]"
     ]
    },
    {
     "name": "stdout",
     "output_type": "stream",
     "text": [
      "\n",
      "Error in training batch: CUDA out of memory. Tried to allocate 188.00 MiB. GPU 0 has a total capacity of 5.77 GiB of which 84.31 MiB is free. Including non-PyTorch memory, this process has 5.67 GiB memory in use. Of the allocated memory 4.07 GiB is allocated by PyTorch, and 1.49 GiB is reserved by PyTorch but unallocated. If reserved but unallocated memory is large try setting PYTORCH_CUDA_ALLOC_CONF=expandable_segments:True to avoid fragmentation.  See documentation for Memory Management  (https://pytorch.org/docs/stable/notes/cuda.html#environment-variables)\n"
     ]
    },
    {
     "name": "stderr",
     "output_type": "stream",
     "text": [
      "Epoch 3/4 [Train]:  82%|████████▏ | 106/129 [00:37<00:08,  2.83batch/s]"
     ]
    },
    {
     "name": "stdout",
     "output_type": "stream",
     "text": [
      "\n",
      "Error in training batch: CUDA out of memory. Tried to allocate 188.00 MiB. GPU 0 has a total capacity of 5.77 GiB of which 84.31 MiB is free. Including non-PyTorch memory, this process has 5.67 GiB memory in use. Of the allocated memory 4.07 GiB is allocated by PyTorch, and 1.49 GiB is reserved by PyTorch but unallocated. If reserved but unallocated memory is large try setting PYTORCH_CUDA_ALLOC_CONF=expandable_segments:True to avoid fragmentation.  See documentation for Memory Management  (https://pytorch.org/docs/stable/notes/cuda.html#environment-variables)\n"
     ]
    },
    {
     "name": "stderr",
     "output_type": "stream",
     "text": [
      "Epoch 3/4 [Train]:  83%|████████▎ | 107/129 [00:37<00:07,  2.80batch/s]"
     ]
    },
    {
     "name": "stdout",
     "output_type": "stream",
     "text": [
      "\n",
      "Error in training batch: CUDA out of memory. Tried to allocate 188.00 MiB. GPU 0 has a total capacity of 5.77 GiB of which 84.31 MiB is free. Including non-PyTorch memory, this process has 5.67 GiB memory in use. Of the allocated memory 4.07 GiB is allocated by PyTorch, and 1.49 GiB is reserved by PyTorch but unallocated. If reserved but unallocated memory is large try setting PYTORCH_CUDA_ALLOC_CONF=expandable_segments:True to avoid fragmentation.  See documentation for Memory Management  (https://pytorch.org/docs/stable/notes/cuda.html#environment-variables)\n"
     ]
    },
    {
     "name": "stderr",
     "output_type": "stream",
     "text": [
      "Epoch 3/4 [Train]:  84%|████████▎ | 108/129 [00:38<00:07,  2.80batch/s]"
     ]
    },
    {
     "name": "stdout",
     "output_type": "stream",
     "text": [
      "\n",
      "Error in training batch: CUDA out of memory. Tried to allocate 188.00 MiB. GPU 0 has a total capacity of 5.77 GiB of which 84.31 MiB is free. Including non-PyTorch memory, this process has 5.67 GiB memory in use. Of the allocated memory 4.07 GiB is allocated by PyTorch, and 1.49 GiB is reserved by PyTorch but unallocated. If reserved but unallocated memory is large try setting PYTORCH_CUDA_ALLOC_CONF=expandable_segments:True to avoid fragmentation.  See documentation for Memory Management  (https://pytorch.org/docs/stable/notes/cuda.html#environment-variables)\n"
     ]
    },
    {
     "name": "stderr",
     "output_type": "stream",
     "text": [
      "Epoch 3/4 [Train]:  84%|████████▍ | 109/129 [00:38<00:07,  2.83batch/s]"
     ]
    },
    {
     "name": "stdout",
     "output_type": "stream",
     "text": [
      "\n",
      "Error in training batch: CUDA out of memory. Tried to allocate 188.00 MiB. GPU 0 has a total capacity of 5.77 GiB of which 84.31 MiB is free. Including non-PyTorch memory, this process has 5.67 GiB memory in use. Of the allocated memory 4.07 GiB is allocated by PyTorch, and 1.49 GiB is reserved by PyTorch but unallocated. If reserved but unallocated memory is large try setting PYTORCH_CUDA_ALLOC_CONF=expandable_segments:True to avoid fragmentation.  See documentation for Memory Management  (https://pytorch.org/docs/stable/notes/cuda.html#environment-variables)\n"
     ]
    },
    {
     "name": "stderr",
     "output_type": "stream",
     "text": [
      "Epoch 3/4 [Train]:  85%|████████▌ | 110/129 [00:39<00:06,  2.82batch/s]"
     ]
    },
    {
     "name": "stdout",
     "output_type": "stream",
     "text": [
      "\n",
      "Error in training batch: CUDA out of memory. Tried to allocate 188.00 MiB. GPU 0 has a total capacity of 5.77 GiB of which 84.31 MiB is free. Including non-PyTorch memory, this process has 5.67 GiB memory in use. Of the allocated memory 4.07 GiB is allocated by PyTorch, and 1.49 GiB is reserved by PyTorch but unallocated. If reserved but unallocated memory is large try setting PYTORCH_CUDA_ALLOC_CONF=expandable_segments:True to avoid fragmentation.  See documentation for Memory Management  (https://pytorch.org/docs/stable/notes/cuda.html#environment-variables)\n"
     ]
    },
    {
     "name": "stderr",
     "output_type": "stream",
     "text": [
      "Epoch 3/4 [Train]:  86%|████████▌ | 111/129 [00:39<00:06,  2.79batch/s]"
     ]
    },
    {
     "name": "stdout",
     "output_type": "stream",
     "text": [
      "\n",
      "Error in training batch: CUDA out of memory. Tried to allocate 188.00 MiB. GPU 0 has a total capacity of 5.77 GiB of which 84.31 MiB is free. Including non-PyTorch memory, this process has 5.67 GiB memory in use. Of the allocated memory 4.07 GiB is allocated by PyTorch, and 1.49 GiB is reserved by PyTorch but unallocated. If reserved but unallocated memory is large try setting PYTORCH_CUDA_ALLOC_CONF=expandable_segments:True to avoid fragmentation.  See documentation for Memory Management  (https://pytorch.org/docs/stable/notes/cuda.html#environment-variables)\n"
     ]
    },
    {
     "name": "stderr",
     "output_type": "stream",
     "text": [
      "Epoch 3/4 [Train]:  87%|████████▋ | 112/129 [00:39<00:06,  2.79batch/s]"
     ]
    },
    {
     "name": "stdout",
     "output_type": "stream",
     "text": [
      "\n",
      "Error in training batch: CUDA out of memory. Tried to allocate 188.00 MiB. GPU 0 has a total capacity of 5.77 GiB of which 84.31 MiB is free. Including non-PyTorch memory, this process has 5.67 GiB memory in use. Of the allocated memory 4.07 GiB is allocated by PyTorch, and 1.49 GiB is reserved by PyTorch but unallocated. If reserved but unallocated memory is large try setting PYTORCH_CUDA_ALLOC_CONF=expandable_segments:True to avoid fragmentation.  See documentation for Memory Management  (https://pytorch.org/docs/stable/notes/cuda.html#environment-variables)\n"
     ]
    },
    {
     "name": "stderr",
     "output_type": "stream",
     "text": [
      "Epoch 3/4 [Train]:  88%|████████▊ | 113/129 [00:40<00:05,  2.76batch/s]"
     ]
    },
    {
     "name": "stdout",
     "output_type": "stream",
     "text": [
      "\n",
      "Error in training batch: CUDA out of memory. Tried to allocate 188.00 MiB. GPU 0 has a total capacity of 5.77 GiB of which 84.31 MiB is free. Including non-PyTorch memory, this process has 5.67 GiB memory in use. Of the allocated memory 4.07 GiB is allocated by PyTorch, and 1.49 GiB is reserved by PyTorch but unallocated. If reserved but unallocated memory is large try setting PYTORCH_CUDA_ALLOC_CONF=expandable_segments:True to avoid fragmentation.  See documentation for Memory Management  (https://pytorch.org/docs/stable/notes/cuda.html#environment-variables)\n"
     ]
    },
    {
     "name": "stderr",
     "output_type": "stream",
     "text": [
      "Epoch 3/4 [Train]:  88%|████████▊ | 114/129 [00:40<00:05,  2.80batch/s]"
     ]
    },
    {
     "name": "stdout",
     "output_type": "stream",
     "text": [
      "\n",
      "Error in training batch: CUDA out of memory. Tried to allocate 188.00 MiB. GPU 0 has a total capacity of 5.77 GiB of which 84.31 MiB is free. Including non-PyTorch memory, this process has 5.67 GiB memory in use. Of the allocated memory 4.07 GiB is allocated by PyTorch, and 1.49 GiB is reserved by PyTorch but unallocated. If reserved but unallocated memory is large try setting PYTORCH_CUDA_ALLOC_CONF=expandable_segments:True to avoid fragmentation.  See documentation for Memory Management  (https://pytorch.org/docs/stable/notes/cuda.html#environment-variables)\n"
     ]
    },
    {
     "name": "stderr",
     "output_type": "stream",
     "text": [
      "Epoch 3/4 [Train]:  89%|████████▉ | 115/129 [00:40<00:04,  2.81batch/s]"
     ]
    },
    {
     "name": "stdout",
     "output_type": "stream",
     "text": [
      "\n",
      "Error in training batch: CUDA out of memory. Tried to allocate 188.00 MiB. GPU 0 has a total capacity of 5.77 GiB of which 84.31 MiB is free. Including non-PyTorch memory, this process has 5.67 GiB memory in use. Of the allocated memory 4.07 GiB is allocated by PyTorch, and 1.49 GiB is reserved by PyTorch but unallocated. If reserved but unallocated memory is large try setting PYTORCH_CUDA_ALLOC_CONF=expandable_segments:True to avoid fragmentation.  See documentation for Memory Management  (https://pytorch.org/docs/stable/notes/cuda.html#environment-variables)\n"
     ]
    },
    {
     "name": "stderr",
     "output_type": "stream",
     "text": [
      "Epoch 3/4 [Train]:  90%|████████▉ | 116/129 [00:41<00:04,  2.78batch/s]"
     ]
    },
    {
     "name": "stdout",
     "output_type": "stream",
     "text": [
      "\n",
      "Error in training batch: CUDA out of memory. Tried to allocate 188.00 MiB. GPU 0 has a total capacity of 5.77 GiB of which 84.31 MiB is free. Including non-PyTorch memory, this process has 5.67 GiB memory in use. Of the allocated memory 4.07 GiB is allocated by PyTorch, and 1.49 GiB is reserved by PyTorch but unallocated. If reserved but unallocated memory is large try setting PYTORCH_CUDA_ALLOC_CONF=expandable_segments:True to avoid fragmentation.  See documentation for Memory Management  (https://pytorch.org/docs/stable/notes/cuda.html#environment-variables)\n"
     ]
    },
    {
     "name": "stderr",
     "output_type": "stream",
     "text": [
      "Epoch 3/4 [Train]:  91%|█████████ | 117/129 [00:41<00:04,  2.78batch/s]"
     ]
    },
    {
     "name": "stdout",
     "output_type": "stream",
     "text": [
      "\n",
      "Error in training batch: CUDA out of memory. Tried to allocate 188.00 MiB. GPU 0 has a total capacity of 5.77 GiB of which 84.31 MiB is free. Including non-PyTorch memory, this process has 5.67 GiB memory in use. Of the allocated memory 4.07 GiB is allocated by PyTorch, and 1.49 GiB is reserved by PyTorch but unallocated. If reserved but unallocated memory is large try setting PYTORCH_CUDA_ALLOC_CONF=expandable_segments:True to avoid fragmentation.  See documentation for Memory Management  (https://pytorch.org/docs/stable/notes/cuda.html#environment-variables)\n"
     ]
    },
    {
     "name": "stderr",
     "output_type": "stream",
     "text": [
      "Epoch 3/4 [Train]:  91%|█████████▏| 118/129 [00:41<00:03,  2.79batch/s]"
     ]
    },
    {
     "name": "stdout",
     "output_type": "stream",
     "text": [
      "\n",
      "Error in training batch: CUDA out of memory. Tried to allocate 188.00 MiB. GPU 0 has a total capacity of 5.77 GiB of which 84.31 MiB is free. Including non-PyTorch memory, this process has 5.67 GiB memory in use. Of the allocated memory 4.07 GiB is allocated by PyTorch, and 1.49 GiB is reserved by PyTorch but unallocated. If reserved but unallocated memory is large try setting PYTORCH_CUDA_ALLOC_CONF=expandable_segments:True to avoid fragmentation.  See documentation for Memory Management  (https://pytorch.org/docs/stable/notes/cuda.html#environment-variables)\n"
     ]
    },
    {
     "name": "stderr",
     "output_type": "stream",
     "text": [
      "Epoch 3/4 [Train]:  92%|█████████▏| 119/129 [00:42<00:03,  2.77batch/s]"
     ]
    },
    {
     "name": "stdout",
     "output_type": "stream",
     "text": [
      "\n",
      "Error in training batch: CUDA out of memory. Tried to allocate 188.00 MiB. GPU 0 has a total capacity of 5.77 GiB of which 84.31 MiB is free. Including non-PyTorch memory, this process has 5.67 GiB memory in use. Of the allocated memory 4.07 GiB is allocated by PyTorch, and 1.49 GiB is reserved by PyTorch but unallocated. If reserved but unallocated memory is large try setting PYTORCH_CUDA_ALLOC_CONF=expandable_segments:True to avoid fragmentation.  See documentation for Memory Management  (https://pytorch.org/docs/stable/notes/cuda.html#environment-variables)\n"
     ]
    },
    {
     "name": "stderr",
     "output_type": "stream",
     "text": [
      "Epoch 3/4 [Train]:  93%|█████████▎| 120/129 [00:42<00:03,  2.80batch/s]"
     ]
    },
    {
     "name": "stdout",
     "output_type": "stream",
     "text": [
      "\n",
      "Error in training batch: CUDA out of memory. Tried to allocate 188.00 MiB. GPU 0 has a total capacity of 5.77 GiB of which 84.31 MiB is free. Including non-PyTorch memory, this process has 5.67 GiB memory in use. Of the allocated memory 4.07 GiB is allocated by PyTorch, and 1.49 GiB is reserved by PyTorch but unallocated. If reserved but unallocated memory is large try setting PYTORCH_CUDA_ALLOC_CONF=expandable_segments:True to avoid fragmentation.  See documentation for Memory Management  (https://pytorch.org/docs/stable/notes/cuda.html#environment-variables)\n"
     ]
    },
    {
     "name": "stderr",
     "output_type": "stream",
     "text": [
      "Epoch 3/4 [Train]:  94%|█████████▍| 121/129 [00:42<00:02,  2.80batch/s]"
     ]
    },
    {
     "name": "stdout",
     "output_type": "stream",
     "text": [
      "\n",
      "Error in training batch: CUDA out of memory. Tried to allocate 188.00 MiB. GPU 0 has a total capacity of 5.77 GiB of which 84.31 MiB is free. Including non-PyTorch memory, this process has 5.67 GiB memory in use. Of the allocated memory 4.07 GiB is allocated by PyTorch, and 1.49 GiB is reserved by PyTorch but unallocated. If reserved but unallocated memory is large try setting PYTORCH_CUDA_ALLOC_CONF=expandable_segments:True to avoid fragmentation.  See documentation for Memory Management  (https://pytorch.org/docs/stable/notes/cuda.html#environment-variables)\n"
     ]
    },
    {
     "name": "stderr",
     "output_type": "stream",
     "text": [
      "Epoch 3/4 [Train]:  95%|█████████▍| 122/129 [00:43<00:02,  2.79batch/s]"
     ]
    },
    {
     "name": "stdout",
     "output_type": "stream",
     "text": [
      "\n",
      "Error in training batch: CUDA out of memory. Tried to allocate 188.00 MiB. GPU 0 has a total capacity of 5.77 GiB of which 84.31 MiB is free. Including non-PyTorch memory, this process has 5.67 GiB memory in use. Of the allocated memory 4.07 GiB is allocated by PyTorch, and 1.49 GiB is reserved by PyTorch but unallocated. If reserved but unallocated memory is large try setting PYTORCH_CUDA_ALLOC_CONF=expandable_segments:True to avoid fragmentation.  See documentation for Memory Management  (https://pytorch.org/docs/stable/notes/cuda.html#environment-variables)\n"
     ]
    },
    {
     "name": "stderr",
     "output_type": "stream",
     "text": [
      "Epoch 3/4 [Train]:  95%|█████████▌| 123/129 [00:43<00:02,  2.77batch/s]"
     ]
    },
    {
     "name": "stdout",
     "output_type": "stream",
     "text": [
      "\n",
      "Error in training batch: CUDA out of memory. Tried to allocate 188.00 MiB. GPU 0 has a total capacity of 5.77 GiB of which 84.31 MiB is free. Including non-PyTorch memory, this process has 5.67 GiB memory in use. Of the allocated memory 4.07 GiB is allocated by PyTorch, and 1.49 GiB is reserved by PyTorch but unallocated. If reserved but unallocated memory is large try setting PYTORCH_CUDA_ALLOC_CONF=expandable_segments:True to avoid fragmentation.  See documentation for Memory Management  (https://pytorch.org/docs/stable/notes/cuda.html#environment-variables)\n"
     ]
    },
    {
     "name": "stderr",
     "output_type": "stream",
     "text": [
      "Epoch 3/4 [Train]:  96%|█████████▌| 124/129 [00:44<00:01,  2.77batch/s]"
     ]
    },
    {
     "name": "stdout",
     "output_type": "stream",
     "text": [
      "\n",
      "Error in training batch: CUDA out of memory. Tried to allocate 188.00 MiB. GPU 0 has a total capacity of 5.77 GiB of which 84.31 MiB is free. Including non-PyTorch memory, this process has 5.67 GiB memory in use. Of the allocated memory 4.07 GiB is allocated by PyTorch, and 1.49 GiB is reserved by PyTorch but unallocated. If reserved but unallocated memory is large try setting PYTORCH_CUDA_ALLOC_CONF=expandable_segments:True to avoid fragmentation.  See documentation for Memory Management  (https://pytorch.org/docs/stable/notes/cuda.html#environment-variables)\n"
     ]
    },
    {
     "name": "stderr",
     "output_type": "stream",
     "text": [
      "Epoch 3/4 [Train]:  97%|█████████▋| 125/129 [00:44<00:01,  2.81batch/s]"
     ]
    },
    {
     "name": "stdout",
     "output_type": "stream",
     "text": [
      "\n",
      "Error in training batch: CUDA out of memory. Tried to allocate 188.00 MiB. GPU 0 has a total capacity of 5.77 GiB of which 84.31 MiB is free. Including non-PyTorch memory, this process has 5.67 GiB memory in use. Of the allocated memory 4.07 GiB is allocated by PyTorch, and 1.49 GiB is reserved by PyTorch but unallocated. If reserved but unallocated memory is large try setting PYTORCH_CUDA_ALLOC_CONF=expandable_segments:True to avoid fragmentation.  See documentation for Memory Management  (https://pytorch.org/docs/stable/notes/cuda.html#environment-variables)\n"
     ]
    },
    {
     "name": "stderr",
     "output_type": "stream",
     "text": [
      "Epoch 3/4 [Train]:  98%|█████████▊| 126/129 [00:44<00:01,  2.82batch/s]"
     ]
    },
    {
     "name": "stdout",
     "output_type": "stream",
     "text": [
      "\n",
      "Error in training batch: CUDA out of memory. Tried to allocate 188.00 MiB. GPU 0 has a total capacity of 5.77 GiB of which 84.31 MiB is free. Including non-PyTorch memory, this process has 5.67 GiB memory in use. Of the allocated memory 4.07 GiB is allocated by PyTorch, and 1.49 GiB is reserved by PyTorch but unallocated. If reserved but unallocated memory is large try setting PYTORCH_CUDA_ALLOC_CONF=expandable_segments:True to avoid fragmentation.  See documentation for Memory Management  (https://pytorch.org/docs/stable/notes/cuda.html#environment-variables)\n"
     ]
    },
    {
     "name": "stderr",
     "output_type": "stream",
     "text": [
      "Epoch 3/4 [Train]:  98%|█████████▊| 127/129 [00:45<00:00,  2.81batch/s]"
     ]
    },
    {
     "name": "stdout",
     "output_type": "stream",
     "text": [
      "\n",
      "Error in training batch: CUDA out of memory. Tried to allocate 188.00 MiB. GPU 0 has a total capacity of 5.77 GiB of which 84.31 MiB is free. Including non-PyTorch memory, this process has 5.67 GiB memory in use. Of the allocated memory 4.07 GiB is allocated by PyTorch, and 1.49 GiB is reserved by PyTorch but unallocated. If reserved but unallocated memory is large try setting PYTORCH_CUDA_ALLOC_CONF=expandable_segments:True to avoid fragmentation.  See documentation for Memory Management  (https://pytorch.org/docs/stable/notes/cuda.html#environment-variables)\n"
     ]
    },
    {
     "name": "stderr",
     "output_type": "stream",
     "text": [
      "Epoch 3/4 [Train]:  99%|█████████▉| 128/129 [00:45<00:00,  2.77batch/s]"
     ]
    },
    {
     "name": "stdout",
     "output_type": "stream",
     "text": [
      "\n",
      "Error in training batch: CUDA out of memory. Tried to allocate 188.00 MiB. GPU 0 has a total capacity of 5.77 GiB of which 84.31 MiB is free. Including non-PyTorch memory, this process has 5.67 GiB memory in use. Of the allocated memory 4.07 GiB is allocated by PyTorch, and 1.49 GiB is reserved by PyTorch but unallocated. If reserved but unallocated memory is large try setting PYTORCH_CUDA_ALLOC_CONF=expandable_segments:True to avoid fragmentation.  See documentation for Memory Management  (https://pytorch.org/docs/stable/notes/cuda.html#environment-variables)\n"
     ]
    },
    {
     "name": "stderr",
     "output_type": "stream",
     "text": [
      "Epoch 3/4 [Train]: 100%|██████████| 129/129 [00:45<00:00,  2.82batch/s, loss=0.6691]\n"
     ]
    },
    {
     "name": "stdout",
     "output_type": "stream",
     "text": [
      "Epoch 3/4 [Train] Completed - Train Loss: 0.9846 | Train Accuracy: 0.6061\n"
     ]
    },
    {
     "name": "stderr",
     "output_type": "stream",
     "text": [
      "Epoch 3/4 [Validation]: 100%|██████████| 32/32 [00:03<00:00,  8.69batch/s, loss=1.3205]\n"
     ]
    },
    {
     "name": "stdout",
     "output_type": "stream",
     "text": [
      "Epoch 3/4 [Validation] Completed - Validation Loss: 0.9807 | Validation Accuracy: 0.6074\n",
      "\n",
      "--- Epoch 4/4 ---\n"
     ]
    },
    {
     "name": "stderr",
     "output_type": "stream",
     "text": [
      "Epoch 4/4 [Train]:   2%|▏         | 2/129 [00:00<00:27,  4.58batch/s]"
     ]
    },
    {
     "name": "stdout",
     "output_type": "stream",
     "text": [
      "\n",
      "Error in training batch: CUDA out of memory. Tried to allocate 188.00 MiB. GPU 0 has a total capacity of 5.77 GiB of which 84.31 MiB is free. Including non-PyTorch memory, this process has 5.67 GiB memory in use. Of the allocated memory 4.07 GiB is allocated by PyTorch, and 1.49 GiB is reserved by PyTorch but unallocated. If reserved but unallocated memory is large try setting PYTORCH_CUDA_ALLOC_CONF=expandable_segments:True to avoid fragmentation.  See documentation for Memory Management  (https://pytorch.org/docs/stable/notes/cuda.html#environment-variables)\n",
      "\n",
      "Error in training batch: CUDA out of memory. Tried to allocate 188.00 MiB. GPU 0 has a total capacity of 5.77 GiB of which 84.31 MiB is free. Including non-PyTorch memory, this process has 5.67 GiB memory in use. Of the allocated memory 4.07 GiB is allocated by PyTorch, and 1.49 GiB is reserved by PyTorch but unallocated. If reserved but unallocated memory is large try setting PYTORCH_CUDA_ALLOC_CONF=expandable_segments:True to avoid fragmentation.  See documentation for Memory Management  (https://pytorch.org/docs/stable/notes/cuda.html#environment-variables)\n"
     ]
    },
    {
     "name": "stderr",
     "output_type": "stream",
     "text": [
      "Epoch 4/4 [Train]:   2%|▏         | 3/129 [00:00<00:35,  3.55batch/s]"
     ]
    },
    {
     "name": "stdout",
     "output_type": "stream",
     "text": [
      "\n",
      "Error in training batch: CUDA out of memory. Tried to allocate 188.00 MiB. GPU 0 has a total capacity of 5.77 GiB of which 84.31 MiB is free. Including non-PyTorch memory, this process has 5.67 GiB memory in use. Of the allocated memory 4.07 GiB is allocated by PyTorch, and 1.49 GiB is reserved by PyTorch but unallocated. If reserved but unallocated memory is large try setting PYTORCH_CUDA_ALLOC_CONF=expandable_segments:True to avoid fragmentation.  See documentation for Memory Management  (https://pytorch.org/docs/stable/notes/cuda.html#environment-variables)\n"
     ]
    },
    {
     "name": "stderr",
     "output_type": "stream",
     "text": [
      "Epoch 4/4 [Train]:   3%|▎         | 4/129 [00:01<00:38,  3.23batch/s]"
     ]
    },
    {
     "name": "stdout",
     "output_type": "stream",
     "text": [
      "\n",
      "Error in training batch: CUDA out of memory. Tried to allocate 188.00 MiB. GPU 0 has a total capacity of 5.77 GiB of which 84.31 MiB is free. Including non-PyTorch memory, this process has 5.67 GiB memory in use. Of the allocated memory 4.07 GiB is allocated by PyTorch, and 1.49 GiB is reserved by PyTorch but unallocated. If reserved but unallocated memory is large try setting PYTORCH_CUDA_ALLOC_CONF=expandable_segments:True to avoid fragmentation.  See documentation for Memory Management  (https://pytorch.org/docs/stable/notes/cuda.html#environment-variables)\n"
     ]
    },
    {
     "name": "stderr",
     "output_type": "stream",
     "text": [
      "Epoch 4/4 [Train]:   4%|▍         | 5/129 [00:01<00:41,  3.01batch/s]"
     ]
    },
    {
     "name": "stdout",
     "output_type": "stream",
     "text": [
      "\n",
      "Error in training batch: CUDA out of memory. Tried to allocate 188.00 MiB. GPU 0 has a total capacity of 5.77 GiB of which 84.31 MiB is free. Including non-PyTorch memory, this process has 5.67 GiB memory in use. Of the allocated memory 4.07 GiB is allocated by PyTorch, and 1.49 GiB is reserved by PyTorch but unallocated. If reserved but unallocated memory is large try setting PYTORCH_CUDA_ALLOC_CONF=expandable_segments:True to avoid fragmentation.  See documentation for Memory Management  (https://pytorch.org/docs/stable/notes/cuda.html#environment-variables)\n"
     ]
    },
    {
     "name": "stderr",
     "output_type": "stream",
     "text": [
      "Epoch 4/4 [Train]:   5%|▍         | 6/129 [00:01<00:41,  2.94batch/s]"
     ]
    },
    {
     "name": "stdout",
     "output_type": "stream",
     "text": [
      "\n",
      "Error in training batch: CUDA out of memory. Tried to allocate 188.00 MiB. GPU 0 has a total capacity of 5.77 GiB of which 84.31 MiB is free. Including non-PyTorch memory, this process has 5.67 GiB memory in use. Of the allocated memory 4.07 GiB is allocated by PyTorch, and 1.49 GiB is reserved by PyTorch but unallocated. If reserved but unallocated memory is large try setting PYTORCH_CUDA_ALLOC_CONF=expandable_segments:True to avoid fragmentation.  See documentation for Memory Management  (https://pytorch.org/docs/stable/notes/cuda.html#environment-variables)\n"
     ]
    },
    {
     "name": "stderr",
     "output_type": "stream",
     "text": [
      "Epoch 4/4 [Train]:   5%|▌         | 7/129 [00:02<00:42,  2.90batch/s]"
     ]
    },
    {
     "name": "stdout",
     "output_type": "stream",
     "text": [
      "\n",
      "Error in training batch: CUDA out of memory. Tried to allocate 188.00 MiB. GPU 0 has a total capacity of 5.77 GiB of which 84.31 MiB is free. Including non-PyTorch memory, this process has 5.67 GiB memory in use. Of the allocated memory 4.07 GiB is allocated by PyTorch, and 1.49 GiB is reserved by PyTorch but unallocated. If reserved but unallocated memory is large try setting PYTORCH_CUDA_ALLOC_CONF=expandable_segments:True to avoid fragmentation.  See documentation for Memory Management  (https://pytorch.org/docs/stable/notes/cuda.html#environment-variables)\n"
     ]
    },
    {
     "name": "stderr",
     "output_type": "stream",
     "text": [
      "Epoch 4/4 [Train]:   6%|▌         | 8/129 [00:02<00:42,  2.85batch/s]"
     ]
    },
    {
     "name": "stdout",
     "output_type": "stream",
     "text": [
      "\n",
      "Error in training batch: CUDA out of memory. Tried to allocate 188.00 MiB. GPU 0 has a total capacity of 5.77 GiB of which 84.31 MiB is free. Including non-PyTorch memory, this process has 5.67 GiB memory in use. Of the allocated memory 4.07 GiB is allocated by PyTorch, and 1.49 GiB is reserved by PyTorch but unallocated. If reserved but unallocated memory is large try setting PYTORCH_CUDA_ALLOC_CONF=expandable_segments:True to avoid fragmentation.  See documentation for Memory Management  (https://pytorch.org/docs/stable/notes/cuda.html#environment-variables)\n"
     ]
    },
    {
     "name": "stderr",
     "output_type": "stream",
     "text": [
      "Epoch 4/4 [Train]:   7%|▋         | 9/129 [00:03<00:42,  2.81batch/s]"
     ]
    },
    {
     "name": "stdout",
     "output_type": "stream",
     "text": [
      "\n",
      "Error in training batch: CUDA out of memory. Tried to allocate 188.00 MiB. GPU 0 has a total capacity of 5.77 GiB of which 84.31 MiB is free. Including non-PyTorch memory, this process has 5.67 GiB memory in use. Of the allocated memory 4.07 GiB is allocated by PyTorch, and 1.49 GiB is reserved by PyTorch but unallocated. If reserved but unallocated memory is large try setting PYTORCH_CUDA_ALLOC_CONF=expandable_segments:True to avoid fragmentation.  See documentation for Memory Management  (https://pytorch.org/docs/stable/notes/cuda.html#environment-variables)\n"
     ]
    },
    {
     "name": "stderr",
     "output_type": "stream",
     "text": [
      "Epoch 4/4 [Train]:   8%|▊         | 10/129 [00:03<00:42,  2.78batch/s]"
     ]
    },
    {
     "name": "stdout",
     "output_type": "stream",
     "text": [
      "\n",
      "Error in training batch: CUDA out of memory. Tried to allocate 188.00 MiB. GPU 0 has a total capacity of 5.77 GiB of which 84.31 MiB is free. Including non-PyTorch memory, this process has 5.67 GiB memory in use. Of the allocated memory 4.07 GiB is allocated by PyTorch, and 1.49 GiB is reserved by PyTorch but unallocated. If reserved but unallocated memory is large try setting PYTORCH_CUDA_ALLOC_CONF=expandable_segments:True to avoid fragmentation.  See documentation for Memory Management  (https://pytorch.org/docs/stable/notes/cuda.html#environment-variables)\n"
     ]
    },
    {
     "name": "stderr",
     "output_type": "stream",
     "text": [
      "Epoch 4/4 [Train]:   9%|▊         | 11/129 [00:03<00:41,  2.82batch/s]"
     ]
    },
    {
     "name": "stdout",
     "output_type": "stream",
     "text": [
      "\n",
      "Error in training batch: CUDA out of memory. Tried to allocate 188.00 MiB. GPU 0 has a total capacity of 5.77 GiB of which 84.31 MiB is free. Including non-PyTorch memory, this process has 5.67 GiB memory in use. Of the allocated memory 4.07 GiB is allocated by PyTorch, and 1.49 GiB is reserved by PyTorch but unallocated. If reserved but unallocated memory is large try setting PYTORCH_CUDA_ALLOC_CONF=expandable_segments:True to avoid fragmentation.  See documentation for Memory Management  (https://pytorch.org/docs/stable/notes/cuda.html#environment-variables)\n"
     ]
    },
    {
     "name": "stderr",
     "output_type": "stream",
     "text": [
      "Epoch 4/4 [Train]:   9%|▉         | 12/129 [00:04<00:42,  2.78batch/s]"
     ]
    },
    {
     "name": "stdout",
     "output_type": "stream",
     "text": [
      "\n",
      "Error in training batch: CUDA out of memory. Tried to allocate 188.00 MiB. GPU 0 has a total capacity of 5.77 GiB of which 84.31 MiB is free. Including non-PyTorch memory, this process has 5.67 GiB memory in use. Of the allocated memory 4.07 GiB is allocated by PyTorch, and 1.49 GiB is reserved by PyTorch but unallocated. If reserved but unallocated memory is large try setting PYTORCH_CUDA_ALLOC_CONF=expandable_segments:True to avoid fragmentation.  See documentation for Memory Management  (https://pytorch.org/docs/stable/notes/cuda.html#environment-variables)\n"
     ]
    },
    {
     "name": "stderr",
     "output_type": "stream",
     "text": [
      "Epoch 4/4 [Train]:  10%|█         | 13/129 [00:04<00:41,  2.78batch/s]"
     ]
    },
    {
     "name": "stdout",
     "output_type": "stream",
     "text": [
      "\n",
      "Error in training batch: CUDA out of memory. Tried to allocate 188.00 MiB. GPU 0 has a total capacity of 5.77 GiB of which 84.31 MiB is free. Including non-PyTorch memory, this process has 5.67 GiB memory in use. Of the allocated memory 4.07 GiB is allocated by PyTorch, and 1.49 GiB is reserved by PyTorch but unallocated. If reserved but unallocated memory is large try setting PYTORCH_CUDA_ALLOC_CONF=expandable_segments:True to avoid fragmentation.  See documentation for Memory Management  (https://pytorch.org/docs/stable/notes/cuda.html#environment-variables)\n"
     ]
    },
    {
     "name": "stderr",
     "output_type": "stream",
     "text": [
      "Epoch 4/4 [Train]:  11%|█         | 14/129 [00:04<00:41,  2.79batch/s]"
     ]
    },
    {
     "name": "stdout",
     "output_type": "stream",
     "text": [
      "\n",
      "Error in training batch: CUDA out of memory. Tried to allocate 188.00 MiB. GPU 0 has a total capacity of 5.77 GiB of which 84.31 MiB is free. Including non-PyTorch memory, this process has 5.67 GiB memory in use. Of the allocated memory 4.07 GiB is allocated by PyTorch, and 1.49 GiB is reserved by PyTorch but unallocated. If reserved but unallocated memory is large try setting PYTORCH_CUDA_ALLOC_CONF=expandable_segments:True to avoid fragmentation.  See documentation for Memory Management  (https://pytorch.org/docs/stable/notes/cuda.html#environment-variables)\n"
     ]
    },
    {
     "name": "stderr",
     "output_type": "stream",
     "text": [
      "Epoch 4/4 [Train]:  12%|█▏        | 15/129 [00:05<00:41,  2.78batch/s]"
     ]
    },
    {
     "name": "stdout",
     "output_type": "stream",
     "text": [
      "\n",
      "Error in training batch: CUDA out of memory. Tried to allocate 188.00 MiB. GPU 0 has a total capacity of 5.77 GiB of which 84.31 MiB is free. Including non-PyTorch memory, this process has 5.67 GiB memory in use. Of the allocated memory 4.07 GiB is allocated by PyTorch, and 1.49 GiB is reserved by PyTorch but unallocated. If reserved but unallocated memory is large try setting PYTORCH_CUDA_ALLOC_CONF=expandable_segments:True to avoid fragmentation.  See documentation for Memory Management  (https://pytorch.org/docs/stable/notes/cuda.html#environment-variables)\n"
     ]
    },
    {
     "name": "stderr",
     "output_type": "stream",
     "text": [
      "Epoch 4/4 [Train]:  12%|█▏        | 16/129 [00:05<00:40,  2.77batch/s]"
     ]
    },
    {
     "name": "stdout",
     "output_type": "stream",
     "text": [
      "\n",
      "Error in training batch: CUDA out of memory. Tried to allocate 188.00 MiB. GPU 0 has a total capacity of 5.77 GiB of which 84.31 MiB is free. Including non-PyTorch memory, this process has 5.67 GiB memory in use. Of the allocated memory 4.07 GiB is allocated by PyTorch, and 1.49 GiB is reserved by PyTorch but unallocated. If reserved but unallocated memory is large try setting PYTORCH_CUDA_ALLOC_CONF=expandable_segments:True to avoid fragmentation.  See documentation for Memory Management  (https://pytorch.org/docs/stable/notes/cuda.html#environment-variables)\n"
     ]
    },
    {
     "name": "stderr",
     "output_type": "stream",
     "text": [
      "Epoch 4/4 [Train]:  13%|█▎        | 17/129 [00:05<00:40,  2.78batch/s]"
     ]
    },
    {
     "name": "stdout",
     "output_type": "stream",
     "text": [
      "\n",
      "Error in training batch: CUDA out of memory. Tried to allocate 188.00 MiB. GPU 0 has a total capacity of 5.77 GiB of which 84.31 MiB is free. Including non-PyTorch memory, this process has 5.67 GiB memory in use. Of the allocated memory 4.07 GiB is allocated by PyTorch, and 1.49 GiB is reserved by PyTorch but unallocated. If reserved but unallocated memory is large try setting PYTORCH_CUDA_ALLOC_CONF=expandable_segments:True to avoid fragmentation.  See documentation for Memory Management  (https://pytorch.org/docs/stable/notes/cuda.html#environment-variables)\n"
     ]
    },
    {
     "name": "stderr",
     "output_type": "stream",
     "text": [
      "Epoch 4/4 [Train]:  14%|█▍        | 18/129 [00:06<00:39,  2.80batch/s]"
     ]
    },
    {
     "name": "stdout",
     "output_type": "stream",
     "text": [
      "\n",
      "Error in training batch: CUDA out of memory. Tried to allocate 188.00 MiB. GPU 0 has a total capacity of 5.77 GiB of which 84.31 MiB is free. Including non-PyTorch memory, this process has 5.67 GiB memory in use. Of the allocated memory 4.07 GiB is allocated by PyTorch, and 1.49 GiB is reserved by PyTorch but unallocated. If reserved but unallocated memory is large try setting PYTORCH_CUDA_ALLOC_CONF=expandable_segments:True to avoid fragmentation.  See documentation for Memory Management  (https://pytorch.org/docs/stable/notes/cuda.html#environment-variables)\n"
     ]
    },
    {
     "name": "stderr",
     "output_type": "stream",
     "text": [
      "Epoch 4/4 [Train]:  15%|█▍        | 19/129 [00:06<00:39,  2.77batch/s]"
     ]
    },
    {
     "name": "stdout",
     "output_type": "stream",
     "text": [
      "\n",
      "Error in training batch: CUDA out of memory. Tried to allocate 188.00 MiB. GPU 0 has a total capacity of 5.77 GiB of which 84.31 MiB is free. Including non-PyTorch memory, this process has 5.67 GiB memory in use. Of the allocated memory 4.07 GiB is allocated by PyTorch, and 1.49 GiB is reserved by PyTorch but unallocated. If reserved but unallocated memory is large try setting PYTORCH_CUDA_ALLOC_CONF=expandable_segments:True to avoid fragmentation.  See documentation for Memory Management  (https://pytorch.org/docs/stable/notes/cuda.html#environment-variables)\n"
     ]
    },
    {
     "name": "stderr",
     "output_type": "stream",
     "text": [
      "Epoch 4/4 [Train]:  16%|█▌        | 20/129 [00:06<00:39,  2.77batch/s]"
     ]
    },
    {
     "name": "stdout",
     "output_type": "stream",
     "text": [
      "\n",
      "Error in training batch: CUDA out of memory. Tried to allocate 188.00 MiB. GPU 0 has a total capacity of 5.77 GiB of which 84.31 MiB is free. Including non-PyTorch memory, this process has 5.67 GiB memory in use. Of the allocated memory 4.07 GiB is allocated by PyTorch, and 1.49 GiB is reserved by PyTorch but unallocated. If reserved but unallocated memory is large try setting PYTORCH_CUDA_ALLOC_CONF=expandable_segments:True to avoid fragmentation.  See documentation for Memory Management  (https://pytorch.org/docs/stable/notes/cuda.html#environment-variables)\n"
     ]
    },
    {
     "name": "stderr",
     "output_type": "stream",
     "text": [
      "Epoch 4/4 [Train]:  16%|█▋        | 21/129 [00:07<00:38,  2.79batch/s]"
     ]
    },
    {
     "name": "stdout",
     "output_type": "stream",
     "text": [
      "\n",
      "Error in training batch: CUDA out of memory. Tried to allocate 188.00 MiB. GPU 0 has a total capacity of 5.77 GiB of which 84.31 MiB is free. Including non-PyTorch memory, this process has 5.67 GiB memory in use. Of the allocated memory 4.07 GiB is allocated by PyTorch, and 1.49 GiB is reserved by PyTorch but unallocated. If reserved but unallocated memory is large try setting PYTORCH_CUDA_ALLOC_CONF=expandable_segments:True to avoid fragmentation.  See documentation for Memory Management  (https://pytorch.org/docs/stable/notes/cuda.html#environment-variables)\n"
     ]
    },
    {
     "name": "stderr",
     "output_type": "stream",
     "text": [
      "Epoch 4/4 [Train]:  17%|█▋        | 22/129 [00:07<00:38,  2.81batch/s]"
     ]
    },
    {
     "name": "stdout",
     "output_type": "stream",
     "text": [
      "\n",
      "Error in training batch: CUDA out of memory. Tried to allocate 188.00 MiB. GPU 0 has a total capacity of 5.77 GiB of which 84.31 MiB is free. Including non-PyTorch memory, this process has 5.67 GiB memory in use. Of the allocated memory 4.07 GiB is allocated by PyTorch, and 1.49 GiB is reserved by PyTorch but unallocated. If reserved but unallocated memory is large try setting PYTORCH_CUDA_ALLOC_CONF=expandable_segments:True to avoid fragmentation.  See documentation for Memory Management  (https://pytorch.org/docs/stable/notes/cuda.html#environment-variables)\n"
     ]
    },
    {
     "name": "stderr",
     "output_type": "stream",
     "text": [
      "Epoch 4/4 [Train]:  18%|█▊        | 23/129 [00:08<00:38,  2.79batch/s]"
     ]
    },
    {
     "name": "stdout",
     "output_type": "stream",
     "text": [
      "\n",
      "Error in training batch: CUDA out of memory. Tried to allocate 188.00 MiB. GPU 0 has a total capacity of 5.77 GiB of which 84.31 MiB is free. Including non-PyTorch memory, this process has 5.67 GiB memory in use. Of the allocated memory 4.07 GiB is allocated by PyTorch, and 1.49 GiB is reserved by PyTorch but unallocated. If reserved but unallocated memory is large try setting PYTORCH_CUDA_ALLOC_CONF=expandable_segments:True to avoid fragmentation.  See documentation for Memory Management  (https://pytorch.org/docs/stable/notes/cuda.html#environment-variables)\n"
     ]
    },
    {
     "name": "stderr",
     "output_type": "stream",
     "text": [
      "Epoch 4/4 [Train]:  19%|█▊        | 24/129 [00:08<00:37,  2.78batch/s]"
     ]
    },
    {
     "name": "stdout",
     "output_type": "stream",
     "text": [
      "\n",
      "Error in training batch: CUDA out of memory. Tried to allocate 188.00 MiB. GPU 0 has a total capacity of 5.77 GiB of which 84.31 MiB is free. Including non-PyTorch memory, this process has 5.67 GiB memory in use. Of the allocated memory 4.07 GiB is allocated by PyTorch, and 1.49 GiB is reserved by PyTorch but unallocated. If reserved but unallocated memory is large try setting PYTORCH_CUDA_ALLOC_CONF=expandable_segments:True to avoid fragmentation.  See documentation for Memory Management  (https://pytorch.org/docs/stable/notes/cuda.html#environment-variables)\n"
     ]
    },
    {
     "name": "stderr",
     "output_type": "stream",
     "text": [
      "Epoch 4/4 [Train]:  19%|█▉        | 25/129 [00:08<00:37,  2.76batch/s]"
     ]
    },
    {
     "name": "stdout",
     "output_type": "stream",
     "text": [
      "\n",
      "Error in training batch: CUDA out of memory. Tried to allocate 188.00 MiB. GPU 0 has a total capacity of 5.77 GiB of which 84.31 MiB is free. Including non-PyTorch memory, this process has 5.67 GiB memory in use. Of the allocated memory 4.07 GiB is allocated by PyTorch, and 1.49 GiB is reserved by PyTorch but unallocated. If reserved but unallocated memory is large try setting PYTORCH_CUDA_ALLOC_CONF=expandable_segments:True to avoid fragmentation.  See documentation for Memory Management  (https://pytorch.org/docs/stable/notes/cuda.html#environment-variables)\n"
     ]
    },
    {
     "name": "stderr",
     "output_type": "stream",
     "text": [
      "Epoch 4/4 [Train]:  20%|██        | 26/129 [00:09<00:36,  2.81batch/s]"
     ]
    },
    {
     "name": "stdout",
     "output_type": "stream",
     "text": [
      "\n",
      "Error in training batch: CUDA out of memory. Tried to allocate 188.00 MiB. GPU 0 has a total capacity of 5.77 GiB of which 84.31 MiB is free. Including non-PyTorch memory, this process has 5.67 GiB memory in use. Of the allocated memory 4.07 GiB is allocated by PyTorch, and 1.49 GiB is reserved by PyTorch but unallocated. If reserved but unallocated memory is large try setting PYTORCH_CUDA_ALLOC_CONF=expandable_segments:True to avoid fragmentation.  See documentation for Memory Management  (https://pytorch.org/docs/stable/notes/cuda.html#environment-variables)\n"
     ]
    },
    {
     "name": "stderr",
     "output_type": "stream",
     "text": [
      "Epoch 4/4 [Train]:  21%|██        | 27/129 [00:09<00:36,  2.78batch/s]"
     ]
    },
    {
     "name": "stdout",
     "output_type": "stream",
     "text": [
      "\n",
      "Error in training batch: CUDA out of memory. Tried to allocate 188.00 MiB. GPU 0 has a total capacity of 5.77 GiB of which 84.31 MiB is free. Including non-PyTorch memory, this process has 5.67 GiB memory in use. Of the allocated memory 4.07 GiB is allocated by PyTorch, and 1.49 GiB is reserved by PyTorch but unallocated. If reserved but unallocated memory is large try setting PYTORCH_CUDA_ALLOC_CONF=expandable_segments:True to avoid fragmentation.  See documentation for Memory Management  (https://pytorch.org/docs/stable/notes/cuda.html#environment-variables)\n"
     ]
    },
    {
     "name": "stderr",
     "output_type": "stream",
     "text": [
      "Epoch 4/4 [Train]:  22%|██▏       | 28/129 [00:09<00:36,  2.77batch/s]"
     ]
    },
    {
     "name": "stdout",
     "output_type": "stream",
     "text": [
      "\n",
      "Error in training batch: CUDA out of memory. Tried to allocate 188.00 MiB. GPU 0 has a total capacity of 5.77 GiB of which 84.31 MiB is free. Including non-PyTorch memory, this process has 5.67 GiB memory in use. Of the allocated memory 4.07 GiB is allocated by PyTorch, and 1.49 GiB is reserved by PyTorch but unallocated. If reserved but unallocated memory is large try setting PYTORCH_CUDA_ALLOC_CONF=expandable_segments:True to avoid fragmentation.  See documentation for Memory Management  (https://pytorch.org/docs/stable/notes/cuda.html#environment-variables)\n"
     ]
    },
    {
     "name": "stderr",
     "output_type": "stream",
     "text": [
      "Epoch 4/4 [Train]:  22%|██▏       | 29/129 [00:10<00:35,  2.78batch/s]"
     ]
    },
    {
     "name": "stdout",
     "output_type": "stream",
     "text": [
      "\n",
      "Error in training batch: CUDA out of memory. Tried to allocate 188.00 MiB. GPU 0 has a total capacity of 5.77 GiB of which 84.31 MiB is free. Including non-PyTorch memory, this process has 5.67 GiB memory in use. Of the allocated memory 4.07 GiB is allocated by PyTorch, and 1.49 GiB is reserved by PyTorch but unallocated. If reserved but unallocated memory is large try setting PYTORCH_CUDA_ALLOC_CONF=expandable_segments:True to avoid fragmentation.  See documentation for Memory Management  (https://pytorch.org/docs/stable/notes/cuda.html#environment-variables)\n"
     ]
    },
    {
     "name": "stderr",
     "output_type": "stream",
     "text": [
      "Epoch 4/4 [Train]:  23%|██▎       | 30/129 [00:10<00:35,  2.81batch/s]"
     ]
    },
    {
     "name": "stdout",
     "output_type": "stream",
     "text": [
      "\n",
      "Error in training batch: CUDA out of memory. Tried to allocate 188.00 MiB. GPU 0 has a total capacity of 5.77 GiB of which 84.31 MiB is free. Including non-PyTorch memory, this process has 5.67 GiB memory in use. Of the allocated memory 4.07 GiB is allocated by PyTorch, and 1.49 GiB is reserved by PyTorch but unallocated. If reserved but unallocated memory is large try setting PYTORCH_CUDA_ALLOC_CONF=expandable_segments:True to avoid fragmentation.  See documentation for Memory Management  (https://pytorch.org/docs/stable/notes/cuda.html#environment-variables)\n"
     ]
    },
    {
     "name": "stderr",
     "output_type": "stream",
     "text": [
      "Epoch 4/4 [Train]:  24%|██▍       | 31/129 [00:10<00:34,  2.82batch/s]"
     ]
    },
    {
     "name": "stdout",
     "output_type": "stream",
     "text": [
      "\n",
      "Error in training batch: CUDA out of memory. Tried to allocate 188.00 MiB. GPU 0 has a total capacity of 5.77 GiB of which 84.31 MiB is free. Including non-PyTorch memory, this process has 5.67 GiB memory in use. Of the allocated memory 4.07 GiB is allocated by PyTorch, and 1.49 GiB is reserved by PyTorch but unallocated. If reserved but unallocated memory is large try setting PYTORCH_CUDA_ALLOC_CONF=expandable_segments:True to avoid fragmentation.  See documentation for Memory Management  (https://pytorch.org/docs/stable/notes/cuda.html#environment-variables)\n"
     ]
    },
    {
     "name": "stderr",
     "output_type": "stream",
     "text": [
      "Epoch 4/4 [Train]:  25%|██▍       | 32/129 [00:11<00:34,  2.79batch/s]"
     ]
    },
    {
     "name": "stdout",
     "output_type": "stream",
     "text": [
      "\n",
      "Error in training batch: CUDA out of memory. Tried to allocate 188.00 MiB. GPU 0 has a total capacity of 5.77 GiB of which 84.31 MiB is free. Including non-PyTorch memory, this process has 5.67 GiB memory in use. Of the allocated memory 4.07 GiB is allocated by PyTorch, and 1.49 GiB is reserved by PyTorch but unallocated. If reserved but unallocated memory is large try setting PYTORCH_CUDA_ALLOC_CONF=expandable_segments:True to avoid fragmentation.  See documentation for Memory Management  (https://pytorch.org/docs/stable/notes/cuda.html#environment-variables)\n"
     ]
    },
    {
     "name": "stderr",
     "output_type": "stream",
     "text": [
      "Epoch 4/4 [Train]:  26%|██▌       | 33/129 [00:11<00:34,  2.78batch/s]"
     ]
    },
    {
     "name": "stdout",
     "output_type": "stream",
     "text": [
      "\n",
      "Error in training batch: CUDA out of memory. Tried to allocate 188.00 MiB. GPU 0 has a total capacity of 5.77 GiB of which 84.31 MiB is free. Including non-PyTorch memory, this process has 5.67 GiB memory in use. Of the allocated memory 4.07 GiB is allocated by PyTorch, and 1.49 GiB is reserved by PyTorch but unallocated. If reserved but unallocated memory is large try setting PYTORCH_CUDA_ALLOC_CONF=expandable_segments:True to avoid fragmentation.  See documentation for Memory Management  (https://pytorch.org/docs/stable/notes/cuda.html#environment-variables)\n"
     ]
    },
    {
     "name": "stderr",
     "output_type": "stream",
     "text": [
      "Epoch 4/4 [Train]:  26%|██▋       | 34/129 [00:11<00:33,  2.82batch/s]"
     ]
    },
    {
     "name": "stdout",
     "output_type": "stream",
     "text": [
      "\n",
      "Error in training batch: CUDA out of memory. Tried to allocate 188.00 MiB. GPU 0 has a total capacity of 5.77 GiB of which 84.31 MiB is free. Including non-PyTorch memory, this process has 5.67 GiB memory in use. Of the allocated memory 4.07 GiB is allocated by PyTorch, and 1.49 GiB is reserved by PyTorch but unallocated. If reserved but unallocated memory is large try setting PYTORCH_CUDA_ALLOC_CONF=expandable_segments:True to avoid fragmentation.  See documentation for Memory Management  (https://pytorch.org/docs/stable/notes/cuda.html#environment-variables)\n"
     ]
    },
    {
     "name": "stderr",
     "output_type": "stream",
     "text": [
      "Epoch 4/4 [Train]:  27%|██▋       | 35/129 [00:12<00:33,  2.77batch/s]"
     ]
    },
    {
     "name": "stdout",
     "output_type": "stream",
     "text": [
      "\n",
      "Error in training batch: CUDA out of memory. Tried to allocate 188.00 MiB. GPU 0 has a total capacity of 5.77 GiB of which 84.31 MiB is free. Including non-PyTorch memory, this process has 5.67 GiB memory in use. Of the allocated memory 4.07 GiB is allocated by PyTorch, and 1.49 GiB is reserved by PyTorch but unallocated. If reserved but unallocated memory is large try setting PYTORCH_CUDA_ALLOC_CONF=expandable_segments:True to avoid fragmentation.  See documentation for Memory Management  (https://pytorch.org/docs/stable/notes/cuda.html#environment-variables)\n"
     ]
    },
    {
     "name": "stderr",
     "output_type": "stream",
     "text": [
      "Epoch 4/4 [Train]:  28%|██▊       | 36/129 [00:12<00:33,  2.78batch/s]"
     ]
    },
    {
     "name": "stdout",
     "output_type": "stream",
     "text": [
      "\n",
      "Error in training batch: CUDA out of memory. Tried to allocate 188.00 MiB. GPU 0 has a total capacity of 5.77 GiB of which 84.31 MiB is free. Including non-PyTorch memory, this process has 5.67 GiB memory in use. Of the allocated memory 4.07 GiB is allocated by PyTorch, and 1.49 GiB is reserved by PyTorch but unallocated. If reserved but unallocated memory is large try setting PYTORCH_CUDA_ALLOC_CONF=expandable_segments:True to avoid fragmentation.  See documentation for Memory Management  (https://pytorch.org/docs/stable/notes/cuda.html#environment-variables)\n"
     ]
    },
    {
     "name": "stderr",
     "output_type": "stream",
     "text": [
      "Epoch 4/4 [Train]:  29%|██▊       | 37/129 [00:13<00:33,  2.78batch/s]"
     ]
    },
    {
     "name": "stdout",
     "output_type": "stream",
     "text": [
      "\n",
      "Error in training batch: CUDA out of memory. Tried to allocate 188.00 MiB. GPU 0 has a total capacity of 5.77 GiB of which 84.31 MiB is free. Including non-PyTorch memory, this process has 5.67 GiB memory in use. Of the allocated memory 4.07 GiB is allocated by PyTorch, and 1.49 GiB is reserved by PyTorch but unallocated. If reserved but unallocated memory is large try setting PYTORCH_CUDA_ALLOC_CONF=expandable_segments:True to avoid fragmentation.  See documentation for Memory Management  (https://pytorch.org/docs/stable/notes/cuda.html#environment-variables)\n"
     ]
    },
    {
     "name": "stderr",
     "output_type": "stream",
     "text": [
      "Epoch 4/4 [Train]:  29%|██▉       | 38/129 [00:13<00:32,  2.78batch/s]"
     ]
    },
    {
     "name": "stdout",
     "output_type": "stream",
     "text": [
      "\n",
      "Error in training batch: CUDA out of memory. Tried to allocate 188.00 MiB. GPU 0 has a total capacity of 5.77 GiB of which 84.31 MiB is free. Including non-PyTorch memory, this process has 5.67 GiB memory in use. Of the allocated memory 4.07 GiB is allocated by PyTorch, and 1.49 GiB is reserved by PyTorch but unallocated. If reserved but unallocated memory is large try setting PYTORCH_CUDA_ALLOC_CONF=expandable_segments:True to avoid fragmentation.  See documentation for Memory Management  (https://pytorch.org/docs/stable/notes/cuda.html#environment-variables)\n"
     ]
    },
    {
     "name": "stderr",
     "output_type": "stream",
     "text": [
      "Epoch 4/4 [Train]:  30%|███       | 39/129 [00:13<00:32,  2.77batch/s]"
     ]
    },
    {
     "name": "stdout",
     "output_type": "stream",
     "text": [
      "\n",
      "Error in training batch: CUDA out of memory. Tried to allocate 188.00 MiB. GPU 0 has a total capacity of 5.77 GiB of which 84.31 MiB is free. Including non-PyTorch memory, this process has 5.67 GiB memory in use. Of the allocated memory 4.07 GiB is allocated by PyTorch, and 1.49 GiB is reserved by PyTorch but unallocated. If reserved but unallocated memory is large try setting PYTORCH_CUDA_ALLOC_CONF=expandable_segments:True to avoid fragmentation.  See documentation for Memory Management  (https://pytorch.org/docs/stable/notes/cuda.html#environment-variables)\n"
     ]
    },
    {
     "name": "stderr",
     "output_type": "stream",
     "text": [
      "Epoch 4/4 [Train]:  31%|███       | 40/129 [00:14<00:32,  2.75batch/s]"
     ]
    },
    {
     "name": "stdout",
     "output_type": "stream",
     "text": [
      "\n",
      "Error in training batch: CUDA out of memory. Tried to allocate 188.00 MiB. GPU 0 has a total capacity of 5.77 GiB of which 84.31 MiB is free. Including non-PyTorch memory, this process has 5.67 GiB memory in use. Of the allocated memory 4.07 GiB is allocated by PyTorch, and 1.49 GiB is reserved by PyTorch but unallocated. If reserved but unallocated memory is large try setting PYTORCH_CUDA_ALLOC_CONF=expandable_segments:True to avoid fragmentation.  See documentation for Memory Management  (https://pytorch.org/docs/stable/notes/cuda.html#environment-variables)\n"
     ]
    },
    {
     "name": "stderr",
     "output_type": "stream",
     "text": [
      "Epoch 4/4 [Train]:  32%|███▏      | 41/129 [00:14<00:31,  2.80batch/s]"
     ]
    },
    {
     "name": "stdout",
     "output_type": "stream",
     "text": [
      "\n",
      "Error in training batch: CUDA out of memory. Tried to allocate 188.00 MiB. GPU 0 has a total capacity of 5.77 GiB of which 84.31 MiB is free. Including non-PyTorch memory, this process has 5.67 GiB memory in use. Of the allocated memory 4.07 GiB is allocated by PyTorch, and 1.49 GiB is reserved by PyTorch but unallocated. If reserved but unallocated memory is large try setting PYTORCH_CUDA_ALLOC_CONF=expandable_segments:True to avoid fragmentation.  See documentation for Memory Management  (https://pytorch.org/docs/stable/notes/cuda.html#environment-variables)\n"
     ]
    },
    {
     "name": "stderr",
     "output_type": "stream",
     "text": [
      "Epoch 4/4 [Train]:  33%|███▎      | 42/129 [00:14<00:31,  2.77batch/s]"
     ]
    },
    {
     "name": "stdout",
     "output_type": "stream",
     "text": [
      "\n",
      "Error in training batch: CUDA out of memory. Tried to allocate 188.00 MiB. GPU 0 has a total capacity of 5.77 GiB of which 84.31 MiB is free. Including non-PyTorch memory, this process has 5.67 GiB memory in use. Of the allocated memory 4.07 GiB is allocated by PyTorch, and 1.49 GiB is reserved by PyTorch but unallocated. If reserved but unallocated memory is large try setting PYTORCH_CUDA_ALLOC_CONF=expandable_segments:True to avoid fragmentation.  See documentation for Memory Management  (https://pytorch.org/docs/stable/notes/cuda.html#environment-variables)\n"
     ]
    },
    {
     "name": "stderr",
     "output_type": "stream",
     "text": [
      "Epoch 4/4 [Train]:  33%|███▎      | 43/129 [00:15<00:31,  2.76batch/s]"
     ]
    },
    {
     "name": "stdout",
     "output_type": "stream",
     "text": [
      "\n",
      "Error in training batch: CUDA out of memory. Tried to allocate 188.00 MiB. GPU 0 has a total capacity of 5.77 GiB of which 84.31 MiB is free. Including non-PyTorch memory, this process has 5.67 GiB memory in use. Of the allocated memory 4.07 GiB is allocated by PyTorch, and 1.49 GiB is reserved by PyTorch but unallocated. If reserved but unallocated memory is large try setting PYTORCH_CUDA_ALLOC_CONF=expandable_segments:True to avoid fragmentation.  See documentation for Memory Management  (https://pytorch.org/docs/stable/notes/cuda.html#environment-variables)\n"
     ]
    },
    {
     "name": "stderr",
     "output_type": "stream",
     "text": [
      "Epoch 4/4 [Train]:  34%|███▍      | 44/129 [00:15<00:30,  2.75batch/s]"
     ]
    },
    {
     "name": "stdout",
     "output_type": "stream",
     "text": [
      "\n",
      "Error in training batch: CUDA out of memory. Tried to allocate 188.00 MiB. GPU 0 has a total capacity of 5.77 GiB of which 84.31 MiB is free. Including non-PyTorch memory, this process has 5.67 GiB memory in use. Of the allocated memory 4.07 GiB is allocated by PyTorch, and 1.49 GiB is reserved by PyTorch but unallocated. If reserved but unallocated memory is large try setting PYTORCH_CUDA_ALLOC_CONF=expandable_segments:True to avoid fragmentation.  See documentation for Memory Management  (https://pytorch.org/docs/stable/notes/cuda.html#environment-variables)\n"
     ]
    },
    {
     "name": "stderr",
     "output_type": "stream",
     "text": [
      "Epoch 4/4 [Train]:  35%|███▍      | 45/129 [00:15<00:30,  2.78batch/s]"
     ]
    },
    {
     "name": "stdout",
     "output_type": "stream",
     "text": [
      "\n",
      "Error in training batch: CUDA out of memory. Tried to allocate 188.00 MiB. GPU 0 has a total capacity of 5.77 GiB of which 84.31 MiB is free. Including non-PyTorch memory, this process has 5.67 GiB memory in use. Of the allocated memory 4.07 GiB is allocated by PyTorch, and 1.49 GiB is reserved by PyTorch but unallocated. If reserved but unallocated memory is large try setting PYTORCH_CUDA_ALLOC_CONF=expandable_segments:True to avoid fragmentation.  See documentation for Memory Management  (https://pytorch.org/docs/stable/notes/cuda.html#environment-variables)\n"
     ]
    },
    {
     "name": "stderr",
     "output_type": "stream",
     "text": [
      "Epoch 4/4 [Train]:  36%|███▌      | 46/129 [00:16<00:29,  2.80batch/s]"
     ]
    },
    {
     "name": "stdout",
     "output_type": "stream",
     "text": [
      "\n",
      "Error in training batch: CUDA out of memory. Tried to allocate 188.00 MiB. GPU 0 has a total capacity of 5.77 GiB of which 84.31 MiB is free. Including non-PyTorch memory, this process has 5.67 GiB memory in use. Of the allocated memory 4.07 GiB is allocated by PyTorch, and 1.49 GiB is reserved by PyTorch but unallocated. If reserved but unallocated memory is large try setting PYTORCH_CUDA_ALLOC_CONF=expandable_segments:True to avoid fragmentation.  See documentation for Memory Management  (https://pytorch.org/docs/stable/notes/cuda.html#environment-variables)\n"
     ]
    },
    {
     "name": "stderr",
     "output_type": "stream",
     "text": [
      "Epoch 4/4 [Train]:  36%|███▋      | 47/129 [00:16<00:29,  2.78batch/s]"
     ]
    },
    {
     "name": "stdout",
     "output_type": "stream",
     "text": [
      "\n",
      "Error in training batch: CUDA out of memory. Tried to allocate 188.00 MiB. GPU 0 has a total capacity of 5.77 GiB of which 84.31 MiB is free. Including non-PyTorch memory, this process has 5.67 GiB memory in use. Of the allocated memory 4.07 GiB is allocated by PyTorch, and 1.49 GiB is reserved by PyTorch but unallocated. If reserved but unallocated memory is large try setting PYTORCH_CUDA_ALLOC_CONF=expandable_segments:True to avoid fragmentation.  See documentation for Memory Management  (https://pytorch.org/docs/stable/notes/cuda.html#environment-variables)\n"
     ]
    },
    {
     "name": "stderr",
     "output_type": "stream",
     "text": [
      "Epoch 4/4 [Train]:  37%|███▋      | 48/129 [00:17<00:28,  2.79batch/s]"
     ]
    },
    {
     "name": "stdout",
     "output_type": "stream",
     "text": [
      "\n",
      "Error in training batch: CUDA out of memory. Tried to allocate 188.00 MiB. GPU 0 has a total capacity of 5.77 GiB of which 84.31 MiB is free. Including non-PyTorch memory, this process has 5.67 GiB memory in use. Of the allocated memory 4.07 GiB is allocated by PyTorch, and 1.49 GiB is reserved by PyTorch but unallocated. If reserved but unallocated memory is large try setting PYTORCH_CUDA_ALLOC_CONF=expandable_segments:True to avoid fragmentation.  See documentation for Memory Management  (https://pytorch.org/docs/stable/notes/cuda.html#environment-variables)\n"
     ]
    },
    {
     "name": "stderr",
     "output_type": "stream",
     "text": [
      "Epoch 4/4 [Train]:  38%|███▊      | 49/129 [00:17<00:28,  2.80batch/s]"
     ]
    },
    {
     "name": "stdout",
     "output_type": "stream",
     "text": [
      "\n",
      "Error in training batch: CUDA out of memory. Tried to allocate 188.00 MiB. GPU 0 has a total capacity of 5.77 GiB of which 84.31 MiB is free. Including non-PyTorch memory, this process has 5.67 GiB memory in use. Of the allocated memory 4.07 GiB is allocated by PyTorch, and 1.49 GiB is reserved by PyTorch but unallocated. If reserved but unallocated memory is large try setting PYTORCH_CUDA_ALLOC_CONF=expandable_segments:True to avoid fragmentation.  See documentation for Memory Management  (https://pytorch.org/docs/stable/notes/cuda.html#environment-variables)\n"
     ]
    },
    {
     "name": "stderr",
     "output_type": "stream",
     "text": [
      "Epoch 4/4 [Train]:  39%|███▉      | 50/129 [00:17<00:28,  2.77batch/s]"
     ]
    },
    {
     "name": "stdout",
     "output_type": "stream",
     "text": [
      "\n",
      "Error in training batch: CUDA out of memory. Tried to allocate 188.00 MiB. GPU 0 has a total capacity of 5.77 GiB of which 84.31 MiB is free. Including non-PyTorch memory, this process has 5.67 GiB memory in use. Of the allocated memory 4.07 GiB is allocated by PyTorch, and 1.49 GiB is reserved by PyTorch but unallocated. If reserved but unallocated memory is large try setting PYTORCH_CUDA_ALLOC_CONF=expandable_segments:True to avoid fragmentation.  See documentation for Memory Management  (https://pytorch.org/docs/stable/notes/cuda.html#environment-variables)\n"
     ]
    },
    {
     "name": "stderr",
     "output_type": "stream",
     "text": [
      "Epoch 4/4 [Train]:  40%|███▉      | 51/129 [00:18<00:27,  2.81batch/s]"
     ]
    },
    {
     "name": "stdout",
     "output_type": "stream",
     "text": [
      "\n",
      "Error in training batch: CUDA out of memory. Tried to allocate 188.00 MiB. GPU 0 has a total capacity of 5.77 GiB of which 84.31 MiB is free. Including non-PyTorch memory, this process has 5.67 GiB memory in use. Of the allocated memory 4.07 GiB is allocated by PyTorch, and 1.49 GiB is reserved by PyTorch but unallocated. If reserved but unallocated memory is large try setting PYTORCH_CUDA_ALLOC_CONF=expandable_segments:True to avoid fragmentation.  See documentation for Memory Management  (https://pytorch.org/docs/stable/notes/cuda.html#environment-variables)\n"
     ]
    },
    {
     "name": "stderr",
     "output_type": "stream",
     "text": [
      "Epoch 4/4 [Train]:  40%|████      | 52/129 [00:18<00:27,  2.78batch/s]"
     ]
    },
    {
     "name": "stdout",
     "output_type": "stream",
     "text": [
      "\n",
      "Error in training batch: CUDA out of memory. Tried to allocate 188.00 MiB. GPU 0 has a total capacity of 5.77 GiB of which 84.31 MiB is free. Including non-PyTorch memory, this process has 5.67 GiB memory in use. Of the allocated memory 4.07 GiB is allocated by PyTorch, and 1.49 GiB is reserved by PyTorch but unallocated. If reserved but unallocated memory is large try setting PYTORCH_CUDA_ALLOC_CONF=expandable_segments:True to avoid fragmentation.  See documentation for Memory Management  (https://pytorch.org/docs/stable/notes/cuda.html#environment-variables)\n"
     ]
    },
    {
     "name": "stderr",
     "output_type": "stream",
     "text": [
      "Epoch 4/4 [Train]:  41%|████      | 53/129 [00:18<00:27,  2.79batch/s]"
     ]
    },
    {
     "name": "stdout",
     "output_type": "stream",
     "text": [
      "\n",
      "Error in training batch: CUDA out of memory. Tried to allocate 188.00 MiB. GPU 0 has a total capacity of 5.77 GiB of which 84.31 MiB is free. Including non-PyTorch memory, this process has 5.67 GiB memory in use. Of the allocated memory 4.07 GiB is allocated by PyTorch, and 1.49 GiB is reserved by PyTorch but unallocated. If reserved but unallocated memory is large try setting PYTORCH_CUDA_ALLOC_CONF=expandable_segments:True to avoid fragmentation.  See documentation for Memory Management  (https://pytorch.org/docs/stable/notes/cuda.html#environment-variables)\n"
     ]
    },
    {
     "name": "stderr",
     "output_type": "stream",
     "text": [
      "Epoch 4/4 [Train]:  42%|████▏     | 54/129 [00:19<00:27,  2.77batch/s]"
     ]
    },
    {
     "name": "stdout",
     "output_type": "stream",
     "text": [
      "\n",
      "Error in training batch: CUDA out of memory. Tried to allocate 188.00 MiB. GPU 0 has a total capacity of 5.77 GiB of which 84.31 MiB is free. Including non-PyTorch memory, this process has 5.67 GiB memory in use. Of the allocated memory 4.07 GiB is allocated by PyTorch, and 1.49 GiB is reserved by PyTorch but unallocated. If reserved but unallocated memory is large try setting PYTORCH_CUDA_ALLOC_CONF=expandable_segments:True to avoid fragmentation.  See documentation for Memory Management  (https://pytorch.org/docs/stable/notes/cuda.html#environment-variables)\n"
     ]
    },
    {
     "name": "stderr",
     "output_type": "stream",
     "text": [
      "Epoch 4/4 [Train]:  43%|████▎     | 55/129 [00:19<00:26,  2.79batch/s]"
     ]
    },
    {
     "name": "stdout",
     "output_type": "stream",
     "text": [
      "\n",
      "Error in training batch: CUDA out of memory. Tried to allocate 188.00 MiB. GPU 0 has a total capacity of 5.77 GiB of which 84.31 MiB is free. Including non-PyTorch memory, this process has 5.67 GiB memory in use. Of the allocated memory 4.07 GiB is allocated by PyTorch, and 1.49 GiB is reserved by PyTorch but unallocated. If reserved but unallocated memory is large try setting PYTORCH_CUDA_ALLOC_CONF=expandable_segments:True to avoid fragmentation.  See documentation for Memory Management  (https://pytorch.org/docs/stable/notes/cuda.html#environment-variables)\n"
     ]
    },
    {
     "name": "stderr",
     "output_type": "stream",
     "text": [
      "Epoch 4/4 [Train]:  43%|████▎     | 56/129 [00:19<00:26,  2.80batch/s]"
     ]
    },
    {
     "name": "stdout",
     "output_type": "stream",
     "text": [
      "\n",
      "Error in training batch: CUDA out of memory. Tried to allocate 188.00 MiB. GPU 0 has a total capacity of 5.77 GiB of which 84.31 MiB is free. Including non-PyTorch memory, this process has 5.67 GiB memory in use. Of the allocated memory 4.07 GiB is allocated by PyTorch, and 1.49 GiB is reserved by PyTorch but unallocated. If reserved but unallocated memory is large try setting PYTORCH_CUDA_ALLOC_CONF=expandable_segments:True to avoid fragmentation.  See documentation for Memory Management  (https://pytorch.org/docs/stable/notes/cuda.html#environment-variables)\n"
     ]
    },
    {
     "name": "stderr",
     "output_type": "stream",
     "text": [
      "Epoch 4/4 [Train]:  44%|████▍     | 57/129 [00:20<00:25,  2.82batch/s]"
     ]
    },
    {
     "name": "stdout",
     "output_type": "stream",
     "text": [
      "\n",
      "Error in training batch: CUDA out of memory. Tried to allocate 188.00 MiB. GPU 0 has a total capacity of 5.77 GiB of which 84.31 MiB is free. Including non-PyTorch memory, this process has 5.67 GiB memory in use. Of the allocated memory 4.07 GiB is allocated by PyTorch, and 1.49 GiB is reserved by PyTorch but unallocated. If reserved but unallocated memory is large try setting PYTORCH_CUDA_ALLOC_CONF=expandable_segments:True to avoid fragmentation.  See documentation for Memory Management  (https://pytorch.org/docs/stable/notes/cuda.html#environment-variables)\n"
     ]
    },
    {
     "name": "stderr",
     "output_type": "stream",
     "text": [
      "Epoch 4/4 [Train]:  45%|████▍     | 58/129 [00:20<00:25,  2.78batch/s]"
     ]
    },
    {
     "name": "stdout",
     "output_type": "stream",
     "text": [
      "\n",
      "Error in training batch: CUDA out of memory. Tried to allocate 188.00 MiB. GPU 0 has a total capacity of 5.77 GiB of which 84.31 MiB is free. Including non-PyTorch memory, this process has 5.67 GiB memory in use. Of the allocated memory 4.07 GiB is allocated by PyTorch, and 1.49 GiB is reserved by PyTorch but unallocated. If reserved but unallocated memory is large try setting PYTORCH_CUDA_ALLOC_CONF=expandable_segments:True to avoid fragmentation.  See documentation for Memory Management  (https://pytorch.org/docs/stable/notes/cuda.html#environment-variables)\n"
     ]
    },
    {
     "name": "stderr",
     "output_type": "stream",
     "text": [
      "Epoch 4/4 [Train]:  46%|████▌     | 59/129 [00:20<00:25,  2.77batch/s]"
     ]
    },
    {
     "name": "stdout",
     "output_type": "stream",
     "text": [
      "\n",
      "Error in training batch: CUDA out of memory. Tried to allocate 188.00 MiB. GPU 0 has a total capacity of 5.77 GiB of which 84.31 MiB is free. Including non-PyTorch memory, this process has 5.67 GiB memory in use. Of the allocated memory 4.07 GiB is allocated by PyTorch, and 1.49 GiB is reserved by PyTorch but unallocated. If reserved but unallocated memory is large try setting PYTORCH_CUDA_ALLOC_CONF=expandable_segments:True to avoid fragmentation.  See documentation for Memory Management  (https://pytorch.org/docs/stable/notes/cuda.html#environment-variables)\n"
     ]
    },
    {
     "name": "stderr",
     "output_type": "stream",
     "text": [
      "Epoch 4/4 [Train]:  47%|████▋     | 60/129 [00:21<00:24,  2.80batch/s]"
     ]
    },
    {
     "name": "stdout",
     "output_type": "stream",
     "text": [
      "\n",
      "Error in training batch: CUDA out of memory. Tried to allocate 188.00 MiB. GPU 0 has a total capacity of 5.77 GiB of which 84.31 MiB is free. Including non-PyTorch memory, this process has 5.67 GiB memory in use. Of the allocated memory 4.07 GiB is allocated by PyTorch, and 1.49 GiB is reserved by PyTorch but unallocated. If reserved but unallocated memory is large try setting PYTORCH_CUDA_ALLOC_CONF=expandable_segments:True to avoid fragmentation.  See documentation for Memory Management  (https://pytorch.org/docs/stable/notes/cuda.html#environment-variables)\n"
     ]
    },
    {
     "name": "stderr",
     "output_type": "stream",
     "text": [
      "Epoch 4/4 [Train]:  47%|████▋     | 61/129 [00:21<00:24,  2.81batch/s]"
     ]
    },
    {
     "name": "stdout",
     "output_type": "stream",
     "text": [
      "\n",
      "Error in training batch: CUDA out of memory. Tried to allocate 188.00 MiB. GPU 0 has a total capacity of 5.77 GiB of which 84.31 MiB is free. Including non-PyTorch memory, this process has 5.67 GiB memory in use. Of the allocated memory 4.07 GiB is allocated by PyTorch, and 1.49 GiB is reserved by PyTorch but unallocated. If reserved but unallocated memory is large try setting PYTORCH_CUDA_ALLOC_CONF=expandable_segments:True to avoid fragmentation.  See documentation for Memory Management  (https://pytorch.org/docs/stable/notes/cuda.html#environment-variables)\n"
     ]
    },
    {
     "name": "stderr",
     "output_type": "stream",
     "text": [
      "Epoch 4/4 [Train]:  48%|████▊     | 62/129 [00:22<00:24,  2.79batch/s]"
     ]
    },
    {
     "name": "stdout",
     "output_type": "stream",
     "text": [
      "\n",
      "Error in training batch: CUDA out of memory. Tried to allocate 188.00 MiB. GPU 0 has a total capacity of 5.77 GiB of which 84.31 MiB is free. Including non-PyTorch memory, this process has 5.67 GiB memory in use. Of the allocated memory 4.07 GiB is allocated by PyTorch, and 1.49 GiB is reserved by PyTorch but unallocated. If reserved but unallocated memory is large try setting PYTORCH_CUDA_ALLOC_CONF=expandable_segments:True to avoid fragmentation.  See documentation for Memory Management  (https://pytorch.org/docs/stable/notes/cuda.html#environment-variables)\n"
     ]
    },
    {
     "name": "stderr",
     "output_type": "stream",
     "text": [
      "Epoch 4/4 [Train]:  49%|████▉     | 63/129 [00:22<00:23,  2.77batch/s]"
     ]
    },
    {
     "name": "stdout",
     "output_type": "stream",
     "text": [
      "\n",
      "Error in training batch: CUDA out of memory. Tried to allocate 188.00 MiB. GPU 0 has a total capacity of 5.77 GiB of which 84.31 MiB is free. Including non-PyTorch memory, this process has 5.67 GiB memory in use. Of the allocated memory 4.07 GiB is allocated by PyTorch, and 1.49 GiB is reserved by PyTorch but unallocated. If reserved but unallocated memory is large try setting PYTORCH_CUDA_ALLOC_CONF=expandable_segments:True to avoid fragmentation.  See documentation for Memory Management  (https://pytorch.org/docs/stable/notes/cuda.html#environment-variables)\n"
     ]
    },
    {
     "name": "stderr",
     "output_type": "stream",
     "text": [
      "Epoch 4/4 [Train]:  50%|████▉     | 64/129 [00:22<00:23,  2.80batch/s]"
     ]
    },
    {
     "name": "stdout",
     "output_type": "stream",
     "text": [
      "\n",
      "Error in training batch: CUDA out of memory. Tried to allocate 188.00 MiB. GPU 0 has a total capacity of 5.77 GiB of which 84.31 MiB is free. Including non-PyTorch memory, this process has 5.67 GiB memory in use. Of the allocated memory 4.07 GiB is allocated by PyTorch, and 1.49 GiB is reserved by PyTorch but unallocated. If reserved but unallocated memory is large try setting PYTORCH_CUDA_ALLOC_CONF=expandable_segments:True to avoid fragmentation.  See documentation for Memory Management  (https://pytorch.org/docs/stable/notes/cuda.html#environment-variables)\n"
     ]
    },
    {
     "name": "stderr",
     "output_type": "stream",
     "text": [
      "Epoch 4/4 [Train]:  50%|█████     | 65/129 [00:23<00:22,  2.81batch/s]"
     ]
    },
    {
     "name": "stdout",
     "output_type": "stream",
     "text": [
      "\n",
      "Error in training batch: CUDA out of memory. Tried to allocate 188.00 MiB. GPU 0 has a total capacity of 5.77 GiB of which 84.31 MiB is free. Including non-PyTorch memory, this process has 5.67 GiB memory in use. Of the allocated memory 4.07 GiB is allocated by PyTorch, and 1.49 GiB is reserved by PyTorch but unallocated. If reserved but unallocated memory is large try setting PYTORCH_CUDA_ALLOC_CONF=expandable_segments:True to avoid fragmentation.  See documentation for Memory Management  (https://pytorch.org/docs/stable/notes/cuda.html#environment-variables)\n"
     ]
    },
    {
     "name": "stderr",
     "output_type": "stream",
     "text": [
      "Epoch 4/4 [Train]:  51%|█████     | 66/129 [00:23<00:22,  2.83batch/s]"
     ]
    },
    {
     "name": "stdout",
     "output_type": "stream",
     "text": [
      "\n",
      "Error in training batch: CUDA out of memory. Tried to allocate 188.00 MiB. GPU 0 has a total capacity of 5.77 GiB of which 84.31 MiB is free. Including non-PyTorch memory, this process has 5.67 GiB memory in use. Of the allocated memory 4.07 GiB is allocated by PyTorch, and 1.49 GiB is reserved by PyTorch but unallocated. If reserved but unallocated memory is large try setting PYTORCH_CUDA_ALLOC_CONF=expandable_segments:True to avoid fragmentation.  See documentation for Memory Management  (https://pytorch.org/docs/stable/notes/cuda.html#environment-variables)\n"
     ]
    },
    {
     "name": "stderr",
     "output_type": "stream",
     "text": [
      "Epoch 4/4 [Train]:  52%|█████▏    | 67/129 [00:23<00:22,  2.79batch/s]"
     ]
    },
    {
     "name": "stdout",
     "output_type": "stream",
     "text": [
      "\n",
      "Error in training batch: CUDA out of memory. Tried to allocate 188.00 MiB. GPU 0 has a total capacity of 5.77 GiB of which 84.31 MiB is free. Including non-PyTorch memory, this process has 5.67 GiB memory in use. Of the allocated memory 4.07 GiB is allocated by PyTorch, and 1.49 GiB is reserved by PyTorch but unallocated. If reserved but unallocated memory is large try setting PYTORCH_CUDA_ALLOC_CONF=expandable_segments:True to avoid fragmentation.  See documentation for Memory Management  (https://pytorch.org/docs/stable/notes/cuda.html#environment-variables)\n"
     ]
    },
    {
     "name": "stderr",
     "output_type": "stream",
     "text": [
      "Epoch 4/4 [Train]:  53%|█████▎    | 68/129 [00:24<00:21,  2.77batch/s]"
     ]
    },
    {
     "name": "stdout",
     "output_type": "stream",
     "text": [
      "\n",
      "Error in training batch: CUDA out of memory. Tried to allocate 188.00 MiB. GPU 0 has a total capacity of 5.77 GiB of which 84.31 MiB is free. Including non-PyTorch memory, this process has 5.67 GiB memory in use. Of the allocated memory 4.07 GiB is allocated by PyTorch, and 1.49 GiB is reserved by PyTorch but unallocated. If reserved but unallocated memory is large try setting PYTORCH_CUDA_ALLOC_CONF=expandable_segments:True to avoid fragmentation.  See documentation for Memory Management  (https://pytorch.org/docs/stable/notes/cuda.html#environment-variables)\n"
     ]
    },
    {
     "name": "stderr",
     "output_type": "stream",
     "text": [
      "Epoch 4/4 [Train]:  53%|█████▎    | 69/129 [00:24<00:21,  2.76batch/s]"
     ]
    },
    {
     "name": "stdout",
     "output_type": "stream",
     "text": [
      "\n",
      "Error in training batch: CUDA out of memory. Tried to allocate 188.00 MiB. GPU 0 has a total capacity of 5.77 GiB of which 84.31 MiB is free. Including non-PyTorch memory, this process has 5.67 GiB memory in use. Of the allocated memory 4.07 GiB is allocated by PyTorch, and 1.49 GiB is reserved by PyTorch but unallocated. If reserved but unallocated memory is large try setting PYTORCH_CUDA_ALLOC_CONF=expandable_segments:True to avoid fragmentation.  See documentation for Memory Management  (https://pytorch.org/docs/stable/notes/cuda.html#environment-variables)\n"
     ]
    },
    {
     "name": "stderr",
     "output_type": "stream",
     "text": [
      "Epoch 4/4 [Train]:  54%|█████▍    | 70/129 [00:24<00:21,  2.78batch/s]"
     ]
    },
    {
     "name": "stdout",
     "output_type": "stream",
     "text": [
      "\n",
      "Error in training batch: CUDA out of memory. Tried to allocate 188.00 MiB. GPU 0 has a total capacity of 5.77 GiB of which 84.31 MiB is free. Including non-PyTorch memory, this process has 5.67 GiB memory in use. Of the allocated memory 4.07 GiB is allocated by PyTorch, and 1.49 GiB is reserved by PyTorch but unallocated. If reserved but unallocated memory is large try setting PYTORCH_CUDA_ALLOC_CONF=expandable_segments:True to avoid fragmentation.  See documentation for Memory Management  (https://pytorch.org/docs/stable/notes/cuda.html#environment-variables)\n"
     ]
    },
    {
     "name": "stderr",
     "output_type": "stream",
     "text": [
      "Epoch 4/4 [Train]:  55%|█████▌    | 71/129 [00:25<00:20,  2.79batch/s]"
     ]
    },
    {
     "name": "stdout",
     "output_type": "stream",
     "text": [
      "\n",
      "Error in training batch: CUDA out of memory. Tried to allocate 188.00 MiB. GPU 0 has a total capacity of 5.77 GiB of which 84.31 MiB is free. Including non-PyTorch memory, this process has 5.67 GiB memory in use. Of the allocated memory 4.07 GiB is allocated by PyTorch, and 1.49 GiB is reserved by PyTorch but unallocated. If reserved but unallocated memory is large try setting PYTORCH_CUDA_ALLOC_CONF=expandable_segments:True to avoid fragmentation.  See documentation for Memory Management  (https://pytorch.org/docs/stable/notes/cuda.html#environment-variables)\n"
     ]
    },
    {
     "name": "stderr",
     "output_type": "stream",
     "text": [
      "Epoch 4/4 [Train]:  56%|█████▌    | 72/129 [00:25<00:20,  2.78batch/s]"
     ]
    },
    {
     "name": "stdout",
     "output_type": "stream",
     "text": [
      "\n",
      "Error in training batch: CUDA out of memory. Tried to allocate 188.00 MiB. GPU 0 has a total capacity of 5.77 GiB of which 84.31 MiB is free. Including non-PyTorch memory, this process has 5.67 GiB memory in use. Of the allocated memory 4.07 GiB is allocated by PyTorch, and 1.49 GiB is reserved by PyTorch but unallocated. If reserved but unallocated memory is large try setting PYTORCH_CUDA_ALLOC_CONF=expandable_segments:True to avoid fragmentation.  See documentation for Memory Management  (https://pytorch.org/docs/stable/notes/cuda.html#environment-variables)\n"
     ]
    },
    {
     "name": "stderr",
     "output_type": "stream",
     "text": [
      "Epoch 4/4 [Train]:  57%|█████▋    | 73/129 [00:25<00:20,  2.76batch/s]"
     ]
    },
    {
     "name": "stdout",
     "output_type": "stream",
     "text": [
      "\n",
      "Error in training batch: CUDA out of memory. Tried to allocate 188.00 MiB. GPU 0 has a total capacity of 5.77 GiB of which 84.31 MiB is free. Including non-PyTorch memory, this process has 5.67 GiB memory in use. Of the allocated memory 4.07 GiB is allocated by PyTorch, and 1.49 GiB is reserved by PyTorch but unallocated. If reserved but unallocated memory is large try setting PYTORCH_CUDA_ALLOC_CONF=expandable_segments:True to avoid fragmentation.  See documentation for Memory Management  (https://pytorch.org/docs/stable/notes/cuda.html#environment-variables)\n"
     ]
    },
    {
     "name": "stderr",
     "output_type": "stream",
     "text": [
      "Epoch 4/4 [Train]:  57%|█████▋    | 74/129 [00:26<00:19,  2.76batch/s]"
     ]
    },
    {
     "name": "stdout",
     "output_type": "stream",
     "text": [
      "\n",
      "Error in training batch: CUDA out of memory. Tried to allocate 188.00 MiB. GPU 0 has a total capacity of 5.77 GiB of which 84.31 MiB is free. Including non-PyTorch memory, this process has 5.67 GiB memory in use. Of the allocated memory 4.07 GiB is allocated by PyTorch, and 1.49 GiB is reserved by PyTorch but unallocated. If reserved but unallocated memory is large try setting PYTORCH_CUDA_ALLOC_CONF=expandable_segments:True to avoid fragmentation.  See documentation for Memory Management  (https://pytorch.org/docs/stable/notes/cuda.html#environment-variables)\n"
     ]
    },
    {
     "name": "stderr",
     "output_type": "stream",
     "text": [
      "Epoch 4/4 [Train]:  58%|█████▊    | 75/129 [00:26<00:19,  2.80batch/s]"
     ]
    },
    {
     "name": "stdout",
     "output_type": "stream",
     "text": [
      "\n",
      "Error in training batch: CUDA out of memory. Tried to allocate 188.00 MiB. GPU 0 has a total capacity of 5.77 GiB of which 84.31 MiB is free. Including non-PyTorch memory, this process has 5.67 GiB memory in use. Of the allocated memory 4.07 GiB is allocated by PyTorch, and 1.49 GiB is reserved by PyTorch but unallocated. If reserved but unallocated memory is large try setting PYTORCH_CUDA_ALLOC_CONF=expandable_segments:True to avoid fragmentation.  See documentation for Memory Management  (https://pytorch.org/docs/stable/notes/cuda.html#environment-variables)\n"
     ]
    },
    {
     "name": "stderr",
     "output_type": "stream",
     "text": [
      "Epoch 4/4 [Train]:  59%|█████▉    | 76/129 [00:27<00:18,  2.81batch/s]"
     ]
    },
    {
     "name": "stdout",
     "output_type": "stream",
     "text": [
      "\n",
      "Error in training batch: CUDA out of memory. Tried to allocate 188.00 MiB. GPU 0 has a total capacity of 5.77 GiB of which 84.31 MiB is free. Including non-PyTorch memory, this process has 5.67 GiB memory in use. Of the allocated memory 4.07 GiB is allocated by PyTorch, and 1.49 GiB is reserved by PyTorch but unallocated. If reserved but unallocated memory is large try setting PYTORCH_CUDA_ALLOC_CONF=expandable_segments:True to avoid fragmentation.  See documentation for Memory Management  (https://pytorch.org/docs/stable/notes/cuda.html#environment-variables)\n"
     ]
    },
    {
     "name": "stderr",
     "output_type": "stream",
     "text": [
      "Epoch 4/4 [Train]:  60%|█████▉    | 77/129 [00:27<00:18,  2.77batch/s]"
     ]
    },
    {
     "name": "stdout",
     "output_type": "stream",
     "text": [
      "\n",
      "Error in training batch: CUDA out of memory. Tried to allocate 188.00 MiB. GPU 0 has a total capacity of 5.77 GiB of which 84.31 MiB is free. Including non-PyTorch memory, this process has 5.67 GiB memory in use. Of the allocated memory 4.07 GiB is allocated by PyTorch, and 1.49 GiB is reserved by PyTorch but unallocated. If reserved but unallocated memory is large try setting PYTORCH_CUDA_ALLOC_CONF=expandable_segments:True to avoid fragmentation.  See documentation for Memory Management  (https://pytorch.org/docs/stable/notes/cuda.html#environment-variables)\n"
     ]
    },
    {
     "name": "stderr",
     "output_type": "stream",
     "text": [
      "Epoch 4/4 [Train]:  60%|██████    | 78/129 [00:27<00:18,  2.77batch/s]"
     ]
    },
    {
     "name": "stdout",
     "output_type": "stream",
     "text": [
      "\n",
      "Error in training batch: CUDA out of memory. Tried to allocate 188.00 MiB. GPU 0 has a total capacity of 5.77 GiB of which 84.31 MiB is free. Including non-PyTorch memory, this process has 5.67 GiB memory in use. Of the allocated memory 4.07 GiB is allocated by PyTorch, and 1.49 GiB is reserved by PyTorch but unallocated. If reserved but unallocated memory is large try setting PYTORCH_CUDA_ALLOC_CONF=expandable_segments:True to avoid fragmentation.  See documentation for Memory Management  (https://pytorch.org/docs/stable/notes/cuda.html#environment-variables)\n"
     ]
    },
    {
     "name": "stderr",
     "output_type": "stream",
     "text": [
      "Epoch 4/4 [Train]:  61%|██████    | 79/129 [00:28<00:18,  2.77batch/s]"
     ]
    },
    {
     "name": "stdout",
     "output_type": "stream",
     "text": [
      "\n",
      "Error in training batch: CUDA out of memory. Tried to allocate 188.00 MiB. GPU 0 has a total capacity of 5.77 GiB of which 84.31 MiB is free. Including non-PyTorch memory, this process has 5.67 GiB memory in use. Of the allocated memory 4.07 GiB is allocated by PyTorch, and 1.49 GiB is reserved by PyTorch but unallocated. If reserved but unallocated memory is large try setting PYTORCH_CUDA_ALLOC_CONF=expandable_segments:True to avoid fragmentation.  See documentation for Memory Management  (https://pytorch.org/docs/stable/notes/cuda.html#environment-variables)\n"
     ]
    },
    {
     "name": "stderr",
     "output_type": "stream",
     "text": [
      "Epoch 4/4 [Train]:  62%|██████▏   | 80/129 [00:28<00:17,  2.78batch/s]"
     ]
    },
    {
     "name": "stdout",
     "output_type": "stream",
     "text": [
      "\n",
      "Error in training batch: CUDA out of memory. Tried to allocate 188.00 MiB. GPU 0 has a total capacity of 5.77 GiB of which 84.31 MiB is free. Including non-PyTorch memory, this process has 5.67 GiB memory in use. Of the allocated memory 4.07 GiB is allocated by PyTorch, and 1.49 GiB is reserved by PyTorch but unallocated. If reserved but unallocated memory is large try setting PYTORCH_CUDA_ALLOC_CONF=expandable_segments:True to avoid fragmentation.  See documentation for Memory Management  (https://pytorch.org/docs/stable/notes/cuda.html#environment-variables)\n"
     ]
    },
    {
     "name": "stderr",
     "output_type": "stream",
     "text": [
      "Epoch 4/4 [Train]:  63%|██████▎   | 81/129 [00:28<00:17,  2.77batch/s]"
     ]
    },
    {
     "name": "stdout",
     "output_type": "stream",
     "text": [
      "\n",
      "Error in training batch: CUDA out of memory. Tried to allocate 188.00 MiB. GPU 0 has a total capacity of 5.77 GiB of which 84.31 MiB is free. Including non-PyTorch memory, this process has 5.67 GiB memory in use. Of the allocated memory 4.07 GiB is allocated by PyTorch, and 1.49 GiB is reserved by PyTorch but unallocated. If reserved but unallocated memory is large try setting PYTORCH_CUDA_ALLOC_CONF=expandable_segments:True to avoid fragmentation.  See documentation for Memory Management  (https://pytorch.org/docs/stable/notes/cuda.html#environment-variables)\n"
     ]
    },
    {
     "name": "stderr",
     "output_type": "stream",
     "text": [
      "Epoch 4/4 [Train]:  64%|██████▎   | 82/129 [00:29<00:16,  2.78batch/s]"
     ]
    },
    {
     "name": "stdout",
     "output_type": "stream",
     "text": [
      "\n",
      "Error in training batch: CUDA out of memory. Tried to allocate 188.00 MiB. GPU 0 has a total capacity of 5.77 GiB of which 84.31 MiB is free. Including non-PyTorch memory, this process has 5.67 GiB memory in use. Of the allocated memory 4.07 GiB is allocated by PyTorch, and 1.49 GiB is reserved by PyTorch but unallocated. If reserved but unallocated memory is large try setting PYTORCH_CUDA_ALLOC_CONF=expandable_segments:True to avoid fragmentation.  See documentation for Memory Management  (https://pytorch.org/docs/stable/notes/cuda.html#environment-variables)\n"
     ]
    },
    {
     "name": "stderr",
     "output_type": "stream",
     "text": [
      "Epoch 4/4 [Train]:  64%|██████▍   | 83/129 [00:29<00:16,  2.76batch/s]"
     ]
    },
    {
     "name": "stdout",
     "output_type": "stream",
     "text": [
      "\n",
      "Error in training batch: CUDA out of memory. Tried to allocate 188.00 MiB. GPU 0 has a total capacity of 5.77 GiB of which 84.31 MiB is free. Including non-PyTorch memory, this process has 5.67 GiB memory in use. Of the allocated memory 4.07 GiB is allocated by PyTorch, and 1.49 GiB is reserved by PyTorch but unallocated. If reserved but unallocated memory is large try setting PYTORCH_CUDA_ALLOC_CONF=expandable_segments:True to avoid fragmentation.  See documentation for Memory Management  (https://pytorch.org/docs/stable/notes/cuda.html#environment-variables)\n"
     ]
    },
    {
     "name": "stderr",
     "output_type": "stream",
     "text": [
      "Epoch 4/4 [Train]:  65%|██████▌   | 84/129 [00:29<00:16,  2.75batch/s]"
     ]
    },
    {
     "name": "stdout",
     "output_type": "stream",
     "text": [
      "\n",
      "Error in training batch: CUDA out of memory. Tried to allocate 188.00 MiB. GPU 0 has a total capacity of 5.77 GiB of which 84.31 MiB is free. Including non-PyTorch memory, this process has 5.67 GiB memory in use. Of the allocated memory 4.07 GiB is allocated by PyTorch, and 1.49 GiB is reserved by PyTorch but unallocated. If reserved but unallocated memory is large try setting PYTORCH_CUDA_ALLOC_CONF=expandable_segments:True to avoid fragmentation.  See documentation for Memory Management  (https://pytorch.org/docs/stable/notes/cuda.html#environment-variables)\n"
     ]
    },
    {
     "name": "stderr",
     "output_type": "stream",
     "text": [
      "Epoch 4/4 [Train]:  66%|██████▌   | 85/129 [00:30<00:15,  2.79batch/s]"
     ]
    },
    {
     "name": "stdout",
     "output_type": "stream",
     "text": [
      "\n",
      "Error in training batch: CUDA out of memory. Tried to allocate 188.00 MiB. GPU 0 has a total capacity of 5.77 GiB of which 84.31 MiB is free. Including non-PyTorch memory, this process has 5.67 GiB memory in use. Of the allocated memory 4.07 GiB is allocated by PyTorch, and 1.49 GiB is reserved by PyTorch but unallocated. If reserved but unallocated memory is large try setting PYTORCH_CUDA_ALLOC_CONF=expandable_segments:True to avoid fragmentation.  See documentation for Memory Management  (https://pytorch.org/docs/stable/notes/cuda.html#environment-variables)\n"
     ]
    },
    {
     "name": "stderr",
     "output_type": "stream",
     "text": [
      "Epoch 4/4 [Train]:  67%|██████▋   | 86/129 [00:30<00:15,  2.76batch/s]"
     ]
    },
    {
     "name": "stdout",
     "output_type": "stream",
     "text": [
      "\n",
      "Error in training batch: CUDA out of memory. Tried to allocate 188.00 MiB. GPU 0 has a total capacity of 5.77 GiB of which 84.31 MiB is free. Including non-PyTorch memory, this process has 5.67 GiB memory in use. Of the allocated memory 4.07 GiB is allocated by PyTorch, and 1.49 GiB is reserved by PyTorch but unallocated. If reserved but unallocated memory is large try setting PYTORCH_CUDA_ALLOC_CONF=expandable_segments:True to avoid fragmentation.  See documentation for Memory Management  (https://pytorch.org/docs/stable/notes/cuda.html#environment-variables)\n"
     ]
    },
    {
     "name": "stderr",
     "output_type": "stream",
     "text": [
      "Epoch 4/4 [Train]:  67%|██████▋   | 87/129 [00:31<00:15,  2.76batch/s]"
     ]
    },
    {
     "name": "stdout",
     "output_type": "stream",
     "text": [
      "\n",
      "Error in training batch: CUDA out of memory. Tried to allocate 188.00 MiB. GPU 0 has a total capacity of 5.77 GiB of which 84.31 MiB is free. Including non-PyTorch memory, this process has 5.67 GiB memory in use. Of the allocated memory 4.07 GiB is allocated by PyTorch, and 1.49 GiB is reserved by PyTorch but unallocated. If reserved but unallocated memory is large try setting PYTORCH_CUDA_ALLOC_CONF=expandable_segments:True to avoid fragmentation.  See documentation for Memory Management  (https://pytorch.org/docs/stable/notes/cuda.html#environment-variables)\n"
     ]
    },
    {
     "name": "stderr",
     "output_type": "stream",
     "text": [
      "Epoch 4/4 [Train]:  68%|██████▊   | 88/129 [00:31<00:14,  2.78batch/s]"
     ]
    },
    {
     "name": "stdout",
     "output_type": "stream",
     "text": [
      "\n",
      "Error in training batch: CUDA out of memory. Tried to allocate 188.00 MiB. GPU 0 has a total capacity of 5.77 GiB of which 84.31 MiB is free. Including non-PyTorch memory, this process has 5.67 GiB memory in use. Of the allocated memory 4.07 GiB is allocated by PyTorch, and 1.49 GiB is reserved by PyTorch but unallocated. If reserved but unallocated memory is large try setting PYTORCH_CUDA_ALLOC_CONF=expandable_segments:True to avoid fragmentation.  See documentation for Memory Management  (https://pytorch.org/docs/stable/notes/cuda.html#environment-variables)\n"
     ]
    },
    {
     "name": "stderr",
     "output_type": "stream",
     "text": [
      "Epoch 4/4 [Train]:  69%|██████▉   | 89/129 [00:31<00:14,  2.76batch/s]"
     ]
    },
    {
     "name": "stdout",
     "output_type": "stream",
     "text": [
      "\n",
      "Error in training batch: CUDA out of memory. Tried to allocate 188.00 MiB. GPU 0 has a total capacity of 5.77 GiB of which 84.31 MiB is free. Including non-PyTorch memory, this process has 5.67 GiB memory in use. Of the allocated memory 4.07 GiB is allocated by PyTorch, and 1.49 GiB is reserved by PyTorch but unallocated. If reserved but unallocated memory is large try setting PYTORCH_CUDA_ALLOC_CONF=expandable_segments:True to avoid fragmentation.  See documentation for Memory Management  (https://pytorch.org/docs/stable/notes/cuda.html#environment-variables)\n"
     ]
    },
    {
     "name": "stderr",
     "output_type": "stream",
     "text": [
      "Epoch 4/4 [Train]:  70%|██████▉   | 90/129 [00:32<00:14,  2.77batch/s]"
     ]
    },
    {
     "name": "stdout",
     "output_type": "stream",
     "text": [
      "\n",
      "Error in training batch: CUDA out of memory. Tried to allocate 188.00 MiB. GPU 0 has a total capacity of 5.77 GiB of which 84.31 MiB is free. Including non-PyTorch memory, this process has 5.67 GiB memory in use. Of the allocated memory 4.07 GiB is allocated by PyTorch, and 1.49 GiB is reserved by PyTorch but unallocated. If reserved but unallocated memory is large try setting PYTORCH_CUDA_ALLOC_CONF=expandable_segments:True to avoid fragmentation.  See documentation for Memory Management  (https://pytorch.org/docs/stable/notes/cuda.html#environment-variables)\n"
     ]
    },
    {
     "name": "stderr",
     "output_type": "stream",
     "text": [
      "Epoch 4/4 [Train]:  71%|███████   | 91/129 [00:32<00:13,  2.77batch/s]"
     ]
    },
    {
     "name": "stdout",
     "output_type": "stream",
     "text": [
      "\n",
      "Error in training batch: CUDA out of memory. Tried to allocate 188.00 MiB. GPU 0 has a total capacity of 5.77 GiB of which 84.31 MiB is free. Including non-PyTorch memory, this process has 5.67 GiB memory in use. Of the allocated memory 4.07 GiB is allocated by PyTorch, and 1.49 GiB is reserved by PyTorch but unallocated. If reserved but unallocated memory is large try setting PYTORCH_CUDA_ALLOC_CONF=expandable_segments:True to avoid fragmentation.  See documentation for Memory Management  (https://pytorch.org/docs/stable/notes/cuda.html#environment-variables)\n"
     ]
    },
    {
     "name": "stderr",
     "output_type": "stream",
     "text": [
      "Epoch 4/4 [Train]:  71%|███████▏  | 92/129 [00:32<00:13,  2.78batch/s]"
     ]
    },
    {
     "name": "stdout",
     "output_type": "stream",
     "text": [
      "\n",
      "Error in training batch: CUDA out of memory. Tried to allocate 188.00 MiB. GPU 0 has a total capacity of 5.77 GiB of which 84.31 MiB is free. Including non-PyTorch memory, this process has 5.67 GiB memory in use. Of the allocated memory 4.07 GiB is allocated by PyTorch, and 1.49 GiB is reserved by PyTorch but unallocated. If reserved but unallocated memory is large try setting PYTORCH_CUDA_ALLOC_CONF=expandable_segments:True to avoid fragmentation.  See documentation for Memory Management  (https://pytorch.org/docs/stable/notes/cuda.html#environment-variables)\n"
     ]
    },
    {
     "name": "stderr",
     "output_type": "stream",
     "text": [
      "Epoch 4/4 [Train]:  72%|███████▏  | 93/129 [00:33<00:13,  2.76batch/s]"
     ]
    },
    {
     "name": "stdout",
     "output_type": "stream",
     "text": [
      "\n",
      "Error in training batch: CUDA out of memory. Tried to allocate 188.00 MiB. GPU 0 has a total capacity of 5.77 GiB of which 84.31 MiB is free. Including non-PyTorch memory, this process has 5.67 GiB memory in use. Of the allocated memory 4.07 GiB is allocated by PyTorch, and 1.49 GiB is reserved by PyTorch but unallocated. If reserved but unallocated memory is large try setting PYTORCH_CUDA_ALLOC_CONF=expandable_segments:True to avoid fragmentation.  See documentation for Memory Management  (https://pytorch.org/docs/stable/notes/cuda.html#environment-variables)\n"
     ]
    },
    {
     "name": "stderr",
     "output_type": "stream",
     "text": [
      "Epoch 4/4 [Train]:  73%|███████▎  | 94/129 [00:33<00:12,  2.77batch/s]"
     ]
    },
    {
     "name": "stdout",
     "output_type": "stream",
     "text": [
      "\n",
      "Error in training batch: CUDA out of memory. Tried to allocate 188.00 MiB. GPU 0 has a total capacity of 5.77 GiB of which 84.31 MiB is free. Including non-PyTorch memory, this process has 5.67 GiB memory in use. Of the allocated memory 4.07 GiB is allocated by PyTorch, and 1.49 GiB is reserved by PyTorch but unallocated. If reserved but unallocated memory is large try setting PYTORCH_CUDA_ALLOC_CONF=expandable_segments:True to avoid fragmentation.  See documentation for Memory Management  (https://pytorch.org/docs/stable/notes/cuda.html#environment-variables)\n"
     ]
    },
    {
     "name": "stderr",
     "output_type": "stream",
     "text": [
      "Epoch 4/4 [Train]:  74%|███████▎  | 95/129 [00:33<00:12,  2.79batch/s]"
     ]
    },
    {
     "name": "stdout",
     "output_type": "stream",
     "text": [
      "\n",
      "Error in training batch: CUDA out of memory. Tried to allocate 188.00 MiB. GPU 0 has a total capacity of 5.77 GiB of which 84.31 MiB is free. Including non-PyTorch memory, this process has 5.67 GiB memory in use. Of the allocated memory 4.07 GiB is allocated by PyTorch, and 1.49 GiB is reserved by PyTorch but unallocated. If reserved but unallocated memory is large try setting PYTORCH_CUDA_ALLOC_CONF=expandable_segments:True to avoid fragmentation.  See documentation for Memory Management  (https://pytorch.org/docs/stable/notes/cuda.html#environment-variables)\n"
     ]
    },
    {
     "name": "stderr",
     "output_type": "stream",
     "text": [
      "Epoch 4/4 [Train]:  74%|███████▍  | 96/129 [00:34<00:11,  2.81batch/s]"
     ]
    },
    {
     "name": "stdout",
     "output_type": "stream",
     "text": [
      "\n",
      "Error in training batch: CUDA out of memory. Tried to allocate 188.00 MiB. GPU 0 has a total capacity of 5.77 GiB of which 84.31 MiB is free. Including non-PyTorch memory, this process has 5.67 GiB memory in use. Of the allocated memory 4.07 GiB is allocated by PyTorch, and 1.49 GiB is reserved by PyTorch but unallocated. If reserved but unallocated memory is large try setting PYTORCH_CUDA_ALLOC_CONF=expandable_segments:True to avoid fragmentation.  See documentation for Memory Management  (https://pytorch.org/docs/stable/notes/cuda.html#environment-variables)\n"
     ]
    },
    {
     "name": "stderr",
     "output_type": "stream",
     "text": [
      "Epoch 4/4 [Train]:  75%|███████▌  | 97/129 [00:34<00:11,  2.77batch/s]"
     ]
    },
    {
     "name": "stdout",
     "output_type": "stream",
     "text": [
      "\n",
      "Error in training batch: CUDA out of memory. Tried to allocate 188.00 MiB. GPU 0 has a total capacity of 5.77 GiB of which 84.31 MiB is free. Including non-PyTorch memory, this process has 5.67 GiB memory in use. Of the allocated memory 4.07 GiB is allocated by PyTorch, and 1.49 GiB is reserved by PyTorch but unallocated. If reserved but unallocated memory is large try setting PYTORCH_CUDA_ALLOC_CONF=expandable_segments:True to avoid fragmentation.  See documentation for Memory Management  (https://pytorch.org/docs/stable/notes/cuda.html#environment-variables)\n"
     ]
    },
    {
     "name": "stderr",
     "output_type": "stream",
     "text": [
      "Epoch 4/4 [Train]:  76%|███████▌  | 98/129 [00:35<00:11,  2.77batch/s]"
     ]
    },
    {
     "name": "stdout",
     "output_type": "stream",
     "text": [
      "\n",
      "Error in training batch: CUDA out of memory. Tried to allocate 188.00 MiB. GPU 0 has a total capacity of 5.77 GiB of which 84.31 MiB is free. Including non-PyTorch memory, this process has 5.67 GiB memory in use. Of the allocated memory 4.07 GiB is allocated by PyTorch, and 1.49 GiB is reserved by PyTorch but unallocated. If reserved but unallocated memory is large try setting PYTORCH_CUDA_ALLOC_CONF=expandable_segments:True to avoid fragmentation.  See documentation for Memory Management  (https://pytorch.org/docs/stable/notes/cuda.html#environment-variables)\n"
     ]
    },
    {
     "name": "stderr",
     "output_type": "stream",
     "text": [
      "Epoch 4/4 [Train]:  77%|███████▋  | 99/129 [00:35<00:10,  2.82batch/s]"
     ]
    },
    {
     "name": "stdout",
     "output_type": "stream",
     "text": [
      "\n",
      "Error in training batch: CUDA out of memory. Tried to allocate 188.00 MiB. GPU 0 has a total capacity of 5.77 GiB of which 84.31 MiB is free. Including non-PyTorch memory, this process has 5.67 GiB memory in use. Of the allocated memory 4.07 GiB is allocated by PyTorch, and 1.49 GiB is reserved by PyTorch but unallocated. If reserved but unallocated memory is large try setting PYTORCH_CUDA_ALLOC_CONF=expandable_segments:True to avoid fragmentation.  See documentation for Memory Management  (https://pytorch.org/docs/stable/notes/cuda.html#environment-variables)\n"
     ]
    },
    {
     "name": "stderr",
     "output_type": "stream",
     "text": [
      "Epoch 4/4 [Train]:  78%|███████▊  | 100/129 [00:35<00:10,  2.80batch/s]"
     ]
    },
    {
     "name": "stdout",
     "output_type": "stream",
     "text": [
      "\n",
      "Error in training batch: CUDA out of memory. Tried to allocate 188.00 MiB. GPU 0 has a total capacity of 5.77 GiB of which 84.31 MiB is free. Including non-PyTorch memory, this process has 5.67 GiB memory in use. Of the allocated memory 4.07 GiB is allocated by PyTorch, and 1.49 GiB is reserved by PyTorch but unallocated. If reserved but unallocated memory is large try setting PYTORCH_CUDA_ALLOC_CONF=expandable_segments:True to avoid fragmentation.  See documentation for Memory Management  (https://pytorch.org/docs/stable/notes/cuda.html#environment-variables)\n"
     ]
    },
    {
     "name": "stderr",
     "output_type": "stream",
     "text": [
      "Epoch 4/4 [Train]:  78%|███████▊  | 101/129 [00:36<00:10,  2.77batch/s]"
     ]
    },
    {
     "name": "stdout",
     "output_type": "stream",
     "text": [
      "\n",
      "Error in training batch: CUDA out of memory. Tried to allocate 188.00 MiB. GPU 0 has a total capacity of 5.77 GiB of which 84.31 MiB is free. Including non-PyTorch memory, this process has 5.67 GiB memory in use. Of the allocated memory 4.07 GiB is allocated by PyTorch, and 1.49 GiB is reserved by PyTorch but unallocated. If reserved but unallocated memory is large try setting PYTORCH_CUDA_ALLOC_CONF=expandable_segments:True to avoid fragmentation.  See documentation for Memory Management  (https://pytorch.org/docs/stable/notes/cuda.html#environment-variables)\n"
     ]
    },
    {
     "name": "stderr",
     "output_type": "stream",
     "text": [
      "Epoch 4/4 [Train]:  79%|███████▉  | 102/129 [00:36<00:09,  2.78batch/s]"
     ]
    },
    {
     "name": "stdout",
     "output_type": "stream",
     "text": [
      "\n",
      "Error in training batch: CUDA out of memory. Tried to allocate 188.00 MiB. GPU 0 has a total capacity of 5.77 GiB of which 84.31 MiB is free. Including non-PyTorch memory, this process has 5.67 GiB memory in use. Of the allocated memory 4.07 GiB is allocated by PyTorch, and 1.49 GiB is reserved by PyTorch but unallocated. If reserved but unallocated memory is large try setting PYTORCH_CUDA_ALLOC_CONF=expandable_segments:True to avoid fragmentation.  See documentation for Memory Management  (https://pytorch.org/docs/stable/notes/cuda.html#environment-variables)\n"
     ]
    },
    {
     "name": "stderr",
     "output_type": "stream",
     "text": [
      "Epoch 4/4 [Train]:  80%|███████▉  | 103/129 [00:36<00:09,  2.78batch/s]"
     ]
    },
    {
     "name": "stdout",
     "output_type": "stream",
     "text": [
      "\n",
      "Error in training batch: CUDA out of memory. Tried to allocate 188.00 MiB. GPU 0 has a total capacity of 5.77 GiB of which 84.31 MiB is free. Including non-PyTorch memory, this process has 5.67 GiB memory in use. Of the allocated memory 4.07 GiB is allocated by PyTorch, and 1.49 GiB is reserved by PyTorch but unallocated. If reserved but unallocated memory is large try setting PYTORCH_CUDA_ALLOC_CONF=expandable_segments:True to avoid fragmentation.  See documentation for Memory Management  (https://pytorch.org/docs/stable/notes/cuda.html#environment-variables)\n"
     ]
    },
    {
     "name": "stderr",
     "output_type": "stream",
     "text": [
      "Epoch 4/4 [Train]:  81%|████████  | 104/129 [00:37<00:08,  2.80batch/s]"
     ]
    },
    {
     "name": "stdout",
     "output_type": "stream",
     "text": [
      "\n",
      "Error in training batch: CUDA out of memory. Tried to allocate 188.00 MiB. GPU 0 has a total capacity of 5.77 GiB of which 84.31 MiB is free. Including non-PyTorch memory, this process has 5.67 GiB memory in use. Of the allocated memory 4.07 GiB is allocated by PyTorch, and 1.49 GiB is reserved by PyTorch but unallocated. If reserved but unallocated memory is large try setting PYTORCH_CUDA_ALLOC_CONF=expandable_segments:True to avoid fragmentation.  See documentation for Memory Management  (https://pytorch.org/docs/stable/notes/cuda.html#environment-variables)\n"
     ]
    },
    {
     "name": "stderr",
     "output_type": "stream",
     "text": [
      "Epoch 4/4 [Train]:  81%|████████▏ | 105/129 [00:37<00:08,  2.79batch/s]"
     ]
    },
    {
     "name": "stdout",
     "output_type": "stream",
     "text": [
      "\n",
      "Error in training batch: CUDA out of memory. Tried to allocate 188.00 MiB. GPU 0 has a total capacity of 5.77 GiB of which 84.31 MiB is free. Including non-PyTorch memory, this process has 5.67 GiB memory in use. Of the allocated memory 4.07 GiB is allocated by PyTorch, and 1.49 GiB is reserved by PyTorch but unallocated. If reserved but unallocated memory is large try setting PYTORCH_CUDA_ALLOC_CONF=expandable_segments:True to avoid fragmentation.  See documentation for Memory Management  (https://pytorch.org/docs/stable/notes/cuda.html#environment-variables)\n"
     ]
    },
    {
     "name": "stderr",
     "output_type": "stream",
     "text": [
      "Epoch 4/4 [Train]:  82%|████████▏ | 106/129 [00:37<00:08,  2.81batch/s]"
     ]
    },
    {
     "name": "stdout",
     "output_type": "stream",
     "text": [
      "\n",
      "Error in training batch: CUDA out of memory. Tried to allocate 188.00 MiB. GPU 0 has a total capacity of 5.77 GiB of which 84.31 MiB is free. Including non-PyTorch memory, this process has 5.67 GiB memory in use. Of the allocated memory 4.07 GiB is allocated by PyTorch, and 1.49 GiB is reserved by PyTorch but unallocated. If reserved but unallocated memory is large try setting PYTORCH_CUDA_ALLOC_CONF=expandable_segments:True to avoid fragmentation.  See documentation for Memory Management  (https://pytorch.org/docs/stable/notes/cuda.html#environment-variables)\n"
     ]
    },
    {
     "name": "stderr",
     "output_type": "stream",
     "text": [
      "Epoch 4/4 [Train]:  83%|████████▎ | 107/129 [00:38<00:07,  2.80batch/s]"
     ]
    },
    {
     "name": "stdout",
     "output_type": "stream",
     "text": [
      "\n",
      "Error in training batch: CUDA out of memory. Tried to allocate 188.00 MiB. GPU 0 has a total capacity of 5.77 GiB of which 84.31 MiB is free. Including non-PyTorch memory, this process has 5.67 GiB memory in use. Of the allocated memory 4.07 GiB is allocated by PyTorch, and 1.49 GiB is reserved by PyTorch but unallocated. If reserved but unallocated memory is large try setting PYTORCH_CUDA_ALLOC_CONF=expandable_segments:True to avoid fragmentation.  See documentation for Memory Management  (https://pytorch.org/docs/stable/notes/cuda.html#environment-variables)\n"
     ]
    },
    {
     "name": "stderr",
     "output_type": "stream",
     "text": [
      "Epoch 4/4 [Train]:  84%|████████▎ | 108/129 [00:38<00:07,  2.81batch/s]"
     ]
    },
    {
     "name": "stdout",
     "output_type": "stream",
     "text": [
      "\n",
      "Error in training batch: CUDA out of memory. Tried to allocate 188.00 MiB. GPU 0 has a total capacity of 5.77 GiB of which 84.31 MiB is free. Including non-PyTorch memory, this process has 5.67 GiB memory in use. Of the allocated memory 4.07 GiB is allocated by PyTorch, and 1.49 GiB is reserved by PyTorch but unallocated. If reserved but unallocated memory is large try setting PYTORCH_CUDA_ALLOC_CONF=expandable_segments:True to avoid fragmentation.  See documentation for Memory Management  (https://pytorch.org/docs/stable/notes/cuda.html#environment-variables)\n"
     ]
    },
    {
     "name": "stderr",
     "output_type": "stream",
     "text": [
      "Epoch 4/4 [Train]:  84%|████████▍ | 109/129 [00:38<00:07,  2.80batch/s]"
     ]
    },
    {
     "name": "stdout",
     "output_type": "stream",
     "text": [
      "\n",
      "Error in training batch: CUDA out of memory. Tried to allocate 188.00 MiB. GPU 0 has a total capacity of 5.77 GiB of which 84.31 MiB is free. Including non-PyTorch memory, this process has 5.67 GiB memory in use. Of the allocated memory 4.07 GiB is allocated by PyTorch, and 1.49 GiB is reserved by PyTorch but unallocated. If reserved but unallocated memory is large try setting PYTORCH_CUDA_ALLOC_CONF=expandable_segments:True to avoid fragmentation.  See documentation for Memory Management  (https://pytorch.org/docs/stable/notes/cuda.html#environment-variables)\n"
     ]
    },
    {
     "name": "stderr",
     "output_type": "stream",
     "text": [
      "Epoch 4/4 [Train]:  85%|████████▌ | 110/129 [00:39<00:06,  2.79batch/s]"
     ]
    },
    {
     "name": "stdout",
     "output_type": "stream",
     "text": [
      "\n",
      "Error in training batch: CUDA out of memory. Tried to allocate 188.00 MiB. GPU 0 has a total capacity of 5.77 GiB of which 84.31 MiB is free. Including non-PyTorch memory, this process has 5.67 GiB memory in use. Of the allocated memory 4.07 GiB is allocated by PyTorch, and 1.49 GiB is reserved by PyTorch but unallocated. If reserved but unallocated memory is large try setting PYTORCH_CUDA_ALLOC_CONF=expandable_segments:True to avoid fragmentation.  See documentation for Memory Management  (https://pytorch.org/docs/stable/notes/cuda.html#environment-variables)\n"
     ]
    },
    {
     "name": "stderr",
     "output_type": "stream",
     "text": [
      "Epoch 4/4 [Train]:  86%|████████▌ | 111/129 [00:39<00:06,  2.79batch/s]"
     ]
    },
    {
     "name": "stdout",
     "output_type": "stream",
     "text": [
      "\n",
      "Error in training batch: CUDA out of memory. Tried to allocate 188.00 MiB. GPU 0 has a total capacity of 5.77 GiB of which 84.31 MiB is free. Including non-PyTorch memory, this process has 5.67 GiB memory in use. Of the allocated memory 4.07 GiB is allocated by PyTorch, and 1.49 GiB is reserved by PyTorch but unallocated. If reserved but unallocated memory is large try setting PYTORCH_CUDA_ALLOC_CONF=expandable_segments:True to avoid fragmentation.  See documentation for Memory Management  (https://pytorch.org/docs/stable/notes/cuda.html#environment-variables)\n"
     ]
    },
    {
     "name": "stderr",
     "output_type": "stream",
     "text": [
      "Epoch 4/4 [Train]:  87%|████████▋ | 112/129 [00:40<00:06,  2.76batch/s]"
     ]
    },
    {
     "name": "stdout",
     "output_type": "stream",
     "text": [
      "\n",
      "Error in training batch: CUDA out of memory. Tried to allocate 188.00 MiB. GPU 0 has a total capacity of 5.77 GiB of which 84.31 MiB is free. Including non-PyTorch memory, this process has 5.67 GiB memory in use. Of the allocated memory 4.07 GiB is allocated by PyTorch, and 1.49 GiB is reserved by PyTorch but unallocated. If reserved but unallocated memory is large try setting PYTORCH_CUDA_ALLOC_CONF=expandable_segments:True to avoid fragmentation.  See documentation for Memory Management  (https://pytorch.org/docs/stable/notes/cuda.html#environment-variables)\n"
     ]
    },
    {
     "name": "stderr",
     "output_type": "stream",
     "text": [
      "Epoch 4/4 [Train]:  88%|████████▊ | 113/129 [00:40<00:05,  2.77batch/s]"
     ]
    },
    {
     "name": "stdout",
     "output_type": "stream",
     "text": [
      "\n",
      "Error in training batch: CUDA out of memory. Tried to allocate 188.00 MiB. GPU 0 has a total capacity of 5.77 GiB of which 84.31 MiB is free. Including non-PyTorch memory, this process has 5.67 GiB memory in use. Of the allocated memory 4.07 GiB is allocated by PyTorch, and 1.49 GiB is reserved by PyTorch but unallocated. If reserved but unallocated memory is large try setting PYTORCH_CUDA_ALLOC_CONF=expandable_segments:True to avoid fragmentation.  See documentation for Memory Management  (https://pytorch.org/docs/stable/notes/cuda.html#environment-variables)\n"
     ]
    },
    {
     "name": "stderr",
     "output_type": "stream",
     "text": [
      "Epoch 4/4 [Train]:  88%|████████▊ | 114/129 [00:40<00:05,  2.77batch/s]"
     ]
    },
    {
     "name": "stdout",
     "output_type": "stream",
     "text": [
      "\n",
      "Error in training batch: CUDA out of memory. Tried to allocate 188.00 MiB. GPU 0 has a total capacity of 5.77 GiB of which 84.31 MiB is free. Including non-PyTorch memory, this process has 5.67 GiB memory in use. Of the allocated memory 4.07 GiB is allocated by PyTorch, and 1.49 GiB is reserved by PyTorch but unallocated. If reserved but unallocated memory is large try setting PYTORCH_CUDA_ALLOC_CONF=expandable_segments:True to avoid fragmentation.  See documentation for Memory Management  (https://pytorch.org/docs/stable/notes/cuda.html#environment-variables)\n"
     ]
    },
    {
     "name": "stderr",
     "output_type": "stream",
     "text": [
      "Epoch 4/4 [Train]:  89%|████████▉ | 115/129 [00:41<00:05,  2.77batch/s]"
     ]
    },
    {
     "name": "stdout",
     "output_type": "stream",
     "text": [
      "\n",
      "Error in training batch: CUDA out of memory. Tried to allocate 188.00 MiB. GPU 0 has a total capacity of 5.77 GiB of which 84.31 MiB is free. Including non-PyTorch memory, this process has 5.67 GiB memory in use. Of the allocated memory 4.07 GiB is allocated by PyTorch, and 1.49 GiB is reserved by PyTorch but unallocated. If reserved but unallocated memory is large try setting PYTORCH_CUDA_ALLOC_CONF=expandable_segments:True to avoid fragmentation.  See documentation for Memory Management  (https://pytorch.org/docs/stable/notes/cuda.html#environment-variables)\n"
     ]
    },
    {
     "name": "stderr",
     "output_type": "stream",
     "text": [
      "Epoch 4/4 [Train]:  90%|████████▉ | 116/129 [00:41<00:04,  2.76batch/s]"
     ]
    },
    {
     "name": "stdout",
     "output_type": "stream",
     "text": [
      "\n",
      "Error in training batch: CUDA out of memory. Tried to allocate 188.00 MiB. GPU 0 has a total capacity of 5.77 GiB of which 84.31 MiB is free. Including non-PyTorch memory, this process has 5.67 GiB memory in use. Of the allocated memory 4.07 GiB is allocated by PyTorch, and 1.49 GiB is reserved by PyTorch but unallocated. If reserved but unallocated memory is large try setting PYTORCH_CUDA_ALLOC_CONF=expandable_segments:True to avoid fragmentation.  See documentation for Memory Management  (https://pytorch.org/docs/stable/notes/cuda.html#environment-variables)\n"
     ]
    },
    {
     "name": "stderr",
     "output_type": "stream",
     "text": [
      "Epoch 4/4 [Train]:  91%|█████████ | 117/129 [00:41<00:04,  2.77batch/s]"
     ]
    },
    {
     "name": "stdout",
     "output_type": "stream",
     "text": [
      "\n",
      "Error in training batch: CUDA out of memory. Tried to allocate 188.00 MiB. GPU 0 has a total capacity of 5.77 GiB of which 84.31 MiB is free. Including non-PyTorch memory, this process has 5.67 GiB memory in use. Of the allocated memory 4.07 GiB is allocated by PyTorch, and 1.49 GiB is reserved by PyTorch but unallocated. If reserved but unallocated memory is large try setting PYTORCH_CUDA_ALLOC_CONF=expandable_segments:True to avoid fragmentation.  See documentation for Memory Management  (https://pytorch.org/docs/stable/notes/cuda.html#environment-variables)\n"
     ]
    },
    {
     "name": "stderr",
     "output_type": "stream",
     "text": [
      "Epoch 4/4 [Train]:  91%|█████████▏| 118/129 [00:42<00:03,  2.76batch/s]"
     ]
    },
    {
     "name": "stdout",
     "output_type": "stream",
     "text": [
      "\n",
      "Error in training batch: CUDA out of memory. Tried to allocate 188.00 MiB. GPU 0 has a total capacity of 5.77 GiB of which 84.31 MiB is free. Including non-PyTorch memory, this process has 5.67 GiB memory in use. Of the allocated memory 4.07 GiB is allocated by PyTorch, and 1.49 GiB is reserved by PyTorch but unallocated. If reserved but unallocated memory is large try setting PYTORCH_CUDA_ALLOC_CONF=expandable_segments:True to avoid fragmentation.  See documentation for Memory Management  (https://pytorch.org/docs/stable/notes/cuda.html#environment-variables)\n"
     ]
    },
    {
     "name": "stderr",
     "output_type": "stream",
     "text": [
      "Epoch 4/4 [Train]:  92%|█████████▏| 119/129 [00:42<00:03,  2.79batch/s]"
     ]
    },
    {
     "name": "stdout",
     "output_type": "stream",
     "text": [
      "\n",
      "Error in training batch: CUDA out of memory. Tried to allocate 188.00 MiB. GPU 0 has a total capacity of 5.77 GiB of which 84.31 MiB is free. Including non-PyTorch memory, this process has 5.67 GiB memory in use. Of the allocated memory 4.07 GiB is allocated by PyTorch, and 1.49 GiB is reserved by PyTorch but unallocated. If reserved but unallocated memory is large try setting PYTORCH_CUDA_ALLOC_CONF=expandable_segments:True to avoid fragmentation.  See documentation for Memory Management  (https://pytorch.org/docs/stable/notes/cuda.html#environment-variables)\n"
     ]
    },
    {
     "name": "stderr",
     "output_type": "stream",
     "text": [
      "Epoch 4/4 [Train]:  93%|█████████▎| 120/129 [00:42<00:03,  2.80batch/s]"
     ]
    },
    {
     "name": "stdout",
     "output_type": "stream",
     "text": [
      "\n",
      "Error in training batch: CUDA out of memory. Tried to allocate 188.00 MiB. GPU 0 has a total capacity of 5.77 GiB of which 84.31 MiB is free. Including non-PyTorch memory, this process has 5.67 GiB memory in use. Of the allocated memory 4.07 GiB is allocated by PyTorch, and 1.49 GiB is reserved by PyTorch but unallocated. If reserved but unallocated memory is large try setting PYTORCH_CUDA_ALLOC_CONF=expandable_segments:True to avoid fragmentation.  See documentation for Memory Management  (https://pytorch.org/docs/stable/notes/cuda.html#environment-variables)\n"
     ]
    },
    {
     "name": "stderr",
     "output_type": "stream",
     "text": [
      "Epoch 4/4 [Train]:  94%|█████████▍| 121/129 [00:43<00:02,  2.79batch/s]"
     ]
    },
    {
     "name": "stdout",
     "output_type": "stream",
     "text": [
      "\n",
      "Error in training batch: CUDA out of memory. Tried to allocate 188.00 MiB. GPU 0 has a total capacity of 5.77 GiB of which 84.31 MiB is free. Including non-PyTorch memory, this process has 5.67 GiB memory in use. Of the allocated memory 4.07 GiB is allocated by PyTorch, and 1.49 GiB is reserved by PyTorch but unallocated. If reserved but unallocated memory is large try setting PYTORCH_CUDA_ALLOC_CONF=expandable_segments:True to avoid fragmentation.  See documentation for Memory Management  (https://pytorch.org/docs/stable/notes/cuda.html#environment-variables)\n"
     ]
    },
    {
     "name": "stderr",
     "output_type": "stream",
     "text": [
      "Epoch 4/4 [Train]:  95%|█████████▍| 122/129 [00:43<00:02,  2.79batch/s]"
     ]
    },
    {
     "name": "stdout",
     "output_type": "stream",
     "text": [
      "\n",
      "Error in training batch: CUDA out of memory. Tried to allocate 188.00 MiB. GPU 0 has a total capacity of 5.77 GiB of which 84.31 MiB is free. Including non-PyTorch memory, this process has 5.67 GiB memory in use. Of the allocated memory 4.07 GiB is allocated by PyTorch, and 1.49 GiB is reserved by PyTorch but unallocated. If reserved but unallocated memory is large try setting PYTORCH_CUDA_ALLOC_CONF=expandable_segments:True to avoid fragmentation.  See documentation for Memory Management  (https://pytorch.org/docs/stable/notes/cuda.html#environment-variables)\n"
     ]
    },
    {
     "name": "stderr",
     "output_type": "stream",
     "text": [
      "Epoch 4/4 [Train]:  95%|█████████▌| 123/129 [00:43<00:02,  2.77batch/s]"
     ]
    },
    {
     "name": "stdout",
     "output_type": "stream",
     "text": [
      "\n",
      "Error in training batch: CUDA out of memory. Tried to allocate 188.00 MiB. GPU 0 has a total capacity of 5.77 GiB of which 84.31 MiB is free. Including non-PyTorch memory, this process has 5.67 GiB memory in use. Of the allocated memory 4.07 GiB is allocated by PyTorch, and 1.49 GiB is reserved by PyTorch but unallocated. If reserved but unallocated memory is large try setting PYTORCH_CUDA_ALLOC_CONF=expandable_segments:True to avoid fragmentation.  See documentation for Memory Management  (https://pytorch.org/docs/stable/notes/cuda.html#environment-variables)\n"
     ]
    },
    {
     "name": "stderr",
     "output_type": "stream",
     "text": [
      "Epoch 4/4 [Train]:  96%|█████████▌| 124/129 [00:44<00:01,  2.76batch/s]"
     ]
    },
    {
     "name": "stdout",
     "output_type": "stream",
     "text": [
      "\n",
      "Error in training batch: CUDA out of memory. Tried to allocate 188.00 MiB. GPU 0 has a total capacity of 5.77 GiB of which 84.31 MiB is free. Including non-PyTorch memory, this process has 5.67 GiB memory in use. Of the allocated memory 4.07 GiB is allocated by PyTorch, and 1.49 GiB is reserved by PyTorch but unallocated. If reserved but unallocated memory is large try setting PYTORCH_CUDA_ALLOC_CONF=expandable_segments:True to avoid fragmentation.  See documentation for Memory Management  (https://pytorch.org/docs/stable/notes/cuda.html#environment-variables)\n"
     ]
    },
    {
     "name": "stderr",
     "output_type": "stream",
     "text": [
      "Epoch 4/4 [Train]:  97%|█████████▋| 125/129 [00:44<00:01,  2.80batch/s]"
     ]
    },
    {
     "name": "stdout",
     "output_type": "stream",
     "text": [
      "\n",
      "Error in training batch: CUDA out of memory. Tried to allocate 188.00 MiB. GPU 0 has a total capacity of 5.77 GiB of which 84.31 MiB is free. Including non-PyTorch memory, this process has 5.67 GiB memory in use. Of the allocated memory 4.07 GiB is allocated by PyTorch, and 1.49 GiB is reserved by PyTorch but unallocated. If reserved but unallocated memory is large try setting PYTORCH_CUDA_ALLOC_CONF=expandable_segments:True to avoid fragmentation.  See documentation for Memory Management  (https://pytorch.org/docs/stable/notes/cuda.html#environment-variables)\n"
     ]
    },
    {
     "name": "stderr",
     "output_type": "stream",
     "text": [
      "Epoch 4/4 [Train]:  98%|█████████▊| 126/129 [00:45<00:01,  2.81batch/s]"
     ]
    },
    {
     "name": "stdout",
     "output_type": "stream",
     "text": [
      "\n",
      "Error in training batch: CUDA out of memory. Tried to allocate 188.00 MiB. GPU 0 has a total capacity of 5.77 GiB of which 84.31 MiB is free. Including non-PyTorch memory, this process has 5.67 GiB memory in use. Of the allocated memory 4.07 GiB is allocated by PyTorch, and 1.49 GiB is reserved by PyTorch but unallocated. If reserved but unallocated memory is large try setting PYTORCH_CUDA_ALLOC_CONF=expandable_segments:True to avoid fragmentation.  See documentation for Memory Management  (https://pytorch.org/docs/stable/notes/cuda.html#environment-variables)\n"
     ]
    },
    {
     "name": "stderr",
     "output_type": "stream",
     "text": [
      "Epoch 4/4 [Train]:  98%|█████████▊| 127/129 [00:45<00:00,  2.76batch/s]"
     ]
    },
    {
     "name": "stdout",
     "output_type": "stream",
     "text": [
      "\n",
      "Error in training batch: CUDA out of memory. Tried to allocate 188.00 MiB. GPU 0 has a total capacity of 5.77 GiB of which 84.31 MiB is free. Including non-PyTorch memory, this process has 5.67 GiB memory in use. Of the allocated memory 4.07 GiB is allocated by PyTorch, and 1.49 GiB is reserved by PyTorch but unallocated. If reserved but unallocated memory is large try setting PYTORCH_CUDA_ALLOC_CONF=expandable_segments:True to avoid fragmentation.  See documentation for Memory Management  (https://pytorch.org/docs/stable/notes/cuda.html#environment-variables)\n"
     ]
    },
    {
     "name": "stderr",
     "output_type": "stream",
     "text": [
      "Epoch 4/4 [Train]:  99%|█████████▉| 128/129 [00:45<00:00,  2.78batch/s]"
     ]
    },
    {
     "name": "stdout",
     "output_type": "stream",
     "text": [
      "\n",
      "Error in training batch: CUDA out of memory. Tried to allocate 188.00 MiB. GPU 0 has a total capacity of 5.77 GiB of which 84.31 MiB is free. Including non-PyTorch memory, this process has 5.67 GiB memory in use. Of the allocated memory 4.07 GiB is allocated by PyTorch, and 1.49 GiB is reserved by PyTorch but unallocated. If reserved but unallocated memory is large try setting PYTORCH_CUDA_ALLOC_CONF=expandable_segments:True to avoid fragmentation.  See documentation for Memory Management  (https://pytorch.org/docs/stable/notes/cuda.html#environment-variables)\n"
     ]
    },
    {
     "name": "stderr",
     "output_type": "stream",
     "text": [
      "Epoch 4/4 [Train]: 100%|██████████| 129/129 [00:46<00:00,  2.80batch/s, loss=1.8785]\n"
     ]
    },
    {
     "name": "stdout",
     "output_type": "stream",
     "text": [
      "Epoch 4/4 [Train] Completed - Train Loss: 0.9943 | Train Accuracy: 0.6061\n"
     ]
    },
    {
     "name": "stderr",
     "output_type": "stream",
     "text": [
      "Epoch 4/4 [Validation]: 100%|██████████| 32/32 [00:03<00:00,  8.77batch/s, loss=1.3208]\n"
     ]
    },
    {
     "name": "stdout",
     "output_type": "stream",
     "text": [
      "Epoch 4/4 [Validation] Completed - Validation Loss: 0.9787 | Validation Accuracy: 0.6074\n",
      "\n",
      "Best Validation Accuracy for Fold 5: 0.6074\n",
      "\n",
      "===== Training Complete =====\n",
      "Successfully trained 5/5 folds.\n"
     ]
    },
    {
     "ename": "TypeError",
     "evalue": "can't convert cuda:0 device type tensor to numpy. Use Tensor.cpu() to copy the tensor to host memory first.",
     "output_type": "error",
     "traceback": [
      "\u001b[0;31m---------------------------------------------------------------------------\u001b[0m",
      "\u001b[0;31mTypeError\u001b[0m                                 Traceback (most recent call last)",
      "Cell \u001b[0;32mIn[8], line 136\u001b[0m\n\u001b[1;32m    134\u001b[0m \u001b[38;5;28;01mif\u001b[39;00m best_fold_accuracies:\n\u001b[1;32m    135\u001b[0m     \u001b[38;5;28mprint\u001b[39m(\u001b[38;5;124mf\u001b[39m\u001b[38;5;124m\"\u001b[39m\u001b[38;5;124mSuccessfully trained \u001b[39m\u001b[38;5;132;01m{\u001b[39;00m\u001b[38;5;28mlen\u001b[39m(best_fold_accuracies)\u001b[38;5;132;01m}\u001b[39;00m\u001b[38;5;124m/\u001b[39m\u001b[38;5;132;01m{\u001b[39;00mN_SPLITS\u001b[38;5;132;01m}\u001b[39;00m\u001b[38;5;124m folds.\u001b[39m\u001b[38;5;124m\"\u001b[39m)\n\u001b[0;32m--> 136\u001b[0m     \u001b[38;5;28mprint\u001b[39m(\u001b[38;5;124mf\u001b[39m\u001b[38;5;124m\"\u001b[39m\u001b[38;5;124mAverage Best Validation Accuracy across successful folds: \u001b[39m\u001b[38;5;132;01m{\u001b[39;00m\u001b[43mnp\u001b[49m\u001b[38;5;241;43m.\u001b[39;49m\u001b[43mmean\u001b[49m\u001b[43m(\u001b[49m\u001b[43mbest_fold_accuracies\u001b[49m\u001b[43m)\u001b[49m\u001b[38;5;132;01m:\u001b[39;00m\u001b[38;5;124m.4f\u001b[39m\u001b[38;5;132;01m}\u001b[39;00m\u001b[38;5;124m\"\u001b[39m)\n\u001b[1;32m    137\u001b[0m     \u001b[38;5;28;01mif\u001b[39;00m failed_folds:\n\u001b[1;32m    138\u001b[0m          \u001b[38;5;28mprint\u001b[39m(\u001b[38;5;124mf\u001b[39m\u001b[38;5;124m\"\u001b[39m\u001b[38;5;124mFailed folds: \u001b[39m\u001b[38;5;132;01m{\u001b[39;00m\u001b[38;5;28msorted\u001b[39m(\u001b[38;5;28mlist\u001b[39m(\u001b[38;5;28mset\u001b[39m(failed_folds)))\u001b[38;5;132;01m}\u001b[39;00m\u001b[38;5;124m\"\u001b[39m) \u001b[38;5;66;03m# In ra các fold bị lỗi (loại bỏ trùng lặp)\u001b[39;00m\n",
      "File \u001b[0;32m~/.local/lib/python3.10/site-packages/numpy/core/fromnumeric.py:3504\u001b[0m, in \u001b[0;36mmean\u001b[0;34m(a, axis, dtype, out, keepdims, where)\u001b[0m\n\u001b[1;32m   3501\u001b[0m     \u001b[38;5;28;01melse\u001b[39;00m:\n\u001b[1;32m   3502\u001b[0m         \u001b[38;5;28;01mreturn\u001b[39;00m mean(axis\u001b[38;5;241m=\u001b[39maxis, dtype\u001b[38;5;241m=\u001b[39mdtype, out\u001b[38;5;241m=\u001b[39mout, \u001b[38;5;241m*\u001b[39m\u001b[38;5;241m*\u001b[39mkwargs)\n\u001b[0;32m-> 3504\u001b[0m \u001b[38;5;28;01mreturn\u001b[39;00m \u001b[43m_methods\u001b[49m\u001b[38;5;241;43m.\u001b[39;49m\u001b[43m_mean\u001b[49m\u001b[43m(\u001b[49m\u001b[43ma\u001b[49m\u001b[43m,\u001b[49m\u001b[43m \u001b[49m\u001b[43maxis\u001b[49m\u001b[38;5;241;43m=\u001b[39;49m\u001b[43maxis\u001b[49m\u001b[43m,\u001b[49m\u001b[43m \u001b[49m\u001b[43mdtype\u001b[49m\u001b[38;5;241;43m=\u001b[39;49m\u001b[43mdtype\u001b[49m\u001b[43m,\u001b[49m\n\u001b[1;32m   3505\u001b[0m \u001b[43m                      \u001b[49m\u001b[43mout\u001b[49m\u001b[38;5;241;43m=\u001b[39;49m\u001b[43mout\u001b[49m\u001b[43m,\u001b[49m\u001b[43m \u001b[49m\u001b[38;5;241;43m*\u001b[39;49m\u001b[38;5;241;43m*\u001b[39;49m\u001b[43mkwargs\u001b[49m\u001b[43m)\u001b[49m\n",
      "File \u001b[0;32m~/.local/lib/python3.10/site-packages/numpy/core/_methods.py:102\u001b[0m, in \u001b[0;36m_mean\u001b[0;34m(a, axis, dtype, out, keepdims, where)\u001b[0m\n\u001b[1;32m    101\u001b[0m \u001b[38;5;28;01mdef\u001b[39;00m\u001b[38;5;250m \u001b[39m\u001b[38;5;21m_mean\u001b[39m(a, axis\u001b[38;5;241m=\u001b[39m\u001b[38;5;28;01mNone\u001b[39;00m, dtype\u001b[38;5;241m=\u001b[39m\u001b[38;5;28;01mNone\u001b[39;00m, out\u001b[38;5;241m=\u001b[39m\u001b[38;5;28;01mNone\u001b[39;00m, keepdims\u001b[38;5;241m=\u001b[39m\u001b[38;5;28;01mFalse\u001b[39;00m, \u001b[38;5;241m*\u001b[39m, where\u001b[38;5;241m=\u001b[39m\u001b[38;5;28;01mTrue\u001b[39;00m):\n\u001b[0;32m--> 102\u001b[0m     arr \u001b[38;5;241m=\u001b[39m \u001b[43masanyarray\u001b[49m\u001b[43m(\u001b[49m\u001b[43ma\u001b[49m\u001b[43m)\u001b[49m\n\u001b[1;32m    104\u001b[0m     is_float16_result \u001b[38;5;241m=\u001b[39m \u001b[38;5;28;01mFalse\u001b[39;00m\n\u001b[1;32m    106\u001b[0m     rcount \u001b[38;5;241m=\u001b[39m _count_reduce_items(arr, axis, keepdims\u001b[38;5;241m=\u001b[39mkeepdims, where\u001b[38;5;241m=\u001b[39mwhere)\n",
      "File \u001b[0;32m~/.local/lib/python3.10/site-packages/torch/_tensor.py:1194\u001b[0m, in \u001b[0;36mTensor.__array__\u001b[0;34m(self, dtype)\u001b[0m\n\u001b[1;32m   1192\u001b[0m     \u001b[38;5;28;01mreturn\u001b[39;00m handle_torch_function(Tensor\u001b[38;5;241m.\u001b[39m__array__, (\u001b[38;5;28mself\u001b[39m,), \u001b[38;5;28mself\u001b[39m, dtype\u001b[38;5;241m=\u001b[39mdtype)\n\u001b[1;32m   1193\u001b[0m \u001b[38;5;28;01mif\u001b[39;00m dtype \u001b[38;5;129;01mis\u001b[39;00m \u001b[38;5;28;01mNone\u001b[39;00m:\n\u001b[0;32m-> 1194\u001b[0m     \u001b[38;5;28;01mreturn\u001b[39;00m \u001b[38;5;28;43mself\u001b[39;49m\u001b[38;5;241;43m.\u001b[39;49m\u001b[43mnumpy\u001b[49m\u001b[43m(\u001b[49m\u001b[43m)\u001b[49m\n\u001b[1;32m   1195\u001b[0m \u001b[38;5;28;01melse\u001b[39;00m:\n\u001b[1;32m   1196\u001b[0m     \u001b[38;5;28;01mreturn\u001b[39;00m \u001b[38;5;28mself\u001b[39m\u001b[38;5;241m.\u001b[39mnumpy()\u001b[38;5;241m.\u001b[39mastype(dtype, copy\u001b[38;5;241m=\u001b[39m\u001b[38;5;28;01mFalse\u001b[39;00m)\n",
      "\u001b[0;31mTypeError\u001b[0m: can't convert cuda:0 device type tensor to numpy. Use Tensor.cpu() to copy the tensor to host memory first."
     ]
    }
   ],
   "source": [
    "# Import tqdm nếu chưa import ở cell trước\n",
    "from tqdm import tqdm\n",
    "# Instead of PyTorch's AdamW\n",
    "from torch.optim import AdamW# Use this one which has correct_bias parameter\n",
    "import traceback # Để in chi tiết lỗi nếu có\n",
    "\n",
    "def prepare_loaders(df, fold, tokenizer, max_len, batch_size):\n",
    "    \"\"\"Chia dữ liệu và tạo DataLoaders cho một fold.\"\"\"\n",
    "    df_train = df[df.kfold != fold].reset_index(drop=True)\n",
    "    df_valid = df[df.kfold == fold].reset_index(drop=True)\n",
    "    print(f\"Fold {fold+1}: Train size={len(df_train)}, Valid size={len(df_valid)}\")\n",
    "\n",
    "    if len(df_train) == 0 or len(df_valid) == 0:\n",
    "        print(f\"Warning: Empty train or validation set for fold {fold+1}. Skipping this fold.\")\n",
    "        return None, None # Trả về None nếu không có dữ liệu\n",
    "\n",
    "    train_dataset = SentimentDataset(df_train, tokenizer, max_len=max_len)\n",
    "    valid_dataset = SentimentDataset(df_valid, tokenizer, max_len=max_len)\n",
    "\n",
    "    try:\n",
    "        # Sử dụng num_workers=0 để đơn giản và ổn định hơn\n",
    "        train_loader = DataLoader(train_dataset, batch_size=batch_size, shuffle=True, num_workers=0, pin_memory=True, collate_fn=collate_fn)\n",
    "        valid_loader = DataLoader(valid_dataset, batch_size=batch_size, shuffle=False, num_workers=0, pin_memory=True, collate_fn=collate_fn)\n",
    "        # Kiểm tra nhanh xem DataLoader có rỗng không (mặc dù collate_fn đã xử lý None items)\n",
    "        if len(train_loader) == 0 or len(valid_loader) == 0:\n",
    "             print(f\"Warning: DataLoader is empty for fold {fold+1} after creation. Skipping.\")\n",
    "             return None, None\n",
    "        return train_loader, valid_loader\n",
    "    except Exception as e:\n",
    "        print(f\"Error creating DataLoader for fold {fold+1}: {e}\")\n",
    "        print(traceback.format_exc()) # In chi tiết lỗi\n",
    "        return None, None\n",
    "\n",
    "\n",
    "# --- Biến lưu lịch sử và kết quả tốt nhất ---\n",
    "history = {'train_loss': [], 'train_acc': [], 'val_loss': [], 'val_acc': []}\n",
    "best_fold_accuracies = []\n",
    "failed_folds = [] # Theo dõi các fold bị lỗi\n",
    "\n",
    "if all_df is not None:\n",
    "    # --- Vòng lặp K-Fold ---\n",
    "    for fold in range(N_SPLITS):\n",
    "        print(f'\\n===== Fold: {fold+1}/{N_SPLITS} =====')\n",
    "        fold_successful = True # Cờ để đánh dấu fold này có thành công không\n",
    "        best_val_acc = 0.0 # Reset best accuracy cho fold mới\n",
    "        fold_history = {'train_loss': [], 'train_acc': [], 'val_loss': [], 'val_acc': []}\n",
    "\n",
    "        try:\n",
    "            # Chuẩn bị DataLoader cho fold hiện tại\n",
    "            train_loader, valid_loader = prepare_loaders(all_df, fold, tokenizer, MAX_LEN, BATCH_SIZE)\n",
    "\n",
    "            # Bỏ qua fold này nếu DataLoader không được tạo\n",
    "            if train_loader is None or valid_loader is None:\n",
    "                failed_folds.append(fold + 1)\n",
    "                continue # Chuyển sang fold tiếp theo\n",
    "\n",
    "            # Khởi tạo lại model, criterion, optimizer, scheduler\n",
    "            model = SentimentClassifier(n_classes=N_CLASSES).to(device)\n",
    "            criterion = nn.CrossEntropyLoss().to(device)\n",
    "            optimizer = AdamW(model.parameters(), lr=LEARNING_RATE)\n",
    "\n",
    "            # Tính tổng số bước huấn luyện (phải > 0)\n",
    "            num_training_steps = len(train_loader) * EPOCHS\n",
    "            if num_training_steps <= 0:\n",
    "                 print(f\"Warning: num_training_steps is zero or negative ({num_training_steps}) for fold {fold+1}. Skipping scheduler/training.\")\n",
    "                 failed_folds.append(fold + 1)\n",
    "                 continue\n",
    "\n",
    "            num_warmup_steps = int(0.1 * num_training_steps)\n",
    "            scheduler = get_linear_schedule_with_warmup(\n",
    "                optimizer,\n",
    "                num_warmup_steps=num_warmup_steps,\n",
    "                num_training_steps=num_training_steps\n",
    "            )\n",
    "\n",
    "            # Vòng lặp qua các Epoch\n",
    "            for epoch in range(EPOCHS):\n",
    "                print(f'\\n--- Epoch {epoch+1}/{EPOCHS} ---')\n",
    "                try:\n",
    "                    # Huấn luyện\n",
    "                    train_loss, train_acc = train_epoch(model, criterion, optimizer, scheduler, train_loader, epoch, EPOCHS, device)\n",
    "                    # Đánh giá\n",
    "                    val_loss, val_acc = eval_model(model, criterion, valid_loader, device, mode='Validation', n_epochs=EPOCHS, epoch=epoch)\n",
    "\n",
    "                    # Lưu lịch sử epoch này\n",
    "                    fold_history['train_loss'].append(train_loss)\n",
    "                    fold_history['train_acc'].append(train_acc)\n",
    "                    fold_history['val_loss'].append(val_loss)\n",
    "                    fold_history['val_acc'].append(val_acc)\n",
    "\n",
    "                    # Lưu model nếu validation accuracy tốt hơn và hợp lệ\n",
    "                    if torch.isfinite(torch.tensor(val_acc)) and val_acc > best_val_acc:\n",
    "                        print(f\"Validation accuracy improved ({best_val_acc:.4f} --> {val_acc:.4f}). Saving model...\")\n",
    "                        model_save_path = f'phobert_sentiment_fold{fold+1}.pth'\n",
    "                        try:\n",
    "                            torch.save(model.state_dict(), model_save_path)\n",
    "                            print(f\"Model saved to {model_save_path}\")\n",
    "                            best_val_acc = val_acc\n",
    "                        except Exception as e_save:\n",
    "                            print(f\"Error saving model for epoch {epoch+1}, fold {fold+1}: {e_save}\")\n",
    "                    elif not torch.isfinite(torch.tensor(val_acc)):\n",
    "                        print(f\"Warning: Invalid validation accuracy ({val_acc}) encountered in epoch {epoch+1}. Not saving model.\")\n",
    "\n",
    "                except Exception as e_epoch:\n",
    "                    print(f\"\\n!!! Error occurred during Epoch {epoch+1} for Fold {fold+1}: {e_epoch} !!!\")\n",
    "                    print(traceback.format_exc())\n",
    "                    print(\"Attempting to continue to the next epoch/fold...\")\n",
    "                    fold_successful = False # Đánh dấu fold này thất bại\n",
    "                    # Có thể thêm break ở đây nếu muốn dừng fold ngay khi có lỗi epoch\n",
    "                    # break # Bỏ comment nếu muốn dừng fold khi gặp lỗi epoch\n",
    "\n",
    "            # Kết thúc vòng lặp epoch cho fold hiện tại\n",
    "            if fold_successful:\n",
    "                print(f\"\\nBest Validation Accuracy for Fold {fold+1}: {best_val_acc:.4f}\")\n",
    "                best_fold_accuracies.append(best_val_acc)\n",
    "                # Lưu lịch sử của fold thành công vào history tổng\n",
    "                for key in history:\n",
    "                     history[key].extend(fold_history[key])\n",
    "            else:\n",
    "                print(f\"\\nFold {fold+1} encountered errors and might not have completed successfully.\")\n",
    "                failed_folds.append(fold + 1)\n",
    "\n",
    "\n",
    "        except Exception as e_fold:\n",
    "            # Xử lý lỗi xảy ra ngoài vòng lặp epoch (ví dụ: khi khởi tạo model/optimizer)\n",
    "            print(f\"\\n!!! Error occurred processing Fold {fold+1}: {e_fold} !!!\")\n",
    "            print(traceback.format_exc())\n",
    "            failed_folds.append(fold + 1)\n",
    "            continue # Chuyển sang fold tiếp theo\n",
    "\n",
    "\n",
    "    # --- Kết thúc vòng lặp K-Fold ---\n",
    "    print(f'\\n===== Training Complete =====')\n",
    "    if best_fold_accuracies:\n",
    "        print(f\"Successfully trained {len(best_fold_accuracies)}/{N_SPLITS} folds.\")\n",
    "        print(f\"Average Best Validation Accuracy across successful folds: {np.mean(best_fold_accuracies):.4f}\")\n",
    "        if failed_folds:\n",
    "             print(f\"Failed folds: {sorted(list(set(failed_folds)))}\") # In ra các fold bị lỗi (loại bỏ trùng lặp)\n",
    "    else:\n",
    "        print(f\"No folds were trained successfully. Failed folds: {sorted(list(set(failed_folds)))}\")\n",
    "\n",
    "\n",
    "else:\n",
    "    print(\"Cannot start training because data loading failed (all_df is None).\")"
   ]
  },
  {
   "cell_type": "code",
   "execution_count": 9,
   "metadata": {},
   "outputs": [
    {
     "name": "stdout",
     "output_type": "stream",
     "text": [
      "\n",
      "===== Testing with K-Fold Ensemble =====\n",
      "Loading model from: phobert_sentiment_fold1.pth\n",
      "Initializing SentimentClassifier for 3 classes...\n",
      "Pre-trained PhoBERT base model loaded.\n",
      "Classifier head initialized.\n",
      "Loading model from: phobert_sentiment_fold2.pth\n",
      "Initializing SentimentClassifier for 3 classes...\n",
      "Pre-trained PhoBERT base model loaded.\n",
      "Classifier head initialized.\n",
      "Loading model from: phobert_sentiment_fold3.pth\n",
      "Initializing SentimentClassifier for 3 classes...\n",
      "Pre-trained PhoBERT base model loaded.\n",
      "Classifier head initialized.\n",
      "Loading model from: phobert_sentiment_fold4.pth\n",
      "Initializing SentimentClassifier for 3 classes...\n",
      "Pre-trained PhoBERT base model loaded.\n",
      "Classifier head initialized.\n",
      "Loading model from: phobert_sentiment_fold5.pth\n",
      "Initializing SentimentClassifier for 3 classes...\n",
      "Pre-trained PhoBERT base model loaded.\n",
      "Classifier head initialized.\n",
      "Warning: Could not load model phobert_sentiment_fold5.pth. Error: CUDA out of memory. Tried to allocate 20.00 MiB. GPU 0 has a total capacity of 5.77 GiB of which 18.31 MiB is free. Including non-PyTorch memory, this process has 5.74 GiB memory in use. Of the allocated memory 5.43 GiB is allocated by PyTorch, and 200.40 MiB is reserved by PyTorch but unallocated. If reserved but unallocated memory is large try setting PYTORCH_CUDA_ALLOC_CONF=expandable_segments:True to avoid fragmentation.  See documentation for Memory Management  (https://pytorch.org/docs/stable/notes/cuda.html#environment-variables)\n"
     ]
    },
    {
     "name": "stderr",
     "output_type": "stream",
     "text": [
      "                                                                   "
     ]
    },
    {
     "name": "stdout",
     "output_type": "stream",
     "text": [
      "\n",
      "Classification Report (Ensemble):\n",
      "              precision    recall  f1-score   support\n",
      "\n",
      "    Tiêu cực     0.7985    0.9390    0.8631       574\n",
      "  Trung bình     0.9149    0.3963    0.5531       434\n",
      "    Tích cực     0.8799    0.9620    0.9191      1553\n",
      "\n",
      "    accuracy                         0.8610      2561\n",
      "   macro avg     0.8644    0.7658    0.7784      2561\n",
      "weighted avg     0.8676    0.8610    0.8445      2561\n",
      "\n",
      "Overall Accuracy (Ensemble): 0.8610\n"
     ]
    },
    {
     "name": "stderr",
     "output_type": "stream",
     "text": [
      "\r"
     ]
    }
   ],
   "source": [
    "# Cell 8: Testing with K-Fold Ensemble (Sử dụng N_CLASSES=3, CLASS_NAMES)\n",
    "\n",
    "      \n",
    "def test_kfold_ensemble(df_test, tokenizer, max_len, batch_size, n_classes, class_names, n_splits, device):\n",
    "    print(\"\\n===== Testing with K-Fold Ensemble =====\")\n",
    "    test_dataset = SentimentDataset(df_test, tokenizer, max_len=max_len)\n",
    "    test_loader = DataLoader(test_dataset, batch_size=batch_size, shuffle=False, num_workers=0, collate_fn=collate_fn)\n",
    "\n",
    "    models = []\n",
    "    for fold in range(n_splits):\n",
    "        model_path = f'phobert_sentiment_fold{fold+1}.pth'\n",
    "        if os.path.exists(model_path):\n",
    "            print(f\"Loading model from: {model_path}\")\n",
    "            # Khởi tạo model với đúng số lớp\n",
    "            model = SentimentClassifier(n_classes=n_classes)\n",
    "            try:\n",
    "                model.load_state_dict(torch.load(model_path, map_location=device))\n",
    "                model.to(device)\n",
    "                model.eval()\n",
    "                models.append(model)\n",
    "            except Exception as e:\n",
    "                 print(f\"Warning: Could not load model {model_path}. Error: {e}\")\n",
    "        else:\n",
    "            print(f\"Warning: Model file not found for fold {fold+1} at {model_path}\")\n",
    "\n",
    "    if not models:\n",
    "        print(\"Error: No models were loaded. Cannot perform testing.\")\n",
    "        return None, None, None\n",
    "\n",
    "    texts = []\n",
    "    predicts_ensemble = []\n",
    "    predict_probs_ensemble = []\n",
    "    real_values = []\n",
    "    progress_bar = tqdm(test_loader, desc='Testing Ensemble', leave=False)\n",
    "\n",
    "    with torch.no_grad():\n",
    "        for data in progress_bar:\n",
    "            if data is None: continue\n",
    "            text_batch = data['text']\n",
    "            input_ids = data['input_ids'].to(device)\n",
    "            attention_mask = data['attention_masks'].to(device)\n",
    "            targets = data['targets'].to(device)\n",
    "\n",
    "            batch_outputs = [model(input_ids, attention_mask) for model in models]\n",
    "            stacked_outputs = torch.stack(batch_outputs)\n",
    "            mean_outputs = torch.mean(stacked_outputs, dim=0)\n",
    "            _, preds = torch.max(mean_outputs, dim=1)\n",
    "\n",
    "            texts.extend(text_batch)\n",
    "            predicts_ensemble.extend(preds)\n",
    "            predict_probs_ensemble.extend(torch.softmax(mean_outputs, dim=1))\n",
    "            real_values.extend(targets)\n",
    "\n",
    "    if not real_values:\n",
    "         print(\"Warning: No samples were processed during testing.\")\n",
    "         return None, None, None\n",
    "\n",
    "    predicts_ensemble = torch.stack(predicts_ensemble).cpu().numpy()\n",
    "    real_values = torch.stack(real_values).cpu().numpy()\n",
    "\n",
    "    print(\"\\nClassification Report (Ensemble):\")\n",
    "    # Sử dụng class_names đã định nghĩa (3 lớp)\n",
    "    print(classification_report(real_values, predicts_ensemble, target_names=class_names, digits=4))\n",
    "    accuracy = accuracy_score(real_values, predicts_ensemble)\n",
    "    print(f\"Overall Accuracy (Ensemble): {accuracy:.4f}\")\n",
    "\n",
    "    return real_values, predicts_ensemble, texts\n",
    "\n",
    "# Chạy đánh giá trên toàn bộ dữ liệu all_df\n",
    "if all_df is not None:\n",
    "     real_labels_test, predicted_labels_test, original_texts_test = test_kfold_ensemble(\n",
    "         all_df, tokenizer, MAX_LEN, BATCH_SIZE, N_CLASSES, CLASS_NAMES, N_SPLITS, device\n",
    "     )\n",
    "else:\n",
    "     print(\"Cannot run testing because data loading failed.\")\n"
   ]
  },
  {
   "cell_type": "code",
   "execution_count": 10,
   "metadata": {},
   "outputs": [
    {
     "data": {
      "image/png": "[encoded data removed]",
      "text/plain": [
       "<Figure size 800x600 with 2 Axes>"
      ]
     },
     "metadata": {},
     "output_type": "display_data"
    }
   ],
   "source": [
    "if 'real_labels_test' in locals() and real_labels_test is not None:\n",
    "    cm = confusion_matrix(real_labels_test, predicted_labels_test)\n",
    "    plt.figure(figsize=(8, 6))\n",
    "    # Sử dụng CLASS_NAMES 3 lớp\n",
    "    sns.heatmap(cm, annot=True, fmt='d', cmap='Blues',\n",
    "                xticklabels=CLASS_NAMES, yticklabels=CLASS_NAMES)\n",
    "    plt.xlabel('Predicted Labels')\n",
    "    plt.ylabel('True Labels')\n",
    "    plt.title('Confusion Matrix (Ensemble Predictions)')\n",
    "    plt.show()\n",
    "else:\n",
    "    print(\"Cannot plot heatmap because testing results are not available.\")"
   ]
  },
  {
   "cell_type": "code",
   "execution_count": 11,
   "metadata": {},
   "outputs": [
    {
     "name": "stdout",
     "output_type": "stream",
     "text": [
      "\n",
      "--- Analyzing Misclassified Examples ---\n",
      "Total misclassified samples: 356\n",
      "\n",
      "Displaying 15 random misclassified samples:\n",
      "                                                                                                                                                                                Sentence  \\\n",
      "648   mua chưa được 20 ngày mà bị hư 2 lần. mà 1 lần đợi xuống coi thì 3, 4 ngày. giờ ngồi ngó chứ có sử dụng được đâu. mua hàng bên điện máy xanh rất nhiều nhưng lần này thất vọng quá   \n",
      "67                                                                                                                                                                      quạt chạy êm mat   \n",
      "1151                                                      máy ép mới dùng lần đầu tiên ép tách nước ok, nhưng qua lần thứ 2 trở đi thì ép giống như nước sinh tố, có xác ở trong nước ép   \n",
      "2493                                                                                                                                                                              khá ổn   \n",
      "121                                                                                                                                               mua về mới một ngày sao bị chảy nước ạ   \n",
      "1288                                                                                                                             máy khoẻ chạy e nhân viên giao hàng đúng giờ thân thiện   \n",
      "855                                                                                                                                                                          cũng được   \n",
      "1690                                                                                                                                                                     hàng dùng được.   \n",
      "453                                                                                                                                                       quạt chạy êm. máy. nên mua nha   \n",
      "345                                                                                                                                sp mới mà mới vừa đổ nước vào là bị rỉ chỗ nút xả cặn   \n",
      "2449                  Bình chất liệu tốt bên trong lòng bình bằng inox nên an tâm sử dụng. Điểm trừ duy nhất là nắp bình hơi khó mở mỗi lần lấy nước vào.Nhưng nhìn chung vẫn là sp tốt.   \n",
      "1916                                                   Hàng nhìn ổn.\\nChất lượng thì phải để trãi nghiệm. \\nĐóng gói tiêu chuẩn. \\nGiao trễ 2 ngày, chắc do dịch!\\nVẫn vote 5 để ủng hộ.   \n",
      "1997                                                                                                                                                    Đun sôi trong vòng 3p, khá nhanb   \n",
      "750                                                                                      máy chạy quá ồn! gió yếu! khi sử dụng xong sáng hơi nước rít rít người! khuyên nên mua máy lạnh   \n",
      "662                                                        nhân viên vận chuyển hướng dẫn cách chăm nước sai cho mình  lần chăm nước tiếp theo làm theo hướng dẫn thì nước tràn ra ngoài   \n",
      "\n",
      "      Real_Label Predicted_Label  \n",
      "648     Tích cực        Tiêu cực  \n",
      "67    Trung bình        Tích cực  \n",
      "1151    Tích cực        Tiêu cực  \n",
      "2493  Trung bình        Tích cực  \n",
      "121   Trung bình        Tiêu cực  \n",
      "1288  Trung bình        Tích cực  \n",
      "855   Trung bình        Tích cực  \n",
      "1690  Trung bình        Tích cực  \n",
      "453   Trung bình        Tích cực  \n",
      "345   Trung bình        Tiêu cực  \n",
      "2449  Trung bình        Tích cực  \n",
      "1916  Trung bình        Tiêu cực  \n",
      "1997  Trung bình        Tích cực  \n",
      "750   Trung bình        Tiêu cực  \n",
      "662   Trung bình        Tiêu cực  \n",
      "\n",
      "Common Misclassification Pairs (Real -> Predicted):\n",
      "Real_Label  Predicted_Label\n",
      "Trung bình  Tích cực           177\n",
      "            Tiêu cực            85\n",
      "Tích cực    Tiêu cực            51\n",
      "Tiêu cực    Tích cực            27\n",
      "            Trung bình           8\n",
      "Tích cực    Trung bình           8\n",
      "dtype: int64\n"
     ]
    }
   ],
   "source": [
    "def check_wrong(real_values, predicts, df_source, class_names):\n",
    "    wrong_df_list = []\n",
    "    for i in range(len(predicts)):\n",
    "        if predicts[i] != real_values[i]:\n",
    "            original_row = df_source.iloc[i].copy()\n",
    "            original_row['Predicted_Label_Index'] = predicts[i]\n",
    "            original_row['Real_Label_Index'] = real_values[i]\n",
    "            # Lấy tên lớp từ class_names\n",
    "            original_row['Predicted_Label'] = class_names[predicts[i]]\n",
    "            original_row['Real_Label'] = class_names[real_values[i]]\n",
    "            wrong_df_list.append(original_row)\n",
    "    if not wrong_df_list: return pd.DataFrame()\n",
    "    return pd.DataFrame(wrong_df_list)\n",
    "\n",
    "if 'real_labels_test' in locals() and real_labels_test is not None and all_df is not None:\n",
    "    print(\"\\n--- Analyzing Misclassified Examples ---\")\n",
    "    # Sử dụng CLASS_NAMES 3 lớp\n",
    "    wrong_predictions_df = check_wrong(real_labels_test, predicted_labels_test, all_df, CLASS_NAMES)\n",
    "\n",
    "    if not wrong_predictions_df.empty:\n",
    "        print(f\"Total misclassified samples: {len(wrong_predictions_df)}\")\n",
    "        num_samples_to_show = min(15, len(wrong_predictions_df))\n",
    "        print(f\"\\nDisplaying {num_samples_to_show} random misclassified samples:\")\n",
    "        pd.set_option('display.max_colwidth', 200)\n",
    "        # Hiển thị cột Sentence, Real_Label, Predicted_Label\n",
    "        print(wrong_predictions_df.sample(num_samples_to_show)[['Sentence', 'Real_Label', 'Predicted_Label']])\n",
    "\n",
    "        print(\"\\nCommon Misclassification Pairs (Real -> Predicted):\")\n",
    "        print(wrong_predictions_df.groupby(['Real_Label', 'Predicted_Label']).size().sort_values(ascending=False))\n",
    "    else:\n",
    "        print(\"Congratulations! No misclassified examples found in the test set!\")\n",
    "else:\n",
    "    print(\"Cannot show misclassified examples because testing results or original data are not available.\")"
   ]
  },
  {
   "cell_type": "code",
   "execution_count": 12,
   "metadata": {},
   "outputs": [
    {
     "name": "stdout",
     "output_type": "stream",
     "text": [
      "\n",
      "--- Running Inference Examples ---\n",
      "\n",
      "--- Inference ---\n",
      "Input Text: quạt này dùng thích thật sự, mát mà êm\n",
      "Initializing SentimentClassifier for 3 classes...\n",
      "Pre-trained PhoBERT base model loaded.\n",
      "Classifier head initialized.\n",
      "Initializing SentimentClassifier for 3 classes...\n",
      "Pre-trained PhoBERT base model loaded.\n",
      "Classifier head initialized.\n",
      "Initializing SentimentClassifier for 3 classes...\n",
      "Pre-trained PhoBERT base model loaded.\n",
      "Classifier head initialized.\n",
      "Initializing SentimentClassifier for 3 classes...\n",
      "Pre-trained PhoBERT base model loaded.\n",
      "Classifier head initialized.\n",
      "Initializing SentimentClassifier for 3 classes...\n",
      "Pre-trained PhoBERT base model loaded.\n",
      "Classifier head initialized.\n",
      "Warning: Could not load model phobert_sentiment_fold5.pth. Error: CUDA out of memory. Tried to allocate 20.00 MiB. GPU 0 has a total capacity of 5.77 GiB of which 18.31 MiB is free. Including non-PyTorch memory, this process has 5.74 GiB memory in use. Of the allocated memory 5.43 GiB is allocated by PyTorch, and 200.40 MiB is reserved by PyTorch but unallocated. If reserved but unallocated memory is large try setting PYTORCH_CUDA_ALLOC_CONF=expandable_segments:True to avoid fragmentation.  See documentation for Memory Management  (https://pytorch.org/docs/stable/notes/cuda.html#environment-variables)\n",
      "Processed Text: quạt này dùng thích thật_sự mát mà êm\n",
      "Predicted Label: Tích cực\n",
      "Probabilities: {'Tiêu cực': '0.0277', 'Trung bình': '0.0673', 'Tích cực': '0.9050'}\n",
      "--------------------\n",
      "\n",
      "--- Inference ---\n",
      "Input Text: chất lượng quá kém, mới mua đã kêu to, không làm mát\n",
      "Initializing SentimentClassifier for 3 classes...\n",
      "Pre-trained PhoBERT base model loaded.\n",
      "Classifier head initialized.\n",
      "Initializing SentimentClassifier for 3 classes...\n",
      "Pre-trained PhoBERT base model loaded.\n",
      "Classifier head initialized.\n",
      "Initializing SentimentClassifier for 3 classes...\n",
      "Pre-trained PhoBERT base model loaded.\n",
      "Classifier head initialized.\n",
      "Initializing SentimentClassifier for 3 classes...\n",
      "Pre-trained PhoBERT base model loaded.\n",
      "Classifier head initialized.\n",
      "Initializing SentimentClassifier for 3 classes...\n",
      "Pre-trained PhoBERT base model loaded.\n",
      "Classifier head initialized.\n",
      "Warning: Could not load model phobert_sentiment_fold5.pth. Error: CUDA out of memory. Tried to allocate 20.00 MiB. GPU 0 has a total capacity of 5.77 GiB of which 18.31 MiB is free. Including non-PyTorch memory, this process has 5.74 GiB memory in use. Of the allocated memory 5.43 GiB is allocated by PyTorch, and 200.40 MiB is reserved by PyTorch but unallocated. If reserved but unallocated memory is large try setting PYTORCH_CUDA_ALLOC_CONF=expandable_segments:True to avoid fragmentation.  See documentation for Memory Management  (https://pytorch.org/docs/stable/notes/cuda.html#environment-variables)\n",
      "Processed Text: chất_lượng quá kém mới mua đã kêu to không làm mát\n",
      "Predicted Label: Tiêu cực\n",
      "Probabilities: {'Tiêu cực': '0.7481', 'Trung bình': '0.1259', 'Tích cực': '0.1259'}\n",
      "--------------------\n",
      "\n",
      "--- Inference ---\n",
      "Input Text: quạt cũng bình thường, làm mát tạm được, hơi ồn chút\n",
      "Initializing SentimentClassifier for 3 classes...\n",
      "Pre-trained PhoBERT base model loaded.\n",
      "Classifier head initialized.\n",
      "Initializing SentimentClassifier for 3 classes...\n",
      "Pre-trained PhoBERT base model loaded.\n",
      "Classifier head initialized.\n",
      "Initializing SentimentClassifier for 3 classes...\n",
      "Pre-trained PhoBERT base model loaded.\n",
      "Classifier head initialized.\n",
      "Initializing SentimentClassifier for 3 classes...\n",
      "Pre-trained PhoBERT base model loaded.\n",
      "Classifier head initialized.\n",
      "Initializing SentimentClassifier for 3 classes...\n",
      "Pre-trained PhoBERT base model loaded.\n",
      "Classifier head initialized.\n",
      "Warning: Could not load model phobert_sentiment_fold5.pth. Error: CUDA out of memory. Tried to allocate 20.00 MiB. GPU 0 has a total capacity of 5.77 GiB of which 18.31 MiB is free. Including non-PyTorch memory, this process has 5.74 GiB memory in use. Of the allocated memory 5.43 GiB is allocated by PyTorch, and 200.40 MiB is reserved by PyTorch but unallocated. If reserved but unallocated memory is large try setting PYTORCH_CUDA_ALLOC_CONF=expandable_segments:True to avoid fragmentation.  See documentation for Memory Management  (https://pytorch.org/docs/stable/notes/cuda.html#environment-variables)\n",
      "Processed Text: quạt cũng bình_thường làm mát tạm được hơi ồn chút\n",
      "Predicted Label: Tích cực\n",
      "Probabilities: {'Tiêu cực': '0.1639', 'Trung bình': '0.1750', 'Tích cực': '0.6610'}\n"
     ]
    }
   ],
   "source": [
    "def infer_ensemble(text, tokenizer, max_len, n_classes, class_names, n_splits, device):\n",
    "    print(f'\\n--- Inference ---')\n",
    "    print(f'Input Text: {text}')\n",
    "\n",
    "    # 1. Load models\n",
    "    models = []\n",
    "    for fold in range(n_splits):\n",
    "        model_path = f'phobert_sentiment_fold{fold+1}.pth'\n",
    "        if os.path.exists(model_path):\n",
    "            # Khởi tạo model với đúng số lớp\n",
    "            model = SentimentClassifier(n_classes=n_classes)\n",
    "            try:\n",
    "                model.load_state_dict(torch.load(model_path, map_location=device))\n",
    "                model.to(device)\n",
    "                model.eval()\n",
    "                models.append(model)\n",
    "            except Exception as e:\n",
    "                 print(f\"Warning: Could not load model {model_path}. Error: {e}\")\n",
    "        else:\n",
    "            print(f\"Warning: Model file not found for fold {fold+1} at {model_path}\")\n",
    "\n",
    "    if not models:\n",
    "        print(\"Error: No models loaded for inference.\")\n",
    "        return \"Error: No models available\", {}\n",
    "\n",
    "    # 2. Preprocess text\n",
    "    processed_text = ' '.join(simple_preprocess(text))\n",
    "    tokenized_text = ViTokenizer.tokenize(processed_text)\n",
    "\n",
    "    # 3. Encode text\n",
    "    try:\n",
    "        encoded_input = tokenizer.encode_plus(\n",
    "            tokenized_text, max_length=max_len, truncation=True,\n",
    "            add_special_tokens=True, padding='max_length',\n",
    "            return_attention_mask=True, return_token_type_ids=False,\n",
    "            return_tensors='pt',\n",
    "        )\n",
    "    except Exception as e:\n",
    "        print(f\"Error encoding input text: {e}\")\n",
    "        return \"Error: Encoding failed\", {}\n",
    "\n",
    "    input_ids = encoded_input['input_ids'].to(device)\n",
    "    attention_mask = encoded_input['attention_mask'].to(device)\n",
    "\n",
    "    # 4. Ensemble Prediction\n",
    "    all_outputs = []\n",
    "    with torch.no_grad():\n",
    "        for model in models:\n",
    "            outputs = model(input_ids, attention_mask)\n",
    "            all_outputs.append(outputs)\n",
    "\n",
    "    # 5. Average results and get prediction\n",
    "    stacked_outputs = torch.stack(all_outputs)\n",
    "    mean_outputs = torch.mean(stacked_outputs, dim=0)\n",
    "    probabilities = torch.softmax(mean_outputs, dim=1)[0]\n",
    "    final_pred_index = torch.argmax(mean_outputs, dim=1).item()\n",
    "\n",
    "    # Sử dụng class_names 3 lớp\n",
    "    predicted_label = class_names[final_pred_index]\n",
    "\n",
    "    print(f'Processed Text: {tokenized_text}')\n",
    "    print(f'Predicted Label: {predicted_label}')\n",
    "    prob_dict = {name: f\"{prob.item():.4f}\" for name, prob in zip(class_names, probabilities.cpu())}\n",
    "    print(f'Probabilities: {prob_dict}')\n",
    "    return predicted_label, prob_dict\n",
    "\n",
    "# --- Chạy thử Inference ---\n",
    "if 'tokenizer' in locals() and N_SPLITS > 0:\n",
    "     print(\"\\n--- Running Inference Examples ---\")\n",
    "     # Ví dụ cần có đủ 3 lớp trong dữ liệu huấn luyện để có ý nghĩa\n",
    "     infer_ensemble('quạt này dùng thích thật sự, mát mà êm', tokenizer, MAX_LEN, N_CLASSES, CLASS_NAMES, N_SPLITS, device)\n",
    "     print(\"-\" * 20)\n",
    "     infer_ensemble('chất lượng quá kém, mới mua đã kêu to, không làm mát', tokenizer, MAX_LEN, N_CLASSES, CLASS_NAMES, N_SPLITS, device)\n",
    "     print(\"-\" * 20)\n",
    "     infer_ensemble('quạt cũng bình thường, làm mát tạm được, hơi ồn chút', tokenizer, MAX_LEN, N_CLASSES, CLASS_NAMES, N_SPLITS, device) # Ví dụ cho lớp trung bình\n",
    "else:\n",
    "     print(\"\\nCannot run inference example. Tokenizer not loaded or no models trained.\")"
   ]
  }
 ],
 "metadata": {
  "kernelspec": {
   "display_name": "Python 3",
   "language": "python",
   "name": "python3"
  },
  "language_info": {
   "codemirror_mode": {
    "name": "ipython",
    "version": 3
   },
   "file_extension": ".py",
   "mimetype": "text/x-python",
   "name": "python",
   "nbconvert_exporter": "python",
   "pygments_lexer": "ipython3",
   "version": "3.10.12"
  }
 },
 "nbformat": 4,
 "nbformat_minor": 2
}
